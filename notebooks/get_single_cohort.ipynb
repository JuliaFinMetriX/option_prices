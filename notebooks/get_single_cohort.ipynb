{
 "cells": [
  {
   "cell_type": "markdown",
   "metadata": {},
   "source": [
    "In this notebook we want to extract data of options that share a given expiry."
   ]
  },
  {
   "cell_type": "markdown",
   "metadata": {},
   "source": [
    "### Set up environment"
   ]
  },
  {
   "cell_type": "markdown",
   "metadata": {},
   "source": [
    "Loads:\n",
    "- data\n",
    "- relevant packages"
   ]
  },
  {
   "cell_type": "code",
   "execution_count": 1,
   "metadata": {
    "collapsed": false
   },
   "outputs": [
    {
     "name": "stdout",
     "output_type": "stream",
     "text": [
      "elapsed time: 0.48341778 seconds (52396804 bytes allocated, 6.27% gc time)\n",
      "elapsed time: 56.18824704 seconds (5419744236 bytes allocated, 74.06% gc time)\n",
      "elapsed time: 0.732155466 seconds (112671656 bytes allocated, 58.50% gc time)\n",
      "elapsed time: 74.062693611 seconds (5419744236 bytes allocated, 79.95% gc time)\n",
      "elapsed time: 153.800062536 seconds (14794073832 bytes allocated, 68.11% gc time)\n"
     ]
    },
    {
     "data": {
      "text/html": [
       "<table class=\"data-frame\"><tr><th></th><th>Date</th><th>ID</th><th>Bid</th><th>Ask</th><th>Volume</th><th>Open_Interest</th></tr><tr><th>1</th><td>2006-07-03</td><td>c_20061215_1800</td><td>NA</td><td>NA</td><td>1</td><td>104</td></tr><tr><th>2</th><td>2006-07-03</td><td>p_20061215_1800</td><td>NA</td><td>NA</td><td>0</td><td>5515</td></tr><tr><th>3</th><td>2006-07-03</td><td>c_20061215_2000</td><td>NA</td><td>NA</td><td>0</td><td>2152</td></tr><tr><th>4</th><td>2006-07-03</td><td>p_20061215_2000</td><td>NA</td><td>NA</td><td>0</td><td>20941</td></tr><tr><th>5</th><td>2006-07-03</td><td>c_20061215_2200</td><td>NA</td><td>NA</td><td>0</td><td>2</td></tr><tr><th>6</th><td>2006-07-03</td><td>p_20061215_2200</td><td>NA</td><td>NA</td><td>0</td><td>4626</td></tr></table>"
      ],
      "text/plain": [
       "6x6 DataFrame\n",
       "| Row | Date       | ID                | Bid | Ask | Volume | Open_Interest |\n",
       "|-----|------------|-------------------|-----|-----|--------|---------------|\n",
       "| 1   | 2006-07-03 | \"c_20061215_1800\" | NA  | NA  | 1      | 104           |\n",
       "| 2   | 2006-07-03 | \"p_20061215_1800\" | NA  | NA  | 0      | 5515          |\n",
       "| 3   | 2006-07-03 | \"c_20061215_2000\" | NA  | NA  | 0      | 2152          |\n",
       "| 4   | 2006-07-03 | \"p_20061215_2000\" | NA  | NA  | 0      | 20941         |\n",
       "| 5   | 2006-07-03 | \"c_20061215_2200\" | NA  | NA  | 0      | 2             |\n",
       "| 6   | 2006-07-03 | \"p_20061215_2200\" | NA  | NA  | 0      | 4626          |"
      ]
     },
     "execution_count": 1,
     "metadata": {},
     "output_type": "execute_result"
    }
   ],
   "source": [
    "@time include(\"../startup_script.jl\")"
   ]
  },
  {
   "cell_type": "markdown",
   "metadata": {},
   "source": [
    "- show workspace variables"
   ]
  },
  {
   "cell_type": "code",
   "execution_count": 3,
   "metadata": {
    "collapsed": false
   },
   "outputs": [
    {
     "name": "stdout",
     "output_type": "stream",
     "text": [
      "ArrayViews                    Module\n",
      "Base                          Module\n",
      "Compat                        Module\n",
      "Core                          Module\n",
      "DataArrays                    Module\n",
      "DataFrames                    Module\n",
      "DataStructures                Module\n",
      "Dates                         Module\n",
      "Docile                        Module\n",
      "GZip                          Module\n",
      "IJulia                        Module\n",
      "IPythonDisplay                Module\n",
      "JSON                          Module\n",
      "Main                          Module\n",
      "Nettle                        Module\n",
      "Reexport                      Module\n",
      "SortingAlgorithms             Module\n",
      "StatsBase                     Module\n",
      "ZMQ                           Module\n",
      "addObs                        2025129x6 DataFrame\n",
      "cohortParams                  21053x4 DataFrame\n",
      "convertColToDates!            Function\n",
      "daxVals                       1908x2 DataFrame\n",
      "optPrices                     2025129x3 DataFrame\n",
      "opts                          12917x4 DataFrame\n"
     ]
    }
   ],
   "source": [
    "whos()"
   ]
  },
  {
   "cell_type": "markdown",
   "metadata": {},
   "source": [
    "- expiration dates usually are somewhere in the middle of the month:"
   ]
  },
  {
   "cell_type": "code",
   "execution_count": 5,
   "metadata": {
    "collapsed": false
   },
   "outputs": [
    {
     "data": {
      "text/plain": [
       "97-element DataArray{Date,1}:\n",
       " 2006-07-21\n",
       " 2006-08-18\n",
       " 2006-09-15\n",
       " 2006-10-20\n",
       " 2006-11-17\n",
       " 2006-12-15\n",
       " 2007-01-19\n",
       " 2007-02-16\n",
       " 2007-03-16\n",
       " 2007-04-20\n",
       " 2007-05-18\n",
       " 2007-06-15\n",
       " 2007-07-20\n",
       " ⋮         \n",
       " 2013-07-19\n",
       " 2013-08-16\n",
       " 2013-09-20\n",
       " 2013-10-18\n",
       " 2013-11-15\n",
       " 2013-12-20\n",
       " 2014-01-17\n",
       " 2014-02-21\n",
       " 2014-03-21\n",
       " 2014-06-20\n",
       " 2014-09-19\n",
       " 2014-12-19"
      ]
     },
     "execution_count": 5,
     "metadata": {},
     "output_type": "execute_result"
    }
   ],
   "source": [
    "sort(unique(cohortParams[:, :Expiry]))"
   ]
  },
  {
   "cell_type": "markdown",
   "metadata": {},
   "source": [
    "- number of different expiration dates / cohorts:"
   ]
  },
  {
   "cell_type": "code",
   "execution_count": 6,
   "metadata": {
    "collapsed": false
   },
   "outputs": [
    {
     "data": {
      "text/plain": [
       "97"
      ]
     },
     "execution_count": 6,
     "metadata": {},
     "output_type": "execute_result"
    }
   ],
   "source": [
    "nExpiry = length(unique(cohortParams[:, :Expiry]))"
   ]
  },
  {
   "cell_type": "markdown",
   "metadata": {},
   "source": [
    "- select arbitrary maturity"
   ]
  },
  {
   "cell_type": "code",
   "execution_count": 7,
   "metadata": {
    "collapsed": false
   },
   "outputs": [
    {
     "data": {
      "text/plain": [
       "2007-06-15"
      ]
     },
     "execution_count": 7,
     "metadata": {},
     "output_type": "execute_result"
    }
   ],
   "source": [
    "optionIndex = 473\n",
    "expDate = opts[optionIndex, :Expiry]"
   ]
  },
  {
   "cell_type": "markdown",
   "metadata": {},
   "source": [
    "- get all observations of options with this expiry"
   ]
  },
  {
   "cell_type": "code",
   "execution_count": 8,
   "metadata": {
    "collapsed": false
   },
   "outputs": [
    {
     "name": "stdout",
     "output_type": "stream",
     "text": [
      "elapsed time: 3.382853769 seconds (333553020 bytes allocated, 37.92% gc time)\n"
     ]
    },
    {
     "data": {
      "text/html": [
       "<table class=\"data-frame\"><tr><th></th><th>Date</th><th>ID</th><th>Price</th><th>Expiry</th><th>Strike</th><th>IsCall</th></tr><tr><th>1</th><td>2006-07-03</td><td>c_20070615_1800</td><td>3963.8</td><td>2007-06-15</td><td>1800</td><td>true</td></tr><tr><th>2</th><td>2006-07-04</td><td>c_20070615_1800</td><td>3984.4</td><td>2007-06-15</td><td>1800</td><td>true</td></tr><tr><th>3</th><td>2006-07-05</td><td>c_20070615_1800</td><td>3883.6</td><td>2007-06-15</td><td>1800</td><td>true</td></tr><tr><th>4</th><td>2006-07-06</td><td>c_20070615_1800</td><td>3949.7</td><td>2007-06-15</td><td>1800</td><td>true</td></tr><tr><th>5</th><td>2006-07-07</td><td>c_20070615_1800</td><td>3938.1</td><td>2007-06-15</td><td>1800</td><td>true</td></tr><tr><th>6</th><td>2006-07-10</td><td>c_20070615_1800</td><td>3964.1</td><td>2007-06-15</td><td>1800</td><td>true</td></tr></table>"
      ],
      "text/plain": [
       "6x6 DataFrame\n",
       "| Row | Date       | ID                | Price  | Expiry     | Strike | IsCall |\n",
       "|-----|------------|-------------------|--------|------------|--------|--------|\n",
       "| 1   | 2006-07-03 | \"c_20070615_1800\" | 3963.8 | 2007-06-15 | 1800   | true   |\n",
       "| 2   | 2006-07-04 | \"c_20070615_1800\" | 3984.4 | 2007-06-15 | 1800   | true   |\n",
       "| 3   | 2006-07-05 | \"c_20070615_1800\" | 3883.6 | 2007-06-15 | 1800   | true   |\n",
       "| 4   | 2006-07-06 | \"c_20070615_1800\" | 3949.7 | 2007-06-15 | 1800   | true   |\n",
       "| 5   | 2006-07-07 | \"c_20070615_1800\" | 3938.1 | 2007-06-15 | 1800   | true   |\n",
       "| 6   | 2006-07-10 | \"c_20070615_1800\" | 3964.1 | 2007-06-15 | 1800   | true   |"
      ]
     },
     "execution_count": 8,
     "metadata": {},
     "output_type": "execute_result"
    }
   ],
   "source": [
    "@time begin\n",
    "    allObsData = join(optPrices, opts, on = :ID)\n",
    "    relevObsData = allObsData[allObsData[:Expiry] .== expDate, :]\n",
    "end\n",
    "\n",
    "head(relevObsData)"
   ]
  },
  {
   "cell_type": "markdown",
   "metadata": {},
   "source": [
    "- calculate time values and check whether they are positive"
   ]
  },
  {
   "cell_type": "code",
   "execution_count": 44,
   "metadata": {
    "collapsed": false
   },
   "outputs": [
    {
     "data": {
      "text/plain": [
       "intrinsicValue (generic function with 1 method)"
      ]
     },
     "execution_count": 44,
     "metadata": {},
     "output_type": "execute_result"
    }
   ],
   "source": [
    "function intrinsicValue(x::DataFrame)\n",
    "    nObs = size(x, 1)\n",
    "    intrVals = zeros(nObs, 1)\n",
    "    daxPrices, strikes = x[:DAX], x[:Strike]\n",
    "    diffs = daxPrices - strikes\n",
    "    for ii=1:nObs\n",
    "        if x[ii, :IsCall]\n",
    "            intrVals[ii] = maximum([diffs[ii], 0])\n",
    "        else\n",
    "            intrVals[ii] = maximum([-diffs[ii], 0])\n",
    "        end\n",
    "    end\n",
    "    return intrVals\n",
    "end"
   ]
  },
  {
   "cell_type": "code",
   "execution_count": 47,
   "metadata": {
    "collapsed": false
   },
   "outputs": [
    {
     "name": "stdout",
     "output_type": "stream",
     "text": [
      "elapsed time: 5.182277295 seconds (405649896 bytes allocated, 76.13% gc time)\n"
     ]
    },
    {
     "data": {
      "text/plain": [
       "0.08721814758467239"
      ]
     },
     "execution_count": 47,
     "metadata": {},
     "output_type": "execute_result"
    }
   ],
   "source": [
    "@time intrVals = intrinsicValue(tvData)\n",
    "tvs = tvData[:Price] - intrVals[:]\n",
    "\n",
    "sum(tvs .< 0)/size(tvData, 1)"
   ]
  },
  {
   "cell_type": "markdown",
   "metadata": {},
   "source": [
    "- create dataset"
   ]
  },
  {
   "cell_type": "code",
   "execution_count": 34,
   "metadata": {
    "collapsed": false
   },
   "outputs": [
    {
     "data": {
      "text/html": [
       "<table class=\"data-frame\"><tr><th></th><th>Date</th><th>ID</th><th>Price</th><th>Expiry</th><th>Strike</th><th>IsCall</th><th>DAX</th></tr><tr><th>1</th><td>2006-07-03</td><td>c_20060721_4500</td><td>1212.0</td><td>2006-07-21</td><td>4500</td><td>true</td><td>5712.69</td></tr><tr><th>2</th><td>2006-07-03</td><td>c_20060721_4600</td><td>1112.3</td><td>2006-07-21</td><td>4600</td><td>true</td><td>5712.69</td></tr><tr><th>3</th><td>2006-07-03</td><td>c_20060721_4700</td><td>1012.7</td><td>2006-07-21</td><td>4700</td><td>true</td><td>5712.69</td></tr><tr><th>4</th><td>2006-07-03</td><td>c_20060721_4800</td><td>913.2</td><td>2006-07-21</td><td>4800</td><td>true</td><td>5712.69</td></tr><tr><th>5</th><td>2006-07-03</td><td>c_20060721_4850</td><td>863.5</td><td>2006-07-21</td><td>4850</td><td>true</td><td>5712.69</td></tr><tr><th>6</th><td>2006-07-03</td><td>c_20060721_4900</td><td>813.9</td><td>2006-07-21</td><td>4900</td><td>true</td><td>5712.69</td></tr></table>"
      ],
      "text/plain": [
       "6x7 DataFrame\n",
       "| Row | Date       | ID                | Price  | Expiry     | Strike | IsCall |\n",
       "|-----|------------|-------------------|--------|------------|--------|--------|\n",
       "| 1   | 2006-07-03 | \"c_20060721_4500\" | 1212.0 | 2006-07-21 | 4500   | true   |\n",
       "| 2   | 2006-07-03 | \"c_20060721_4600\" | 1112.3 | 2006-07-21 | 4600   | true   |\n",
       "| 3   | 2006-07-03 | \"c_20060721_4700\" | 1012.7 | 2006-07-21 | 4700   | true   |\n",
       "| 4   | 2006-07-03 | \"c_20060721_4800\" | 913.2  | 2006-07-21 | 4800   | true   |\n",
       "| 5   | 2006-07-03 | \"c_20060721_4850\" | 863.5  | 2006-07-21 | 4850   | true   |\n",
       "| 6   | 2006-07-03 | \"c_20060721_4900\" | 813.9  | 2006-07-21 | 4900   | true   |\n",
       "\n",
       "| Row | DAX     |\n",
       "|-----|---------|\n",
       "| 1   | 5712.69 |\n",
       "| 2   | 5712.69 |\n",
       "| 3   | 5712.69 |\n",
       "| 4   | 5712.69 |\n",
       "| 5   | 5712.69 |\n",
       "| 6   | 5712.69 |"
      ]
     },
     "execution_count": 34,
     "metadata": {},
     "output_type": "execute_result"
    }
   ],
   "source": [
    "tvData = join(optPrices, opts, on = :ID) |>\n",
    "x -> join(x, daxVals, on = :Date)\n",
    "\n",
    "head(tvData)"
   ]
  },
  {
   "cell_type": "markdown",
   "metadata": {},
   "source": [
    "- split in call and put"
   ]
  },
  {
   "cell_type": "code",
   "execution_count": 35,
   "metadata": {
    "collapsed": false
   },
   "outputs": [
    {
     "data": {
      "text/plain": [
       "0.029890330587380224"
      ]
     },
     "execution_count": 35,
     "metadata": {},
     "output_type": "execute_result"
    }
   ],
   "source": [
    "tvDataCall = tvData[tvData[:IsCall], :]\n",
    "\n",
    "tvsCall = timeValueCall(tvDataCall)\n",
    "sum(tvsCall .< 0)/length(tvsCall)"
   ]
  },
  {
   "cell_type": "code",
   "execution_count": 36,
   "metadata": {
    "collapsed": false
   },
   "outputs": [
    {
     "data": {
      "text/plain": [
       "0.14181716865059663"
      ]
     },
     "execution_count": 36,
     "metadata": {},
     "output_type": "execute_result"
    }
   ],
   "source": [
    "tvDataPut = tvData[!tvData[:IsCall], :]\n",
    "\n",
    "tvsPut = timeValuePut(tvDataPut)\n",
    "sum(tvsPut .< 0)/length(tvsPut)"
   ]
  },
  {
   "cell_type": "code",
   "execution_count": null,
   "metadata": {
    "collapsed": true
   },
   "outputs": [],
   "source": []
  },
  {
   "cell_type": "code",
   "execution_count": null,
   "metadata": {
    "collapsed": true
   },
   "outputs": [],
   "source": [
    "@time relevObsData = join(relevObsData, daxVals, on = :Date)\n",
    "\n",
    "head(relevObsData)"
   ]
  },
  {
   "cell_type": "markdown",
   "metadata": {},
   "source": [
    "- export for visualization"
   ]
  },
  {
   "cell_type": "code",
   "execution_count": null,
   "metadata": {
    "collapsed": true
   },
   "outputs": [],
   "source": [
    "writetable(\"../data/chart_data/singleCohortLong.csv\", relevObsData)"
   ]
  },
  {
   "cell_type": "markdown",
   "metadata": {},
   "source": [
    "- transform to wide format"
   ]
  },
  {
   "cell_type": "code",
   "execution_count": null,
   "metadata": {
    "collapsed": true
   },
   "outputs": [],
   "source": [
    "relevObsDataWide = unstack(relevObsData, :Date, :ID, :Price)\n",
    "rename!(relevObsDataWide, :ID, :Date)\n",
    "relevObsDataWide = join(daxVals, relevObsDataWide, on = :Date)\n",
    "head(relevObsDataWide)"
   ]
  },
  {
   "cell_type": "code",
   "execution_count": null,
   "metadata": {
    "collapsed": true
   },
   "outputs": [],
   "source": [
    "writetable(\"../data/chart_data/singleCohortWide.csv\", relevObsDataWide)"
   ]
  }
 ],
 "metadata": {
  "kernelspec": {
   "display_name": "Julia 0.3.6",
   "language": "julia",
   "name": "julia 0.3"
  },
  "language_info": {
   "name": "julia",
   "version": "0.3.6"
  }
 },
 "nbformat": 4,
 "nbformat_minor": 0
}
