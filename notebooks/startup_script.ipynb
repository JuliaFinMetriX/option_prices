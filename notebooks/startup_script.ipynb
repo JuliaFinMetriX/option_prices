{
 "cells": [
  {
   "cell_type": "markdown",
   "metadata": {},
   "source": [
    "- this script will be called on each startup\n",
    "- it loads the data\n",
    "- transforms strings to `Date` type\n",
    "- allows peeks into all database components"
   ]
  },
  {
   "cell_type": "markdown",
   "metadata": {},
   "source": [
    "#### Load data and convert date columns to `Date` type"
   ]
  },
  {
   "cell_type": "code",
   "execution_count": 1,
   "metadata": {
    "collapsed": false
   },
   "outputs": [],
   "source": [
    "using DataFrames\n",
    "using Dates"
   ]
  },
  {
   "cell_type": "code",
   "execution_count": 2,
   "metadata": {
    "collapsed": false
   },
   "outputs": [],
   "source": [
    "opts = readtable(\"../data/rel_data/opts.csv\");"
   ]
  },
  {
   "cell_type": "code",
   "execution_count": 3,
   "metadata": {
    "collapsed": false
   },
   "outputs": [
    {
     "data": {
      "text/plain": [
       "4-element Array{Type{T<:Top},1}:\n",
       " UTF8String\n",
       " UTF8String\n",
       " Int64     \n",
       " Bool      "
      ]
     },
     "execution_count": 3,
     "metadata": {},
     "output_type": "execute_result"
    }
   ],
   "source": [
    "eltypes(opts)"
   ]
  },
  {
   "cell_type": "code",
   "execution_count": 4,
   "metadata": {
    "collapsed": false
   },
   "outputs": [
    {
     "data": {
      "text/plain": [
       "convertColToDates! (generic function with 1 method)"
      ]
     },
     "execution_count": 4,
     "metadata": {},
     "output_type": "execute_result"
    }
   ],
   "source": [
    "function convertColToDates!(df::DataFrame, col::Symbol)\n",
    "    dats = Date(convert(Array, df[:, col]))\n",
    "    df[col] = dats\n",
    "end"
   ]
  },
  {
   "cell_type": "code",
   "execution_count": 5,
   "metadata": {
    "collapsed": false
   },
   "outputs": [
    {
     "name": "stdout",
     "output_type": "stream",
     "text": [
      "elapsed time: 0.506051534 seconds (52410100 bytes allocated, 8.53% gc time)\n"
     ]
    },
    {
     "data": {
      "text/plain": [
       "4-element Array{Type{T<:Top},1}:\n",
       " UTF8String\n",
       " Date      \n",
       " Int64     \n",
       " Bool      "
      ]
     },
     "execution_count": 5,
     "metadata": {},
     "output_type": "execute_result"
    }
   ],
   "source": [
    "@time convertColToDates!(opts, :Expiry)\n",
    "eltypes(opts)"
   ]
  },
  {
   "cell_type": "code",
   "execution_count": 6,
   "metadata": {
    "collapsed": false
   },
   "outputs": [],
   "source": [
    "daxVals = readtable(\"../data/rel_data/daxVals.csv\")\n",
    "convertColToDates!(daxVals, :Date);"
   ]
  },
  {
   "cell_type": "code",
   "execution_count": 7,
   "metadata": {
    "collapsed": false
   },
   "outputs": [],
   "source": [
    "optPrices = readtable(\"../data/rel_data/optPrices.csv\");"
   ]
  },
  {
   "cell_type": "code",
   "execution_count": 8,
   "metadata": {
    "collapsed": false
   },
   "outputs": [
    {
     "name": "stdout",
     "output_type": "stream",
     "text": [
      "elapsed time: 58.756572836 seconds (5419744236 bytes allocated, 74.08% gc time)\n"
     ]
    }
   ],
   "source": [
    "@time convertColToDates!(optPrices, :Date);"
   ]
  },
  {
   "cell_type": "code",
   "execution_count": 9,
   "metadata": {
    "collapsed": false
   },
   "outputs": [],
   "source": [
    "cohortParams = readtable(\"../data/rel_data/cohortParams.csv\");"
   ]
  },
  {
   "cell_type": "code",
   "execution_count": 10,
   "metadata": {
    "collapsed": false
   },
   "outputs": [
    {
     "name": "stdout",
     "output_type": "stream",
     "text": [
      "elapsed time: 0.779993041 seconds (112671656 bytes allocated, 59.07% gc time)\n"
     ]
    },
    {
     "data": {
      "text/plain": [
       "21053-element Array{Date,1}:\n",
       " 2006-07-03\n",
       " 2006-07-03\n",
       " 2006-07-03\n",
       " 2006-07-03\n",
       " 2006-07-03\n",
       " 2006-07-03\n",
       " 2006-07-03\n",
       " 2006-07-03\n",
       " 2006-07-03\n",
       " 2006-07-03\n",
       " 2006-07-03\n",
       " 2006-07-04\n",
       " 2006-07-04\n",
       " ⋮         \n",
       " 2013-12-27\n",
       " 2013-12-27\n",
       " 2013-12-27\n",
       " 2013-12-27\n",
       " 2013-12-27\n",
       " 2013-12-27\n",
       " 2013-12-30\n",
       " 2013-12-30\n",
       " 2013-12-30\n",
       " 2013-12-30\n",
       " 2013-12-30\n",
       " 2013-12-30"
      ]
     },
     "execution_count": 10,
     "metadata": {},
     "output_type": "execute_result"
    }
   ],
   "source": [
    "@time begin\n",
    "    convertColToDates!(cohortParams, :Expiry);\n",
    "    convertColToDates!(cohortParams, :Date);\n",
    "end"
   ]
  },
  {
   "cell_type": "code",
   "execution_count": 11,
   "metadata": {
    "collapsed": false
   },
   "outputs": [
    {
     "name": "stdout",
     "output_type": "stream",
     "text": [
      "elapsed time: 76.780937507 seconds (5419744236 bytes allocated, 79.63% gc time)\n"
     ]
    }
   ],
   "source": [
    "addObs = readtable(\"../data/rel_data/addObs.csv\");\n",
    "@time convertColToDates!(addObs, :Date);"
   ]
  },
  {
   "cell_type": "markdown",
   "metadata": {},
   "source": [
    "### Display relational database components"
   ]
  },
  {
   "cell_type": "markdown",
   "metadata": {},
   "source": [
    "- `opts`: option ID together with option characterstics"
   ]
  },
  {
   "cell_type": "code",
   "execution_count": 12,
   "metadata": {
    "collapsed": false
   },
   "outputs": [
    {
     "data": {
      "text/html": [
       "<table class=\"data-frame\"><tr><th></th><th>ID</th><th>Expiry</th><th>Strike</th><th>IsCall</th></tr><tr><th>1</th><td>c_20061215_1800</td><td>2006-12-15</td><td>1800</td><td>true</td></tr><tr><th>2</th><td>p_20061215_1800</td><td>2006-12-15</td><td>1800</td><td>false</td></tr><tr><th>3</th><td>c_20061215_2000</td><td>2006-12-15</td><td>2000</td><td>true</td></tr><tr><th>4</th><td>p_20061215_2000</td><td>2006-12-15</td><td>2000</td><td>false</td></tr><tr><th>5</th><td>c_20061215_2200</td><td>2006-12-15</td><td>2200</td><td>true</td></tr><tr><th>6</th><td>p_20061215_2200</td><td>2006-12-15</td><td>2200</td><td>false</td></tr></table>"
      ],
      "text/plain": [
       "6x4 DataFrame\n",
       "| Row | ID                | Expiry     | Strike | IsCall |\n",
       "|-----|-------------------|------------|--------|--------|\n",
       "| 1   | \"c_20061215_1800\" | 2006-12-15 | 1800   | true   |\n",
       "| 2   | \"p_20061215_1800\" | 2006-12-15 | 1800   | false  |\n",
       "| 3   | \"c_20061215_2000\" | 2006-12-15 | 2000   | true   |\n",
       "| 4   | \"p_20061215_2000\" | 2006-12-15 | 2000   | false  |\n",
       "| 5   | \"c_20061215_2200\" | 2006-12-15 | 2200   | true   |\n",
       "| 6   | \"p_20061215_2200\" | 2006-12-15 | 2200   | false  |"
      ]
     },
     "execution_count": 12,
     "metadata": {},
     "output_type": "execute_result"
    }
   ],
   "source": [
    "head(opts)"
   ]
  },
  {
   "cell_type": "markdown",
   "metadata": {},
   "source": [
    "- `daxVals`: values of underlying for each date"
   ]
  },
  {
   "cell_type": "code",
   "execution_count": 13,
   "metadata": {
    "collapsed": false
   },
   "outputs": [
    {
     "data": {
      "text/html": [
       "<table class=\"data-frame\"><tr><th></th><th>Date</th><th>DAX</th></tr><tr><th>1</th><td>2006-07-03</td><td>5712.69</td></tr><tr><th>2</th><td>2006-07-04</td><td>5729.01</td></tr><tr><th>3</th><td>2006-07-05</td><td>5625.63</td></tr><tr><th>4</th><td>2006-07-06</td><td>5695.47</td></tr><tr><th>5</th><td>2006-07-07</td><td>5681.85</td></tr><tr><th>6</th><td>2006-07-10</td><td>5706.32</td></tr></table>"
      ],
      "text/plain": [
       "6x2 DataFrame\n",
       "| Row | Date       | DAX     |\n",
       "|-----|------------|---------|\n",
       "| 1   | 2006-07-03 | 5712.69 |\n",
       "| 2   | 2006-07-04 | 5729.01 |\n",
       "| 3   | 2006-07-05 | 5625.63 |\n",
       "| 4   | 2006-07-06 | 5695.47 |\n",
       "| 5   | 2006-07-07 | 5681.85 |\n",
       "| 6   | 2006-07-10 | 5706.32 |"
      ]
     },
     "execution_count": 13,
     "metadata": {},
     "output_type": "execute_result"
    }
   ],
   "source": [
    "head(daxVals)"
   ]
  },
  {
   "cell_type": "markdown",
   "metadata": {},
   "source": [
    "- `optPrices`: option prices for each day and option"
   ]
  },
  {
   "cell_type": "code",
   "execution_count": 14,
   "metadata": {
    "collapsed": false
   },
   "outputs": [
    {
     "data": {
      "text/html": [
       "<table class=\"data-frame\"><tr><th></th><th>Date</th><th>ID</th><th>Price</th></tr><tr><th>1</th><td>2006-07-03</td><td>c_20061215_1800</td><td>3931.1</td></tr><tr><th>2</th><td>2006-07-03</td><td>p_20061215_1800</td><td>0.1</td></tr><tr><th>3</th><td>2006-07-03</td><td>c_20061215_2000</td><td>3734.0</td></tr><tr><th>4</th><td>2006-07-03</td><td>p_20061215_2000</td><td>0.1</td></tr><tr><th>5</th><td>2006-07-03</td><td>c_20061215_2200</td><td>3536.9</td></tr><tr><th>6</th><td>2006-07-03</td><td>p_20061215_2200</td><td>0.1</td></tr></table>"
      ],
      "text/plain": [
       "6x3 DataFrame\n",
       "| Row | Date       | ID                | Price  |\n",
       "|-----|------------|-------------------|--------|\n",
       "| 1   | 2006-07-03 | \"c_20061215_1800\" | 3931.1 |\n",
       "| 2   | 2006-07-03 | \"p_20061215_1800\" | 0.1    |\n",
       "| 3   | 2006-07-03 | \"c_20061215_2000\" | 3734.0 |\n",
       "| 4   | 2006-07-03 | \"p_20061215_2000\" | 0.1    |\n",
       "| 5   | 2006-07-03 | \"c_20061215_2200\" | 3536.9 |\n",
       "| 6   | 2006-07-03 | \"p_20061215_2200\" | 0.1    |"
      ]
     },
     "execution_count": 14,
     "metadata": {},
     "output_type": "execute_result"
    }
   ],
   "source": [
    "head(optPrices)"
   ]
  },
  {
   "cell_type": "markdown",
   "metadata": {},
   "source": [
    "- `cohortParams`: for each date time to maturity and interest rate up to expiry"
   ]
  },
  {
   "cell_type": "code",
   "execution_count": 15,
   "metadata": {
    "collapsed": false
   },
   "outputs": [
    {
     "data": {
      "text/html": [
       "<table class=\"data-frame\"><tr><th></th><th>Date</th><th>Expiry</th><th>EONIA_matched</th><th>Time_to_Maturity</th></tr><tr><th>1</th><td>2006-07-03</td><td>2006-12-15</td><td>0.031667592146348</td><td>0.466666666666667</td></tr><tr><th>2</th><td>2006-07-03</td><td>2006-09-15</td><td>0.0297573099811956</td><td>0.211764705882353</td></tr><tr><th>3</th><td>2006-07-03</td><td>2006-08-18</td><td>0.02903277602483</td><td>0.133333333333333</td></tr><tr><th>4</th><td>2006-07-03</td><td>2006-07-21</td><td>0.0283102283088403</td><td>0.0549019607843137</td></tr><tr><th>5</th><td>2006-07-03</td><td>2007-06-15</td><td>0.0342512630396996</td><td>0.949019607843137</td></tr><tr><th>6</th><td>2006-07-03</td><td>2007-03-16</td><td>0.0330875802131789</td><td>0.709803921568627</td></tr></table>"
      ],
      "text/plain": [
       "6x4 DataFrame\n",
       "| Row | Date       | Expiry     | EONIA_matched | Time_to_Maturity |\n",
       "|-----|------------|------------|---------------|------------------|\n",
       "| 1   | 2006-07-03 | 2006-12-15 | 0.0316676     | 0.466667         |\n",
       "| 2   | 2006-07-03 | 2006-09-15 | 0.0297573     | 0.211765         |\n",
       "| 3   | 2006-07-03 | 2006-08-18 | 0.0290328     | 0.133333         |\n",
       "| 4   | 2006-07-03 | 2006-07-21 | 0.0283102     | 0.054902         |\n",
       "| 5   | 2006-07-03 | 2007-06-15 | 0.0342513     | 0.94902          |\n",
       "| 6   | 2006-07-03 | 2007-03-16 | 0.0330876     | 0.709804         |"
      ]
     },
     "execution_count": 15,
     "metadata": {},
     "output_type": "execute_result"
    }
   ],
   "source": [
    "head(cohortParams)"
   ]
  },
  {
   "cell_type": "markdown",
   "metadata": {},
   "source": [
    "- `addObs`: for each date and option additional information other than option price"
   ]
  },
  {
   "cell_type": "code",
   "execution_count": 16,
   "metadata": {
    "collapsed": false
   },
   "outputs": [
    {
     "data": {
      "text/html": [
       "<table class=\"data-frame\"><tr><th></th><th>Date</th><th>ID</th><th>Bid</th><th>Ask</th><th>Volume</th><th>Open_Interest</th></tr><tr><th>1</th><td>2006-07-03</td><td>c_20061215_1800</td><td>NA</td><td>NA</td><td>1</td><td>104</td></tr><tr><th>2</th><td>2006-07-03</td><td>p_20061215_1800</td><td>NA</td><td>NA</td><td>0</td><td>5515</td></tr><tr><th>3</th><td>2006-07-03</td><td>c_20061215_2000</td><td>NA</td><td>NA</td><td>0</td><td>2152</td></tr><tr><th>4</th><td>2006-07-03</td><td>p_20061215_2000</td><td>NA</td><td>NA</td><td>0</td><td>20941</td></tr><tr><th>5</th><td>2006-07-03</td><td>c_20061215_2200</td><td>NA</td><td>NA</td><td>0</td><td>2</td></tr><tr><th>6</th><td>2006-07-03</td><td>p_20061215_2200</td><td>NA</td><td>NA</td><td>0</td><td>4626</td></tr></table>"
      ],
      "text/plain": [
       "6x6 DataFrame\n",
       "| Row | Date       | ID                | Bid | Ask | Volume | Open_Interest |\n",
       "|-----|------------|-------------------|-----|-----|--------|---------------|\n",
       "| 1   | 2006-07-03 | \"c_20061215_1800\" | NA  | NA  | 1      | 104           |\n",
       "| 2   | 2006-07-03 | \"p_20061215_1800\" | NA  | NA  | 0      | 5515          |\n",
       "| 3   | 2006-07-03 | \"c_20061215_2000\" | NA  | NA  | 0      | 2152          |\n",
       "| 4   | 2006-07-03 | \"p_20061215_2000\" | NA  | NA  | 0      | 20941         |\n",
       "| 5   | 2006-07-03 | \"c_20061215_2200\" | NA  | NA  | 0      | 2             |\n",
       "| 6   | 2006-07-03 | \"p_20061215_2200\" | NA  | NA  | 0      | 4626          |"
      ]
     },
     "execution_count": 16,
     "metadata": {},
     "output_type": "execute_result"
    }
   ],
   "source": [
    "head(addObs)"
   ]
  },
  {
   "cell_type": "markdown",
   "metadata": {},
   "source": [
    "### Session info"
   ]
  },
  {
   "cell_type": "code",
   "execution_count": 17,
   "metadata": {
    "collapsed": false
   },
   "outputs": [
    {
     "name": "stdout",
     "output_type": "stream",
     "text": [
      "Julia Version 0.3.6\n",
      "Commit a05f87b* (2015-01-08 22:33 UTC)\n",
      "Platform Info:\n",
      "  System: Linux (x86_64-linux-gnu)\n",
      "  CPU: Intel(R) Core(TM) i5-4210U CPU @ 1.70GHz\n",
      "  WORD_SIZE: 64\n",
      "  BLAS: libopenblas (DYNAMIC_ARCH NO_AFFINITY Haswell)\n",
      "  LAPACK: libopenblas\n",
      "  LIBM: libopenlibm\n",
      "  LLVM: libLLVM-3.3\n"
     ]
    }
   ],
   "source": [
    "versioninfo()"
   ]
  },
  {
   "cell_type": "code",
   "execution_count": 18,
   "metadata": {
    "collapsed": false
   },
   "outputs": [
    {
     "name": "stdout",
     "output_type": "stream",
     "text": [
      "20 required packages:\n",
      " - DataArrays                    0.2.15\n",
      " - DataFrames                    0.6.6\n",
      " - Dates                         0.3.2\n",
      " - Debug                         0.1.3\n",
      " - Distributions                 0.7.3\n",
      " - Docile                        0.5.3\n",
      " - GLM                           0.4.6\n",
      " - Gadfly                        0.3.12\n",
      " - IJulia                        0.2.5\n",
      " - JuMP                          0.9.1\n",
      " - Lexicon                       0.1.10\n",
      " - MAT                           0.2.12\n",
      " - NLopt                         0.2.1\n",
      " - Plotly                        0.0.3+             master\n",
      " - Quandl                        0.4.1\n",
      " - RDatasets                     0.1.2\n",
      " - Requires                      0.1.2              master\n",
      " - Taro                          0.1.4\n",
      " - TimeSeries                    0.5.9\n",
      " - Winston                       0.11.10\n",
      "58 additional packages:\n",
      " - ArrayViews                    0.6.2\n",
      " - AssetMgmt                     0.0.0-             master (unregistered)\n",
      " - BinDeps                       0.3.12\n",
      " - Blosc                         0.1.2\n",
      " - Cairo                         0.2.26\n",
      " - Calculus                      0.1.6\n",
      " - Codecs                        0.1.4\n",
      " - Color                         0.4.5\n",
      " - Compat                        0.4.4\n",
      " - Compose                       0.3.12\n",
      " - Contour                       0.0.7\n",
      " - Copulas                       0.0.0-             master (unregistered)\n",
      " - DataStructures                0.3.9\n",
      " - Distances                     0.2.0\n",
      " - DualNumbers                   0.1.3\n",
      " - EconDatasets                  0.0.2+             master\n",
      " - Econometrics                  0.0.0-             master (unregistered)\n",
      " - FixedPointNumbers             0.0.7\n",
      " - GZip                          0.2.15\n",
      " - GnuTLS                        0.0.4\n",
      " - Graphics                      0.1.0\n",
      " - Grid                          0.3.9\n",
      " - HDF5                          0.4.17\n",
      " - HTTPClient                    0.1.4\n",
      " - Hexagons                      0.0.3\n",
      " - HttpCommon                    0.0.12\n",
      " - HttpParser                    0.0.11\n",
      " - ImmutableArrays               0.0.7\n",
      " - IniFile                       0.2.4\n",
      " - Iterators                     0.1.8\n",
      " - JFinM_Charts                  0.0.0-             master (unregistered)\n",
      " - JSON                          0.4.3\n",
      " - JavaCall                      0.2.2\n",
      " - KernelDensity                 0.1.0              b2c9f7d6 (dirty)\n",
      " - LibCURL                       0.1.4\n",
      " - Loess                         0.0.3\n",
      " - MathProgBase                  0.3.11\n",
      " - Memoize                       0.0.0\n",
      " - NaNMath                       0.0.2\n",
      " - Nettle                        0.1.8\n",
      " - NumericFuns                   0.2.3\n",
      " - Optim                         0.4.1\n",
      " - PDMats                        0.3.3\n",
      " - REPLCompletions               0.0.3\n",
      " - Reexport                      0.0.2\n",
      " - Requests                      0.0.8\n",
      " - ReverseDiffSparse             0.2.7\n",
      " - SHA                           0.0.4\n",
      " - Showoff                       0.0.4\n",
      " - SortingAlgorithms             0.0.5\n",
      " - StatsBase                     0.6.15\n",
      " - TimeData                      0.6.0+             master\n",
      " - Tk                            0.3.3\n",
      " - URIParser                     0.0.5\n",
      " - WoodburyMatrices              0.0.2\n",
      " - WorldBankDataTd               0.0.0-             master (unregistered)\n",
      " - ZMQ                           0.1.18\n",
      " - Zlib                          0.1.8\n"
     ]
    }
   ],
   "source": [
    "Pkg.status()"
   ]
  }
 ],
 "metadata": {
  "kernelspec": {
   "display_name": "Julia",
   "language": "julia",
   "name": "julia"
  },
  "language_info": {
   "name": "julia",
   "version": "0.3.6"
  }
 },
 "nbformat": 4,
 "nbformat_minor": 0
}
