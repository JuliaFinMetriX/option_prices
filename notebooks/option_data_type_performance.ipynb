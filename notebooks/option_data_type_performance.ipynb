{
 "cells": [
  {
   "cell_type": "markdown",
   "metadata": {},
   "source": [
    "## Load and process data"
   ]
  },
  {
   "cell_type": "code",
   "execution_count": 1,
   "metadata": {
    "collapsed": true
   },
   "outputs": [],
   "source": [
    "using DataFrames\n",
    "using Dates"
   ]
  },
  {
   "cell_type": "markdown",
   "metadata": {},
   "source": [
    "Loading the comma separated data from disk:"
   ]
  },
  {
   "cell_type": "code",
   "execution_count": 80,
   "metadata": {
    "collapsed": false
   },
   "outputs": [
    {
     "name": "stdout",
     "output_type": "stream",
     "text": [
      "elapsed time: 11.1443119 seconds (3564920440 bytes allocated, 12.48% gc time)\n"
     ]
    },
    {
     "data": {
      "text/html": [
       "<table class=\"data-frame\"><tr><th></th><th>Date</th><th>Option_Price</th><th>Bid</th><th>Ask</th><th>Volume</th><th>Open_Interest</th><th>Strike</th><th>Expiry</th><th>DAX</th><th>EONIA_matched</th><th>Time_to_Maturity</th><th>IsCall</th></tr><tr><th>1</th><td>732495</td><td>3931.1</td><td>NA</td><td>NA</td><td>1</td><td>104</td><td>1800</td><td>732660</td><td>5712.69</td><td>0.031667592146348</td><td>0.466666666666667</td><td>true</td></tr><tr><th>2</th><td>732495</td><td>0.1</td><td>NA</td><td>NA</td><td>0</td><td>5515</td><td>1800</td><td>732660</td><td>5712.69</td><td>0.0316675921463482</td><td>0.466666666666667</td><td>false</td></tr><tr><th>3</th><td>732495</td><td>3734.0</td><td>NA</td><td>NA</td><td>0</td><td>2152</td><td>2000</td><td>732660</td><td>5712.69</td><td>0.0316675921463482</td><td>0.466666666666667</td><td>true</td></tr><tr><th>4</th><td>732495</td><td>0.1</td><td>NA</td><td>NA</td><td>0</td><td>20941</td><td>2000</td><td>732660</td><td>5712.69</td><td>0.0316675921463482</td><td>0.466666666666667</td><td>false</td></tr><tr><th>5</th><td>732495</td><td>3536.9</td><td>NA</td><td>NA</td><td>0</td><td>2</td><td>2200</td><td>732660</td><td>5712.69</td><td>0.0316675921463482</td><td>0.466666666666667</td><td>true</td></tr><tr><th>6</th><td>732495</td><td>0.1</td><td>NA</td><td>NA</td><td>0</td><td>4626</td><td>2200</td><td>732660</td><td>5712.69</td><td>0.0316675921463482</td><td>0.466666666666667</td><td>false</td></tr><tr><th>7</th><td>732495</td><td>3339.8</td><td>NA</td><td>NA</td><td>0</td><td>2009</td><td>2400</td><td>732660</td><td>5712.69</td><td>0.0316675921463482</td><td>0.466666666666667</td><td>true</td></tr><tr><th>8</th><td>732495</td><td>0.1</td><td>NA</td><td>NA</td><td>0</td><td>13367</td><td>2400</td><td>732660</td><td>5712.69</td><td>0.0316675921463482</td><td>0.466666666666667</td><td>false</td></tr><tr><th>9</th><td>732495</td><td>0.2</td><td>NA</td><td>NA</td><td>0</td><td>2297</td><td>2600</td><td>732660</td><td>5712.69</td><td>0.0316675921463482</td><td>0.466666666666667</td><td>false</td></tr><tr><th>10</th><td>732495</td><td>2945.9</td><td>NA</td><td>NA</td><td>0</td><td>624</td><td>2800</td><td>732660</td><td>5712.69</td><td>0.0316675921463482</td><td>0.466666666666667</td><td>true</td></tr><tr><th>11</th><td>732495</td><td>0.5</td><td>NA</td><td>NA</td><td>0</td><td>6213</td><td>2800</td><td>732660</td><td>5712.69</td><td>0.0316675921463482</td><td>0.466666666666667</td><td>false</td></tr><tr><th>12</th><td>732495</td><td>2749.2</td><td>NA</td><td>NA</td><td>0</td><td>5808</td><td>3000</td><td>732660</td><td>5712.69</td><td>0.0316675921463482</td><td>0.466666666666667</td><td>true</td></tr><tr><th>13</th><td>732495</td><td>0.9</td><td>NA</td><td>NA</td><td>10</td><td>16589</td><td>3000</td><td>732660</td><td>5712.69</td><td>0.0316675921463482</td><td>0.466666666666667</td><td>false</td></tr><tr><th>14</th><td>732495</td><td>2552.7</td><td>NA</td><td>NA</td><td>0</td><td>3763</td><td>3200</td><td>732660</td><td>5712.69</td><td>0.0316675921463482</td><td>0.466666666666667</td><td>true</td></tr><tr><th>15</th><td>732495</td><td>1.5</td><td>NA</td><td>NA</td><td>0</td><td>29118</td><td>3200</td><td>732660</td><td>5712.69</td><td>0.0316675921463482</td><td>0.466666666666667</td><td>false</td></tr><tr><th>16</th><td>732495</td><td>2356.7</td><td>NA</td><td>NA</td><td>0</td><td>2913</td><td>3400</td><td>732660</td><td>5712.69</td><td>0.0316675921463482</td><td>0.466666666666667</td><td>true</td></tr><tr><th>17</th><td>732495</td><td>2.6</td><td>NA</td><td>NA</td><td>0</td><td>31559</td><td>3400</td><td>732660</td><td>5712.69</td><td>0.0316675921463482</td><td>0.466666666666667</td><td>false</td></tr><tr><th>18</th><td>732495</td><td>2161.2</td><td>NA</td><td>NA</td><td>0</td><td>8107</td><td>3600</td><td>732660</td><td>5712.69</td><td>0.0316675921463482</td><td>0.466666666666667</td><td>true</td></tr><tr><th>19</th><td>732495</td><td>4.2</td><td>NA</td><td>NA</td><td>0</td><td>28976</td><td>3600</td><td>732660</td><td>5712.69</td><td>0.0316675921463482</td><td>0.466666666666667</td><td>false</td></tr><tr><th>20</th><td>732495</td><td>1966.6</td><td>NA</td><td>NA</td><td>0</td><td>8817</td><td>3800</td><td>732660</td><td>5712.69</td><td>0.0316675921463482</td><td>0.466666666666667</td><td>true</td></tr><tr><th>21</th><td>732495</td><td>6.8</td><td>NA</td><td>NA</td><td>0</td><td>45495</td><td>3800</td><td>732660</td><td>5712.69</td><td>0.0316675921463482</td><td>0.466666666666667</td><td>false</td></tr><tr><th>22</th><td>732495</td><td>1869.7</td><td>NA</td><td>NA</td><td>0</td><td>200</td><td>3900</td><td>732660</td><td>5712.69</td><td>0.0316675921463482</td><td>0.466666666666667</td><td>true</td></tr><tr><th>23</th><td>732495</td><td>8.4</td><td>NA</td><td>NA</td><td>0</td><td>5155</td><td>3900</td><td>732660</td><td>5712.69</td><td>0.0316675921463482</td><td>0.466666666666667</td><td>false</td></tr><tr><th>24</th><td>732495</td><td>9.4</td><td>NA</td><td>NA</td><td>0</td><td>2244</td><td>3950</td><td>732660</td><td>5712.69</td><td>0.0316675921463482</td><td>0.466666666666667</td><td>false</td></tr><tr><th>25</th><td>732495</td><td>1773.2</td><td>NA</td><td>NA</td><td>0</td><td>30542</td><td>4000</td><td>732660</td><td>5712.69</td><td>0.0316675921463482</td><td>0.466666666666667</td><td>true</td></tr><tr><th>26</th><td>732495</td><td>10.5</td><td>NA</td><td>NA</td><td>100</td><td>63073</td><td>4000</td><td>732660</td><td>5712.69</td><td>0.0316675921463482</td><td>0.466666666666667</td><td>false</td></tr><tr><th>27</th><td>732495</td><td>1725.1</td><td>NA</td><td>NA</td><td>0</td><td>195</td><td>4050</td><td>732660</td><td>5712.69</td><td>0.0316675921463482</td><td>0.466666666666667</td><td>true</td></tr><tr><th>28</th><td>732495</td><td>11.7</td><td>NA</td><td>NA</td><td>0</td><td>2369</td><td>4050</td><td>732660</td><td>5712.69</td><td>0.0316675921463482</td><td>0.466666666666667</td><td>false</td></tr><tr><th>29</th><td>732495</td><td>1677.1</td><td>NA</td><td>NA</td><td>0</td><td>884</td><td>4100</td><td>732660</td><td>5712.69</td><td>0.0316675921463482</td><td>0.466666666666667</td><td>true</td></tr><tr><th>30</th><td>732495</td><td>13.0</td><td>NA</td><td>NA</td><td>20</td><td>17002</td><td>4100</td><td>732660</td><td>5712.69</td><td>0.0316675921463482</td><td>0.466666666666667</td><td>false</td></tr><tr><th>&vellip;</th><td>&vellip;</td><td>&vellip;</td><td>&vellip;</td><td>&vellip;</td><td>&vellip;</td><td>&vellip;</td><td>&vellip;</td><td>&vellip;</td><td>&vellip;</td><td>&vellip;</td><td>&vellip;</td><td>&vellip;</td></tr></table>"
      ],
      "text/plain": [
       "2025129x12 DataFrame\n",
       "| Row     | Date   | Option_Price | Bid   | Ask   | Volume | Open_Interest |\n",
       "|---------|--------|--------------|-------|-------|--------|---------------|\n",
       "| 1       | 732495 | 3931.1       | NA    | NA    | 1      | 104           |\n",
       "| 2       | 732495 | 0.1          | NA    | NA    | 0      | 5515          |\n",
       "| 3       | 732495 | 3734.0       | NA    | NA    | 0      | 2152          |\n",
       "| 4       | 732495 | 0.1          | NA    | NA    | 0      | 20941         |\n",
       "| 5       | 732495 | 3536.9       | NA    | NA    | 0      | 2             |\n",
       "| 6       | 732495 | 0.1          | NA    | NA    | 0      | 4626          |\n",
       "| 7       | 732495 | 3339.8       | NA    | NA    | 0      | 2009          |\n",
       "| 8       | 732495 | 0.1          | NA    | NA    | 0      | 13367         |\n",
       "| 9       | 732495 | 0.2          | NA    | NA    | 0      | 2297          |\n",
       "| 10      | 732495 | 2945.9       | NA    | NA    | 0      | 624           |\n",
       "| 11      | 732495 | 0.5          | NA    | NA    | 0      | 6213          |\n",
       "⋮\n",
       "| 2025118 | 735232 | 140.0        | 147.0 | 153.8 | 2300   | 2311          |\n",
       "| 2025119 | 735232 | 63.6         | 57.4  | 58.3  | 412    | 7633          |\n",
       "| 2025120 | 735232 | 169.9        | 174.7 | 185.9 | 19     | 76            |\n",
       "| 2025121 | 735232 | 47.2         | 41.1  | 42.7  | 180    | 6237          |\n",
       "| 2025122 | 735232 | 203.5        | 208.4 | 222.6 | 0      | 10            |\n",
       "| 2025123 | 735232 | 34.4         | 29.7  | 31.1  | 1795   | 14802         |\n",
       "| 2025124 | 735232 | 240.7        | 245.6 | 262.7 | 0      | 92            |\n",
       "| 2025125 | 735232 | 24.8         | 21.3  | 22.6  | 118    | 1908          |\n",
       "| 2025126 | 735232 | 17.7         | 15.0  | 16.4  | 1100   | 3989          |\n",
       "| 2025127 | 735232 | 324.0        | 328.6 | 349.8 | 5      | 5             |\n",
       "| 2025128 | 735232 | 12.6         | 10.7  | 12.1  | 9      | 428           |\n",
       "| 2025129 | 735232 | 368.9        | 374.2 | 398.0 | 1      | 1             |\n",
       "\n",
       "| Row     | Strike | Expiry | DAX     | EONIA_matched | Time_to_Maturity |\n",
       "|---------|--------|--------|---------|---------------|------------------|\n",
       "| 1       | 1800   | 732660 | 5712.69 | 0.0316676     | 0.466667         |\n",
       "| 2       | 1800   | 732660 | 5712.69 | 0.0316676     | 0.466667         |\n",
       "| 3       | 2000   | 732660 | 5712.69 | 0.0316676     | 0.466667         |\n",
       "| 4       | 2000   | 732660 | 5712.69 | 0.0316676     | 0.466667         |\n",
       "| 5       | 2200   | 732660 | 5712.69 | 0.0316676     | 0.466667         |\n",
       "| 6       | 2200   | 732660 | 5712.69 | 0.0316676     | 0.466667         |\n",
       "| 7       | 2400   | 732660 | 5712.69 | 0.0316676     | 0.466667         |\n",
       "| 8       | 2400   | 732660 | 5712.69 | 0.0316676     | 0.466667         |\n",
       "| 9       | 2600   | 732660 | 5712.69 | 0.0316676     | 0.466667         |\n",
       "| 10      | 2800   | 732660 | 5712.69 | 0.0316676     | 0.466667         |\n",
       "| 11      | 2800   | 732660 | 5712.69 | 0.0316676     | 0.466667         |\n",
       "⋮\n",
       "| 2025118 | 9650   | 735250 | 9552.16 | 0.00207379    | 0.0470588        |\n",
       "| 2025119 | 9700   | 735250 | 9552.16 | 0.00207379    | 0.0470588        |\n",
       "| 2025120 | 9700   | 735250 | 9552.16 | 0.00207379    | 0.0470588        |\n",
       "| 2025121 | 9750   | 735250 | 9552.16 | 0.00207379    | 0.0470588        |\n",
       "| 2025122 | 9750   | 735250 | 9552.16 | 0.00207379    | 0.0470588        |\n",
       "| 2025123 | 9800   | 735250 | 9552.16 | 0.00207379    | 0.0470588        |\n",
       "| 2025124 | 9800   | 735250 | 9552.16 | 0.00207379    | 0.0470588        |\n",
       "| 2025125 | 9850   | 735250 | 9552.16 | 0.00207379    | 0.0470588        |\n",
       "| 2025126 | 9900   | 735250 | 9552.16 | 0.00207379    | 0.0470588        |\n",
       "| 2025127 | 9900   | 735250 | 9552.16 | 0.00207379    | 0.0470588        |\n",
       "| 2025128 | 9950   | 735250 | 9552.16 | 0.00207379    | 0.0470588        |\n",
       "| 2025129 | 9950   | 735250 | 9552.16 | 0.00207379    | 0.0470588        |\n",
       "\n",
       "| Row     | IsCall |\n",
       "|---------|--------|\n",
       "| 1       | true   |\n",
       "| 2       | false  |\n",
       "| 3       | true   |\n",
       "| 4       | false  |\n",
       "| 5       | true   |\n",
       "| 6       | false  |\n",
       "| 7       | true   |\n",
       "| 8       | false  |\n",
       "| 9       | false  |\n",
       "| 10      | true   |\n",
       "| 11      | false  |\n",
       "⋮\n",
       "| 2025118 | false  |\n",
       "| 2025119 | true   |\n",
       "| 2025120 | false  |\n",
       "| 2025121 | true   |\n",
       "| 2025122 | false  |\n",
       "| 2025123 | true   |\n",
       "| 2025124 | false  |\n",
       "| 2025125 | true   |\n",
       "| 2025126 | true   |\n",
       "| 2025127 | false  |\n",
       "| 2025128 | true   |\n",
       "| 2025129 | false  |"
      ]
     },
     "execution_count": 80,
     "metadata": {},
     "output_type": "execute_result"
    }
   ],
   "source": [
    "@time optData = readtable(\"optData.csv\")"
   ]
  },
  {
   "cell_type": "markdown",
   "metadata": {},
   "source": [
    "## Choosing the data format"
   ]
  },
  {
   "cell_type": "markdown",
   "metadata": {},
   "source": [
    "When dealing with data we always have to face a tradeoff between intuitive and user friendly data formats and data formats that are primarily targeting pure speed. In this case, for example, we need to decide on the data type used for date information. The fastest solution would be to keep dates as unintuitive `Int64` numbers, or we could transform them to `Date` format. Before we can make a decision, we first will perform some speed comparisons. As example, we will look at different implementations of a function that lists all unique options in a given dataset."
   ]
  },
  {
   "cell_type": "markdown",
   "metadata": {},
   "source": [
    "#### `getAllOptions` with `Int64` dates"
   ]
  },
  {
   "cell_type": "markdown",
   "metadata": {},
   "source": [
    "The first option is to basically treat all underlying data as `Int64`, providing type stability and hence fast performance:"
   ]
  },
  {
   "cell_type": "code",
   "execution_count": 81,
   "metadata": {
    "collapsed": false
   },
   "outputs": [
    {
     "data": {
      "text/plain": [
       "getAllOptions1 (generic function with 1 method)"
      ]
     },
     "execution_count": 81,
     "metadata": {},
     "output_type": "execute_result"
    }
   ],
   "source": [
    "function getAllOptions1(df::DataFrame)\n",
    "    arrData = [df[:Strike].data df[:Expiry].data df[:IsCall].data]\n",
    "    return unique(arrData, 1)\n",
    "end"
   ]
  },
  {
   "cell_type": "code",
   "execution_count": 82,
   "metadata": {
    "collapsed": false
   },
   "outputs": [
    {
     "name": "stdout",
     "output_type": "stream",
     "text": [
      "elapsed time: 0.18486432 seconds (83223272 bytes allocated, 20.50% gc time)\n"
     ]
    },
    {
     "data": {
      "text/plain": [
       "(12917,3)"
      ]
     },
     "execution_count": 82,
     "metadata": {},
     "output_type": "execute_result"
    }
   ],
   "source": [
    "@time allOpts = getAllOptions1(optData)\n",
    "size(allOpts)"
   ]
  },
  {
   "cell_type": "markdown",
   "metadata": {},
   "source": [
    "Taking this as a benchmark, we now look for implementations of the same functionality with more intuitive encoding of dates as `Date` type. Therefore, we first transform our data table."
   ]
  },
  {
   "cell_type": "markdown",
   "metadata": {},
   "source": [
    "#### Transform date columns to `Date` type"
   ]
  },
  {
   "cell_type": "markdown",
   "metadata": {},
   "source": [
    "Using the knowledge that there are no `NA` values in both dates columns, conversion to `Date` type is quite fast."
   ]
  },
  {
   "cell_type": "code",
   "execution_count": 83,
   "metadata": {
    "collapsed": false
   },
   "outputs": [
    {
     "data": {
      "text/plain": [
       "num2date (generic function with 2 methods)"
      ]
     },
     "execution_count": 83,
     "metadata": {},
     "output_type": "execute_result"
    }
   ],
   "source": [
    "function num2date(numb::Int64)\n",
    "    return Date(Dates.UTD(numb))\n",
    "end\n",
    "function num2date(numb::Array{Int64})\n",
    "    nDats = size(numb, 1)\n",
    "    dats = Array(Date, nDats)\n",
    "    for ii=1:nDats\n",
    "        dats[ii] = num2date(numb[ii])\n",
    "    end\n",
    "    return dats\n",
    "end"
   ]
  },
  {
   "cell_type": "code",
   "execution_count": 84,
   "metadata": {
    "collapsed": false
   },
   "outputs": [
    {
     "name": "stdout",
     "output_type": "stream",
     "text": [
      "elapsed time: 0.040917825 seconds (33020196 bytes allocated, 72.59% gc time)\n"
     ]
    },
    {
     "data": {
      "text/html": [
       "<table class=\"data-frame\"><tr><th></th><th>Date</th><th>Option_Price</th><th>Bid</th><th>Ask</th><th>Volume</th><th>Open_Interest</th><th>Strike</th><th>Expiry</th><th>DAX</th><th>EONIA_matched</th><th>Time_to_Maturity</th><th>IsCall</th></tr><tr><th>1</th><td>2006-07-03</td><td>3931.1</td><td>NA</td><td>NA</td><td>1</td><td>104</td><td>1800</td><td>2006-12-15</td><td>5712.69</td><td>0.031667592146348</td><td>0.466666666666667</td><td>true</td></tr><tr><th>2</th><td>2006-07-03</td><td>0.1</td><td>NA</td><td>NA</td><td>0</td><td>5515</td><td>1800</td><td>2006-12-15</td><td>5712.69</td><td>0.0316675921463482</td><td>0.466666666666667</td><td>false</td></tr><tr><th>3</th><td>2006-07-03</td><td>3734.0</td><td>NA</td><td>NA</td><td>0</td><td>2152</td><td>2000</td><td>2006-12-15</td><td>5712.69</td><td>0.0316675921463482</td><td>0.466666666666667</td><td>true</td></tr><tr><th>4</th><td>2006-07-03</td><td>0.1</td><td>NA</td><td>NA</td><td>0</td><td>20941</td><td>2000</td><td>2006-12-15</td><td>5712.69</td><td>0.0316675921463482</td><td>0.466666666666667</td><td>false</td></tr><tr><th>5</th><td>2006-07-03</td><td>3536.9</td><td>NA</td><td>NA</td><td>0</td><td>2</td><td>2200</td><td>2006-12-15</td><td>5712.69</td><td>0.0316675921463482</td><td>0.466666666666667</td><td>true</td></tr><tr><th>6</th><td>2006-07-03</td><td>0.1</td><td>NA</td><td>NA</td><td>0</td><td>4626</td><td>2200</td><td>2006-12-15</td><td>5712.69</td><td>0.0316675921463482</td><td>0.466666666666667</td><td>false</td></tr><tr><th>7</th><td>2006-07-03</td><td>3339.8</td><td>NA</td><td>NA</td><td>0</td><td>2009</td><td>2400</td><td>2006-12-15</td><td>5712.69</td><td>0.0316675921463482</td><td>0.466666666666667</td><td>true</td></tr><tr><th>8</th><td>2006-07-03</td><td>0.1</td><td>NA</td><td>NA</td><td>0</td><td>13367</td><td>2400</td><td>2006-12-15</td><td>5712.69</td><td>0.0316675921463482</td><td>0.466666666666667</td><td>false</td></tr><tr><th>9</th><td>2006-07-03</td><td>0.2</td><td>NA</td><td>NA</td><td>0</td><td>2297</td><td>2600</td><td>2006-12-15</td><td>5712.69</td><td>0.0316675921463482</td><td>0.466666666666667</td><td>false</td></tr><tr><th>10</th><td>2006-07-03</td><td>2945.9</td><td>NA</td><td>NA</td><td>0</td><td>624</td><td>2800</td><td>2006-12-15</td><td>5712.69</td><td>0.0316675921463482</td><td>0.466666666666667</td><td>true</td></tr><tr><th>11</th><td>2006-07-03</td><td>0.5</td><td>NA</td><td>NA</td><td>0</td><td>6213</td><td>2800</td><td>2006-12-15</td><td>5712.69</td><td>0.0316675921463482</td><td>0.466666666666667</td><td>false</td></tr><tr><th>12</th><td>2006-07-03</td><td>2749.2</td><td>NA</td><td>NA</td><td>0</td><td>5808</td><td>3000</td><td>2006-12-15</td><td>5712.69</td><td>0.0316675921463482</td><td>0.466666666666667</td><td>true</td></tr><tr><th>13</th><td>2006-07-03</td><td>0.9</td><td>NA</td><td>NA</td><td>10</td><td>16589</td><td>3000</td><td>2006-12-15</td><td>5712.69</td><td>0.0316675921463482</td><td>0.466666666666667</td><td>false</td></tr><tr><th>14</th><td>2006-07-03</td><td>2552.7</td><td>NA</td><td>NA</td><td>0</td><td>3763</td><td>3200</td><td>2006-12-15</td><td>5712.69</td><td>0.0316675921463482</td><td>0.466666666666667</td><td>true</td></tr><tr><th>15</th><td>2006-07-03</td><td>1.5</td><td>NA</td><td>NA</td><td>0</td><td>29118</td><td>3200</td><td>2006-12-15</td><td>5712.69</td><td>0.0316675921463482</td><td>0.466666666666667</td><td>false</td></tr><tr><th>16</th><td>2006-07-03</td><td>2356.7</td><td>NA</td><td>NA</td><td>0</td><td>2913</td><td>3400</td><td>2006-12-15</td><td>5712.69</td><td>0.0316675921463482</td><td>0.466666666666667</td><td>true</td></tr><tr><th>17</th><td>2006-07-03</td><td>2.6</td><td>NA</td><td>NA</td><td>0</td><td>31559</td><td>3400</td><td>2006-12-15</td><td>5712.69</td><td>0.0316675921463482</td><td>0.466666666666667</td><td>false</td></tr><tr><th>18</th><td>2006-07-03</td><td>2161.2</td><td>NA</td><td>NA</td><td>0</td><td>8107</td><td>3600</td><td>2006-12-15</td><td>5712.69</td><td>0.0316675921463482</td><td>0.466666666666667</td><td>true</td></tr><tr><th>19</th><td>2006-07-03</td><td>4.2</td><td>NA</td><td>NA</td><td>0</td><td>28976</td><td>3600</td><td>2006-12-15</td><td>5712.69</td><td>0.0316675921463482</td><td>0.466666666666667</td><td>false</td></tr><tr><th>20</th><td>2006-07-03</td><td>1966.6</td><td>NA</td><td>NA</td><td>0</td><td>8817</td><td>3800</td><td>2006-12-15</td><td>5712.69</td><td>0.0316675921463482</td><td>0.466666666666667</td><td>true</td></tr><tr><th>21</th><td>2006-07-03</td><td>6.8</td><td>NA</td><td>NA</td><td>0</td><td>45495</td><td>3800</td><td>2006-12-15</td><td>5712.69</td><td>0.0316675921463482</td><td>0.466666666666667</td><td>false</td></tr><tr><th>22</th><td>2006-07-03</td><td>1869.7</td><td>NA</td><td>NA</td><td>0</td><td>200</td><td>3900</td><td>2006-12-15</td><td>5712.69</td><td>0.0316675921463482</td><td>0.466666666666667</td><td>true</td></tr><tr><th>23</th><td>2006-07-03</td><td>8.4</td><td>NA</td><td>NA</td><td>0</td><td>5155</td><td>3900</td><td>2006-12-15</td><td>5712.69</td><td>0.0316675921463482</td><td>0.466666666666667</td><td>false</td></tr><tr><th>24</th><td>2006-07-03</td><td>9.4</td><td>NA</td><td>NA</td><td>0</td><td>2244</td><td>3950</td><td>2006-12-15</td><td>5712.69</td><td>0.0316675921463482</td><td>0.466666666666667</td><td>false</td></tr><tr><th>25</th><td>2006-07-03</td><td>1773.2</td><td>NA</td><td>NA</td><td>0</td><td>30542</td><td>4000</td><td>2006-12-15</td><td>5712.69</td><td>0.0316675921463482</td><td>0.466666666666667</td><td>true</td></tr><tr><th>26</th><td>2006-07-03</td><td>10.5</td><td>NA</td><td>NA</td><td>100</td><td>63073</td><td>4000</td><td>2006-12-15</td><td>5712.69</td><td>0.0316675921463482</td><td>0.466666666666667</td><td>false</td></tr><tr><th>27</th><td>2006-07-03</td><td>1725.1</td><td>NA</td><td>NA</td><td>0</td><td>195</td><td>4050</td><td>2006-12-15</td><td>5712.69</td><td>0.0316675921463482</td><td>0.466666666666667</td><td>true</td></tr><tr><th>28</th><td>2006-07-03</td><td>11.7</td><td>NA</td><td>NA</td><td>0</td><td>2369</td><td>4050</td><td>2006-12-15</td><td>5712.69</td><td>0.0316675921463482</td><td>0.466666666666667</td><td>false</td></tr><tr><th>29</th><td>2006-07-03</td><td>1677.1</td><td>NA</td><td>NA</td><td>0</td><td>884</td><td>4100</td><td>2006-12-15</td><td>5712.69</td><td>0.0316675921463482</td><td>0.466666666666667</td><td>true</td></tr><tr><th>30</th><td>2006-07-03</td><td>13.0</td><td>NA</td><td>NA</td><td>20</td><td>17002</td><td>4100</td><td>2006-12-15</td><td>5712.69</td><td>0.0316675921463482</td><td>0.466666666666667</td><td>false</td></tr><tr><th>&vellip;</th><td>&vellip;</td><td>&vellip;</td><td>&vellip;</td><td>&vellip;</td><td>&vellip;</td><td>&vellip;</td><td>&vellip;</td><td>&vellip;</td><td>&vellip;</td><td>&vellip;</td><td>&vellip;</td><td>&vellip;</td></tr></table>"
      ],
      "text/plain": [
       "2025129x12 DataFrame\n",
       "| Row     | Date       | Option_Price | Bid   | Ask   | Volume | Open_Interest |\n",
       "|---------|------------|--------------|-------|-------|--------|---------------|\n",
       "| 1       | 2006-07-03 | 3931.1       | NA    | NA    | 1      | 104           |\n",
       "| 2       | 2006-07-03 | 0.1          | NA    | NA    | 0      | 5515          |\n",
       "| 3       | 2006-07-03 | 3734.0       | NA    | NA    | 0      | 2152          |\n",
       "| 4       | 2006-07-03 | 0.1          | NA    | NA    | 0      | 20941         |\n",
       "| 5       | 2006-07-03 | 3536.9       | NA    | NA    | 0      | 2             |\n",
       "| 6       | 2006-07-03 | 0.1          | NA    | NA    | 0      | 4626          |\n",
       "| 7       | 2006-07-03 | 3339.8       | NA    | NA    | 0      | 2009          |\n",
       "| 8       | 2006-07-03 | 0.1          | NA    | NA    | 0      | 13367         |\n",
       "| 9       | 2006-07-03 | 0.2          | NA    | NA    | 0      | 2297          |\n",
       "| 10      | 2006-07-03 | 2945.9       | NA    | NA    | 0      | 624           |\n",
       "| 11      | 2006-07-03 | 0.5          | NA    | NA    | 0      | 6213          |\n",
       "⋮\n",
       "| 2025118 | 2013-12-30 | 140.0        | 147.0 | 153.8 | 2300   | 2311          |\n",
       "| 2025119 | 2013-12-30 | 63.6         | 57.4  | 58.3  | 412    | 7633          |\n",
       "| 2025120 | 2013-12-30 | 169.9        | 174.7 | 185.9 | 19     | 76            |\n",
       "| 2025121 | 2013-12-30 | 47.2         | 41.1  | 42.7  | 180    | 6237          |\n",
       "| 2025122 | 2013-12-30 | 203.5        | 208.4 | 222.6 | 0      | 10            |\n",
       "| 2025123 | 2013-12-30 | 34.4         | 29.7  | 31.1  | 1795   | 14802         |\n",
       "| 2025124 | 2013-12-30 | 240.7        | 245.6 | 262.7 | 0      | 92            |\n",
       "| 2025125 | 2013-12-30 | 24.8         | 21.3  | 22.6  | 118    | 1908          |\n",
       "| 2025126 | 2013-12-30 | 17.7         | 15.0  | 16.4  | 1100   | 3989          |\n",
       "| 2025127 | 2013-12-30 | 324.0        | 328.6 | 349.8 | 5      | 5             |\n",
       "| 2025128 | 2013-12-30 | 12.6         | 10.7  | 12.1  | 9      | 428           |\n",
       "| 2025129 | 2013-12-30 | 368.9        | 374.2 | 398.0 | 1      | 1             |\n",
       "\n",
       "| Row     | Strike | Expiry     | DAX     | EONIA_matched | Time_to_Maturity |\n",
       "|---------|--------|------------|---------|---------------|------------------|\n",
       "| 1       | 1800   | 2006-12-15 | 5712.69 | 0.0316676     | 0.466667         |\n",
       "| 2       | 1800   | 2006-12-15 | 5712.69 | 0.0316676     | 0.466667         |\n",
       "| 3       | 2000   | 2006-12-15 | 5712.69 | 0.0316676     | 0.466667         |\n",
       "| 4       | 2000   | 2006-12-15 | 5712.69 | 0.0316676     | 0.466667         |\n",
       "| 5       | 2200   | 2006-12-15 | 5712.69 | 0.0316676     | 0.466667         |\n",
       "| 6       | 2200   | 2006-12-15 | 5712.69 | 0.0316676     | 0.466667         |\n",
       "| 7       | 2400   | 2006-12-15 | 5712.69 | 0.0316676     | 0.466667         |\n",
       "| 8       | 2400   | 2006-12-15 | 5712.69 | 0.0316676     | 0.466667         |\n",
       "| 9       | 2600   | 2006-12-15 | 5712.69 | 0.0316676     | 0.466667         |\n",
       "| 10      | 2800   | 2006-12-15 | 5712.69 | 0.0316676     | 0.466667         |\n",
       "| 11      | 2800   | 2006-12-15 | 5712.69 | 0.0316676     | 0.466667         |\n",
       "⋮\n",
       "| 2025118 | 9650   | 2014-01-17 | 9552.16 | 0.00207379    | 0.0470588        |\n",
       "| 2025119 | 9700   | 2014-01-17 | 9552.16 | 0.00207379    | 0.0470588        |\n",
       "| 2025120 | 9700   | 2014-01-17 | 9552.16 | 0.00207379    | 0.0470588        |\n",
       "| 2025121 | 9750   | 2014-01-17 | 9552.16 | 0.00207379    | 0.0470588        |\n",
       "| 2025122 | 9750   | 2014-01-17 | 9552.16 | 0.00207379    | 0.0470588        |\n",
       "| 2025123 | 9800   | 2014-01-17 | 9552.16 | 0.00207379    | 0.0470588        |\n",
       "| 2025124 | 9800   | 2014-01-17 | 9552.16 | 0.00207379    | 0.0470588        |\n",
       "| 2025125 | 9850   | 2014-01-17 | 9552.16 | 0.00207379    | 0.0470588        |\n",
       "| 2025126 | 9900   | 2014-01-17 | 9552.16 | 0.00207379    | 0.0470588        |\n",
       "| 2025127 | 9900   | 2014-01-17 | 9552.16 | 0.00207379    | 0.0470588        |\n",
       "| 2025128 | 9950   | 2014-01-17 | 9552.16 | 0.00207379    | 0.0470588        |\n",
       "| 2025129 | 9950   | 2014-01-17 | 9552.16 | 0.00207379    | 0.0470588        |\n",
       "\n",
       "| Row     | IsCall |\n",
       "|---------|--------|\n",
       "| 1       | true   |\n",
       "| 2       | false  |\n",
       "| 3       | true   |\n",
       "| 4       | false  |\n",
       "| 5       | true   |\n",
       "| 6       | false  |\n",
       "| 7       | true   |\n",
       "| 8       | false  |\n",
       "| 9       | false  |\n",
       "| 10      | true   |\n",
       "| 11      | false  |\n",
       "⋮\n",
       "| 2025118 | false  |\n",
       "| 2025119 | true   |\n",
       "| 2025120 | false  |\n",
       "| 2025121 | true   |\n",
       "| 2025122 | false  |\n",
       "| 2025123 | true   |\n",
       "| 2025124 | false  |\n",
       "| 2025125 | true   |\n",
       "| 2025126 | true   |\n",
       "| 2025127 | false  |\n",
       "| 2025128 | true   |\n",
       "| 2025129 | false  |"
      ]
     },
     "execution_count": 84,
     "metadata": {},
     "output_type": "execute_result"
    }
   ],
   "source": [
    "@time begin\n",
    "    optData[:Date] = num2date(optData[:Date].data)\n",
    "    optData[:Expiry] = num2date(optData[:Expiry].data)\n",
    "end\n",
    "dat"
   ]
  },
  {
   "cell_type": "markdown",
   "metadata": {},
   "source": [
    "#### getAllOptions - straightforward implementations for type `Date`"
   ]
  },
  {
   "cell_type": "markdown",
   "metadata": {},
   "source": [
    "First, let's try a straightforward implementation using built-in functions for the new dataset with dates of type `Date`."
   ]
  },
  {
   "cell_type": "code",
   "execution_count": 85,
   "metadata": {
    "collapsed": false
   },
   "outputs": [
    {
     "name": "stdout",
     "output_type": "stream",
     "text": [
      "elapsed time: 19.765476128 seconds (6908768340 bytes allocated, 21.50% gc time)\n"
     ]
    },
    {
     "data": {
      "text/plain": [
       "(12917,3)"
      ]
     },
     "execution_count": 85,
     "metadata": {},
     "output_type": "execute_result"
    }
   ],
   "source": [
    "function getAllOptions2(df::DataFrame)\n",
    "    return unique(df[:, [:Strike, :Expiry, :IsCall]])\n",
    "end\n",
    "\n",
    "@time allOpts = getAllOptions2(optData)\n",
    "size(allOpts)"
   ]
  },
  {
   "cell_type": "markdown",
   "metadata": {},
   "source": [
    "This is slower by a factor >200, which of course strongly reduces the usefulness of this approach. An already slightly more sophisticated version makes use of the fact that column `IsCall` is binary with only two different outcomes:"
   ]
  },
  {
   "cell_type": "code",
   "execution_count": 86,
   "metadata": {
    "collapsed": false
   },
   "outputs": [
    {
     "name": "stdout",
     "output_type": "stream",
     "text": [
      "elapsed time: 15.526298626 seconds (5590316656 bytes allocated, 23.37% gc time)\n"
     ]
    },
    {
     "data": {
      "text/plain": [
       "12917"
      ]
     },
     "execution_count": 86,
     "metadata": {},
     "output_type": "execute_result"
    }
   ],
   "source": [
    "function getAllOptions3(df::DataFrame)\n",
    "    # get call indices\n",
    "    callOpts = unique(df[df[:IsCall].data, [:Strike, :Expiry]])\n",
    "    putOpts = unique(df[!(df[:IsCall].data), [:Strike, :Expiry]])\n",
    "    return (callOpts, putOpts)\n",
    "end\n",
    "\n",
    "@time opts1, opts2 = getAllOptions(optData)\n",
    "size(opts1, 1) + size(opts2, 1)"
   ]
  },
  {
   "cell_type": "markdown",
   "metadata": {},
   "source": [
    "This already provides some additional speed. Still, the performance is not good enough."
   ]
  },
  {
   "cell_type": "markdown",
   "metadata": {},
   "source": [
    "#### `getAllOptions` - using parallel computing"
   ]
  },
  {
   "cell_type": "markdown",
   "metadata": {},
   "source": [
    "Let's now try to use parallel search for unique options. First, let's start additional workers and load all relevant packages on all machines."
   ]
  },
  {
   "cell_type": "code",
   "execution_count": 91,
   "metadata": {
    "collapsed": true
   },
   "outputs": [],
   "source": [
    "addprocs(3)\n",
    "@everywhere using DataFrames\n",
    "@everywhere using Dates"
   ]
  },
  {
   "cell_type": "markdown",
   "metadata": {},
   "source": [
    "Using `pmap` to parallelize the search for unique call options and unique put options:"
   ]
  },
  {
   "cell_type": "code",
   "execution_count": 92,
   "metadata": {
    "collapsed": false
   },
   "outputs": [
    {
     "name": "stdout",
     "output_type": "stream",
     "text": [
      "elapsed time: 10.456553924 seconds (151892928 bytes allocated, 0.30% gc time)\n"
     ]
    },
    {
     "data": {
      "text/plain": [
       "12917"
      ]
     },
     "execution_count": 92,
     "metadata": {},
     "output_type": "execute_result"
    }
   ],
   "source": [
    "function getAllOptionsPar1(dat::DataFrame)\n",
    "    splitted = {dat[dat[:IsCall].data, [:Strike, :Expiry]], dat[!(dat[:IsCall].data), [:Strike, :Expiry]]}\n",
    "    callOpts, putOpts = pmap(x -> unique(x), splitted)\n",
    "    callOpts[:IsCall] = true\n",
    "    putOpts[:IsCall] = false\n",
    "    return callOpts, putOpts\n",
    "end\n",
    "\n",
    "@time kk = getAllOptionsPar1(optData)\n",
    "size(kk[1], 1) + size(kk[2], 1)"
   ]
  },
  {
   "cell_type": "markdown",
   "metadata": {},
   "source": [
    "Again, this provides some additional speed-up, but still is not sufficient yet. Let's try to split up the data into more than two parts, parallelizing the search to more workers."
   ]
  },
  {
   "cell_type": "code",
   "execution_count": 93,
   "metadata": {
    "collapsed": false
   },
   "outputs": [
    {
     "name": "stdout",
     "output_type": "stream",
     "text": [
      "elapsed time: 15.226210755 seconds (559941556 bytes allocated, 0.46% gc time)\n"
     ]
    },
    {
     "data": {
      "text/plain": [
       "12917"
      ]
     },
     "execution_count": 93,
     "metadata": {},
     "output_type": "execute_result"
    }
   ],
   "source": [
    "@everywhere begin\n",
    "    function reduceOpts(df1::DataFrame, df2::DataFrame)\n",
    "        df = [df1; df2]\n",
    "        return unique(df)\n",
    "    end\n",
    "end\n",
    "\n",
    "function getAllOptionsPar2(df::DataFrame)\n",
    "    nObs = size(df, 1)\n",
    "    dfSmall = df[:, [:Strike, :Expiry, :IsCall]]\n",
    "    stepSize = 550000\n",
    "    inds = [[1:stepSize:nObs], (nObs+1)]\n",
    "    nParts = length(inds)-1\n",
    "    opts = @parallel (reduceOpts) for ii=1:nParts\n",
    "        unique(dfSmall[inds[ii]:(inds[ii+1]-1), :])\n",
    "    end\n",
    "    return opts\n",
    "end\n",
    "\n",
    "@time kk = getAllOptionsPar2(optData)\n",
    "size(kk, 1)"
   ]
  },
  {
   "cell_type": "markdown",
   "metadata": {},
   "source": [
    "This was a step back even. It seems like parallelization involves too much data copying between the machines. One maybe could try to circumvent this problem by storing the original dataset in some shared version on the machines. This way, each machine would own a separate part of the dataset. Still, however, this would not really suffice our original intention: intuitive and user friendly data handling. Hence, we give up on parallel implementations, trying to get additional speed somewhere else."
   ]
  },
  {
   "cell_type": "code",
   "execution_count": 100,
   "metadata": {
    "collapsed": false
   },
   "outputs": [
    {
     "data": {
      "text/plain": [
       ":ok"
      ]
     },
     "execution_count": 100,
     "metadata": {},
     "output_type": "execute_result"
    }
   ],
   "source": [
    "rmprocs([procs()][2:end])"
   ]
  },
  {
   "cell_type": "code",
   "execution_count": 101,
   "metadata": {
    "collapsed": false
   },
   "outputs": [
    {
     "data": {
      "text/plain": [
       "1"
      ]
     },
     "execution_count": 101,
     "metadata": {},
     "output_type": "execute_result"
    }
   ],
   "source": [
    "nprocs()"
   ]
  },
  {
   "cell_type": "markdown",
   "metadata": {},
   "source": [
    "#### `getAllOptions` - type stable version"
   ]
  },
  {
   "cell_type": "markdown",
   "metadata": {},
   "source": [
    "So what exactly is it that makes the original solution with dates stored as `Int64` so fast? The problem with all other solutions is that comparison of different options involves comparison of three different fields with different types: strike price given as `Int64`, expiry given as `Date` and option type denoted as `Bool`. This makes comparisons quite costly. So let's now try to conduct comparisons on `Array{Int64, 1}`. Also, looking at the implementation of `unique()` in `Base`, comparisons seem to be faster within a `Set` than in an `Array{Int64, 2}`. Modifying `unique()` for the current situation, we get:"
   ]
  },
  {
   "cell_type": "code",
   "execution_count": 107,
   "metadata": {
    "collapsed": false
   },
   "outputs": [
    {
     "name": "stdout",
     "output_type": "stream",
     "text": [
      "elapsed time: 1.858124155 seconds (603714500 bytes allocated, 20.86% gc time)\n"
     ]
    },
    {
     "data": {
      "text/plain": [
       "12917"
      ]
     },
     "execution_count": 107,
     "metadata": {},
     "output_type": "execute_result"
    }
   ],
   "source": [
    "function getAllOptions(df::DataFrame)\n",
    "    vals1, vals2, vals3 = Int64[], Date[], Bool[]\n",
    "    valsSet = Set{Array{Int64, 1}}()\n",
    "    nObs = size(df, 1)\n",
    "    for ii=1:nObs\n",
    "        currStr, currExp, currCall = df[ii, :Strike], df[ii, :Expiry], df[ii, :IsCall]\n",
    "        currVals = Int64[currStr, Dates.value(currExp), currCall]\n",
    "        if !in(currVals, valsSet)\n",
    "            push!(valsSet, currVals)\n",
    "            push!(vals1, currStr)\n",
    "            push!(vals2, currExp)\n",
    "            push!(vals3, currCall)\n",
    "        end\n",
    "    end\n",
    "    return DataFrame(Strike = vals1, Expiry = vals2, IsCall = vals3)\n",
    "end\n",
    "\n",
    "@time kk = getAllOptions(optData)\n",
    "size(kk, 1)"
   ]
  },
  {
   "cell_type": "markdown",
   "metadata": {},
   "source": [
    "Although this still is approximately 20 times the time that the original version takes, it is only 2-3 times the speed that I get for the same operation with MATLAB on my machine. Whether this loss in speed is crucial depends on the application and is something that we will have to see..."
   ]
  },
  {
   "cell_type": "markdown",
   "metadata": {},
   "source": [
    "## Data characteristics"
   ]
  },
  {
   "cell_type": "markdown",
   "metadata": {},
   "source": [
    "In order to get a feeling about the size of the dataset, let's take a look at the number of rows of the table."
   ]
  },
  {
   "cell_type": "code",
   "execution_count": 5,
   "metadata": {
    "collapsed": false
   },
   "outputs": [
    {
     "data": {
      "text/plain": [
       "2025129"
      ]
     },
     "execution_count": 5,
     "metadata": {},
     "output_type": "execute_result"
    }
   ],
   "source": [
    "nObs = size(dat, 1)"
   ]
  },
  {
   "cell_type": "markdown",
   "metadata": {},
   "source": [
    "Hence, be prepared that each operation will take quite some time."
   ]
  },
  {
   "cell_type": "markdown",
   "metadata": {},
   "source": [
    "Let's now take a look at missing values:"
   ]
  },
  {
   "cell_type": "code",
   "execution_count": 6,
   "metadata": {
    "collapsed": false
   },
   "outputs": [
    {
     "data": {
      "text/plain": [
       "12-element Array{Any,1}:\n",
       " false\n",
       " false\n",
       "  true\n",
       "  true\n",
       "  true\n",
       " false\n",
       " false\n",
       " false\n",
       " false\n",
       " false\n",
       " false\n",
       " false"
      ]
     },
     "execution_count": 6,
     "metadata": {},
     "output_type": "execute_result"
    }
   ],
   "source": [
    "missVals = [any(isna(dat[:, ii])) for ii=1:size(dat, 2)]"
   ]
  },
  {
   "cell_type": "markdown",
   "metadata": {},
   "source": [
    "## Define option type"
   ]
  },
  {
   "cell_type": "markdown",
   "metadata": {},
   "source": [
    "An option is determined by a unique combination of *strike*, *expiry* and *call/put*."
   ]
  },
  {
   "cell_type": "code",
   "execution_count": 7,
   "metadata": {
    "collapsed": false
   },
   "outputs": [],
   "source": [
    "type Option\n",
    "    strike::Int64\n",
    "    expiry::Date\n",
    "    iscall::Bool\n",
    "end"
   ]
  },
  {
   "cell_type": "markdown",
   "metadata": {},
   "source": [
    "Default constructor: option type is set to call option."
   ]
  },
  {
   "cell_type": "code",
   "execution_count": 8,
   "metadata": {
    "collapsed": false
   },
   "outputs": [
    {
     "data": {
      "text/plain": [
       "Option (constructor with 4 methods)"
      ]
     },
     "execution_count": 8,
     "metadata": {},
     "output_type": "execute_result"
    }
   ],
   "source": [
    "function Option(strike::Int64, expiry::Date)\n",
    "    return Option(strike, expiry, true)\n",
    "end\n",
    "\n",
    "function Option(df::DataFrame)\n",
    "    return Option(df[1, :Strike], df[1, :Expiry], df[1, :IsCall])\n",
    "end"
   ]
  },
  {
   "cell_type": "markdown",
   "metadata": {},
   "source": [
    "Define writemime methods for customized display of option objects:"
   ]
  },
  {
   "cell_type": "code",
   "execution_count": 9,
   "metadata": {
    "collapsed": false
   },
   "outputs": [
    {
     "data": {
      "text/plain": [
       "writemime (generic function with 19 methods)"
      ]
     },
     "execution_count": 9,
     "metadata": {},
     "output_type": "execute_result"
    }
   ],
   "source": [
    "import Base.writemime\n",
    "function writemime(io::IO, ::MIME\"text/html\", opt::Option)\n",
    "    opt.iscall ? typ = \"Call\" : typ = \"Put\"\n",
    "    write(io, \"<p><strong>$(typ)</strong> option:\")\n",
    "    write(io, \"<ul><li>strike:&nbsp&nbsp&nbsp $(opt.strike)</li>\")\n",
    "    write(io, \"<li>expiry:&nbsp&nbsp $(opt.expiry)</li></ul></p>\")\n",
    "end\n",
    "function writemime(io::IO, ::MIME\"text/html\", opts::Array{Option,1 })\n",
    "    nOpts = size(opts, 1)\n",
    "    write(io, \"<p><strong>Array</strong> of $nOpts <strong>options</strong>:\")\n",
    "    nToShow = 4\n",
    "    for ii=1:min(nToShow, nOpts)\n",
    "        opts[ii].iscall ? typ = \"Call\" : typ = \"Put\"\n",
    "        write(io, \"<p><strong>$(typ)</strong> option:\")\n",
    "        write(io, \"<ul><li>strike:&nbsp&nbsp&nbsp $(opts[ii].strike)</li>\")\n",
    "        write(io, \"<li>expiry:&nbsp&nbsp $(opts[ii].expiry)</li></ul></p>\")\n",
    "    end\n",
    "    if nOpts > nToShow\n",
    "        write(io, \"<p><strong>...</strong>\")\n",
    "    end\n",
    "end"
   ]
  },
  {
   "cell_type": "code",
   "execution_count": 10,
   "metadata": {
    "collapsed": false
   },
   "outputs": [
    {
     "data": {
      "text/html": [
       "<p><strong>Array</strong> of 30 <strong>options</strong>:<p><strong>Call</strong> option:<ul><li>strike:&nbsp&nbsp&nbsp 1800</li><li>expiry:&nbsp&nbsp 2006-12-15</li></ul></p><p><strong>Put</strong> option:<ul><li>strike:&nbsp&nbsp&nbsp 1800</li><li>expiry:&nbsp&nbsp 2006-12-15</li></ul></p><p><strong>Call</strong> option:<ul><li>strike:&nbsp&nbsp&nbsp 2000</li><li>expiry:&nbsp&nbsp 2006-12-15</li></ul></p><p><strong>Put</strong> option:<ul><li>strike:&nbsp&nbsp&nbsp 2000</li><li>expiry:&nbsp&nbsp 2006-12-15</li></ul></p><p><strong>...</strong>"
      ],
      "text/plain": [
       "30-element Array{Option,1}:\n",
       " Option(1800,2006-12-15,true) \n",
       " Option(1800,2006-12-15,false)\n",
       " Option(2000,2006-12-15,true) \n",
       " Option(2000,2006-12-15,false)\n",
       " Option(2200,2006-12-15,true) \n",
       " Option(2200,2006-12-15,false)\n",
       " Option(2400,2006-12-15,true) \n",
       " Option(2400,2006-12-15,false)\n",
       " Option(2600,2006-12-15,false)\n",
       " Option(2800,2006-12-15,true) \n",
       " Option(2800,2006-12-15,false)\n",
       " Option(3000,2006-12-15,true) \n",
       " Option(3000,2006-12-15,false)\n",
       " ⋮                            \n",
       " Option(3600,2006-12-15,false)\n",
       " Option(3800,2006-12-15,true) \n",
       " Option(3800,2006-12-15,false)\n",
       " Option(3900,2006-12-15,true) \n",
       " Option(3900,2006-12-15,false)\n",
       " Option(3950,2006-12-15,false)\n",
       " Option(4000,2006-12-15,true) \n",
       " Option(4000,2006-12-15,false)\n",
       " Option(4050,2006-12-15,true) \n",
       " Option(4050,2006-12-15,false)\n",
       " Option(4100,2006-12-15,true) \n",
       " Option(4100,2006-12-15,false)"
      ]
     },
     "execution_count": 10,
     "metadata": {},
     "output_type": "execute_result"
    }
   ],
   "source": [
    "opts = Option[Option(dat[ii, :]) for ii=1:30]"
   ]
  },
  {
   "cell_type": "markdown",
   "metadata": {},
   "source": [
    "## Get unique options / expiries / days"
   ]
  },
  {
   "cell_type": "code",
   "execution_count": 11,
   "metadata": {
    "collapsed": false
   },
   "outputs": [
    {
     "data": {
      "text/plain": [
       "getObs (generic function with 2 methods)"
      ]
     },
     "execution_count": 11,
     "metadata": {},
     "output_type": "execute_result"
    }
   ],
   "source": [
    "function getObs(df::DataFrame, opt::Option)\n",
    "    # get all observations for given option\n",
    "    datExp = df[:Expiry]\n",
    "    datStr = df[:Strike]\n",
    "    datCall = df[:IsCall]\n",
    "    inds = Int64[]\n",
    "    \n",
    "    for ii=1:size(datExp, 1)\n",
    "        #if datExp[ii]::Date == opt[1, 2]::Date\n",
    "         #   if datStr[ii]::Int64 == opt[1, 1]::Int64\n",
    "          #      if datCall[ii]::Bool == opt[1, 3]::Bool\n",
    "        if datExp[ii]::Date == opt.expiry\n",
    "            if datStr[ii]::Int64 == opt.strike\n",
    "                if datCall[ii]::Bool == opt.iscall\n",
    "                    push!(inds, ii)\n",
    "                end\n",
    "            end\n",
    "        end\n",
    "    end\n",
    "    return df[inds, :]\n",
    "end\n",
    "\n",
    "function getObs(df::DataFrame, dat::Date, col::Symbol)\n",
    "    # find observations with dat in col\n",
    "    dats = df[col]\n",
    "    inds = Int64[]\n",
    "    \n",
    "    for ii=1:size(dats, 1)\n",
    "        if dats[ii] == dat\n",
    "            push!(inds, ii)\n",
    "        end\n",
    "    end\n",
    "    return df[inds, :]\n",
    "end\n"
   ]
  },
  {
   "cell_type": "code",
   "execution_count": 12,
   "metadata": {
    "collapsed": false
   },
   "outputs": [
    {
     "name": "stdout",
     "output_type": "stream",
     "text": [
      "elapsed time: 0.546490682 seconds (195458848 bytes allocated, 22.84% gc time)\n"
     ]
    },
    {
     "data": {
      "text/plain": [
       "(966,12)"
      ]
     },
     "execution_count": 12,
     "metadata": {},
     "output_type": "execute_result"
    }
   ],
   "source": [
    "expDate = Date(2011,12,16)\n",
    "@time expData = getObs(dat, expDate, :Date)\n",
    "size(expData)"
   ]
  },
  {
   "cell_type": "code",
   "execution_count": 13,
   "metadata": {
    "collapsed": false
   },
   "outputs": [
    {
     "name": "stdout",
     "output_type": "stream",
     "text": [
      "elapsed time: 0.233406412 seconds (36045232 bytes allocated, 12.78% gc time)\n"
     ]
    },
    {
     "data": {
      "text/plain": [
       "(97,)"
      ]
     },
     "execution_count": 13,
     "metadata": {},
     "output_type": "execute_result"
    }
   ],
   "source": [
    "function getAllExpiry(df::DataFrame)\n",
    "    return unique(df[:Expiry])\n",
    "end\n",
    "@time expDates = getAllExpiry(dat)\n",
    "size(expDates)"
   ]
  },
  {
   "cell_type": "code",
   "execution_count": 14,
   "metadata": {
    "collapsed": false
   },
   "outputs": [
    {
     "name": "stdout",
     "output_type": "stream",
     "text": [
      "elapsed time: 0.129417371 seconds (32552232 bytes allocated, 26.39% gc time)\n"
     ]
    },
    {
     "data": {
      "text/plain": [
       "(1908,)"
      ]
     },
     "execution_count": 14,
     "metadata": {},
     "output_type": "execute_result"
    }
   ],
   "source": [
    "function getAllDays(df::DataFrame)\n",
    "    return unique(df[:Date])\n",
    "end\n",
    "@time tradeDays = getAllDays(dat)\n",
    "size(tradeDays)"
   ]
  },
  {
   "cell_type": "markdown",
   "metadata": {},
   "source": [
    "Benchmark result:"
   ]
  },
  {
   "cell_type": "markdown",
   "metadata": {},
   "source": [
    "## Find unique options and expiry dates"
   ]
  },
  {
   "cell_type": "code",
   "execution_count": null,
   "metadata": {
    "collapsed": true
   },
   "outputs": [],
   "source": [
    "function getOptionData(opt::Option, data::DataFrame)\n",
    "    nObs = size(data, 1)\n",
    "    validInds = falses(nObs)\n",
    "    for ii=1:nObs\n",
    "        if data[ii, :Strike] == opt.strike\n",
    "            if data[ii, :Expiry] == opt.expiry\n",
    "                if data[ii, :IsCall] == int(opt.iscall)\n",
    "                    validInds[ii] = true\n",
    "                end\n",
    "            end\n",
    "        end\n",
    "    end\n",
    "    return Timedata(dat1[validInds, [:Option_Price, :Bid, \n",
    "            :Ask, :Volume, :Open_Interest, :DAX, :EONIA_matched, :Time_to_Maturity]],\n",
    "    array(dat1[validInds, :Date]))\n",
    "end\n",
    "    "
   ]
  },
  {
   "cell_type": "markdown",
   "metadata": {},
   "source": [
    "Get some helper look-up tables: in which sections to we have to search for individual options? And in which for all options of given expiration date?"
   ]
  },
  {
   "cell_type": "code",
   "execution_count": 9,
   "metadata": {
    "collapsed": false
   },
   "outputs": [
    {
     "name": "stdout",
     "output_type": "stream",
     "text": [
      "elapsed time: 639.105780513 seconds (224997735064 bytes allocated, 23.64% gc time)\n"
     ]
    },
    {
     "data": {
      "text/html": [
       "<table class=\"data-frame\"><tr><th></th><th>expDates</th><th>strikes</th><th>firstListings</th></tr><tr><th>1</th><td>2006-12-15</td><td>1800</td><td>2006-07-03</td></tr><tr><th>2</th><td>2006-12-15</td><td>1800</td><td>2006-07-03</td></tr><tr><th>3</th><td>2006-12-15</td><td>2000</td><td>2006-07-03</td></tr><tr><th>4</th><td>2006-12-15</td><td>2000</td><td>2006-07-03</td></tr><tr><th>5</th><td>2006-12-15</td><td>2200</td><td>2006-07-03</td></tr><tr><th>6</th><td>2006-12-15</td><td>2200</td><td>2006-07-03</td></tr><tr><th>7</th><td>2006-12-15</td><td>2400</td><td>2006-07-03</td></tr><tr><th>8</th><td>2006-12-15</td><td>2400</td><td>2006-07-03</td></tr><tr><th>9</th><td>2006-12-15</td><td>2600</td><td>2006-07-03</td></tr><tr><th>10</th><td>2006-12-15</td><td>2800</td><td>2006-07-03</td></tr><tr><th>11</th><td>2006-12-15</td><td>2800</td><td>2006-07-03</td></tr><tr><th>12</th><td>2006-12-15</td><td>3000</td><td>2006-07-03</td></tr><tr><th>13</th><td>2006-12-15</td><td>3000</td><td>2006-07-03</td></tr><tr><th>14</th><td>2006-12-15</td><td>3200</td><td>2006-07-03</td></tr><tr><th>15</th><td>2006-12-15</td><td>3200</td><td>2006-07-03</td></tr><tr><th>16</th><td>2006-12-15</td><td>3400</td><td>2006-07-03</td></tr><tr><th>17</th><td>2006-12-15</td><td>3400</td><td>2006-07-03</td></tr><tr><th>18</th><td>2006-12-15</td><td>3600</td><td>2006-07-03</td></tr><tr><th>19</th><td>2006-12-15</td><td>3600</td><td>2006-07-03</td></tr><tr><th>20</th><td>2006-12-15</td><td>3800</td><td>2006-07-03</td></tr><tr><th>21</th><td>2006-12-15</td><td>3800</td><td>2006-07-03</td></tr><tr><th>22</th><td>2006-12-15</td><td>3900</td><td>2006-07-03</td></tr><tr><th>23</th><td>2006-12-15</td><td>3900</td><td>2006-07-03</td></tr><tr><th>24</th><td>2006-12-15</td><td>3950</td><td>2006-07-03</td></tr><tr><th>25</th><td>2006-12-15</td><td>4000</td><td>2006-07-03</td></tr><tr><th>26</th><td>2006-12-15</td><td>4000</td><td>2006-07-03</td></tr><tr><th>27</th><td>2006-12-15</td><td>4050</td><td>2006-07-03</td></tr><tr><th>28</th><td>2006-12-15</td><td>4050</td><td>2006-07-03</td></tr><tr><th>29</th><td>2006-12-15</td><td>4100</td><td>2006-07-03</td></tr><tr><th>30</th><td>2006-12-15</td><td>4100</td><td>2006-07-03</td></tr><tr><th>&vellip;</th><td>&vellip;</td><td>&vellip;</td><td>&vellip;</td></tr></table>"
      ],
      "text/plain": [
       "12917x3 DataFrame\n",
       "| Row   | expDates   | strikes | firstListings |\n",
       "|-------|------------|---------|---------------|\n",
       "| 1     | 2006-12-15 | 1800    | 2006-07-03    |\n",
       "| 2     | 2006-12-15 | 1800    | 2006-07-03    |\n",
       "| 3     | 2006-12-15 | 2000    | 2006-07-03    |\n",
       "| 4     | 2006-12-15 | 2000    | 2006-07-03    |\n",
       "| 5     | 2006-12-15 | 2200    | 2006-07-03    |\n",
       "| 6     | 2006-12-15 | 2200    | 2006-07-03    |\n",
       "| 7     | 2006-12-15 | 2400    | 2006-07-03    |\n",
       "| 8     | 2006-12-15 | 2400    | 2006-07-03    |\n",
       "| 9     | 2006-12-15 | 2600    | 2006-07-03    |\n",
       "| 10    | 2006-12-15 | 2800    | 2006-07-03    |\n",
       "| 11    | 2006-12-15 | 2800    | 2006-07-03    |\n",
       "⋮\n",
       "| 12906 | 2014-02-21 | 9750    | 2013-12-27    |\n",
       "| 12907 | 2014-03-21 | 10250   | 2013-12-27    |\n",
       "| 12908 | 2014-03-21 | 10250   | 2013-12-27    |\n",
       "| 12909 | 2014-03-21 | 10750   | 2013-12-27    |\n",
       "| 12910 | 2014-03-21 | 3000    | 2013-12-27    |\n",
       "| 12911 | 2014-03-21 | 9950    | 2013-12-27    |\n",
       "| 12912 | 2014-01-17 | 10600   | 2013-12-27    |\n",
       "| 12913 | 2014-01-17 | 10700   | 2013-12-27    |\n",
       "| 12914 | 2014-09-19 | 9600    | 2013-12-30    |\n",
       "| 12915 | 2014-09-19 | 9950    | 2013-12-30    |\n",
       "| 12916 | 2014-01-17 | 9900    | 2013-12-30    |\n",
       "| 12917 | 2014-01-17 | 9950    | 2013-12-30    |"
      ]
     },
     "execution_count": 9,
     "metadata": {},
     "output_type": "execute_result"
    }
   ],
   "source": [
    "nPreAlloc = 20000\n",
    "expDates = Array(Date, nPreAlloc)\n",
    "strikes = Array(Int64, nPreAlloc)\n",
    "optTypes = Array(Bool, nPreAlloc)\n",
    "firstListings = Array(Date, nPreAlloc)\n",
    "\n",
    "nOptsFound = 0\n",
    "\n",
    "@time begin\n",
    "    for ii=1:nObs\n",
    "        currExpDate, currStrike = dat[ii, :Expiry], dat[ii, :Strike]\n",
    "        currDate, currType = dat[ii, :Date], dat[ii, :IsCall]\n",
    "        # does (expDate, strike, type) combination already occur?\n",
    "    \n",
    "        optPresent = false\n",
    "        for kk=nOptsFound:-1:1\n",
    "            if (expDates[kk] == currExpDate) && (strikes[kk] == currStrike) && (optTypes[kk] == currType)\n",
    "                # go to next observation\n",
    "                optPresent = true\n",
    "                break\n",
    "            end\n",
    "        end\n",
    "    \n",
    "        if !optPresent\n",
    "            nOptsFound = nOptsFound + 1\n",
    "            expDates[nOptsFound] = currExpDate\n",
    "            strikes[nOptsFound] = currStrike\n",
    "            optTypes[nOptsFound] = currType\n",
    "            firstListings[nOptsFound] = currDate\n",
    "        end\n",
    "    end\n",
    "end\n",
    "\n",
    "allOpts = DataFrame(expDates = expDates[1:nOptsFound], \n",
    "                    strikes = strikes[1:nOptsFound], \n",
    "                    firstListings = firstListings[1:nOptsFound])"
   ]
  },
  {
   "cell_type": "code",
   "execution_count": 8,
   "metadata": {
    "collapsed": false
   },
   "outputs": [
    {
     "data": {
      "text/plain": [
       "(12917,3)"
      ]
     },
     "execution_count": 8,
     "metadata": {},
     "output_type": "execute_result"
    }
   ],
   "source": [
    "size(allOpts)"
   ]
  },
  {
   "cell_type": "code",
   "execution_count": 31,
   "metadata": {
    "collapsed": false
   },
   "outputs": [
    {
     "data": {
      "text/plain": [
       "findlast (generic function with 1 method)"
      ]
     },
     "execution_count": 31,
     "metadata": {},
     "output_type": "execute_result"
    }
   ],
   "source": [
    "function findprev(A, start)\n",
    "    for i = start:-1:1\n",
    "        A[i] != 0 && return i\n",
    "    end\n",
    "    0\n",
    "end\n",
    "findlast(A) = findprev(A, length(A))"
   ]
  },
  {
   "cell_type": "code",
   "execution_count": 38,
   "metadata": {
    "collapsed": false
   },
   "outputs": [
    {
     "name": "stdout",
     "output_type": "stream",
     "text": [
      "elapsed time: 9.087e-6 seconds (80 bytes allocated)\n"
     ]
    },
    {
     "data": {
      "text/plain": [
       "0"
      ]
     },
     "execution_count": 38,
     "metadata": {},
     "output_type": "execute_result"
    }
   ],
   "source": [
    "startDay = allDays[550]\n",
    "endDay = allDays[1005]\n",
    "\n",
    "@time begin\n",
    "    startInd = findfirst(dat[:Date] == startDay)\n",
    "    endInd = findlast(dat[:Date] == endDay)\n",
    "end\n"
   ]
  },
  {
   "cell_type": "code",
   "execution_count": 40,
   "metadata": {
    "collapsed": false
   },
   "outputs": [
    {
     "data": {
      "text/plain": [
       "(12917,3)"
      ]
     },
     "execution_count": 40,
     "metadata": {},
     "output_type": "execute_result"
    }
   ],
   "source": [
    "size(uniqueOpts)"
   ]
  },
  {
   "cell_type": "code",
   "execution_count": 41,
   "metadata": {
    "collapsed": false
   },
   "outputs": [
    {
     "data": {
      "text/plain": [
       "1.1700000000000002"
      ]
     },
     "execution_count": 41,
     "metadata": {},
     "output_type": "execute_result"
    }
   ],
   "source": [
    "13000 * 0.00009"
   ]
  },
  {
   "cell_type": "markdown",
   "metadata": {},
   "source": [
    "## Bid ask prices"
   ]
  },
  {
   "cell_type": "markdown",
   "metadata": {},
   "source": [
    "Do bid-ask prices make sense, or are they observed too infrequently? Percentage of **missing bid-ask prices**:"
   ]
  },
  {
   "cell_type": "code",
   "execution_count": 6,
   "metadata": {
    "collapsed": false
   },
   "outputs": [
    {
     "data": {
      "text/plain": [
       "1x2 Array{Float64,2}:\n",
       " 0.789053  0.777314"
      ]
     },
     "execution_count": 6,
     "metadata": {},
     "output_type": "execute_result"
    }
   ],
   "source": [
    "[sum(isna(dat[:Bid]))/nObs sum(isna(dat[:Ask]))/nObs]"
   ]
  },
  {
   "cell_type": "markdown",
   "metadata": {},
   "source": [
    "##  Get smaller subset"
   ]
  },
  {
   "cell_type": "markdown",
   "metadata": {},
   "source": [
    "## Get list of options"
   ]
  },
  {
   "cell_type": "code",
   "execution_count": 51,
   "metadata": {
    "collapsed": false
   },
   "outputs": [
    {
     "data": {
      "text/plain": [
       "getAllOptions (generic function with 1 method)"
      ]
     },
     "execution_count": 51,
     "metadata": {},
     "output_type": "execute_result"
    }
   ],
   "source": [
    "function getAllOptions(dat1::DataFrame)\n",
    "    optsUnique = unique(dat1[:, [:Strike, :Expiry, :IsCall]])\n",
    "    nOpts = size(optsUnique, 1)\n",
    "    return Option[Option(optsUnique[ii, :]) for ii=1:nOpts]\n",
    "end"
   ]
  },
  {
   "cell_type": "code",
   "execution_count": 52,
   "metadata": {
    "collapsed": true
   },
   "outputs": [
    {
     "data": {
      "text/html": [
       "<p><strong>Call</strong> option:<ul><li>strike:&nbsp&nbsp&nbsp 1800</li><li>expiry:&nbsp&nbsp 2006-12-15</li></ul></p>"
      ],
      "text/plain": [
       "1405-element Array{Option,1}:\n",
       " Option(1800,2006-12-15,true) \n",
       " Option(1800,2006-12-15,false)\n",
       " Option(2000,2006-12-15,true) \n",
       " Option(2000,2006-12-15,false)\n",
       " Option(2200,2006-12-15,true) \n",
       " Option(2200,2006-12-15,false)\n",
       " Option(2400,2006-12-15,true) \n",
       " Option(2400,2006-12-15,false)\n",
       " Option(2600,2006-12-15,false)\n",
       " Option(2800,2006-12-15,true) \n",
       " Option(2800,2006-12-15,false)\n",
       " Option(3000,2006-12-15,true) \n",
       " Option(3000,2006-12-15,false)\n",
       " ⋮                            \n",
       " Option(7900,2009-12-18,true) \n",
       " Option(5250,2007-02-16,false)\n",
       " Option(5900,2007-02-16,true) \n",
       " Option(6850,2007-09-21,true) \n",
       " Option(7800,2008-12-19,false)\n",
       " Option(7900,2009-12-18,false)\n",
       " Option(4400,2010-12-17,false)\n",
       " Option(7200,2010-12-17,true) \n",
       " Option(6050,2007-02-16,true) \n",
       " Option(5100,2007-01-19,false)\n",
       " Option(5150,2007-01-19,false)\n",
       " Option(5600,2007-01-19,true) "
      ]
     },
     "execution_count": 52,
     "metadata": {},
     "output_type": "execute_result"
    }
   ],
   "source": [
    "allOpts = getAllOptions(dat1)"
   ]
  },
  {
   "cell_type": "markdown",
   "metadata": {},
   "source": [
    "Group options by common expiry date: get Timematr with DAX prices and option prices for all options of a given expiry date"
   ]
  },
  {
   "cell_type": "code",
   "execution_count": 60,
   "metadata": {
    "collapsed": false
   },
   "outputs": [
    {
     "data": {
      "text/plain": [
       "getOptionsWithExpiry (generic function with 1 method)"
      ]
     },
     "execution_count": 60,
     "metadata": {},
     "output_type": "execute_result"
    }
   ],
   "source": [
    "function getOptionsWithExpiry(optList::Array{Option, 1}, expiry::Date)\n",
    "    # find options with given expiry\n",
    "    nOpts = size(optList, 1)\n",
    "    isValid = falses(nOpts)\n",
    "    for ii=1:nOpts\n",
    "        if optList[ii].expiry == expiry\n",
    "            isVald[ii] = true\n",
    "        end\n",
    "    end\n",
    "    return opts = optList[isValid]\n",
    "end"
   ]
  },
  {
   "cell_type": "code",
   "execution_count": null,
   "metadata": {
    "collapsed": true
   },
   "outputs": [],
   "source": [
    "function getCohortPrices(dat::DataFrame, optList::Array{Option, 1}, expiry::Date)\n",
    "    validOpts = getOptionsWithExpiry(optList, expiry)\n",
    "    \n",
    "    \n",
    "    \n",
    "    \n",
    "    return Timematr() \n",
    "end"
   ]
  },
  {
   "cell_type": "markdown",
   "metadata": {},
   "source": [
    "Group all options that are listed at a given date (all strikes, all maturities)"
   ]
  }
 ],
 "metadata": {
  "kernelspec": {
   "display_name": "Julia",
   "name": "julia"
  },
  "language_info": {
   "name": "julia",
   "version": "0.3.5"
  }
 },
 "nbformat": 4,
 "nbformat_minor": 0
}
