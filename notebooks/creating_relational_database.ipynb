{
 "cells": [
  {
   "cell_type": "code",
   "execution_count": 1,
   "metadata": {
    "collapsed": true
   },
   "outputs": [],
   "source": [
    "using DataFrames\n",
    "using Dates"
   ]
  },
  {
   "cell_type": "markdown",
   "metadata": {},
   "source": [
    "#### Loading data"
   ]
  },
  {
   "cell_type": "markdown",
   "metadata": {},
   "source": [
    "- loading the data as exported by MATLAB"
   ]
  },
  {
   "cell_type": "code",
   "execution_count": 2,
   "metadata": {
    "collapsed": false
   },
   "outputs": [
    {
     "name": "stdout",
     "output_type": "stream",
     "text": [
      "elapsed time: 15.378337427 seconds (3959495156 bytes allocated, 26.75% gc time)\n"
     ]
    },
    {
     "data": {
      "text/html": [
       "<table class=\"data-frame\"><tr><th></th><th>Date</th><th>Option_Price</th><th>Bid</th><th>Ask</th><th>Volume</th><th>Open_Interest</th><th>Strike</th><th>Expiry</th><th>DAX</th><th>EONIA_matched</th><th>Time_to_Maturity</th><th>IsCall</th></tr><tr><th>1</th><td>2006-07-03</td><td>3931.1</td><td>NA</td><td>NA</td><td>1</td><td>104</td><td>1800</td><td>2006-12-15</td><td>5712.69</td><td>0.031667592146348</td><td>0.466666666666667</td><td>1</td></tr><tr><th>2</th><td>2006-07-03</td><td>0.1</td><td>NA</td><td>NA</td><td>0</td><td>5515</td><td>1800</td><td>2006-12-15</td><td>5712.69</td><td>0.0316675921463482</td><td>0.466666666666667</td><td>0</td></tr><tr><th>3</th><td>2006-07-03</td><td>3734.0</td><td>NA</td><td>NA</td><td>0</td><td>2152</td><td>2000</td><td>2006-12-15</td><td>5712.69</td><td>0.0316675921463482</td><td>0.466666666666667</td><td>1</td></tr><tr><th>4</th><td>2006-07-03</td><td>0.1</td><td>NA</td><td>NA</td><td>0</td><td>20941</td><td>2000</td><td>2006-12-15</td><td>5712.69</td><td>0.0316675921463482</td><td>0.466666666666667</td><td>0</td></tr><tr><th>5</th><td>2006-07-03</td><td>3536.9</td><td>NA</td><td>NA</td><td>0</td><td>2</td><td>2200</td><td>2006-12-15</td><td>5712.69</td><td>0.0316675921463482</td><td>0.466666666666667</td><td>1</td></tr><tr><th>6</th><td>2006-07-03</td><td>0.1</td><td>NA</td><td>NA</td><td>0</td><td>4626</td><td>2200</td><td>2006-12-15</td><td>5712.69</td><td>0.0316675921463482</td><td>0.466666666666667</td><td>0</td></tr></table>"
      ],
      "text/plain": [
       "6x12 DataFrame\n",
       "| Row | Date         | Option_Price | Bid | Ask | Volume | Open_Interest |\n",
       "|-----|--------------|--------------|-----|-----|--------|---------------|\n",
       "| 1   | \"2006-07-03\" | 3931.1       | NA  | NA  | 1      | 104           |\n",
       "| 2   | \"2006-07-03\" | 0.1          | NA  | NA  | 0      | 5515          |\n",
       "| 3   | \"2006-07-03\" | 3734.0       | NA  | NA  | 0      | 2152          |\n",
       "| 4   | \"2006-07-03\" | 0.1          | NA  | NA  | 0      | 20941         |\n",
       "| 5   | \"2006-07-03\" | 3536.9       | NA  | NA  | 0      | 2             |\n",
       "| 6   | \"2006-07-03\" | 0.1          | NA  | NA  | 0      | 4626          |\n",
       "\n",
       "| Row | Strike | Expiry       | DAX     | EONIA_matched | Time_to_Maturity |\n",
       "|-----|--------|--------------|---------|---------------|------------------|\n",
       "| 1   | 1800   | \"2006-12-15\" | 5712.69 | 0.0316676     | 0.466667         |\n",
       "| 2   | 1800   | \"2006-12-15\" | 5712.69 | 0.0316676     | 0.466667         |\n",
       "| 3   | 2000   | \"2006-12-15\" | 5712.69 | 0.0316676     | 0.466667         |\n",
       "| 4   | 2000   | \"2006-12-15\" | 5712.69 | 0.0316676     | 0.466667         |\n",
       "| 5   | 2200   | \"2006-12-15\" | 5712.69 | 0.0316676     | 0.466667         |\n",
       "| 6   | 2200   | \"2006-12-15\" | 5712.69 | 0.0316676     | 0.466667         |\n",
       "\n",
       "| Row | IsCall |\n",
       "|-----|--------|\n",
       "| 1   | 1      |\n",
       "| 2   | 0      |\n",
       "| 3   | 1      |\n",
       "| 4   | 0      |\n",
       "| 5   | 1      |\n",
       "| 6   | 0      |"
      ]
     },
     "execution_count": 2,
     "metadata": {},
     "output_type": "execute_result"
    }
   ],
   "source": [
    "@time dat = readtable(\"../data/input_data/dat.txt\", separator = '\\t', nastrings = [\"NaN\"])\n",
    "\n",
    "head(dat)"
   ]
  },
  {
   "cell_type": "markdown",
   "metadata": {},
   "source": [
    "- some element types are not perfect yet:"
   ]
  },
  {
   "cell_type": "code",
   "execution_count": 3,
   "metadata": {
    "collapsed": false
   },
   "outputs": [
    {
     "data": {
      "text/plain": [
       "12-element Array{Type{T<:Top},1}:\n",
       " UTF8String\n",
       " Float64   \n",
       " Float64   \n",
       " Float64   \n",
       " Int64     \n",
       " Int64     \n",
       " Int64     \n",
       " UTF8String\n",
       " Float64   \n",
       " Float64   \n",
       " Float64   \n",
       " Int64     "
      ]
     },
     "execution_count": 3,
     "metadata": {},
     "output_type": "execute_result"
    }
   ],
   "source": [
    "eltypes(dat)"
   ]
  },
  {
   "cell_type": "markdown",
   "metadata": {},
   "source": [
    "- transform dates to `Date` type, `IsCall` to `Bool`:"
   ]
  },
  {
   "cell_type": "code",
   "execution_count": 4,
   "metadata": {
    "collapsed": false
   },
   "outputs": [
    {
     "name": "stdout",
     "output_type": "stream",
     "text": [
      "elapsed time: 88.838943767 seconds (10922092392 bytes allocated, 59.99% gc time)\n"
     ]
    },
    {
     "data": {
      "text/html": [
       "<table class=\"data-frame\"><tr><th></th><th>Date</th><th>Option_Price</th><th>Bid</th><th>Ask</th><th>Volume</th><th>Open_Interest</th><th>Strike</th><th>Expiry</th><th>DAX</th><th>EONIA_matched</th><th>Time_to_Maturity</th><th>IsCall</th></tr><tr><th>1</th><td>2006-07-03</td><td>3931.1</td><td>NA</td><td>NA</td><td>1</td><td>104</td><td>1800</td><td>2006-12-15</td><td>5712.69</td><td>0.031667592146348</td><td>0.466666666666667</td><td>true</td></tr><tr><th>2</th><td>2006-07-03</td><td>0.1</td><td>NA</td><td>NA</td><td>0</td><td>5515</td><td>1800</td><td>2006-12-15</td><td>5712.69</td><td>0.0316675921463482</td><td>0.466666666666667</td><td>false</td></tr><tr><th>3</th><td>2006-07-03</td><td>3734.0</td><td>NA</td><td>NA</td><td>0</td><td>2152</td><td>2000</td><td>2006-12-15</td><td>5712.69</td><td>0.0316675921463482</td><td>0.466666666666667</td><td>true</td></tr><tr><th>4</th><td>2006-07-03</td><td>0.1</td><td>NA</td><td>NA</td><td>0</td><td>20941</td><td>2000</td><td>2006-12-15</td><td>5712.69</td><td>0.0316675921463482</td><td>0.466666666666667</td><td>false</td></tr><tr><th>5</th><td>2006-07-03</td><td>3536.9</td><td>NA</td><td>NA</td><td>0</td><td>2</td><td>2200</td><td>2006-12-15</td><td>5712.69</td><td>0.0316675921463482</td><td>0.466666666666667</td><td>true</td></tr><tr><th>6</th><td>2006-07-03</td><td>0.1</td><td>NA</td><td>NA</td><td>0</td><td>4626</td><td>2200</td><td>2006-12-15</td><td>5712.69</td><td>0.0316675921463482</td><td>0.466666666666667</td><td>false</td></tr></table>"
      ],
      "text/plain": [
       "6x12 DataFrame\n",
       "| Row | Date       | Option_Price | Bid | Ask | Volume | Open_Interest |\n",
       "|-----|------------|--------------|-----|-----|--------|---------------|\n",
       "| 1   | 2006-07-03 | 3931.1       | NA  | NA  | 1      | 104           |\n",
       "| 2   | 2006-07-03 | 0.1          | NA  | NA  | 0      | 5515          |\n",
       "| 3   | 2006-07-03 | 3734.0       | NA  | NA  | 0      | 2152          |\n",
       "| 4   | 2006-07-03 | 0.1          | NA  | NA  | 0      | 20941         |\n",
       "| 5   | 2006-07-03 | 3536.9       | NA  | NA  | 0      | 2             |\n",
       "| 6   | 2006-07-03 | 0.1          | NA  | NA  | 0      | 4626          |\n",
       "\n",
       "| Row | Strike | Expiry     | DAX     | EONIA_matched | Time_to_Maturity |\n",
       "|-----|--------|------------|---------|---------------|------------------|\n",
       "| 1   | 1800   | 2006-12-15 | 5712.69 | 0.0316676     | 0.466667         |\n",
       "| 2   | 1800   | 2006-12-15 | 5712.69 | 0.0316676     | 0.466667         |\n",
       "| 3   | 2000   | 2006-12-15 | 5712.69 | 0.0316676     | 0.466667         |\n",
       "| 4   | 2000   | 2006-12-15 | 5712.69 | 0.0316676     | 0.466667         |\n",
       "| 5   | 2200   | 2006-12-15 | 5712.69 | 0.0316676     | 0.466667         |\n",
       "| 6   | 2200   | 2006-12-15 | 5712.69 | 0.0316676     | 0.466667         |\n",
       "\n",
       "| Row | IsCall |\n",
       "|-----|--------|\n",
       "| 1   | true   |\n",
       "| 2   | false  |\n",
       "| 3   | true   |\n",
       "| 4   | false  |\n",
       "| 5   | true   |\n",
       "| 6   | false  |"
      ]
     },
     "execution_count": 4,
     "metadata": {},
     "output_type": "execute_result"
    }
   ],
   "source": [
    "@time begin\n",
    "    dat[:Date] = Date(array(dat[:, 1]));\n",
    "    dat[:Expiry] = Date(array(dat[:, :Expiry]));\n",
    "    dat[:IsCall] = bool(array(dat[:, :IsCall]));\n",
    "end\n",
    "\n",
    "head(dat)"
   ]
  },
  {
   "cell_type": "markdown",
   "metadata": {},
   "source": [
    "#### Option IDs"
   ]
  },
  {
   "cell_type": "markdown",
   "metadata": {},
   "source": [
    "- create IDs for individual options: searching a single option determined through three separate columns is too costly"
   ]
  },
  {
   "cell_type": "code",
   "execution_count": 5,
   "metadata": {
    "collapsed": false
   },
   "outputs": [
    {
     "data": {
      "text/plain": [
       "optParamsToString (generic function with 1 method)"
      ]
     },
     "execution_count": 5,
     "metadata": {},
     "output_type": "execute_result"
    }
   ],
   "source": [
    "function optParamsToString(expi::Date, stri::Int, isc::Bool)\n",
    "    y, m, d = yearmonthday(expi)\n",
    "    dateStr = string(y, lpad(m, 2, \"0\"), lpad(d, 2, \"0\"))\n",
    "    \n",
    "    if isc\n",
    "        return string(\"c_\", dateStr, \"_\", stri)\n",
    "    else\n",
    "        return string(\"p_\", dateStr, \"_\", stri)\n",
    "    end\n",
    "end"
   ]
  },
  {
   "cell_type": "code",
   "execution_count": 6,
   "metadata": {
    "collapsed": false
   },
   "outputs": [
    {
     "name": "stdout",
     "output_type": "stream",
     "text": [
      "elapsed time: 11.969897848 seconds (2390821024 bytes allocated, 57.61% gc time)\n"
     ]
    },
    {
     "data": {
      "text/plain": [
       "4-element Array{String,1}:\n",
       " \"c_20061215_1800\"\n",
       " \"p_20061215_1800\"\n",
       " \"c_20061215_2000\"\n",
       " \"p_20061215_2000\""
      ]
     },
     "execution_count": 6,
     "metadata": {},
     "output_type": "execute_result"
    }
   ],
   "source": [
    "nObs = size(dat, 1)\n",
    "optIDs = Array(String, nObs)\n",
    "\n",
    "@time begin\n",
    "    for ii=1:nObs\n",
    "        optIDs[ii] = optParamsToString(dat[ii, :Expiry], dat[ii, :Strike], dat[ii, :IsCall]) \n",
    "    end\n",
    "end\n",
    "\n",
    "optIDs[1:4]"
   ]
  },
  {
   "cell_type": "markdown",
   "metadata": {},
   "source": [
    "#### Create data table with option IDs and option parameters"
   ]
  },
  {
   "cell_type": "markdown",
   "metadata": {},
   "source": [
    "- create a table that contains for each option `ID` its option parameters: expiry, strike, type"
   ]
  },
  {
   "cell_type": "code",
   "execution_count": 7,
   "metadata": {
    "collapsed": false
   },
   "outputs": [
    {
     "data": {
      "text/plain": [
       "12917"
      ]
     },
     "execution_count": 7,
     "metadata": {},
     "output_type": "execute_result"
    }
   ],
   "source": [
    "uniqueOpts = unique(optIDs)\n",
    "\n",
    "nOpts = size(uniqueOpts, 1)"
   ]
  },
  {
   "cell_type": "markdown",
   "metadata": {},
   "source": [
    "- define function that decomposes option ID into its parameters:"
   ]
  },
  {
   "cell_type": "code",
   "execution_count": 8,
   "metadata": {
    "collapsed": false
   },
   "outputs": [
    {
     "data": {
      "text/plain": [
       "decodeOptID (generic function with 1 method)"
      ]
     },
     "execution_count": 8,
     "metadata": {},
     "output_type": "execute_result"
    }
   ],
   "source": [
    "function decodeOptID(id::String)\n",
    "    opt = id\n",
    "    x1, x2, x3 = split(opt, \"_\")\n",
    "    if x1 == \"c\"\n",
    "        isCall = true\n",
    "    else\n",
    "        isCall = false\n",
    "    end\n",
    "    expi = Date(x2, \"yyyymmdd\")\n",
    "    stri = int(x3)\n",
    "\n",
    "    return (expi, stri, isCall)\n",
    "end"
   ]
  },
  {
   "cell_type": "markdown",
   "metadata": {},
   "source": [
    "- decode each option ID"
   ]
  },
  {
   "cell_type": "code",
   "execution_count": 9,
   "metadata": {
    "collapsed": false
   },
   "outputs": [
    {
     "name": "stdout",
     "output_type": "stream",
     "text": [
      "elapsed time: 1.2064926 seconds (137424592 bytes allocated, 58.20% gc time)\n"
     ]
    },
    {
     "data": {
      "text/html": [
       "<table class=\"data-frame\"><tr><th></th><th>ID</th><th>Expiry</th><th>Strike</th><th>IsCall</th></tr><tr><th>1</th><td>c_20061215_1800</td><td>2006-12-15</td><td>1800</td><td>true</td></tr><tr><th>2</th><td>p_20061215_1800</td><td>2006-12-15</td><td>1800</td><td>false</td></tr><tr><th>3</th><td>c_20061215_2000</td><td>2006-12-15</td><td>2000</td><td>true</td></tr><tr><th>4</th><td>p_20061215_2000</td><td>2006-12-15</td><td>2000</td><td>false</td></tr><tr><th>5</th><td>c_20061215_2200</td><td>2006-12-15</td><td>2200</td><td>true</td></tr><tr><th>6</th><td>p_20061215_2200</td><td>2006-12-15</td><td>2200</td><td>false</td></tr></table>"
      ],
      "text/plain": [
       "6x4 DataFrame\n",
       "| Row | ID                | Expiry     | Strike | IsCall |\n",
       "|-----|-------------------|------------|--------|--------|\n",
       "| 1   | \"c_20061215_1800\" | 2006-12-15 | 1800   | true   |\n",
       "| 2   | \"p_20061215_1800\" | 2006-12-15 | 1800   | false  |\n",
       "| 3   | \"c_20061215_2000\" | 2006-12-15 | 2000   | true   |\n",
       "| 4   | \"p_20061215_2000\" | 2006-12-15 | 2000   | false  |\n",
       "| 5   | \"c_20061215_2200\" | 2006-12-15 | 2200   | true   |\n",
       "| 6   | \"p_20061215_2200\" | 2006-12-15 | 2200   | false  |"
      ]
     },
     "execution_count": 9,
     "metadata": {},
     "output_type": "execute_result"
    }
   ],
   "source": [
    "@time begin\n",
    "    expis = Array(Date, nOpts)\n",
    "    stris = Array(Int, nOpts)\n",
    "    iscs = Array(Bool, nOpts)\n",
    "    for ii=1:nOpts\n",
    "        x1, x2, x3 = decodeOptID(uniqueOpts[ii])\n",
    "        expis[ii] = x1\n",
    "        stris[ii] = x2\n",
    "        iscs[ii] = x3\n",
    "    end\n",
    "end\n",
    "\n",
    "opts = DataFrame(ID = uniqueOpts, Expiry = expis, Strike = stris, IsCall = iscs)\n",
    "\n",
    "head(opts)"
   ]
  },
  {
   "cell_type": "markdown",
   "metadata": {},
   "source": [
    "#### Create data table for underlying"
   ]
  },
  {
   "cell_type": "markdown",
   "metadata": {},
   "source": [
    "- get **underlying**: get value for each day"
   ]
  },
  {
   "cell_type": "code",
   "execution_count": 10,
   "metadata": {
    "collapsed": false
   },
   "outputs": [
    {
     "name": "stdout",
     "output_type": "stream",
     "text": [
      "elapsed time: 1.604510392 seconds (188643360 bytes allocated, 57.81% gc time)\n"
     ]
    },
    {
     "data": {
      "text/plain": [
       "1908"
      ]
     },
     "execution_count": 10,
     "metadata": {},
     "output_type": "execute_result"
    }
   ],
   "source": [
    "function getAllDAXobs(df::DataFrame)\n",
    "    vals1, vals2 = Date[], Float64[]\n",
    "    valsSet = Set{Int}()\n",
    "    nObs = size(df, 1)\n",
    "    for ii=1:nObs\n",
    "        currDat, currVal = df[ii, :Date], df[ii, :DAX]\n",
    "        currKey = Dates.value(currDat)\n",
    "        if !in(currKey, valsSet)\n",
    "            push!(valsSet, currKey)\n",
    "            push!(vals1, currDat)\n",
    "            push!(vals2, currVal)\n",
    "        end\n",
    "    end\n",
    "    return DataFrame(Date = vals1, DAX = vals2)\n",
    "end\n",
    "\n",
    "@time daxVals = getAllDAXobs(dat[[:Date, :DAX]])\n",
    "size(daxVals, 1)"
   ]
  },
  {
   "cell_type": "markdown",
   "metadata": {},
   "source": [
    "#### Create data table for cohort / date"
   ]
  },
  {
   "cell_type": "code",
   "execution_count": 11,
   "metadata": {
    "collapsed": false
   },
   "outputs": [
    {
     "name": "stdout",
     "output_type": "stream",
     "text": [
      "elapsed time: 4.986424601 seconds (727240500 bytes allocated, 71.37% gc time)\n"
     ]
    },
    {
     "data": {
      "text/plain": [
       "21053"
      ]
     },
     "execution_count": 11,
     "metadata": {},
     "output_type": "execute_result"
    }
   ],
   "source": [
    "function getAllCohortParams(df::DataFrame)\n",
    "    vals1, vals2, vals3, vals4 = Date[], Date[], Float64[], Float64[]\n",
    "    valsSet = Set{Array{Int, 1}}()\n",
    "    nObs = size(df, 1)\n",
    "    for ii=1:nObs\n",
    "        currDat, currExp = df[ii, :Date], df[ii, :Expiry]\n",
    "        currEON, currTTM = df[ii, :EONIA_matched], df[ii, :Time_to_Maturity]\n",
    "        currKeys = Int[Dates.value(currDat), Dates.value(currExp)]\n",
    "        if !in(currKeys, valsSet)\n",
    "            push!(valsSet, currKeys)\n",
    "            push!(vals1, currDat)\n",
    "            push!(vals2, currExp)\n",
    "            push!(vals3, currEON)\n",
    "            push!(vals4, currTTM)\n",
    "        end\n",
    "    end\n",
    "    return DataFrame(Date = vals1, Expiry = vals2, EONIA_matched = vals3, Time_to_Maturity = vals4)\n",
    "end\n",
    "\n",
    "@time cohortParams = getAllCohortParams(dat[[:Date, :Expiry, :EONIA_matched, :Time_to_Maturity]])\n",
    "size(cohortParams, 1)"
   ]
  },
  {
   "cell_type": "code",
   "execution_count": 12,
   "metadata": {
    "collapsed": false
   },
   "outputs": [
    {
     "data": {
      "text/html": [
       "<table class=\"data-frame\"><tr><th></th><th>Date</th><th>Expiry</th><th>EONIA_matched</th><th>Time_to_Maturity</th></tr><tr><th>1</th><td>2006-07-03</td><td>2006-12-15</td><td>0.031667592146348</td><td>0.466666666666667</td></tr><tr><th>2</th><td>2006-07-03</td><td>2006-09-15</td><td>0.0297573099811956</td><td>0.211764705882353</td></tr><tr><th>3</th><td>2006-07-03</td><td>2006-08-18</td><td>0.02903277602483</td><td>0.133333333333333</td></tr><tr><th>4</th><td>2006-07-03</td><td>2006-07-21</td><td>0.0283102283088403</td><td>0.0549019607843137</td></tr><tr><th>5</th><td>2006-07-03</td><td>2007-06-15</td><td>0.0342512630396996</td><td>0.949019607843137</td></tr><tr><th>6</th><td>2006-07-03</td><td>2007-03-16</td><td>0.0330875802131789</td><td>0.709803921568627</td></tr></table>"
      ],
      "text/plain": [
       "6x4 DataFrame\n",
       "| Row | Date       | Expiry     | EONIA_matched | Time_to_Maturity |\n",
       "|-----|------------|------------|---------------|------------------|\n",
       "| 1   | 2006-07-03 | 2006-12-15 | 0.0316676     | 0.466667         |\n",
       "| 2   | 2006-07-03 | 2006-09-15 | 0.0297573     | 0.211765         |\n",
       "| 3   | 2006-07-03 | 2006-08-18 | 0.0290328     | 0.133333         |\n",
       "| 4   | 2006-07-03 | 2006-07-21 | 0.0283102     | 0.054902         |\n",
       "| 5   | 2006-07-03 | 2007-06-15 | 0.0342513     | 0.94902          |\n",
       "| 6   | 2006-07-03 | 2007-03-16 | 0.0330876     | 0.709804         |"
      ]
     },
     "execution_count": 12,
     "metadata": {},
     "output_type": "execute_result"
    }
   ],
   "source": [
    "head(cohortParams)"
   ]
  },
  {
   "cell_type": "markdown",
   "metadata": {},
   "source": [
    "#### Create data table for option prices"
   ]
  },
  {
   "cell_type": "code",
   "execution_count": 13,
   "metadata": {
    "collapsed": false
   },
   "outputs": [
    {
     "data": {
      "text/html": [
       "<table class=\"data-frame\"><tr><th></th><th>Date</th><th>ID</th><th>Price</th></tr><tr><th>1</th><td>2006-07-03</td><td>c_20061215_1800</td><td>3931.1</td></tr><tr><th>2</th><td>2006-07-03</td><td>p_20061215_1800</td><td>0.1</td></tr><tr><th>3</th><td>2006-07-03</td><td>c_20061215_2000</td><td>3734.0</td></tr><tr><th>4</th><td>2006-07-03</td><td>p_20061215_2000</td><td>0.1</td></tr><tr><th>5</th><td>2006-07-03</td><td>c_20061215_2200</td><td>3536.9</td></tr><tr><th>6</th><td>2006-07-03</td><td>p_20061215_2200</td><td>0.1</td></tr></table>"
      ],
      "text/plain": [
       "6x3 DataFrame\n",
       "| Row | Date       | ID                | Price  |\n",
       "|-----|------------|-------------------|--------|\n",
       "| 1   | 2006-07-03 | \"c_20061215_1800\" | 3931.1 |\n",
       "| 2   | 2006-07-03 | \"p_20061215_1800\" | 0.1    |\n",
       "| 3   | 2006-07-03 | \"c_20061215_2000\" | 3734.0 |\n",
       "| 4   | 2006-07-03 | \"p_20061215_2000\" | 0.1    |\n",
       "| 5   | 2006-07-03 | \"c_20061215_2200\" | 3536.9 |\n",
       "| 6   | 2006-07-03 | \"p_20061215_2200\" | 0.1    |"
      ]
     },
     "execution_count": 13,
     "metadata": {},
     "output_type": "execute_result"
    }
   ],
   "source": [
    "optPrices = DataFrame(Date = dat[:Date], ID = optIDs, Price = dat[:Option_Price])\n",
    "\n",
    "head(optPrices)"
   ]
  },
  {
   "cell_type": "markdown",
   "metadata": {},
   "source": [
    "#### Create data table with all observations"
   ]
  },
  {
   "cell_type": "code",
   "execution_count": 16,
   "metadata": {
    "collapsed": false
   },
   "outputs": [
    {
     "data": {
      "text/html": [
       "<table class=\"data-frame\"><tr><th></th><th>Date</th><th>ID</th><th>Bid</th><th>Ask</th><th>Volume</th><th>Open_Interest</th></tr><tr><th>1</th><td>2006-07-03</td><td>c_20061215_1800</td><td>NA</td><td>NA</td><td>1</td><td>104</td></tr><tr><th>2</th><td>2006-07-03</td><td>p_20061215_1800</td><td>NA</td><td>NA</td><td>0</td><td>5515</td></tr><tr><th>3</th><td>2006-07-03</td><td>c_20061215_2000</td><td>NA</td><td>NA</td><td>0</td><td>2152</td></tr><tr><th>4</th><td>2006-07-03</td><td>p_20061215_2000</td><td>NA</td><td>NA</td><td>0</td><td>20941</td></tr><tr><th>5</th><td>2006-07-03</td><td>c_20061215_2200</td><td>NA</td><td>NA</td><td>0</td><td>2</td></tr><tr><th>6</th><td>2006-07-03</td><td>p_20061215_2200</td><td>NA</td><td>NA</td><td>0</td><td>4626</td></tr></table>"
      ],
      "text/plain": [
       "6x6 DataFrame\n",
       "| Row | Date       | ID                | Bid | Ask | Volume | Open_Interest |\n",
       "|-----|------------|-------------------|-----|-----|--------|---------------|\n",
       "| 1   | 2006-07-03 | \"c_20061215_1800\" | NA  | NA  | 1      | 104           |\n",
       "| 2   | 2006-07-03 | \"p_20061215_1800\" | NA  | NA  | 0      | 5515          |\n",
       "| 3   | 2006-07-03 | \"c_20061215_2000\" | NA  | NA  | 0      | 2152          |\n",
       "| 4   | 2006-07-03 | \"p_20061215_2000\" | NA  | NA  | 0      | 20941         |\n",
       "| 5   | 2006-07-03 | \"c_20061215_2200\" | NA  | NA  | 0      | 2             |\n",
       "| 6   | 2006-07-03 | \"p_20061215_2200\" | NA  | NA  | 0      | 4626          |"
      ]
     },
     "execution_count": 16,
     "metadata": {},
     "output_type": "execute_result"
    }
   ],
   "source": [
    "keys = DataFrame(Date = dat[:Date], ID = optIDs)\n",
    "obsData = dat[[:Bid, :Ask, :Volume, :Open_Interest]]\n",
    "addObs = [keys obsData]\n",
    "\n",
    "head(addObs)"
   ]
  },
  {
   "cell_type": "markdown",
   "metadata": {},
   "source": [
    "#### Write relational database to disk"
   ]
  },
  {
   "cell_type": "code",
   "execution_count": 17,
   "metadata": {
    "collapsed": false
   },
   "outputs": [],
   "source": [
    "writetable(\"../data/rel_data/opts.csv\", opts)\n",
    "writetable(\"../data/rel_data/daxVals.csv\", daxVals)\n",
    "writetable(\"../data/rel_data/cohortParams.csv\", cohortParams)\n",
    "writetable(\"../data/rel_data/optPrices.csv\", optPrices)\n",
    "writetable(\"../data/rel_data/addObs.csv\", addObs)"
   ]
  },
  {
   "cell_type": "markdown",
   "metadata": {},
   "source": [
    "#### Example usage"
   ]
  },
  {
   "cell_type": "markdown",
   "metadata": {},
   "source": [
    "- get options with given expiry"
   ]
  },
  {
   "cell_type": "code",
   "execution_count": 11,
   "metadata": {
    "collapsed": false
   },
   "outputs": [
    {
     "data": {
      "text/html": [
       "<table class=\"data-frame\"><tr><th></th><th>Date</th><th>ID</th><th>Price</th><th>Bid</th><th>Ask</th><th>Volume</th><th>Open_Interest</th><th>EONIA_matched</th><th>Time_to_Maturity</th><th>DAX</th></tr><tr><th>1</th><td>2006-07-03</td><td>c_20061215_1800</td><td>3931.1</td><td>NA</td><td>NA</td><td>1</td><td>104</td><td>0.031667592146348</td><td>0.466666666666667</td><td>5712.69</td></tr><tr><th>2</th><td>2006-07-03</td><td>p_20061215_1800</td><td>0.1</td><td>NA</td><td>NA</td><td>0</td><td>5515</td><td>0.0316675921463482</td><td>0.466666666666667</td><td>5712.69</td></tr><tr><th>3</th><td>2006-07-03</td><td>c_20061215_2000</td><td>3734.0</td><td>NA</td><td>NA</td><td>0</td><td>2152</td><td>0.0316675921463482</td><td>0.466666666666667</td><td>5712.69</td></tr><tr><th>4</th><td>2006-07-03</td><td>p_20061215_2000</td><td>0.1</td><td>NA</td><td>NA</td><td>0</td><td>20941</td><td>0.0316675921463482</td><td>0.466666666666667</td><td>5712.69</td></tr><tr><th>5</th><td>2006-07-03</td><td>c_20061215_2200</td><td>3536.9</td><td>NA</td><td>NA</td><td>0</td><td>2</td><td>0.0316675921463482</td><td>0.466666666666667</td><td>5712.69</td></tr><tr><th>6</th><td>2006-07-03</td><td>p_20061215_2200</td><td>0.1</td><td>NA</td><td>NA</td><td>0</td><td>4626</td><td>0.0316675921463482</td><td>0.466666666666667</td><td>5712.69</td></tr><tr><th>7</th><td>2006-07-03</td><td>c_20061215_2400</td><td>3339.8</td><td>NA</td><td>NA</td><td>0</td><td>2009</td><td>0.0316675921463482</td><td>0.466666666666667</td><td>5712.69</td></tr><tr><th>8</th><td>2006-07-03</td><td>p_20061215_2400</td><td>0.1</td><td>NA</td><td>NA</td><td>0</td><td>13367</td><td>0.0316675921463482</td><td>0.466666666666667</td><td>5712.69</td></tr><tr><th>9</th><td>2006-07-03</td><td>p_20061215_2600</td><td>0.2</td><td>NA</td><td>NA</td><td>0</td><td>2297</td><td>0.0316675921463482</td><td>0.466666666666667</td><td>5712.69</td></tr><tr><th>10</th><td>2006-07-03</td><td>c_20061215_2800</td><td>2945.9</td><td>NA</td><td>NA</td><td>0</td><td>624</td><td>0.0316675921463482</td><td>0.466666666666667</td><td>5712.69</td></tr><tr><th>11</th><td>2006-07-03</td><td>p_20061215_2800</td><td>0.5</td><td>NA</td><td>NA</td><td>0</td><td>6213</td><td>0.0316675921463482</td><td>0.466666666666667</td><td>5712.69</td></tr><tr><th>12</th><td>2006-07-03</td><td>c_20061215_3000</td><td>2749.2</td><td>NA</td><td>NA</td><td>0</td><td>5808</td><td>0.0316675921463482</td><td>0.466666666666667</td><td>5712.69</td></tr><tr><th>13</th><td>2006-07-03</td><td>p_20061215_3000</td><td>0.9</td><td>NA</td><td>NA</td><td>10</td><td>16589</td><td>0.0316675921463482</td><td>0.466666666666667</td><td>5712.69</td></tr><tr><th>14</th><td>2006-07-03</td><td>c_20061215_3200</td><td>2552.7</td><td>NA</td><td>NA</td><td>0</td><td>3763</td><td>0.0316675921463482</td><td>0.466666666666667</td><td>5712.69</td></tr><tr><th>15</th><td>2006-07-03</td><td>p_20061215_3200</td><td>1.5</td><td>NA</td><td>NA</td><td>0</td><td>29118</td><td>0.0316675921463482</td><td>0.466666666666667</td><td>5712.69</td></tr><tr><th>16</th><td>2006-07-03</td><td>c_20061215_3400</td><td>2356.7</td><td>NA</td><td>NA</td><td>0</td><td>2913</td><td>0.0316675921463482</td><td>0.466666666666667</td><td>5712.69</td></tr><tr><th>17</th><td>2006-07-03</td><td>p_20061215_3400</td><td>2.6</td><td>NA</td><td>NA</td><td>0</td><td>31559</td><td>0.0316675921463482</td><td>0.466666666666667</td><td>5712.69</td></tr><tr><th>18</th><td>2006-07-03</td><td>c_20061215_3600</td><td>2161.2</td><td>NA</td><td>NA</td><td>0</td><td>8107</td><td>0.0316675921463482</td><td>0.466666666666667</td><td>5712.69</td></tr><tr><th>19</th><td>2006-07-03</td><td>p_20061215_3600</td><td>4.2</td><td>NA</td><td>NA</td><td>0</td><td>28976</td><td>0.0316675921463482</td><td>0.466666666666667</td><td>5712.69</td></tr><tr><th>20</th><td>2006-07-03</td><td>c_20061215_3800</td><td>1966.6</td><td>NA</td><td>NA</td><td>0</td><td>8817</td><td>0.0316675921463482</td><td>0.466666666666667</td><td>5712.69</td></tr><tr><th>21</th><td>2006-07-03</td><td>p_20061215_3800</td><td>6.8</td><td>NA</td><td>NA</td><td>0</td><td>45495</td><td>0.0316675921463482</td><td>0.466666666666667</td><td>5712.69</td></tr><tr><th>22</th><td>2006-07-03</td><td>c_20061215_3900</td><td>1869.7</td><td>NA</td><td>NA</td><td>0</td><td>200</td><td>0.0316675921463482</td><td>0.466666666666667</td><td>5712.69</td></tr><tr><th>23</th><td>2006-07-03</td><td>p_20061215_3900</td><td>8.4</td><td>NA</td><td>NA</td><td>0</td><td>5155</td><td>0.0316675921463482</td><td>0.466666666666667</td><td>5712.69</td></tr><tr><th>24</th><td>2006-07-03</td><td>p_20061215_3950</td><td>9.4</td><td>NA</td><td>NA</td><td>0</td><td>2244</td><td>0.0316675921463482</td><td>0.466666666666667</td><td>5712.69</td></tr><tr><th>25</th><td>2006-07-03</td><td>c_20061215_4000</td><td>1773.2</td><td>NA</td><td>NA</td><td>0</td><td>30542</td><td>0.0316675921463482</td><td>0.466666666666667</td><td>5712.69</td></tr><tr><th>26</th><td>2006-07-03</td><td>p_20061215_4000</td><td>10.5</td><td>NA</td><td>NA</td><td>100</td><td>63073</td><td>0.0316675921463482</td><td>0.466666666666667</td><td>5712.69</td></tr><tr><th>27</th><td>2006-07-03</td><td>c_20061215_4050</td><td>1725.1</td><td>NA</td><td>NA</td><td>0</td><td>195</td><td>0.0316675921463482</td><td>0.466666666666667</td><td>5712.69</td></tr><tr><th>28</th><td>2006-07-03</td><td>p_20061215_4050</td><td>11.7</td><td>NA</td><td>NA</td><td>0</td><td>2369</td><td>0.0316675921463482</td><td>0.466666666666667</td><td>5712.69</td></tr><tr><th>29</th><td>2006-07-03</td><td>c_20061215_4100</td><td>1677.1</td><td>NA</td><td>NA</td><td>0</td><td>884</td><td>0.0316675921463482</td><td>0.466666666666667</td><td>5712.69</td></tr><tr><th>30</th><td>2006-07-03</td><td>p_20061215_4100</td><td>13.0</td><td>NA</td><td>NA</td><td>20</td><td>17002</td><td>0.0316675921463482</td><td>0.466666666666667</td><td>5712.69</td></tr><tr><th>&vellip;</th><td>&vellip;</td><td>&vellip;</td><td>&vellip;</td><td>&vellip;</td><td>&vellip;</td><td>&vellip;</td><td>&vellip;</td><td>&vellip;</td><td>&vellip;</td><td>&vellip;</td></tr></table>"
      ],
      "text/plain": [
       "2025129x10 DataFrame\n",
       "| Row     | Date       | ID                | Price  | Bid   | Ask   | Volume |\n",
       "|---------|------------|-------------------|--------|-------|-------|--------|\n",
       "| 1       | 2006-07-03 | \"c_20061215_1800\" | 3931.1 | NA    | NA    | 1      |\n",
       "| 2       | 2006-07-03 | \"p_20061215_1800\" | 0.1    | NA    | NA    | 0      |\n",
       "| 3       | 2006-07-03 | \"c_20061215_2000\" | 3734.0 | NA    | NA    | 0      |\n",
       "| 4       | 2006-07-03 | \"p_20061215_2000\" | 0.1    | NA    | NA    | 0      |\n",
       "| 5       | 2006-07-03 | \"c_20061215_2200\" | 3536.9 | NA    | NA    | 0      |\n",
       "| 6       | 2006-07-03 | \"p_20061215_2200\" | 0.1    | NA    | NA    | 0      |\n",
       "| 7       | 2006-07-03 | \"c_20061215_2400\" | 3339.8 | NA    | NA    | 0      |\n",
       "| 8       | 2006-07-03 | \"p_20061215_2400\" | 0.1    | NA    | NA    | 0      |\n",
       "| 9       | 2006-07-03 | \"p_20061215_2600\" | 0.2    | NA    | NA    | 0      |\n",
       "| 10      | 2006-07-03 | \"c_20061215_2800\" | 2945.9 | NA    | NA    | 0      |\n",
       "| 11      | 2006-07-03 | \"p_20061215_2800\" | 0.5    | NA    | NA    | 0      |\n",
       "⋮\n",
       "| 2025118 | 2013-12-30 | \"p_20140117_9650\" | 140.0  | 147.0 | 153.8 | 2300   |\n",
       "| 2025119 | 2013-12-30 | \"c_20140117_9700\" | 63.6   | 57.4  | 58.3  | 412    |\n",
       "| 2025120 | 2013-12-30 | \"p_20140117_9700\" | 169.9  | 174.7 | 185.9 | 19     |\n",
       "| 2025121 | 2013-12-30 | \"c_20140117_9750\" | 47.2   | 41.1  | 42.7  | 180    |\n",
       "| 2025122 | 2013-12-30 | \"p_20140117_9750\" | 203.5  | 208.4 | 222.6 | 0      |\n",
       "| 2025123 | 2013-12-30 | \"c_20140117_9800\" | 34.4   | 29.7  | 31.1  | 1795   |\n",
       "| 2025124 | 2013-12-30 | \"p_20140117_9800\" | 240.7  | 245.6 | 262.7 | 0      |\n",
       "| 2025125 | 2013-12-30 | \"c_20140117_9850\" | 24.8   | 21.3  | 22.6  | 118    |\n",
       "| 2025126 | 2013-12-30 | \"c_20140117_9900\" | 17.7   | 15.0  | 16.4  | 1100   |\n",
       "| 2025127 | 2013-12-30 | \"p_20140117_9900\" | 324.0  | 328.6 | 349.8 | 5      |\n",
       "| 2025128 | 2013-12-30 | \"c_20140117_9950\" | 12.6   | 10.7  | 12.1  | 9      |\n",
       "| 2025129 | 2013-12-30 | \"p_20140117_9950\" | 368.9  | 374.2 | 398.0 | 1      |\n",
       "\n",
       "| Row     | Open_Interest | EONIA_matched | Time_to_Maturity | DAX     |\n",
       "|---------|---------------|---------------|------------------|---------|\n",
       "| 1       | 104           | 0.0316676     | 0.466667         | 5712.69 |\n",
       "| 2       | 5515          | 0.0316676     | 0.466667         | 5712.69 |\n",
       "| 3       | 2152          | 0.0316676     | 0.466667         | 5712.69 |\n",
       "| 4       | 20941         | 0.0316676     | 0.466667         | 5712.69 |\n",
       "| 5       | 2             | 0.0316676     | 0.466667         | 5712.69 |\n",
       "| 6       | 4626          | 0.0316676     | 0.466667         | 5712.69 |\n",
       "| 7       | 2009          | 0.0316676     | 0.466667         | 5712.69 |\n",
       "| 8       | 13367         | 0.0316676     | 0.466667         | 5712.69 |\n",
       "| 9       | 2297          | 0.0316676     | 0.466667         | 5712.69 |\n",
       "| 10      | 624           | 0.0316676     | 0.466667         | 5712.69 |\n",
       "| 11      | 6213          | 0.0316676     | 0.466667         | 5712.69 |\n",
       "⋮\n",
       "| 2025118 | 2311          | 0.00207379    | 0.0470588        | 9552.16 |\n",
       "| 2025119 | 7633          | 0.00207379    | 0.0470588        | 9552.16 |\n",
       "| 2025120 | 76            | 0.00207379    | 0.0470588        | 9552.16 |\n",
       "| 2025121 | 6237          | 0.00207379    | 0.0470588        | 9552.16 |\n",
       "| 2025122 | 10            | 0.00207379    | 0.0470588        | 9552.16 |\n",
       "| 2025123 | 14802         | 0.00207379    | 0.0470588        | 9552.16 |\n",
       "| 2025124 | 92            | 0.00207379    | 0.0470588        | 9552.16 |\n",
       "| 2025125 | 1908          | 0.00207379    | 0.0470588        | 9552.16 |\n",
       "| 2025126 | 3989          | 0.00207379    | 0.0470588        | 9552.16 |\n",
       "| 2025127 | 5             | 0.00207379    | 0.0470588        | 9552.16 |\n",
       "| 2025128 | 428           | 0.00207379    | 0.0470588        | 9552.16 |\n",
       "| 2025129 | 1             | 0.00207379    | 0.0470588        | 9552.16 |"
      ]
     },
     "execution_count": 11,
     "metadata": {},
     "output_type": "execute_result"
    }
   ],
   "source": [
    "optPrices1 = DataFrame(Date = optData[:Date], ID = optIDs, Price = optData[:Option_Price])\n",
    "optPrices2 = optData[[:Bid, :Ask, :Volume, :Open_Interest, :EONIA_matched, :Time_to_Maturity, :DAX]]\n",
    "optPrices = [optPrices1 optPrices2]"
   ]
  },
  {
   "cell_type": "code",
   "execution_count": 25,
   "metadata": {
    "collapsed": false
   },
   "outputs": [
    {
     "data": {
      "text/plain": [
       "153-element DataArray{String,1}:\n",
       " \"c_20061215_1800\"\n",
       " \"p_20061215_1800\"\n",
       " \"c_20061215_2000\"\n",
       " \"p_20061215_2000\"\n",
       " \"c_20061215_2200\"\n",
       " \"p_20061215_2200\"\n",
       " \"c_20061215_2400\"\n",
       " \"p_20061215_2400\"\n",
       " \"p_20061215_2600\"\n",
       " \"c_20061215_2800\"\n",
       " \"p_20061215_2800\"\n",
       " \"c_20061215_3000\"\n",
       " \"p_20061215_3000\"\n",
       " ⋮                \n",
       " \"c_20061215_7000\"\n",
       " \"p_20061215_7000\"\n",
       " \"c_20061215_7050\"\n",
       " \"c_20061215_7100\"\n",
       " \"c_20061215_7150\"\n",
       " \"c_20061215_7200\"\n",
       " \"c_20061215_7250\"\n",
       " \"c_20061215_7300\"\n",
       " \"c_20061215_7350\"\n",
       " \"c_20061215_7400\"\n",
       " \"p_20061215_7400\"\n",
       " \"p_20061215_6750\""
      ]
     },
     "execution_count": 25,
     "metadata": {},
     "output_type": "execute_result"
    }
   ],
   "source": [
    "expDate = Date(2006,12,15)\n",
    "\n",
    "assocOpts = opts[opts[:Expiry] .== expDate, :ID]"
   ]
  },
  {
   "cell_type": "markdown",
   "metadata": {},
   "source": [
    "- get associated observations"
   ]
  },
  {
   "cell_type": "code",
   "execution_count": 34,
   "metadata": {
    "collapsed": false
   },
   "outputs": [
    {
     "name": "stdout",
     "output_type": "stream",
     "text": [
      "elapsed time: 3.559302199 seconds (417774400 bytes allocated, 32.71% gc time)\n"
     ]
    },
    {
     "data": {
      "text/html": [
       "<table class=\"data-frame\"><tr><th></th><th>Date</th><th>ID</th><th>Price</th><th>Expiry</th><th>DAX</th></tr><tr><th>1</th><td>2006-07-03</td><td>c_20061215_1800</td><td>3931.1</td><td>2006-12-15</td><td>5712.69</td></tr><tr><th>2</th><td>2006-07-04</td><td>c_20061215_1800</td><td>3951.6</td><td>2006-12-15</td><td>5729.01</td></tr><tr><th>3</th><td>2006-07-05</td><td>c_20061215_1800</td><td>3850.0</td><td>2006-12-15</td><td>5625.63</td></tr><tr><th>4</th><td>2006-07-06</td><td>c_20061215_1800</td><td>3916.5</td><td>2006-12-15</td><td>5695.47</td></tr><tr><th>5</th><td>2006-07-07</td><td>c_20061215_1800</td><td>3904.9</td><td>2006-12-15</td><td>5681.85</td></tr><tr><th>6</th><td>2006-07-10</td><td>c_20061215_1800</td><td>3930.7</td><td>2006-12-15</td><td>5706.32</td></tr></table>"
      ],
      "text/plain": [
       "6x5 DataFrame\n",
       "| Row | Date       | ID                | Price  | Expiry     | DAX     |\n",
       "|-----|------------|-------------------|--------|------------|---------|\n",
       "| 1   | 2006-07-03 | \"c_20061215_1800\" | 3931.1 | 2006-12-15 | 5712.69 |\n",
       "| 2   | 2006-07-04 | \"c_20061215_1800\" | 3951.6 | 2006-12-15 | 5729.01 |\n",
       "| 3   | 2006-07-05 | \"c_20061215_1800\" | 3850.0 | 2006-12-15 | 5625.63 |\n",
       "| 4   | 2006-07-06 | \"c_20061215_1800\" | 3916.5 | 2006-12-15 | 5695.47 |\n",
       "| 5   | 2006-07-07 | \"c_20061215_1800\" | 3904.9 | 2006-12-15 | 5681.85 |\n",
       "| 6   | 2006-07-10 | \"c_20061215_1800\" | 3930.7 | 2006-12-15 | 5706.32 |"
      ]
     },
     "execution_count": 34,
     "metadata": {},
     "output_type": "execute_result"
    }
   ],
   "source": [
    "@time begin\n",
    "    optsLarge = join(optPrices, opts, on = :ID)\n",
    "    inds = optsLarge[:Expiry] .== expDate\n",
    "\n",
    "    obsExpDate = optsLarge[inds, [:Date, :ID, :Price, :Expiry, :DAX]]\n",
    "end\n",
    "\n",
    "head(obsExpDate)"
   ]
  },
  {
   "cell_type": "code",
   "execution_count": 35,
   "metadata": {
    "collapsed": false
   },
   "outputs": [
    {
     "data": {
      "text/plain": [
       "(18114,5)"
      ]
     },
     "execution_count": 35,
     "metadata": {},
     "output_type": "execute_result"
    }
   ],
   "source": [
    "size(obsExpDate)"
   ]
  },
  {
   "cell_type": "code",
   "execution_count": 37,
   "metadata": {
    "collapsed": false
   },
   "outputs": [
    {
     "data": {
      "text/html": [
       "<table class=\"data-frame\"><tr><th></th><th>ID</th><th>c_20061215_1800</th><th>c_20061215_2000</th><th>c_20061215_2200</th><th>c_20061215_2400</th><th>c_20061215_2800</th><th>c_20061215_3000</th><th>c_20061215_3200</th><th>c_20061215_3400</th><th>c_20061215_3600</th><th>c_20061215_3800</th><th>c_20061215_3900</th><th>c_20061215_4000</th><th>c_20061215_4050</th><th>c_20061215_4100</th><th>c_20061215_4150</th><th>c_20061215_4200</th><th>c_20061215_4250</th><th>c_20061215_4300</th><th>c_20061215_4350</th><th>c_20061215_4400</th><th>c_20061215_4450</th><th>c_20061215_4500</th><th>c_20061215_4550</th><th>c_20061215_4600</th><th>c_20061215_4650</th><th>c_20061215_4700</th><th>c_20061215_4750</th><th>c_20061215_4800</th><th>c_20061215_4850</th><th>c_20061215_4900</th><th>c_20061215_4950</th><th>c_20061215_5000</th><th>c_20061215_5050</th><th>c_20061215_5100</th><th>c_20061215_5150</th><th>c_20061215_5200</th><th>c_20061215_5250</th><th>c_20061215_5300</th><th>c_20061215_5350</th><th>c_20061215_5400</th><th>c_20061215_5450</th><th>c_20061215_5500</th><th>c_20061215_5550</th><th>c_20061215_5600</th><th>c_20061215_5650</th><th>c_20061215_5700</th><th>c_20061215_5750</th><th>c_20061215_5800</th><th>c_20061215_5850</th><th>c_20061215_5900</th><th>c_20061215_5950</th><th>c_20061215_6000</th><th>c_20061215_6050</th><th>c_20061215_6100</th><th>c_20061215_6150</th><th>c_20061215_6200</th><th>c_20061215_6250</th><th>c_20061215_6300</th><th>c_20061215_6350</th><th>c_20061215_6400</th><th>c_20061215_6450</th><th>c_20061215_6500</th><th>c_20061215_6550</th><th>c_20061215_6600</th><th>c_20061215_6650</th><th>c_20061215_6700</th><th>c_20061215_6750</th><th>c_20061215_6800</th><th>c_20061215_6850</th><th>c_20061215_6900</th><th>c_20061215_6950</th><th>c_20061215_7000</th><th>c_20061215_7050</th><th>c_20061215_7100</th><th>c_20061215_7150</th><th>c_20061215_7200</th><th>c_20061215_7250</th><th>c_20061215_7300</th><th>c_20061215_7350</th><th>c_20061215_7400</th><th>p_20061215_1800</th><th>p_20061215_2000</th><th>p_20061215_2200</th><th>p_20061215_2400</th><th>p_20061215_2600</th><th>p_20061215_2800</th><th>p_20061215_3000</th><th>p_20061215_3200</th><th>p_20061215_3400</th><th>p_20061215_3600</th><th>p_20061215_3800</th><th>p_20061215_3900</th><th>p_20061215_3950</th><th>p_20061215_4000</th><th>p_20061215_4050</th><th>p_20061215_4100</th><th>p_20061215_4150</th><th>p_20061215_4200</th><th>p_20061215_4250</th><th>p_20061215_4300</th><th>p_20061215_4350</th><th>p_20061215_4400</th><th>p_20061215_4450</th><th>p_20061215_4500</th><th>p_20061215_4550</th><th>p_20061215_4600</th><th>p_20061215_4650</th><th>p_20061215_4700</th><th>p_20061215_4750</th><th>p_20061215_4800</th><th>p_20061215_4850</th><th>p_20061215_4900</th><th>p_20061215_4950</th><th>p_20061215_5000</th><th>p_20061215_5050</th><th>p_20061215_5100</th><th>p_20061215_5150</th><th>p_20061215_5200</th><th>p_20061215_5250</th><th>p_20061215_5300</th><th>p_20061215_5350</th><th>p_20061215_5400</th><th>p_20061215_5450</th><th>p_20061215_5500</th><th>p_20061215_5550</th><th>p_20061215_5600</th><th>p_20061215_5650</th><th>p_20061215_5700</th><th>p_20061215_5750</th><th>p_20061215_5800</th><th>p_20061215_5850</th><th>p_20061215_5900</th><th>p_20061215_5950</th><th>p_20061215_6000</th><th>p_20061215_6050</th><th>p_20061215_6100</th><th>p_20061215_6150</th><th>p_20061215_6200</th><th>p_20061215_6250</th><th>p_20061215_6300</th><th>p_20061215_6350</th><th>p_20061215_6400</th><th>p_20061215_6450</th><th>p_20061215_6500</th><th>p_20061215_6550</th><th>p_20061215_6600</th><th>p_20061215_6650</th><th>p_20061215_6700</th><th>p_20061215_6750</th><th>p_20061215_6800</th><th>p_20061215_6900</th><th>p_20061215_7000</th><th>p_20061215_7400</th></tr><tr><th>1</th><td>2006-07-03</td><td>3931.1</td><td>3734.0</td><td>3536.9</td><td>3339.8</td><td>2945.9</td><td>2749.2</td><td>2552.7</td><td>2356.7</td><td>2161.2</td><td>1966.6</td><td>1869.7</td><td>1773.2</td><td>1725.1</td><td>1677.1</td><td>1629.3</td><td>1581.6</td><td>1534.0</td><td>1486.6</td><td>1439.4</td><td>1392.3</td><td>1345.5</td><td>1298.9</td><td>1252.6</td><td>1206.5</td><td>1160.7</td><td>1115.2</td><td>1070.0</td><td>1025.3</td><td>980.9</td><td>936.9</td><td>893.4</td><td>850.3</td><td>807.8</td><td>765.9</td><td>724.5</td><td>683.7</td><td>643.6</td><td>604.3</td><td>565.6</td><td>527.8</td><td>490.9</td><td>454.9</td><td>420.0</td><td>386.1</td><td>353.2</td><td>321.7</td><td>291.6</td><td>262.9</td><td>235.5</td><td>209.9</td><td>185.7</td><td>163.1</td><td>142.2</td><td>123.3</td><td>105.9</td><td>90.4</td><td>76.5</td><td>64.4</td><td>53.7</td><td>44.5</td><td>36.7</td><td>30.1</td><td>24.6</td><td>20.0</td><td>16.2</td><td>13.1</td><td>10.6</td><td>8.6</td><td>6.9</td><td>5.7</td><td>4.6</td><td>3.8</td><td>3.2</td><td>2.7</td><td>2.3</td><td>1.9</td><td>1.6</td><td>1.4</td><td>1.2</td><td>1.1</td><td>0.1</td><td>0.1</td><td>0.1</td><td>0.1</td><td>0.2</td><td>0.5</td><td>0.9</td><td>1.5</td><td>2.6</td><td>4.2</td><td>6.8</td><td>8.4</td><td>9.4</td><td>10.5</td><td>11.7</td><td>13.0</td><td>14.4</td><td>16.0</td><td>17.7</td><td>19.5</td><td>21.6</td><td>23.8</td><td>26.3</td><td>29.0</td><td>31.9</td><td>35.1</td><td>38.6</td><td>42.4</td><td>46.5</td><td>51.0</td><td>55.9</td><td>61.2</td><td>67.0</td><td>73.2</td><td>80.0</td><td>87.3</td><td>95.2</td><td>103.7</td><td>112.9</td><td>122.8</td><td>133.6</td><td>144.9</td><td>157.2</td><td>170.6</td><td>184.9</td><td>200.3</td><td>216.9</td><td>234.5</td><td>253.7</td><td>274.2</td><td>296.3</td><td>319.7</td><td>344.9</td><td>371.6</td><td>400.1</td><td>430.2</td><td>462.1</td><td>496.0</td><td>531.5</td><td>568.6</td><td>607.2</td><td>647.3</td><td>688.7</td><td>731.4</td><td>775.1</td><td>819.8</td><td>865.3</td><td>911.5</td><td>NA</td><td>1005.5</td><td>1101.2</td><td>1197.9</td><td>1589.4</td></tr><tr><th>2</th><td>2006-07-04</td><td>3951.6</td><td>3754.5</td><td>3557.3</td><td>3360.1</td><td>2966.0</td><td>2769.0</td><td>2572.2</td><td>2375.8</td><td>2179.9</td><td>1984.9</td><td>1887.8</td><td>1791.0</td><td>1742.8</td><td>1694.8</td><td>1646.8</td><td>1599.0</td><td>1551.4</td><td>1503.9</td><td>1456.6</td><td>1409.6</td><td>1362.7</td><td>1316.1</td><td>1269.7</td><td>1223.5</td><td>1177.7</td><td>1132.2</td><td>1087.0</td><td>1042.2</td><td>997.7</td><td>953.6</td><td>910.0</td><td>866.8</td><td>824.1</td><td>782.0</td><td>740.3</td><td>699.3</td><td>659.0</td><td>619.3</td><td>580.3</td><td>542.2</td><td>504.9</td><td>468.5</td><td>433.1</td><td>398.7</td><td>365.5</td><td>333.5</td><td>302.6</td><td>273.1</td><td>245.1</td><td>218.4</td><td>193.3</td><td>170.1</td><td>148.5</td><td>128.9</td><td>111.1</td><td>95.1</td><td>81.1</td><td>68.8</td><td>58.1</td><td>48.9</td><td>41.0</td><td>34.3</td><td>28.5</td><td>23.7</td><td>19.6</td><td>16.1</td><td>13.3</td><td>10.9</td><td>8.9</td><td>7.3</td><td>6.0</td><td>4.9</td><td>4.0</td><td>3.2</td><td>2.6</td><td>2.2</td><td>1.8</td><td>1.4</td><td>1.2</td><td>0.9</td><td>0.1</td><td>0.1</td><td>0.1</td><td>0.1</td><td>0.1</td><td>0.2</td><td>0.4</td><td>0.8</td><td>1.6</td><td>2.9</td><td>5.0</td><td>6.5</td><td>7.3</td><td>8.3</td><td>9.4</td><td>10.6</td><td>12.0</td><td>13.5</td><td>15.1</td><td>17.0</td><td>19.0</td><td>21.2</td><td>23.6</td><td>26.3</td><td>29.2</td><td>32.3</td><td>35.8</td><td>39.6</td><td>43.7</td><td>48.1</td><td>53.0</td><td>58.2</td><td>63.8</td><td>70.0</td><td>76.6</td><td>83.7</td><td>91.4</td><td>99.6</td><td>108.6</td><td>118.2</td><td>128.5</td><td>139.7</td><td>151.7</td><td>164.6</td><td>178.5</td><td>193.4</td><td>209.6</td><td>226.7</td><td>245.2</td><td>264.9</td><td>286.1</td><td>308.8</td><td>333.0</td><td>359.0</td><td>386.7</td><td>416.6</td><td>447.9</td><td>481.3</td><td>516.5</td><td>553.5</td><td>592.2</td><td>632.3</td><td>673.7</td><td>716.2</td><td>759.8</td><td>804.2</td><td>849.4</td><td>895.2</td><td>NA</td><td>988.6</td><td>1083.6</td><td>1179.7</td><td>1570.2</td></tr><tr><th>3</th><td>2006-07-05</td><td>3850.0</td><td>3652.8</td><td>3455.7</td><td>3258.5</td><td>2864.3</td><td>2667.5</td><td>2470.9</td><td>2274.8</td><td>2079.5</td><td>1885.4</td><td>1788.9</td><td>1693.0</td><td>1645.3</td><td>1597.7</td><td>1550.3</td><td>1503.1</td><td>1456.1</td><td>1409.4</td><td>1362.9</td><td>1316.6</td><td>1270.7</td><td>1225.0</td><td>1179.7</td><td>1134.7</td><td>1090.0</td><td>1045.7</td><td>1001.9</td><td>958.4</td><td>915.4</td><td>872.8</td><td>830.7</td><td>789.1</td><td>748.1</td><td>707.6</td><td>667.8</td><td>628.6</td><td>590.1</td><td>552.4</td><td>515.5</td><td>479.7</td><td>444.7</td><td>410.7</td><td>378.0</td><td>346.4</td><td>316.2</td><td>287.0</td><td>259.5</td><td>233.4</td><td>208.7</td><td>185.8</td><td>164.4</td><td>144.5</td><td>126.2</td><td>109.6</td><td>94.4</td><td>80.7</td><td>68.6</td><td>57.8</td><td>48.3</td><td>40.1</td><td>33.1</td><td>27.2</td><td>22.3</td><td>18.2</td><td>14.8</td><td>12.0</td><td>9.8</td><td>7.9</td><td>6.5</td><td>5.3</td><td>4.3</td><td>3.5</td><td>2.9</td><td>2.3</td><td>1.9</td><td>1.6</td><td>1.3</td><td>1.1</td><td>0.9</td><td>0.7</td><td>0.1</td><td>0.1</td><td>0.1</td><td>0.1</td><td>0.1</td><td>0.3</td><td>0.7</td><td>1.3</td><td>2.4</td><td>4.3</td><td>7.4</td><td>9.5</td><td>10.8</td><td>12.2</td><td>13.7</td><td>15.5</td><td>17.4</td><td>19.5</td><td>21.8</td><td>24.4</td><td>27.2</td><td>30.2</td><td>33.6</td><td>37.2</td><td>41.2</td><td>45.5</td><td>50.1</td><td>55.1</td><td>60.5</td><td>66.4</td><td>72.6</td><td>79.4</td><td>86.6</td><td>94.3</td><td>102.6</td><td>111.5</td><td>120.9</td><td>131.1</td><td>141.8</td><td>153.5</td><td>165.9</td><td>179.3</td><td>193.5</td><td>209.1</td><td>225.6</td><td>243.2</td><td>262.2</td><td>282.5</td><td>304.3</td><td>327.3</td><td>352.0</td><td>378.3</td><td>406.3</td><td>435.6</td><td>466.8</td><td>499.4</td><td>533.4</td><td>569.2</td><td>606.4</td><td>644.7</td><td>684.6</td><td>725.7</td><td>768.0</td><td>811.4</td><td>855.8</td><td>901.0</td><td>946.9</td><td>993.4</td><td>NA</td><td>1088.0</td><td>1183.9</td><td>1280.7</td><td>1672.4</td></tr><tr><th>4</th><td>2006-07-06</td><td>3916.5</td><td>3719.3</td><td>3522.1</td><td>3324.9</td><td>2930.9</td><td>2734.1</td><td>2537.6</td><td>2341.6</td><td>2146.2</td><td>1951.8</td><td>1855.0</td><td>1758.7</td><td>1710.7</td><td>1662.8</td><td>1615.0</td><td>1567.5</td><td>1520.0</td><td>1472.8</td><td>1425.7</td><td>1378.9</td><td>1332.3</td><td>1285.9</td><td>1239.8</td><td>1194.0</td><td>1148.5</td><td>1103.4</td><td>1058.6</td><td>1014.2</td><td>970.2</td><td>926.6</td><td>883.5</td><td>841.0</td><td>798.9</td><td>757.4</td><td>716.6</td><td>676.3</td><td>636.8</td><td>597.8</td><td>559.6</td><td>522.3</td><td>485.8</td><td>450.3</td><td>415.9</td><td>382.4</td><td>350.3</td><td>319.3</td><td>289.9</td><td>261.6</td><td>235.0</td><td>209.9</td><td>186.2</td><td>164.4</td><td>144.1</td><td>125.5</td><td>108.6</td><td>93.1</td><td>79.3</td><td>67.0</td><td>56.2</td><td>46.8</td><td>38.7</td><td>31.7</td><td>25.9</td><td>21.0</td><td>17.0</td><td>13.7</td><td>11.0</td><td>8.9</td><td>7.2</td><td>5.8</td><td>4.7</td><td>3.9</td><td>3.2</td><td>2.6</td><td>2.2</td><td>1.8</td><td>1.5</td><td>1.3</td><td>1.1</td><td>0.9</td><td>0.1</td><td>0.1</td><td>0.1</td><td>0.1</td><td>0.3</td><td>0.5</td><td>1.0</td><td>1.7</td><td>2.9</td><td>4.7</td><td>7.5</td><td>9.4</td><td>10.4</td><td>11.6</td><td>12.9</td><td>14.3</td><td>15.9</td><td>17.6</td><td>19.5</td><td>21.6</td><td>23.8</td><td>26.3</td><td>29.0</td><td>31.9</td><td>35.1</td><td>38.6</td><td>42.4</td><td>46.6</td><td>51.1</td><td>56.0</td><td>61.3</td><td>67.1</td><td>73.3</td><td>80.0</td><td>87.4</td><td>95.1</td><td>103.5</td><td>112.6</td><td>122.3</td><td>132.6</td><td>143.8</td><td>155.8</td><td>168.6</td><td>182.4</td><td>197.3</td><td>213.1</td><td>230.3</td><td>248.8</td><td>268.5</td><td>289.5</td><td>312.1</td><td>336.4</td><td>362.2</td><td>389.6</td><td>418.7</td><td>449.2</td><td>481.6</td><td>515.5</td><td>551.0</td><td>588.0</td><td>626.6</td><td>666.4</td><td>707.6</td><td>749.9</td><td>793.4</td><td>837.8</td><td>883.1</td><td>929.1</td><td>NA</td><td>1022.9</td><td>1118.5</td><td>1215.1</td><td>1606.6</td></tr><tr><th>5</th><td>2006-07-07</td><td>3904.9</td><td>3707.6</td><td>3510.4</td><td>3313.3</td><td>2919.2</td><td>2722.4</td><td>2526.0</td><td>2330.0</td><td>2134.6</td><td>1940.3</td><td>1843.6</td><td>1747.3</td><td>1699.3</td><td>1651.5</td><td>1603.8</td><td>1556.2</td><td>1508.9</td><td>1461.7</td><td>1414.7</td><td>1367.9</td><td>1321.3</td><td>1275.0</td><td>1228.9</td><td>1183.1</td><td>1137.7</td><td>1092.5</td><td>1047.7</td><td>1003.4</td><td>959.4</td><td>915.8</td><td>872.8</td><td>830.2</td><td>788.1</td><td>746.7</td><td>705.9</td><td>665.7</td><td>626.2</td><td>587.5</td><td>549.4</td><td>512.3</td><td>476.1</td><td>440.7</td><td>406.6</td><td>373.6</td><td>341.6</td><td>311.1</td><td>281.8</td><td>253.9</td><td>227.7</td><td>202.7</td><td>179.6</td><td>158.0</td><td>137.9</td><td>119.6</td><td>103.0</td><td>88.1</td><td>74.7</td><td>62.9</td><td>52.6</td><td>43.7</td><td>36.0</td><td>29.5</td><td>24.0</td><td>19.5</td><td>15.8</td><td>12.7</td><td>10.2</td><td>8.3</td><td>6.7</td><td>5.4</td><td>4.4</td><td>3.6</td><td>2.9</td><td>2.4</td><td>2.0</td><td>1.7</td><td>1.4</td><td>1.2</td><td>1.0</td><td>0.8</td><td>0.1</td><td>0.1</td><td>0.1</td><td>0.1</td><td>0.3</td><td>0.5</td><td>1.0</td><td>1.8</td><td>3.0</td><td>4.9</td><td>7.8</td><td>9.7</td><td>10.9</td><td>12.1</td><td>13.4</td><td>14.9</td><td>16.5</td><td>18.3</td><td>20.2</td><td>22.3</td><td>24.6</td><td>27.1</td><td>29.9</td><td>32.8</td><td>36.1</td><td>39.6</td><td>43.5</td><td>47.6</td><td>52.2</td><td>57.1</td><td>62.4</td><td>68.2</td><td>74.4</td><td>81.2</td><td>88.5</td><td>96.3</td><td>104.7</td><td>113.9</td><td>123.7</td><td>134.4</td><td>145.6</td><td>157.8</td><td>170.8</td><td>184.9</td><td>200.1</td><td>216.2</td><td>233.7</td><td>252.4</td><td>272.4</td><td>293.9</td><td>316.8</td><td>341.3</td><td>367.2</td><td>395.1</td><td>424.4</td><td>455.4</td><td>488.1</td><td>522.5</td><td>558.5</td><td>596.1</td><td>635.0</td><td>675.3</td><td>717.0</td><td>759.8</td><td>803.6</td><td>848.4</td><td>893.9</td><td>940.2</td><td>NA</td><td>1034.4</td><td>1130.2</td><td>1227.0</td><td>1618.7</td></tr><tr><th>6</th><td>2006-07-10</td><td>3930.7</td><td>3733.4</td><td>3536.1</td><td>3338.9</td><td>2944.6</td><td>2747.7</td><td>2551.0</td><td>2354.8</td><td>2159.1</td><td>1964.3</td><td>1867.3</td><td>1770.7</td><td>1722.6</td><td>1674.6</td><td>1626.7</td><td>1578.9</td><td>1531.4</td><td>1484.0</td><td>1436.7</td><td>1389.7</td><td>1342.9</td><td>1296.4</td><td>1250.1</td><td>1204.0</td><td>1158.3</td><td>1112.9</td><td>1067.9</td><td>1023.3</td><td>979.1</td><td>935.3</td><td>892.0</td><td>849.1</td><td>806.8</td><td>765.1</td><td>724.0</td><td>683.4</td><td>643.5</td><td>604.4</td><td>565.9</td><td>528.2</td><td>491.5</td><td>455.6</td><td>420.8</td><td>387.0</td><td>354.5</td><td>323.1</td><td>293.3</td><td>264.7</td><td>237.6</td><td>212.1</td><td>188.2</td><td>165.8</td><td>145.3</td><td>126.3</td><td>109.1</td><td>93.4</td><td>79.5</td><td>67.1</td><td>56.2</td><td>46.7</td><td>38.6</td><td>31.6</td><td>25.8</td><td>20.9</td><td>16.9</td><td>13.6</td><td>11.0</td><td>8.8</td><td>7.1</td><td>5.8</td><td>4.7</td><td>3.8</td><td>3.1</td><td>2.6</td><td>2.1</td><td>1.8</td><td>1.5</td><td>1.2</td><td>1.0</td><td>0.9</td><td>0.1</td><td>0.1</td><td>0.1</td><td>0.1</td><td>0.2</td><td>0.4</td><td>0.8</td><td>1.5</td><td>2.5</td><td>4.1</td><td>6.6</td><td>8.3</td><td>9.2</td><td>10.3</td><td>11.5</td><td>12.8</td><td>14.3</td><td>15.8</td><td>17.6</td><td>19.5</td><td>21.6</td><td>23.9</td><td>26.4</td><td>29.2</td><td>32.2</td><td>35.5</td><td>39.1</td><td>43.1</td><td>47.4</td><td>52.1</td><td>57.2</td><td>62.7</td><td>68.7</td><td>75.2</td><td>82.2</td><td>89.8</td><td>98.0</td><td>106.7</td><td>116.2</td><td>126.4</td><td>137.2</td><td>149.0</td><td>161.5</td><td>175.0</td><td>189.6</td><td>205.1</td><td>221.8</td><td>239.9</td><td>259.2</td><td>280.1</td><td>302.1</td><td>326.0</td><td>351.4</td><td>378.5</td><td>407.0</td><td>437.5</td><td>469.6</td><td>503.3</td><td>538.6</td><td>575.6</td><td>614.0</td><td>653.9</td><td>695.0</td><td>737.4</td><td>780.9</td><td>825.3</td><td>870.7</td><td>916.7</td><td>NA</td><td>1010.6</td><td>1106.2</td><td>1202.9</td><td>1594.5</td></tr></table>"
      ],
      "text/plain": [
       "6x154 DataFrame\n",
       "| Row | ID         | c_20061215_1800 | c_20061215_2000 | c_20061215_2200 |\n",
       "|-----|------------|-----------------|-----------------|-----------------|\n",
       "| 1   | 2006-07-03 | 3931.1          | 3734.0          | 3536.9          |\n",
       "| 2   | 2006-07-04 | 3951.6          | 3754.5          | 3557.3          |\n",
       "| 3   | 2006-07-05 | 3850.0          | 3652.8          | 3455.7          |\n",
       "| 4   | 2006-07-06 | 3916.5          | 3719.3          | 3522.1          |\n",
       "| 5   | 2006-07-07 | 3904.9          | 3707.6          | 3510.4          |\n",
       "| 6   | 2006-07-10 | 3930.7          | 3733.4          | 3536.1          |\n",
       "\n",
       "| Row | c_20061215_2400 | c_20061215_2800 | c_20061215_3000 | c_20061215_3200 |\n",
       "|-----|-----------------|-----------------|-----------------|-----------------|\n",
       "| 1   | 3339.8          | 2945.9          | 2749.2          | 2552.7          |\n",
       "| 2   | 3360.1          | 2966.0          | 2769.0          | 2572.2          |\n",
       "| 3   | 3258.5          | 2864.3          | 2667.5          | 2470.9          |\n",
       "| 4   | 3324.9          | 2930.9          | 2734.1          | 2537.6          |\n",
       "| 5   | 3313.3          | 2919.2          | 2722.4          | 2526.0          |\n",
       "| 6   | 3338.9          | 2944.6          | 2747.7          | 2551.0          |\n",
       "\n",
       "| Row | c_20061215_3400 | c_20061215_3600 | c_20061215_3800 | c_20061215_3900 |\n",
       "|-----|-----------------|-----------------|-----------------|-----------------|\n",
       "| 1   | 2356.7          | 2161.2          | 1966.6          | 1869.7          |\n",
       "| 2   | 2375.8          | 2179.9          | 1984.9          | 1887.8          |\n",
       "| 3   | 2274.8          | 2079.5          | 1885.4          | 1788.9          |\n",
       "| 4   | 2341.6          | 2146.2          | 1951.8          | 1855.0          |\n",
       "| 5   | 2330.0          | 2134.6          | 1940.3          | 1843.6          |\n",
       "| 6   | 2354.8          | 2159.1          | 1964.3          | 1867.3          |\n",
       "\n",
       "| Row | c_20061215_4000 | c_20061215_4050 | c_20061215_4100 | c_20061215_4150 |\n",
       "|-----|-----------------|-----------------|-----------------|-----------------|\n",
       "| 1   | 1773.2          | 1725.1          | 1677.1          | 1629.3          |\n",
       "| 2   | 1791.0          | 1742.8          | 1694.8          | 1646.8          |\n",
       "| 3   | 1693.0          | 1645.3          | 1597.7          | 1550.3          |\n",
       "| 4   | 1758.7          | 1710.7          | 1662.8          | 1615.0          |\n",
       "| 5   | 1747.3          | 1699.3          | 1651.5          | 1603.8          |\n",
       "| 6   | 1770.7          | 1722.6          | 1674.6          | 1626.7          |\n",
       "\n",
       "| Row | c_20061215_4200 | c_20061215_4250 | c_20061215_4300 | c_20061215_4350 |\n",
       "|-----|-----------------|-----------------|-----------------|-----------------|\n",
       "| 1   | 1581.6          | 1534.0          | 1486.6          | 1439.4          |\n",
       "| 2   | 1599.0          | 1551.4          | 1503.9          | 1456.6          |\n",
       "| 3   | 1503.1          | 1456.1          | 1409.4          | 1362.9          |\n",
       "| 4   | 1567.5          | 1520.0          | 1472.8          | 1425.7          |\n",
       "| 5   | 1556.2          | 1508.9          | 1461.7          | 1414.7          |\n",
       "| 6   | 1578.9          | 1531.4          | 1484.0          | 1436.7          |\n",
       "\n",
       "| Row | c_20061215_4400 | c_20061215_4450 | c_20061215_4500 | c_20061215_4550 |\n",
       "|-----|-----------------|-----------------|-----------------|-----------------|\n",
       "| 1   | 1392.3          | 1345.5          | 1298.9          | 1252.6          |\n",
       "| 2   | 1409.6          | 1362.7          | 1316.1          | 1269.7          |\n",
       "| 3   | 1316.6          | 1270.7          | 1225.0          | 1179.7          |\n",
       "| 4   | 1378.9          | 1332.3          | 1285.9          | 1239.8          |\n",
       "| 5   | 1367.9          | 1321.3          | 1275.0          | 1228.9          |\n",
       "| 6   | 1389.7          | 1342.9          | 1296.4          | 1250.1          |\n",
       "\n",
       "| Row | c_20061215_4600 | c_20061215_4650 | c_20061215_4700 | c_20061215_4750 |\n",
       "|-----|-----------------|-----------------|-----------------|-----------------|\n",
       "| 1   | 1206.5          | 1160.7          | 1115.2          | 1070.0          |\n",
       "| 2   | 1223.5          | 1177.7          | 1132.2          | 1087.0          |\n",
       "| 3   | 1134.7          | 1090.0          | 1045.7          | 1001.9          |\n",
       "| 4   | 1194.0          | 1148.5          | 1103.4          | 1058.6          |\n",
       "| 5   | 1183.1          | 1137.7          | 1092.5          | 1047.7          |\n",
       "| 6   | 1204.0          | 1158.3          | 1112.9          | 1067.9          |\n",
       "\n",
       "| Row | c_20061215_4800 | c_20061215_4850 | c_20061215_4900 | c_20061215_4950 |\n",
       "|-----|-----------------|-----------------|-----------------|-----------------|\n",
       "| 1   | 1025.3          | 980.9           | 936.9           | 893.4           |\n",
       "| 2   | 1042.2          | 997.7           | 953.6           | 910.0           |\n",
       "| 3   | 958.4           | 915.4           | 872.8           | 830.7           |\n",
       "| 4   | 1014.2          | 970.2           | 926.6           | 883.5           |\n",
       "| 5   | 1003.4          | 959.4           | 915.8           | 872.8           |\n",
       "| 6   | 1023.3          | 979.1           | 935.3           | 892.0           |\n",
       "\n",
       "| Row | c_20061215_5000 | c_20061215_5050 | c_20061215_5100 | c_20061215_5150 |\n",
       "|-----|-----------------|-----------------|-----------------|-----------------|\n",
       "| 1   | 850.3           | 807.8           | 765.9           | 724.5           |\n",
       "| 2   | 866.8           | 824.1           | 782.0           | 740.3           |\n",
       "| 3   | 789.1           | 748.1           | 707.6           | 667.8           |\n",
       "| 4   | 841.0           | 798.9           | 757.4           | 716.6           |\n",
       "| 5   | 830.2           | 788.1           | 746.7           | 705.9           |\n",
       "| 6   | 849.1           | 806.8           | 765.1           | 724.0           |\n",
       "\n",
       "| Row | c_20061215_5200 | c_20061215_5250 | c_20061215_5300 | c_20061215_5350 |\n",
       "|-----|-----------------|-----------------|-----------------|-----------------|\n",
       "| 1   | 683.7           | 643.6           | 604.3           | 565.6           |\n",
       "| 2   | 699.3           | 659.0           | 619.3           | 580.3           |\n",
       "| 3   | 628.6           | 590.1           | 552.4           | 515.5           |\n",
       "| 4   | 676.3           | 636.8           | 597.8           | 559.6           |\n",
       "| 5   | 665.7           | 626.2           | 587.5           | 549.4           |\n",
       "| 6   | 683.4           | 643.5           | 604.4           | 565.9           |\n",
       "\n",
       "| Row | c_20061215_5400 | c_20061215_5450 | c_20061215_5500 | c_20061215_5550 |\n",
       "|-----|-----------------|-----------------|-----------------|-----------------|\n",
       "| 1   | 527.8           | 490.9           | 454.9           | 420.0           |\n",
       "| 2   | 542.2           | 504.9           | 468.5           | 433.1           |\n",
       "| 3   | 479.7           | 444.7           | 410.7           | 378.0           |\n",
       "| 4   | 522.3           | 485.8           | 450.3           | 415.9           |\n",
       "| 5   | 512.3           | 476.1           | 440.7           | 406.6           |\n",
       "| 6   | 528.2           | 491.5           | 455.6           | 420.8           |\n",
       "\n",
       "| Row | c_20061215_5600 | c_20061215_5650 | c_20061215_5700 | c_20061215_5750 |\n",
       "|-----|-----------------|-----------------|-----------------|-----------------|\n",
       "| 1   | 386.1           | 353.2           | 321.7           | 291.6           |\n",
       "| 2   | 398.7           | 365.5           | 333.5           | 302.6           |\n",
       "| 3   | 346.4           | 316.2           | 287.0           | 259.5           |\n",
       "| 4   | 382.4           | 350.3           | 319.3           | 289.9           |\n",
       "| 5   | 373.6           | 341.6           | 311.1           | 281.8           |\n",
       "| 6   | 387.0           | 354.5           | 323.1           | 293.3           |\n",
       "\n",
       "| Row | c_20061215_5800 | c_20061215_5850 | c_20061215_5900 | c_20061215_5950 |\n",
       "|-----|-----------------|-----------------|-----------------|-----------------|\n",
       "| 1   | 262.9           | 235.5           | 209.9           | 185.7           |\n",
       "| 2   | 273.1           | 245.1           | 218.4           | 193.3           |\n",
       "| 3   | 233.4           | 208.7           | 185.8           | 164.4           |\n",
       "| 4   | 261.6           | 235.0           | 209.9           | 186.2           |\n",
       "| 5   | 253.9           | 227.7           | 202.7           | 179.6           |\n",
       "| 6   | 264.7           | 237.6           | 212.1           | 188.2           |\n",
       "\n",
       "| Row | c_20061215_6000 | c_20061215_6050 | c_20061215_6100 | c_20061215_6150 |\n",
       "|-----|-----------------|-----------------|-----------------|-----------------|\n",
       "| 1   | 163.1           | 142.2           | 123.3           | 105.9           |\n",
       "| 2   | 170.1           | 148.5           | 128.9           | 111.1           |\n",
       "| 3   | 144.5           | 126.2           | 109.6           | 94.4            |\n",
       "| 4   | 164.4           | 144.1           | 125.5           | 108.6           |\n",
       "| 5   | 158.0           | 137.9           | 119.6           | 103.0           |\n",
       "| 6   | 165.8           | 145.3           | 126.3           | 109.1           |\n",
       "\n",
       "| Row | c_20061215_6200 | c_20061215_6250 | c_20061215_6300 | c_20061215_6350 |\n",
       "|-----|-----------------|-----------------|-----------------|-----------------|\n",
       "| 1   | 90.4            | 76.5            | 64.4            | 53.7            |\n",
       "| 2   | 95.1            | 81.1            | 68.8            | 58.1            |\n",
       "| 3   | 80.7            | 68.6            | 57.8            | 48.3            |\n",
       "| 4   | 93.1            | 79.3            | 67.0            | 56.2            |\n",
       "| 5   | 88.1            | 74.7            | 62.9            | 52.6            |\n",
       "| 6   | 93.4            | 79.5            | 67.1            | 56.2            |\n",
       "\n",
       "| Row | c_20061215_6400 | c_20061215_6450 | c_20061215_6500 | c_20061215_6550 |\n",
       "|-----|-----------------|-----------------|-----------------|-----------------|\n",
       "| 1   | 44.5            | 36.7            | 30.1            | 24.6            |\n",
       "| 2   | 48.9            | 41.0            | 34.3            | 28.5            |\n",
       "| 3   | 40.1            | 33.1            | 27.2            | 22.3            |\n",
       "| 4   | 46.8            | 38.7            | 31.7            | 25.9            |\n",
       "| 5   | 43.7            | 36.0            | 29.5            | 24.0            |\n",
       "| 6   | 46.7            | 38.6            | 31.6            | 25.8            |\n",
       "\n",
       "| Row | c_20061215_6600 | c_20061215_6650 | c_20061215_6700 | c_20061215_6750 |\n",
       "|-----|-----------------|-----------------|-----------------|-----------------|\n",
       "| 1   | 20.0            | 16.2            | 13.1            | 10.6            |\n",
       "| 2   | 23.7            | 19.6            | 16.1            | 13.3            |\n",
       "| 3   | 18.2            | 14.8            | 12.0            | 9.8             |\n",
       "| 4   | 21.0            | 17.0            | 13.7            | 11.0            |\n",
       "| 5   | 19.5            | 15.8            | 12.7            | 10.2            |\n",
       "| 6   | 20.9            | 16.9            | 13.6            | 11.0            |\n",
       "\n",
       "| Row | c_20061215_6800 | c_20061215_6850 | c_20061215_6900 | c_20061215_6950 |\n",
       "|-----|-----------------|-----------------|-----------------|-----------------|\n",
       "| 1   | 8.6             | 6.9             | 5.7             | 4.6             |\n",
       "| 2   | 10.9            | 8.9             | 7.3             | 6.0             |\n",
       "| 3   | 7.9             | 6.5             | 5.3             | 4.3             |\n",
       "| 4   | 8.9             | 7.2             | 5.8             | 4.7             |\n",
       "| 5   | 8.3             | 6.7             | 5.4             | 4.4             |\n",
       "| 6   | 8.8             | 7.1             | 5.8             | 4.7             |\n",
       "\n",
       "| Row | c_20061215_7000 | c_20061215_7050 | c_20061215_7100 | c_20061215_7150 |\n",
       "|-----|-----------------|-----------------|-----------------|-----------------|\n",
       "| 1   | 3.8             | 3.2             | 2.7             | 2.3             |\n",
       "| 2   | 4.9             | 4.0             | 3.2             | 2.6             |\n",
       "| 3   | 3.5             | 2.9             | 2.3             | 1.9             |\n",
       "| 4   | 3.9             | 3.2             | 2.6             | 2.2             |\n",
       "| 5   | 3.6             | 2.9             | 2.4             | 2.0             |\n",
       "| 6   | 3.8             | 3.1             | 2.6             | 2.1             |\n",
       "\n",
       "| Row | c_20061215_7200 | c_20061215_7250 | c_20061215_7300 | c_20061215_7350 |\n",
       "|-----|-----------------|-----------------|-----------------|-----------------|\n",
       "| 1   | 1.9             | 1.6             | 1.4             | 1.2             |\n",
       "| 2   | 2.2             | 1.8             | 1.4             | 1.2             |\n",
       "| 3   | 1.6             | 1.3             | 1.1             | 0.9             |\n",
       "| 4   | 1.8             | 1.5             | 1.3             | 1.1             |\n",
       "| 5   | 1.7             | 1.4             | 1.2             | 1.0             |\n",
       "| 6   | 1.8             | 1.5             | 1.2             | 1.0             |\n",
       "\n",
       "| Row | c_20061215_7400 | p_20061215_1800 | p_20061215_2000 | p_20061215_2200 |\n",
       "|-----|-----------------|-----------------|-----------------|-----------------|\n",
       "| 1   | 1.1             | 0.1             | 0.1             | 0.1             |\n",
       "| 2   | 0.9             | 0.1             | 0.1             | 0.1             |\n",
       "| 3   | 0.7             | 0.1             | 0.1             | 0.1             |\n",
       "| 4   | 0.9             | 0.1             | 0.1             | 0.1             |\n",
       "| 5   | 0.8             | 0.1             | 0.1             | 0.1             |\n",
       "| 6   | 0.9             | 0.1             | 0.1             | 0.1             |\n",
       "\n",
       "| Row | p_20061215_2400 | p_20061215_2600 | p_20061215_2800 | p_20061215_3000 |\n",
       "|-----|-----------------|-----------------|-----------------|-----------------|\n",
       "| 1   | 0.1             | 0.2             | 0.5             | 0.9             |\n",
       "| 2   | 0.1             | 0.1             | 0.2             | 0.4             |\n",
       "| 3   | 0.1             | 0.1             | 0.3             | 0.7             |\n",
       "| 4   | 0.1             | 0.3             | 0.5             | 1.0             |\n",
       "| 5   | 0.1             | 0.3             | 0.5             | 1.0             |\n",
       "| 6   | 0.1             | 0.2             | 0.4             | 0.8             |\n",
       "\n",
       "| Row | p_20061215_3200 | p_20061215_3400 | p_20061215_3600 | p_20061215_3800 |\n",
       "|-----|-----------------|-----------------|-----------------|-----------------|\n",
       "| 1   | 1.5             | 2.6             | 4.2             | 6.8             |\n",
       "| 2   | 0.8             | 1.6             | 2.9             | 5.0             |\n",
       "| 3   | 1.3             | 2.4             | 4.3             | 7.4             |\n",
       "| 4   | 1.7             | 2.9             | 4.7             | 7.5             |\n",
       "| 5   | 1.8             | 3.0             | 4.9             | 7.8             |\n",
       "| 6   | 1.5             | 2.5             | 4.1             | 6.6             |\n",
       "\n",
       "| Row | p_20061215_3900 | p_20061215_3950 | p_20061215_4000 | p_20061215_4050 |\n",
       "|-----|-----------------|-----------------|-----------------|-----------------|\n",
       "| 1   | 8.4             | 9.4             | 10.5            | 11.7            |\n",
       "| 2   | 6.5             | 7.3             | 8.3             | 9.4             |\n",
       "| 3   | 9.5             | 10.8            | 12.2            | 13.7            |\n",
       "| 4   | 9.4             | 10.4            | 11.6            | 12.9            |\n",
       "| 5   | 9.7             | 10.9            | 12.1            | 13.4            |\n",
       "| 6   | 8.3             | 9.2             | 10.3            | 11.5            |\n",
       "\n",
       "| Row | p_20061215_4100 | p_20061215_4150 | p_20061215_4200 | p_20061215_4250 |\n",
       "|-----|-----------------|-----------------|-----------------|-----------------|\n",
       "| 1   | 13.0            | 14.4            | 16.0            | 17.7            |\n",
       "| 2   | 10.6            | 12.0            | 13.5            | 15.1            |\n",
       "| 3   | 15.5            | 17.4            | 19.5            | 21.8            |\n",
       "| 4   | 14.3            | 15.9            | 17.6            | 19.5            |\n",
       "| 5   | 14.9            | 16.5            | 18.3            | 20.2            |\n",
       "| 6   | 12.8            | 14.3            | 15.8            | 17.6            |\n",
       "\n",
       "| Row | p_20061215_4300 | p_20061215_4350 | p_20061215_4400 | p_20061215_4450 |\n",
       "|-----|-----------------|-----------------|-----------------|-----------------|\n",
       "| 1   | 19.5            | 21.6            | 23.8            | 26.3            |\n",
       "| 2   | 17.0            | 19.0            | 21.2            | 23.6            |\n",
       "| 3   | 24.4            | 27.2            | 30.2            | 33.6            |\n",
       "| 4   | 21.6            | 23.8            | 26.3            | 29.0            |\n",
       "| 5   | 22.3            | 24.6            | 27.1            | 29.9            |\n",
       "| 6   | 19.5            | 21.6            | 23.9            | 26.4            |\n",
       "\n",
       "| Row | p_20061215_4500 | p_20061215_4550 | p_20061215_4600 | p_20061215_4650 |\n",
       "|-----|-----------------|-----------------|-----------------|-----------------|\n",
       "| 1   | 29.0            | 31.9            | 35.1            | 38.6            |\n",
       "| 2   | 26.3            | 29.2            | 32.3            | 35.8            |\n",
       "| 3   | 37.2            | 41.2            | 45.5            | 50.1            |\n",
       "| 4   | 31.9            | 35.1            | 38.6            | 42.4            |\n",
       "| 5   | 32.8            | 36.1            | 39.6            | 43.5            |\n",
       "| 6   | 29.2            | 32.2            | 35.5            | 39.1            |\n",
       "\n",
       "| Row | p_20061215_4700 | p_20061215_4750 | p_20061215_4800 | p_20061215_4850 |\n",
       "|-----|-----------------|-----------------|-----------------|-----------------|\n",
       "| 1   | 42.4            | 46.5            | 51.0            | 55.9            |\n",
       "| 2   | 39.6            | 43.7            | 48.1            | 53.0            |\n",
       "| 3   | 55.1            | 60.5            | 66.4            | 72.6            |\n",
       "| 4   | 46.6            | 51.1            | 56.0            | 61.3            |\n",
       "| 5   | 47.6            | 52.2            | 57.1            | 62.4            |\n",
       "| 6   | 43.1            | 47.4            | 52.1            | 57.2            |\n",
       "\n",
       "| Row | p_20061215_4900 | p_20061215_4950 | p_20061215_5000 | p_20061215_5050 |\n",
       "|-----|-----------------|-----------------|-----------------|-----------------|\n",
       "| 1   | 61.2            | 67.0            | 73.2            | 80.0            |\n",
       "| 2   | 58.2            | 63.8            | 70.0            | 76.6            |\n",
       "| 3   | 79.4            | 86.6            | 94.3            | 102.6           |\n",
       "| 4   | 67.1            | 73.3            | 80.0            | 87.4            |\n",
       "| 5   | 68.2            | 74.4            | 81.2            | 88.5            |\n",
       "| 6   | 62.7            | 68.7            | 75.2            | 82.2            |\n",
       "\n",
       "| Row | p_20061215_5100 | p_20061215_5150 | p_20061215_5200 | p_20061215_5250 |\n",
       "|-----|-----------------|-----------------|-----------------|-----------------|\n",
       "| 1   | 87.3            | 95.2            | 103.7           | 112.9           |\n",
       "| 2   | 83.7            | 91.4            | 99.6            | 108.6           |\n",
       "| 3   | 111.5           | 120.9           | 131.1           | 141.8           |\n",
       "| 4   | 95.1            | 103.5           | 112.6           | 122.3           |\n",
       "| 5   | 96.3            | 104.7           | 113.9           | 123.7           |\n",
       "| 6   | 89.8            | 98.0            | 106.7           | 116.2           |\n",
       "\n",
       "| Row | p_20061215_5300 | p_20061215_5350 | p_20061215_5400 | p_20061215_5450 |\n",
       "|-----|-----------------|-----------------|-----------------|-----------------|\n",
       "| 1   | 122.8           | 133.6           | 144.9           | 157.2           |\n",
       "| 2   | 118.2           | 128.5           | 139.7           | 151.7           |\n",
       "| 3   | 153.5           | 165.9           | 179.3           | 193.5           |\n",
       "| 4   | 132.6           | 143.8           | 155.8           | 168.6           |\n",
       "| 5   | 134.4           | 145.6           | 157.8           | 170.8           |\n",
       "| 6   | 126.4           | 137.2           | 149.0           | 161.5           |\n",
       "\n",
       "| Row | p_20061215_5500 | p_20061215_5550 | p_20061215_5600 | p_20061215_5650 |\n",
       "|-----|-----------------|-----------------|-----------------|-----------------|\n",
       "| 1   | 170.6           | 184.9           | 200.3           | 216.9           |\n",
       "| 2   | 164.6           | 178.5           | 193.4           | 209.6           |\n",
       "| 3   | 209.1           | 225.6           | 243.2           | 262.2           |\n",
       "| 4   | 182.4           | 197.3           | 213.1           | 230.3           |\n",
       "| 5   | 184.9           | 200.1           | 216.2           | 233.7           |\n",
       "| 6   | 175.0           | 189.6           | 205.1           | 221.8           |\n",
       "\n",
       "| Row | p_20061215_5700 | p_20061215_5750 | p_20061215_5800 | p_20061215_5850 |\n",
       "|-----|-----------------|-----------------|-----------------|-----------------|\n",
       "| 1   | 234.5           | 253.7           | 274.2           | 296.3           |\n",
       "| 2   | 226.7           | 245.2           | 264.9           | 286.1           |\n",
       "| 3   | 282.5           | 304.3           | 327.3           | 352.0           |\n",
       "| 4   | 248.8           | 268.5           | 289.5           | 312.1           |\n",
       "| 5   | 252.4           | 272.4           | 293.9           | 316.8           |\n",
       "| 6   | 239.9           | 259.2           | 280.1           | 302.1           |\n",
       "\n",
       "| Row | p_20061215_5900 | p_20061215_5950 | p_20061215_6000 | p_20061215_6050 |\n",
       "|-----|-----------------|-----------------|-----------------|-----------------|\n",
       "| 1   | 319.7           | 344.9           | 371.6           | 400.1           |\n",
       "| 2   | 308.8           | 333.0           | 359.0           | 386.7           |\n",
       "| 3   | 378.3           | 406.3           | 435.6           | 466.8           |\n",
       "| 4   | 336.4           | 362.2           | 389.6           | 418.7           |\n",
       "| 5   | 341.3           | 367.2           | 395.1           | 424.4           |\n",
       "| 6   | 326.0           | 351.4           | 378.5           | 407.0           |\n",
       "\n",
       "| Row | p_20061215_6100 | p_20061215_6150 | p_20061215_6200 | p_20061215_6250 |\n",
       "|-----|-----------------|-----------------|-----------------|-----------------|\n",
       "| 1   | 430.2           | 462.1           | 496.0           | 531.5           |\n",
       "| 2   | 416.6           | 447.9           | 481.3           | 516.5           |\n",
       "| 3   | 499.4           | 533.4           | 569.2           | 606.4           |\n",
       "| 4   | 449.2           | 481.6           | 515.5           | 551.0           |\n",
       "| 5   | 455.4           | 488.1           | 522.5           | 558.5           |\n",
       "| 6   | 437.5           | 469.6           | 503.3           | 538.6           |\n",
       "\n",
       "| Row | p_20061215_6300 | p_20061215_6350 | p_20061215_6400 | p_20061215_6450 |\n",
       "|-----|-----------------|-----------------|-----------------|-----------------|\n",
       "| 1   | 568.6           | 607.2           | 647.3           | 688.7           |\n",
       "| 2   | 553.5           | 592.2           | 632.3           | 673.7           |\n",
       "| 3   | 644.7           | 684.6           | 725.7           | 768.0           |\n",
       "| 4   | 588.0           | 626.6           | 666.4           | 707.6           |\n",
       "| 5   | 596.1           | 635.0           | 675.3           | 717.0           |\n",
       "| 6   | 575.6           | 614.0           | 653.9           | 695.0           |\n",
       "\n",
       "| Row | p_20061215_6500 | p_20061215_6550 | p_20061215_6600 | p_20061215_6650 |\n",
       "|-----|-----------------|-----------------|-----------------|-----------------|\n",
       "| 1   | 731.4           | 775.1           | 819.8           | 865.3           |\n",
       "| 2   | 716.2           | 759.8           | 804.2           | 849.4           |\n",
       "| 3   | 811.4           | 855.8           | 901.0           | 946.9           |\n",
       "| 4   | 749.9           | 793.4           | 837.8           | 883.1           |\n",
       "| 5   | 759.8           | 803.6           | 848.4           | 893.9           |\n",
       "| 6   | 737.4           | 780.9           | 825.3           | 870.7           |\n",
       "\n",
       "| Row | p_20061215_6700 | p_20061215_6750 | p_20061215_6800 | p_20061215_6900 |\n",
       "|-----|-----------------|-----------------|-----------------|-----------------|\n",
       "| 1   | 911.5           | NA              | 1005.5          | 1101.2          |\n",
       "| 2   | 895.2           | NA              | 988.6           | 1083.6          |\n",
       "| 3   | 993.4           | NA              | 1088.0          | 1183.9          |\n",
       "| 4   | 929.1           | NA              | 1022.9          | 1118.5          |\n",
       "| 5   | 940.2           | NA              | 1034.4          | 1130.2          |\n",
       "| 6   | 916.7           | NA              | 1010.6          | 1106.2          |\n",
       "\n",
       "| Row | p_20061215_7000 | p_20061215_7400 |\n",
       "|-----|-----------------|-----------------|\n",
       "| 1   | 1197.9          | 1589.4          |\n",
       "| 2   | 1179.7          | 1570.2          |\n",
       "| 3   | 1280.7          | 1672.4          |\n",
       "| 4   | 1215.1          | 1606.6          |\n",
       "| 5   | 1227.0          | 1618.7          |\n",
       "| 6   | 1202.9          | 1594.5          |"
      ]
     },
     "execution_count": 37,
     "metadata": {},
     "output_type": "execute_result"
    }
   ],
   "source": [
    "expDateObservations = unstack(obsExpDate, :Date, :ID, :Price)\n",
    "\n",
    "head(expDateObservations)"
   ]
  },
  {
   "cell_type": "code",
   "execution_count": 33,
   "metadata": {
    "collapsed": false
   },
   "outputs": [
    {
     "data": {
      "text/plain": [
       "(119,154)"
      ]
     },
     "execution_count": 33,
     "metadata": {},
     "output_type": "execute_result"
    }
   ],
   "source": [
    "size(expDateObservations)"
   ]
  },
  {
   "cell_type": "markdown",
   "metadata": {},
   "source": [
    "#### Split data into tables"
   ]
  },
  {
   "cell_type": "code",
   "execution_count": 18,
   "metadata": {
    "collapsed": false
   },
   "outputs": [
    {
     "data": {
      "text/html": [
       "<table class=\"data-frame\"><tr><th></th><th>Date</th><th>DAX</th></tr><tr><th>1</th><td>2006-07-03</td><td>5712.69</td></tr><tr><th>2</th><td>2006-07-04</td><td>5729.01</td></tr><tr><th>3</th><td>2006-07-05</td><td>5625.63</td></tr><tr><th>4</th><td>2006-07-06</td><td>5695.47</td></tr><tr><th>5</th><td>2006-07-07</td><td>5681.85</td></tr><tr><th>6</th><td>2006-07-10</td><td>5706.32</td></tr></table>"
      ],
      "text/plain": [
       "6x2 DataFrame\n",
       "| Row | Date       | DAX     |\n",
       "|-----|------------|---------|\n",
       "| 1   | 2006-07-03 | 5712.69 |\n",
       "| 2   | 2006-07-04 | 5729.01 |\n",
       "| 3   | 2006-07-05 | 5625.63 |\n",
       "| 4   | 2006-07-06 | 5695.47 |\n",
       "| 5   | 2006-07-07 | 5681.85 |\n",
       "| 6   | 2006-07-10 | 5706.32 |"
      ]
     },
     "execution_count": 18,
     "metadata": {},
     "output_type": "execute_result"
    }
   ],
   "source": []
  },
  {
   "cell_type": "code",
   "execution_count": 19,
   "metadata": {
    "collapsed": false
   },
   "outputs": [
    {
     "name": "stdout",
     "output_type": "stream",
     "text": [
      "elapsed time: 0.47628593 seconds (93393484 bytes allocated, 7.37% gc time)\n"
     ]
    },
    {
     "data": {
      "text/plain": [
       "(12917,3)"
      ]
     },
     "execution_count": 19,
     "metadata": {},
     "output_type": "execute_result"
    }
   ],
   "source": [
    "function getAllOptions_num_dates(df::DataFrame)\n",
    "    arrData = [df[:Strike].data df[:Expiry].data df[:IsCall].data]\n",
    "    return unique(arrData, 1)\n",
    "end\n",
    "\n",
    "@time allOpts = getAllOptions_num_dates(optData)\n",
    "size(allOpts)"
   ]
  },
  {
   "cell_type": "code",
   "execution_count": 36,
   "metadata": {
    "collapsed": false
   },
   "outputs": [
    {
     "data": {
      "text/html": [
       "<table class=\"data-frame\"><tr><th></th><th>Strike</th><th>Expiry</th><th>IsCall</th></tr><tr><th>1</th><td>4200</td><td>732513</td><td>0</td></tr><tr><th>2</th><td>4300</td><td>732513</td><td>0</td></tr><tr><th>3</th><td>4400</td><td>732513</td><td>0</td></tr><tr><th>4</th><td>4500</td><td>732513</td><td>0</td></tr><tr><th>5</th><td>4600</td><td>732513</td><td>0</td></tr><tr><th>6</th><td>4700</td><td>732513</td><td>0</td></tr></table>"
      ],
      "text/plain": [
       "6x3 DataFrame\n",
       "| Row | Strike | Expiry | IsCall |\n",
       "|-----|--------|--------|--------|\n",
       "| 1   | 4200   | 732513 | 0      |\n",
       "| 2   | 4300   | 732513 | 0      |\n",
       "| 3   | 4400   | 732513 | 0      |\n",
       "| 4   | 4500   | 732513 | 0      |\n",
       "| 5   | 4600   | 732513 | 0      |\n",
       "| 6   | 4700   | 732513 | 0      |"
      ]
     },
     "execution_count": 36,
     "metadata": {},
     "output_type": "execute_result"
    }
   ],
   "source": [
    "# sort options\n",
    "df = DataFrame(Strike = allOpts[:, 1], Expiry = allOpts[:, 2], IsCall = allOpts[:, 3])\n",
    "df_sorted = sort(df, cols = [:Expiry, :IsCall, :Strike])\n",
    "\n",
    "head(df_sorted)"
   ]
  },
  {
   "cell_type": "code",
   "execution_count": 39,
   "metadata": {
    "collapsed": false
   },
   "outputs": [
    {
     "data": {
      "text/plain": [
       "12917-element Array{String,1}:\n",
       " \"o1\"    \n",
       " \"o2\"    \n",
       " \"o3\"    \n",
       " \"o4\"    \n",
       " \"o5\"    \n",
       " \"o6\"    \n",
       " \"o7\"    \n",
       " \"o8\"    \n",
       " \"o9\"    \n",
       " \"o10\"   \n",
       " \"o11\"   \n",
       " \"o12\"   \n",
       " \"o13\"   \n",
       " ⋮       \n",
       " \"o12906\"\n",
       " \"o12907\"\n",
       " \"o12908\"\n",
       " \"o12909\"\n",
       " \"o12910\"\n",
       " \"o12911\"\n",
       " \"o12912\"\n",
       " \"o12913\"\n",
       " \"o12914\"\n",
       " \"o12915\"\n",
       " \"o12916\"\n",
       " \"o12917\""
      ]
     },
     "execution_count": 39,
     "metadata": {},
     "output_type": "execute_result"
    }
   ],
   "source": [
    "# create string identifiers (allows usage as column names)\n",
    "ids = String[string(\"o\", x) for x in 1:size(df_sorted, 1)]"
   ]
  },
  {
   "cell_type": "code",
   "execution_count": 41,
   "metadata": {
    "collapsed": false
   },
   "outputs": [
    {
     "data": {
      "text/plain": [
       "12917-element Array{Date,1}:\n",
       " 2006-07-21\n",
       " 2006-07-21\n",
       " 2006-07-21\n",
       " 2006-07-21\n",
       " 2006-07-21\n",
       " 2006-07-21\n",
       " 2006-07-21\n",
       " 2006-07-21\n",
       " 2006-07-21\n",
       " 2006-07-21\n",
       " 2006-07-21\n",
       " 2006-07-21\n",
       " 2006-07-21\n",
       " ⋮         \n",
       " 2014-12-19\n",
       " 2014-12-19\n",
       " 2014-12-19\n",
       " 2014-12-19\n",
       " 2014-12-19\n",
       " 2014-12-19\n",
       " 2014-12-19\n",
       " 2014-12-19\n",
       " 2014-12-19\n",
       " 2014-12-19\n",
       " 2014-12-19\n",
       " 2014-12-19"
      ]
     },
     "execution_count": 41,
     "metadata": {},
     "output_type": "execute_result"
    }
   ],
   "source": [
    "# get expiry dates as Date\n",
    "expy = df_sorted[:Expiry]\n",
    "expyDats = Date[Date(Dates.UTD(int(x))) for x in expy]"
   ]
  },
  {
   "cell_type": "code",
   "execution_count": 43,
   "metadata": {
    "collapsed": false
   },
   "outputs": [
    {
     "data": {
      "text/html": [
       "<table class=\"data-frame\"><tr><th></th><th>ID</th><th>Expiry</th><th>Strike</th><th>IsCall</th></tr><tr><th>1</th><td>o1</td><td>2006-07-21</td><td>4200</td><td>0</td></tr><tr><th>2</th><td>o2</td><td>2006-07-21</td><td>4300</td><td>0</td></tr><tr><th>3</th><td>o3</td><td>2006-07-21</td><td>4400</td><td>0</td></tr><tr><th>4</th><td>o4</td><td>2006-07-21</td><td>4500</td><td>0</td></tr><tr><th>5</th><td>o5</td><td>2006-07-21</td><td>4600</td><td>0</td></tr><tr><th>6</th><td>o6</td><td>2006-07-21</td><td>4700</td><td>0</td></tr></table>"
      ],
      "text/plain": [
       "6x4 DataFrame\n",
       "| Row | ID   | Expiry     | Strike | IsCall |\n",
       "|-----|------|------------|--------|--------|\n",
       "| 1   | \"o1\" | 2006-07-21 | 4200   | 0      |\n",
       "| 2   | \"o2\" | 2006-07-21 | 4300   | 0      |\n",
       "| 3   | \"o3\" | 2006-07-21 | 4400   | 0      |\n",
       "| 4   | \"o4\" | 2006-07-21 | 4500   | 0      |\n",
       "| 5   | \"o5\" | 2006-07-21 | 4600   | 0      |\n",
       "| 6   | \"o6\" | 2006-07-21 | 4700   | 0      |"
      ]
     },
     "execution_count": 43,
     "metadata": {},
     "output_type": "execute_result"
    }
   ],
   "source": [
    "opts = DataFrame(ID = ids, Expiry = expyDats, Strike = df_sorted[:Strike], IsCall = df_sorted[:IsCall])\n",
    "head(opts)"
   ]
  },
  {
   "cell_type": "code",
   "execution_count": 52,
   "metadata": {
    "collapsed": false
   },
   "outputs": [
    {
     "data": {
      "text/plain": [
       "2025129x3 Array{Int64,2}:\n",
       " 732660  1800  1\n",
       " 732660  1800  0\n",
       " 732660  2000  1\n",
       " 732660  2000  0\n",
       " 732660  2200  1\n",
       " 732660  2200  0\n",
       " 732660  2400  1\n",
       " 732660  2400  0\n",
       " 732660  2600  0\n",
       " 732660  2800  1\n",
       " 732660  2800  0\n",
       " 732660  3000  1\n",
       " 732660  3000  0\n",
       "      ⋮         \n",
       " 735250  9650  0\n",
       " 735250  9700  1\n",
       " 735250  9700  0\n",
       " 735250  9750  1\n",
       " 735250  9750  0\n",
       " 735250  9800  1\n",
       " 735250  9800  0\n",
       " 735250  9850  1\n",
       " 735250  9900  1\n",
       " 735250  9900  0\n",
       " 735250  9950  1\n",
       " 735250  9950  0"
      ]
     },
     "execution_count": 52,
     "metadata": {},
     "output_type": "execute_result"
    }
   ],
   "source": [
    "obs_optParams = [array(optData[[:Expiry, :Strike]]) optData[:IsCall]]"
   ]
  },
  {
   "cell_type": "code",
   "execution_count": 59,
   "metadata": {
    "collapsed": false
   },
   "outputs": [
    {
     "data": {
      "text/plain": [
       "12917x3 Array{Int64,2}:\n",
       " 732513   4200  0\n",
       " 732513   4300  0\n",
       " 732513   4400  0\n",
       " 732513   4500  0\n",
       " 732513   4600  0\n",
       " 732513   4700  0\n",
       " 732513   4800  0\n",
       " 732513   4850  0\n",
       " 732513   4900  0\n",
       " 732513   4950  0\n",
       " 732513   5000  0\n",
       " 732513   5050  0\n",
       " 732513   5100  0\n",
       "      ⋮          \n",
       " 735586  10000  1\n",
       " 735586  10100  1\n",
       " 735586  10200  1\n",
       " 735586  10300  1\n",
       " 735586  10400  1\n",
       " 735586  10500  1\n",
       " 735586  10600  1\n",
       " 735586  10700  1\n",
       " 735586  11000  1\n",
       " 735586  11400  1\n",
       " 735586  11600  1\n",
       " 735586  12000  1"
      ]
     },
     "execution_count": 59,
     "metadata": {},
     "output_type": "execute_result"
    }
   ],
   "source": [
    "numDates = Int[Dates.value(x) for x in opts[:Expiry]]\n",
    "opts_optParams = [numDates array(opts[[:Strike, :IsCall]])]"
   ]
  },
  {
   "cell_type": "markdown",
   "metadata": {},
   "source": [
    "- get option ID for each observation"
   ]
  },
  {
   "cell_type": "code",
   "execution_count": 72,
   "metadata": {
    "collapsed": false
   },
   "outputs": [
    {
     "data": {
      "text/plain": [
       "findEqualRow (generic function with 1 method)"
      ]
     },
     "execution_count": 72,
     "metadata": {},
     "output_type": "execute_result"
    }
   ],
   "source": [
    "function findEqualRow(rowToFind::Array{Int, 2}, listedRows::Array{Int, 2})\n",
    "    nRows, nCols = size(listedRows)\n",
    "    equTrue = trues(nRows)\n",
    "    for jj=1:nCols\n",
    "        equTrue = equTrue & (listedRows[:, jj] .== rowToFind[1, jj])\n",
    "    end\n",
    "    return find(equTrue)\n",
    "end"
   ]
  },
  {
   "cell_type": "code",
   "execution_count": 73,
   "metadata": {
    "collapsed": false
   },
   "outputs": [
    {
     "data": {
      "text/plain": [
       "1-element Array{Int64,1}:\n",
       " 226"
      ]
     },
     "execution_count": 73,
     "metadata": {},
     "output_type": "execute_result"
    }
   ],
   "source": [
    "findEqualRow(obs_optParams[1200, :], opts_optParams)"
   ]
  },
  {
   "cell_type": "code",
   "execution_count": 74,
   "metadata": {
    "collapsed": false
   },
   "outputs": [
    {
     "data": {
      "text/plain": [
       "1x3 Array{Int64,2}:\n",
       " 732569  6500  0"
      ]
     },
     "execution_count": 74,
     "metadata": {},
     "output_type": "execute_result"
    }
   ],
   "source": [
    "obs_optParams[1200,:]"
   ]
  },
  {
   "cell_type": "code",
   "execution_count": 75,
   "metadata": {
    "collapsed": false
   },
   "outputs": [
    {
     "data": {
      "text/plain": [
       "1x3 Array{Int64,2}:\n",
       " 732569  6500  0"
      ]
     },
     "execution_count": 75,
     "metadata": {},
     "output_type": "execute_result"
    }
   ],
   "source": [
    "opts_optParams[226, :]"
   ]
  },
  {
   "cell_type": "code",
   "execution_count": 82,
   "metadata": {
    "collapsed": false
   },
   "outputs": [
    {
     "name": "stdout",
     "output_type": "stream",
     "text": [
      "elapsed time: 2269.044490644 seconds (684330751480 bytes allocated, 85.27% gc time)\n"
     ]
    }
   ],
   "source": [
    "@time begin \n",
    "    nObs = size(obs_optParams, 1)\n",
    "    obs_optIDs = Array(String, nObs)\n",
    "    for ii=1:nObs\n",
    "        currParams = obs_optParams[ii, :]\n",
    "        ind = findEqualRow(currParams, opts_optParams)[1]\n",
    "        obs_optIDs[ii] = opts[ind, :ID]\n",
    "    end\n",
    "end"
   ]
  },
  {
   "cell_type": "code",
   "execution_count": 83,
   "metadata": {
    "collapsed": false
   },
   "outputs": [
    {
     "data": {
      "text/plain": [
       "2025129-element Array{String,1}:\n",
       " \"o530\"  \n",
       " \"o457\"  \n",
       " \"o531\"  \n",
       " \"o458\"  \n",
       " \"o532\"  \n",
       " \"o459\"  \n",
       " \"o533\"  \n",
       " \"o460\"  \n",
       " \"o461\"  \n",
       " \"o534\"  \n",
       " \"o462\"  \n",
       " \"o535\"  \n",
       " \"o463\"  \n",
       " ⋮       \n",
       " \"o12200\"\n",
       " \"o12257\"\n",
       " \"o12201\"\n",
       " \"o12258\"\n",
       " \"o12202\"\n",
       " \"o12259\"\n",
       " \"o12203\"\n",
       " \"o12260\"\n",
       " \"o12261\"\n",
       " \"o12204\"\n",
       " \"o12262\"\n",
       " \"o12205\""
      ]
     },
     "execution_count": 83,
     "metadata": {},
     "output_type": "execute_result"
    }
   ],
   "source": [
    "obs_optIDs"
   ]
  },
  {
   "cell_type": "code",
   "execution_count": 86,
   "metadata": {
    "collapsed": false
   },
   "outputs": [
    {
     "data": {
      "text/html": [
       "<table class=\"data-frame\"><tr><th></th><th>Date</th><th>Option_Price</th><th>Bid</th><th>Ask</th><th>Volume</th><th>Open_Interest</th><th>Strike</th><th>Expiry</th><th>DAX</th><th>EONIA_matched</th><th>Time_to_Maturity</th><th>IsCall</th><th>ID</th></tr><tr><th>1</th><td>732495</td><td>3931.1</td><td>NA</td><td>NA</td><td>1</td><td>104</td><td>1800</td><td>732660</td><td>5712.69</td><td>0.031667592146348</td><td>0.466666666666667</td><td>true</td><td>o530</td></tr><tr><th>2</th><td>732495</td><td>0.1</td><td>NA</td><td>NA</td><td>0</td><td>5515</td><td>1800</td><td>732660</td><td>5712.69</td><td>0.0316675921463482</td><td>0.466666666666667</td><td>false</td><td>o457</td></tr><tr><th>3</th><td>732495</td><td>3734.0</td><td>NA</td><td>NA</td><td>0</td><td>2152</td><td>2000</td><td>732660</td><td>5712.69</td><td>0.0316675921463482</td><td>0.466666666666667</td><td>true</td><td>o531</td></tr><tr><th>4</th><td>732495</td><td>0.1</td><td>NA</td><td>NA</td><td>0</td><td>20941</td><td>2000</td><td>732660</td><td>5712.69</td><td>0.0316675921463482</td><td>0.466666666666667</td><td>false</td><td>o458</td></tr><tr><th>5</th><td>732495</td><td>3536.9</td><td>NA</td><td>NA</td><td>0</td><td>2</td><td>2200</td><td>732660</td><td>5712.69</td><td>0.0316675921463482</td><td>0.466666666666667</td><td>true</td><td>o532</td></tr><tr><th>6</th><td>732495</td><td>0.1</td><td>NA</td><td>NA</td><td>0</td><td>4626</td><td>2200</td><td>732660</td><td>5712.69</td><td>0.0316675921463482</td><td>0.466666666666667</td><td>false</td><td>o459</td></tr></table>"
      ],
      "text/plain": [
       "6x13 DataFrame\n",
       "| Row | Date   | Option_Price | Bid | Ask | Volume | Open_Interest | Strike |\n",
       "|-----|--------|--------------|-----|-----|--------|---------------|--------|\n",
       "| 1   | 732495 | 3931.1       | NA  | NA  | 1      | 104           | 1800   |\n",
       "| 2   | 732495 | 0.1          | NA  | NA  | 0      | 5515          | 1800   |\n",
       "| 3   | 732495 | 3734.0       | NA  | NA  | 0      | 2152          | 2000   |\n",
       "| 4   | 732495 | 0.1          | NA  | NA  | 0      | 20941         | 2000   |\n",
       "| 5   | 732495 | 3536.9       | NA  | NA  | 0      | 2             | 2200   |\n",
       "| 6   | 732495 | 0.1          | NA  | NA  | 0      | 4626          | 2200   |\n",
       "\n",
       "| Row | Expiry | DAX     | EONIA_matched | Time_to_Maturity | IsCall | ID     |\n",
       "|-----|--------|---------|---------------|------------------|--------|--------|\n",
       "| 1   | 732660 | 5712.69 | 0.0316676     | 0.466667         | true   | \"o530\" |\n",
       "| 2   | 732660 | 5712.69 | 0.0316676     | 0.466667         | false  | \"o457\" |\n",
       "| 3   | 732660 | 5712.69 | 0.0316676     | 0.466667         | true   | \"o531\" |\n",
       "| 4   | 732660 | 5712.69 | 0.0316676     | 0.466667         | false  | \"o458\" |\n",
       "| 5   | 732660 | 5712.69 | 0.0316676     | 0.466667         | true   | \"o532\" |\n",
       "| 6   | 732660 | 5712.69 | 0.0316676     | 0.466667         | false  | \"o459\" |"
      ]
     },
     "execution_count": 86,
     "metadata": {},
     "output_type": "execute_result"
    }
   ],
   "source": [
    "optData[:ID] = obs_optIDs\n",
    "head(optData)"
   ]
  },
  {
   "cell_type": "code",
   "execution_count": 91,
   "metadata": {
    "collapsed": false
   },
   "outputs": [],
   "source": [
    "writetable(\"../data/rel_data/optData.csv\", optData)\n",
    "writetable(\"../data/rel_data/underlying.csv\", underlying)\n",
    "writetable(\"../data/rel_data/opts.csv\", opts)"
   ]
  },
  {
   "cell_type": "markdown",
   "metadata": {},
   "source": [
    "- transform to dates"
   ]
  },
  {
   "cell_type": "code",
   "execution_count": 3,
   "metadata": {
    "collapsed": false
   },
   "outputs": [
    {
     "name": "stdout",
     "output_type": "stream",
     "text": [
      "elapsed time: 0.053756241 seconds (33650864 bytes allocated)\n"
     ]
    },
    {
     "data": {
      "text/html": [
       "<table class=\"data-frame\"><tr><th></th><th>Date</th><th>Option_Price</th><th>Bid</th><th>Ask</th><th>Volume</th><th>Open_Interest</th><th>Strike</th><th>Expiry</th><th>DAX</th><th>EONIA_matched</th><th>Time_to_Maturity</th><th>IsCall</th></tr><tr><th>1</th><td>2006-07-03</td><td>3931.1</td><td>NA</td><td>NA</td><td>1</td><td>104</td><td>1800</td><td>2006-12-15</td><td>5712.69</td><td>0.031667592146348</td><td>0.466666666666667</td><td>true</td></tr><tr><th>2</th><td>2006-07-03</td><td>0.1</td><td>NA</td><td>NA</td><td>0</td><td>5515</td><td>1800</td><td>2006-12-15</td><td>5712.69</td><td>0.0316675921463482</td><td>0.466666666666667</td><td>false</td></tr><tr><th>3</th><td>2006-07-03</td><td>3734.0</td><td>NA</td><td>NA</td><td>0</td><td>2152</td><td>2000</td><td>2006-12-15</td><td>5712.69</td><td>0.0316675921463482</td><td>0.466666666666667</td><td>true</td></tr><tr><th>4</th><td>2006-07-03</td><td>0.1</td><td>NA</td><td>NA</td><td>0</td><td>20941</td><td>2000</td><td>2006-12-15</td><td>5712.69</td><td>0.0316675921463482</td><td>0.466666666666667</td><td>false</td></tr><tr><th>5</th><td>2006-07-03</td><td>3536.9</td><td>NA</td><td>NA</td><td>0</td><td>2</td><td>2200</td><td>2006-12-15</td><td>5712.69</td><td>0.0316675921463482</td><td>0.466666666666667</td><td>true</td></tr><tr><th>6</th><td>2006-07-03</td><td>0.1</td><td>NA</td><td>NA</td><td>0</td><td>4626</td><td>2200</td><td>2006-12-15</td><td>5712.69</td><td>0.0316675921463482</td><td>0.466666666666667</td><td>false</td></tr><tr><th>7</th><td>2006-07-03</td><td>3339.8</td><td>NA</td><td>NA</td><td>0</td><td>2009</td><td>2400</td><td>2006-12-15</td><td>5712.69</td><td>0.0316675921463482</td><td>0.466666666666667</td><td>true</td></tr><tr><th>8</th><td>2006-07-03</td><td>0.1</td><td>NA</td><td>NA</td><td>0</td><td>13367</td><td>2400</td><td>2006-12-15</td><td>5712.69</td><td>0.0316675921463482</td><td>0.466666666666667</td><td>false</td></tr><tr><th>9</th><td>2006-07-03</td><td>0.2</td><td>NA</td><td>NA</td><td>0</td><td>2297</td><td>2600</td><td>2006-12-15</td><td>5712.69</td><td>0.0316675921463482</td><td>0.466666666666667</td><td>false</td></tr><tr><th>10</th><td>2006-07-03</td><td>2945.9</td><td>NA</td><td>NA</td><td>0</td><td>624</td><td>2800</td><td>2006-12-15</td><td>5712.69</td><td>0.0316675921463482</td><td>0.466666666666667</td><td>true</td></tr><tr><th>11</th><td>2006-07-03</td><td>0.5</td><td>NA</td><td>NA</td><td>0</td><td>6213</td><td>2800</td><td>2006-12-15</td><td>5712.69</td><td>0.0316675921463482</td><td>0.466666666666667</td><td>false</td></tr><tr><th>12</th><td>2006-07-03</td><td>2749.2</td><td>NA</td><td>NA</td><td>0</td><td>5808</td><td>3000</td><td>2006-12-15</td><td>5712.69</td><td>0.0316675921463482</td><td>0.466666666666667</td><td>true</td></tr><tr><th>13</th><td>2006-07-03</td><td>0.9</td><td>NA</td><td>NA</td><td>10</td><td>16589</td><td>3000</td><td>2006-12-15</td><td>5712.69</td><td>0.0316675921463482</td><td>0.466666666666667</td><td>false</td></tr><tr><th>14</th><td>2006-07-03</td><td>2552.7</td><td>NA</td><td>NA</td><td>0</td><td>3763</td><td>3200</td><td>2006-12-15</td><td>5712.69</td><td>0.0316675921463482</td><td>0.466666666666667</td><td>true</td></tr><tr><th>15</th><td>2006-07-03</td><td>1.5</td><td>NA</td><td>NA</td><td>0</td><td>29118</td><td>3200</td><td>2006-12-15</td><td>5712.69</td><td>0.0316675921463482</td><td>0.466666666666667</td><td>false</td></tr><tr><th>16</th><td>2006-07-03</td><td>2356.7</td><td>NA</td><td>NA</td><td>0</td><td>2913</td><td>3400</td><td>2006-12-15</td><td>5712.69</td><td>0.0316675921463482</td><td>0.466666666666667</td><td>true</td></tr><tr><th>17</th><td>2006-07-03</td><td>2.6</td><td>NA</td><td>NA</td><td>0</td><td>31559</td><td>3400</td><td>2006-12-15</td><td>5712.69</td><td>0.0316675921463482</td><td>0.466666666666667</td><td>false</td></tr><tr><th>18</th><td>2006-07-03</td><td>2161.2</td><td>NA</td><td>NA</td><td>0</td><td>8107</td><td>3600</td><td>2006-12-15</td><td>5712.69</td><td>0.0316675921463482</td><td>0.466666666666667</td><td>true</td></tr><tr><th>19</th><td>2006-07-03</td><td>4.2</td><td>NA</td><td>NA</td><td>0</td><td>28976</td><td>3600</td><td>2006-12-15</td><td>5712.69</td><td>0.0316675921463482</td><td>0.466666666666667</td><td>false</td></tr><tr><th>20</th><td>2006-07-03</td><td>1966.6</td><td>NA</td><td>NA</td><td>0</td><td>8817</td><td>3800</td><td>2006-12-15</td><td>5712.69</td><td>0.0316675921463482</td><td>0.466666666666667</td><td>true</td></tr><tr><th>21</th><td>2006-07-03</td><td>6.8</td><td>NA</td><td>NA</td><td>0</td><td>45495</td><td>3800</td><td>2006-12-15</td><td>5712.69</td><td>0.0316675921463482</td><td>0.466666666666667</td><td>false</td></tr><tr><th>22</th><td>2006-07-03</td><td>1869.7</td><td>NA</td><td>NA</td><td>0</td><td>200</td><td>3900</td><td>2006-12-15</td><td>5712.69</td><td>0.0316675921463482</td><td>0.466666666666667</td><td>true</td></tr><tr><th>23</th><td>2006-07-03</td><td>8.4</td><td>NA</td><td>NA</td><td>0</td><td>5155</td><td>3900</td><td>2006-12-15</td><td>5712.69</td><td>0.0316675921463482</td><td>0.466666666666667</td><td>false</td></tr><tr><th>24</th><td>2006-07-03</td><td>9.4</td><td>NA</td><td>NA</td><td>0</td><td>2244</td><td>3950</td><td>2006-12-15</td><td>5712.69</td><td>0.0316675921463482</td><td>0.466666666666667</td><td>false</td></tr><tr><th>25</th><td>2006-07-03</td><td>1773.2</td><td>NA</td><td>NA</td><td>0</td><td>30542</td><td>4000</td><td>2006-12-15</td><td>5712.69</td><td>0.0316675921463482</td><td>0.466666666666667</td><td>true</td></tr><tr><th>26</th><td>2006-07-03</td><td>10.5</td><td>NA</td><td>NA</td><td>100</td><td>63073</td><td>4000</td><td>2006-12-15</td><td>5712.69</td><td>0.0316675921463482</td><td>0.466666666666667</td><td>false</td></tr><tr><th>27</th><td>2006-07-03</td><td>1725.1</td><td>NA</td><td>NA</td><td>0</td><td>195</td><td>4050</td><td>2006-12-15</td><td>5712.69</td><td>0.0316675921463482</td><td>0.466666666666667</td><td>true</td></tr><tr><th>28</th><td>2006-07-03</td><td>11.7</td><td>NA</td><td>NA</td><td>0</td><td>2369</td><td>4050</td><td>2006-12-15</td><td>5712.69</td><td>0.0316675921463482</td><td>0.466666666666667</td><td>false</td></tr><tr><th>29</th><td>2006-07-03</td><td>1677.1</td><td>NA</td><td>NA</td><td>0</td><td>884</td><td>4100</td><td>2006-12-15</td><td>5712.69</td><td>0.0316675921463482</td><td>0.466666666666667</td><td>true</td></tr><tr><th>30</th><td>2006-07-03</td><td>13.0</td><td>NA</td><td>NA</td><td>20</td><td>17002</td><td>4100</td><td>2006-12-15</td><td>5712.69</td><td>0.0316675921463482</td><td>0.466666666666667</td><td>false</td></tr><tr><th>&vellip;</th><td>&vellip;</td><td>&vellip;</td><td>&vellip;</td><td>&vellip;</td><td>&vellip;</td><td>&vellip;</td><td>&vellip;</td><td>&vellip;</td><td>&vellip;</td><td>&vellip;</td><td>&vellip;</td><td>&vellip;</td></tr></table>"
      ],
      "text/plain": [
       "2025129x12 DataFrame\n",
       "| Row     | Date       | Option_Price | Bid   | Ask   | Volume | Open_Interest |\n",
       "|---------|------------|--------------|-------|-------|--------|---------------|\n",
       "| 1       | 2006-07-03 | 3931.1       | NA    | NA    | 1      | 104           |\n",
       "| 2       | 2006-07-03 | 0.1          | NA    | NA    | 0      | 5515          |\n",
       "| 3       | 2006-07-03 | 3734.0       | NA    | NA    | 0      | 2152          |\n",
       "| 4       | 2006-07-03 | 0.1          | NA    | NA    | 0      | 20941         |\n",
       "| 5       | 2006-07-03 | 3536.9       | NA    | NA    | 0      | 2             |\n",
       "| 6       | 2006-07-03 | 0.1          | NA    | NA    | 0      | 4626          |\n",
       "| 7       | 2006-07-03 | 3339.8       | NA    | NA    | 0      | 2009          |\n",
       "| 8       | 2006-07-03 | 0.1          | NA    | NA    | 0      | 13367         |\n",
       "| 9       | 2006-07-03 | 0.2          | NA    | NA    | 0      | 2297          |\n",
       "| 10      | 2006-07-03 | 2945.9       | NA    | NA    | 0      | 624           |\n",
       "| 11      | 2006-07-03 | 0.5          | NA    | NA    | 0      | 6213          |\n",
       "⋮\n",
       "| 2025118 | 2013-12-30 | 140.0        | 147.0 | 153.8 | 2300   | 2311          |\n",
       "| 2025119 | 2013-12-30 | 63.6         | 57.4  | 58.3  | 412    | 7633          |\n",
       "| 2025120 | 2013-12-30 | 169.9        | 174.7 | 185.9 | 19     | 76            |\n",
       "| 2025121 | 2013-12-30 | 47.2         | 41.1  | 42.7  | 180    | 6237          |\n",
       "| 2025122 | 2013-12-30 | 203.5        | 208.4 | 222.6 | 0      | 10            |\n",
       "| 2025123 | 2013-12-30 | 34.4         | 29.7  | 31.1  | 1795   | 14802         |\n",
       "| 2025124 | 2013-12-30 | 240.7        | 245.6 | 262.7 | 0      | 92            |\n",
       "| 2025125 | 2013-12-30 | 24.8         | 21.3  | 22.6  | 118    | 1908          |\n",
       "| 2025126 | 2013-12-30 | 17.7         | 15.0  | 16.4  | 1100   | 3989          |\n",
       "| 2025127 | 2013-12-30 | 324.0        | 328.6 | 349.8 | 5      | 5             |\n",
       "| 2025128 | 2013-12-30 | 12.6         | 10.7  | 12.1  | 9      | 428           |\n",
       "| 2025129 | 2013-12-30 | 368.9        | 374.2 | 398.0 | 1      | 1             |\n",
       "\n",
       "| Row     | Strike | Expiry     | DAX     | EONIA_matched | Time_to_Maturity |\n",
       "|---------|--------|------------|---------|---------------|------------------|\n",
       "| 1       | 1800   | 2006-12-15 | 5712.69 | 0.0316676     | 0.466667         |\n",
       "| 2       | 1800   | 2006-12-15 | 5712.69 | 0.0316676     | 0.466667         |\n",
       "| 3       | 2000   | 2006-12-15 | 5712.69 | 0.0316676     | 0.466667         |\n",
       "| 4       | 2000   | 2006-12-15 | 5712.69 | 0.0316676     | 0.466667         |\n",
       "| 5       | 2200   | 2006-12-15 | 5712.69 | 0.0316676     | 0.466667         |\n",
       "| 6       | 2200   | 2006-12-15 | 5712.69 | 0.0316676     | 0.466667         |\n",
       "| 7       | 2400   | 2006-12-15 | 5712.69 | 0.0316676     | 0.466667         |\n",
       "| 8       | 2400   | 2006-12-15 | 5712.69 | 0.0316676     | 0.466667         |\n",
       "| 9       | 2600   | 2006-12-15 | 5712.69 | 0.0316676     | 0.466667         |\n",
       "| 10      | 2800   | 2006-12-15 | 5712.69 | 0.0316676     | 0.466667         |\n",
       "| 11      | 2800   | 2006-12-15 | 5712.69 | 0.0316676     | 0.466667         |\n",
       "⋮\n",
       "| 2025118 | 9650   | 2014-01-17 | 9552.16 | 0.00207379    | 0.0470588        |\n",
       "| 2025119 | 9700   | 2014-01-17 | 9552.16 | 0.00207379    | 0.0470588        |\n",
       "| 2025120 | 9700   | 2014-01-17 | 9552.16 | 0.00207379    | 0.0470588        |\n",
       "| 2025121 | 9750   | 2014-01-17 | 9552.16 | 0.00207379    | 0.0470588        |\n",
       "| 2025122 | 9750   | 2014-01-17 | 9552.16 | 0.00207379    | 0.0470588        |\n",
       "| 2025123 | 9800   | 2014-01-17 | 9552.16 | 0.00207379    | 0.0470588        |\n",
       "| 2025124 | 9800   | 2014-01-17 | 9552.16 | 0.00207379    | 0.0470588        |\n",
       "| 2025125 | 9850   | 2014-01-17 | 9552.16 | 0.00207379    | 0.0470588        |\n",
       "| 2025126 | 9900   | 2014-01-17 | 9552.16 | 0.00207379    | 0.0470588        |\n",
       "| 2025127 | 9900   | 2014-01-17 | 9552.16 | 0.00207379    | 0.0470588        |\n",
       "| 2025128 | 9950   | 2014-01-17 | 9552.16 | 0.00207379    | 0.0470588        |\n",
       "| 2025129 | 9950   | 2014-01-17 | 9552.16 | 0.00207379    | 0.0470588        |\n",
       "\n",
       "| Row     | IsCall |\n",
       "|---------|--------|\n",
       "| 1       | true   |\n",
       "| 2       | false  |\n",
       "| 3       | true   |\n",
       "| 4       | false  |\n",
       "| 5       | true   |\n",
       "| 6       | false  |\n",
       "| 7       | true   |\n",
       "| 8       | false  |\n",
       "| 9       | false  |\n",
       "| 10      | true   |\n",
       "| 11      | false  |\n",
       "⋮\n",
       "| 2025118 | false  |\n",
       "| 2025119 | true   |\n",
       "| 2025120 | false  |\n",
       "| 2025121 | true   |\n",
       "| 2025122 | false  |\n",
       "| 2025123 | true   |\n",
       "| 2025124 | false  |\n",
       "| 2025125 | true   |\n",
       "| 2025126 | true   |\n",
       "| 2025127 | false  |\n",
       "| 2025128 | true   |\n",
       "| 2025129 | false  |"
      ]
     },
     "execution_count": 3,
     "metadata": {},
     "output_type": "execute_result"
    }
   ],
   "source": [
    "function num2date(numb::Int64)\n",
    "    return Date(Dates.UTD(numb))\n",
    "end\n",
    "function num2date(numb::Array{Int64})\n",
    "    nDats = size(numb, 1)\n",
    "    dats = Array(Date, nDats)\n",
    "    for ii=1:nDats\n",
    "        dats[ii] = num2date(numb[ii])\n",
    "    end\n",
    "    return dats\n",
    "end\n",
    "\n",
    "@time begin\n",
    "    optData[:Date] = num2date(optData[:Date].data)\n",
    "    optData[:Expiry] = num2date(optData[:Expiry].data)\n",
    "end\n",
    "optData"
   ]
  },
  {
   "cell_type": "code",
   "execution_count": 6,
   "metadata": {
    "collapsed": false
   },
   "outputs": [
    {
     "ename": "LoadError",
     "evalue": "syntax: keyword argument is not a symbol: \"4\"\nwhile loading In[6], in expression starting on line 1",
     "output_type": "error",
     "traceback": [
      "syntax: keyword argument is not a symbol: \"4\"\nwhile loading In[6], in expression starting on line 1",
      ""
     ]
    }
   ],
   "source": [
    "df = DataFrame(a = [3, 4], b = [5, 3], \"4\" = [4, 2])"
   ]
  },
  {
   "cell_type": "markdown",
   "metadata": {},
   "source": [
    "- arbitrarily select an expiry date"
   ]
  },
  {
   "cell_type": "code",
   "execution_count": 6,
   "metadata": {
    "collapsed": false
   },
   "outputs": [
    {
     "data": {
      "text/plain": [
       "2008-08-15"
      ]
     },
     "execution_count": 6,
     "metadata": {},
     "output_type": "execute_result"
    }
   ],
   "source": [
    "chosenExpiry = unique(optData[:Expiry])[35]"
   ]
  },
  {
   "cell_type": "markdown",
   "metadata": {},
   "source": [
    "- get all option data with given expiry date"
   ]
  },
  {
   "cell_type": "code",
   "execution_count": 8,
   "metadata": {
    "collapsed": false
   },
   "outputs": [
    {
     "data": {
      "text/html": [
       "<table class=\"data-frame\"><tr><th></th><th>Date</th><th>Option_Price</th><th>Bid</th><th>Ask</th><th>Volume</th><th>Open_Interest</th><th>Strike</th><th>Expiry</th><th>DAX</th><th>EONIA_matched</th><th>Time_to_Maturity</th><th>IsCall</th></tr><tr><th>1</th><td>2008-05-19</td><td>87.1</td><td>NA</td><td>NA</td><td>785</td><td>750</td><td>6700</td><td>2008-08-15</td><td>7225.94</td><td>0.0474534715097305</td><td>0.250980392156863</td><td>false</td></tr><tr><th>2</th><td>2008-05-19</td><td>104.2</td><td>NA</td><td>NA</td><td>2</td><td>2</td><td>6800</td><td>2008-08-15</td><td>7225.94</td><td>0.0474534715097305</td><td>0.250980392156863</td><td>false</td></tr><tr><th>3</th><td>2008-05-19</td><td>113.7</td><td>NA</td><td>NA</td><td>66</td><td>66</td><td>6850</td><td>2008-08-15</td><td>7225.94</td><td>0.0474534715097305</td><td>0.250980392156863</td><td>false</td></tr><tr><th>4</th><td>2008-05-19</td><td>124.2</td><td>NA</td><td>NA</td><td>4</td><td>4</td><td>6900</td><td>2008-08-15</td><td>7225.94</td><td>0.0474534715097305</td><td>0.250980392156863</td><td>false</td></tr><tr><th>5</th><td>2008-05-19</td><td>135.5</td><td>NA</td><td>NA</td><td>380</td><td>380</td><td>6950</td><td>2008-08-15</td><td>7225.94</td><td>0.0474534715097305</td><td>0.250980392156863</td><td>false</td></tr><tr><th>6</th><td>2008-05-19</td><td>147.6</td><td>NA</td><td>NA</td><td>5</td><td>5</td><td>7000</td><td>2008-08-15</td><td>7225.94</td><td>0.0474534715097305</td><td>0.250980392156863</td><td>false</td></tr><tr><th>7</th><td>2008-05-19</td><td>306.8</td><td>NA</td><td>NA</td><td>32</td><td>30</td><td>7200</td><td>2008-08-15</td><td>7225.94</td><td>0.0474534715097305</td><td>0.250980392156863</td><td>true</td></tr><tr><th>8</th><td>2008-05-19</td><td>275.6</td><td>NA</td><td>NA</td><td>5</td><td>5</td><td>7250</td><td>2008-08-15</td><td>7225.94</td><td>0.0474534715097305</td><td>0.250980392156863</td><td>true</td></tr><tr><th>9</th><td>2008-05-19</td><td>246.0</td><td>NA</td><td>NA</td><td>5</td><td>5</td><td>7300</td><td>2008-08-15</td><td>7225.94</td><td>0.0474534715097305</td><td>0.250980392156863</td><td>true</td></tr><tr><th>10</th><td>2008-05-19</td><td>218.2</td><td>NA</td><td>NA</td><td>75</td><td>75</td><td>7350</td><td>2008-08-15</td><td>7225.94</td><td>0.0474534715097305</td><td>0.250980392156863</td><td>true</td></tr><tr><th>11</th><td>2008-05-19</td><td>192.0</td><td>NA</td><td>NA</td><td>100</td><td>100</td><td>7400</td><td>2008-08-15</td><td>7225.94</td><td>0.0474534715097305</td><td>0.250980392156863</td><td>true</td></tr><tr><th>12</th><td>2008-05-19</td><td>145.0</td><td>NA</td><td>NA</td><td>2</td><td>2</td><td>7500</td><td>2008-08-15</td><td>7225.94</td><td>0.0474534715097305</td><td>0.250980392156863</td><td>true</td></tr><tr><th>13</th><td>2008-05-19</td><td>105.3</td><td>NA</td><td>NA</td><td>235</td><td>235</td><td>7600</td><td>2008-08-15</td><td>7225.94</td><td>0.0474534715097305</td><td>0.250980392156863</td><td>true</td></tr><tr><th>14</th><td>2008-05-19</td><td>400.7</td><td>NA</td><td>NA</td><td>200</td><td>200</td><td>7600</td><td>2008-08-15</td><td>7225.94</td><td>0.0474534715097305</td><td>0.250980392156863</td><td>false</td></tr><tr><th>15</th><td>2008-05-20</td><td>1.7</td><td>NA</td><td>NA</td><td>325</td><td>325</td><td>5600</td><td>2008-08-15</td><td>7118.5</td><td>0.0473660322284041</td><td>0.247058823529412</td><td>false</td></tr><tr><th>16</th><td>2008-05-20</td><td>2.4</td><td>NA</td><td>NA</td><td>300</td><td>300</td><td>5650</td><td>2008-08-15</td><td>7118.5</td><td>0.0473660322284041</td><td>0.247058823529412</td><td>false</td></tr><tr><th>17</th><td>2008-05-20</td><td>3.1</td><td>NA</td><td>NA</td><td>300</td><td>300</td><td>5700</td><td>2008-08-15</td><td>7118.5</td><td>0.0473660322284041</td><td>0.247058823529412</td><td>false</td></tr><tr><th>18</th><td>2008-05-20</td><td>3.8</td><td>NA</td><td>NA</td><td>200</td><td>200</td><td>5750</td><td>2008-08-15</td><td>7118.5</td><td>0.0473660322284041</td><td>0.247058823529412</td><td>false</td></tr><tr><th>19</th><td>2008-05-20</td><td>4.8</td><td>NA</td><td>NA</td><td>200</td><td>200</td><td>5800</td><td>2008-08-15</td><td>7118.5</td><td>0.0473660322284041</td><td>0.247058823529412</td><td>false</td></tr><tr><th>20</th><td>2008-05-20</td><td>6.3</td><td>NA</td><td>NA</td><td>100</td><td>100</td><td>5850</td><td>2008-08-15</td><td>7118.5</td><td>0.0473660322284041</td><td>0.247058823529412</td><td>false</td></tr><tr><th>21</th><td>2008-05-20</td><td>7.7</td><td>NA</td><td>NA</td><td>104</td><td>104</td><td>5900</td><td>2008-08-15</td><td>7118.5</td><td>0.0473660322284041</td><td>0.247058823529412</td><td>false</td></tr><tr><th>22</th><td>2008-05-20</td><td>9.1</td><td>NA</td><td>NA</td><td>100</td><td>100</td><td>5950</td><td>2008-08-15</td><td>7118.5</td><td>0.0473660322284041</td><td>0.247058823529412</td><td>false</td></tr><tr><th>23</th><td>2008-05-20</td><td>11.7</td><td>NA</td><td>NA</td><td>416</td><td>366</td><td>6000</td><td>2008-08-15</td><td>7118.5</td><td>0.0473660322284041</td><td>0.247058823529412</td><td>false</td></tr><tr><th>24</th><td>2008-05-20</td><td>17.0</td><td>NA</td><td>NA</td><td>400</td><td>400</td><td>6100</td><td>2008-08-15</td><td>7118.5</td><td>0.0473660322284041</td><td>0.247058823529412</td><td>false</td></tr><tr><th>25</th><td>2008-05-20</td><td>25.0</td><td>NA</td><td>NA</td><td>175</td><td>175</td><td>6200</td><td>2008-08-15</td><td>7118.5</td><td>0.0473660322284041</td><td>0.247058823529412</td><td>false</td></tr><tr><th>26</th><td>2008-05-20</td><td>34.1</td><td>NA</td><td>NA</td><td>367</td><td>367</td><td>6300</td><td>2008-08-15</td><td>7118.5</td><td>0.0473660322284041</td><td>0.247058823529412</td><td>false</td></tr><tr><th>27</th><td>2008-05-20</td><td>47.9</td><td>NA</td><td>NA</td><td>398</td><td>332</td><td>6400</td><td>2008-08-15</td><td>7118.5</td><td>0.0473660322284041</td><td>0.247058823529412</td><td>false</td></tr><tr><th>28</th><td>2008-05-20</td><td>749.1</td><td>NA</td><td>NA</td><td>50</td><td>50</td><td>6500</td><td>2008-08-15</td><td>7118.5</td><td>0.0473660322284041</td><td>0.247058823529412</td><td>true</td></tr><tr><th>29</th><td>2008-05-20</td><td>62.6</td><td>NA</td><td>NA</td><td>310</td><td>310</td><td>6500</td><td>2008-08-15</td><td>7118.5</td><td>0.0473660322284041</td><td>0.247058823529412</td><td>false</td></tr><tr><th>30</th><td>2008-05-20</td><td>95.3</td><td>NA</td><td>NA</td><td>100</td><td>100</td><td>6650</td><td>2008-08-15</td><td>7118.5</td><td>0.0473660322284041</td><td>0.247058823529412</td><td>false</td></tr><tr><th>&vellip;</th><td>&vellip;</td><td>&vellip;</td><td>&vellip;</td><td>&vellip;</td><td>&vellip;</td><td>&vellip;</td><td>&vellip;</td><td>&vellip;</td><td>&vellip;</td><td>&vellip;</td><td>&vellip;</td><td>&vellip;</td></tr></table>"
      ],
      "text/plain": [
       "5961x12 DataFrame\n",
       "| Row  | Date       | Option_Price | Bid | Ask | Volume | Open_Interest |\n",
       "|------|------------|--------------|-----|-----|--------|---------------|\n",
       "| 1    | 2008-05-19 | 87.1         | NA  | NA  | 785    | 750           |\n",
       "| 2    | 2008-05-19 | 104.2        | NA  | NA  | 2      | 2             |\n",
       "| 3    | 2008-05-19 | 113.7        | NA  | NA  | 66     | 66            |\n",
       "| 4    | 2008-05-19 | 124.2        | NA  | NA  | 4      | 4             |\n",
       "| 5    | 2008-05-19 | 135.5        | NA  | NA  | 380    | 380           |\n",
       "| 6    | 2008-05-19 | 147.6        | NA  | NA  | 5      | 5             |\n",
       "| 7    | 2008-05-19 | 306.8        | NA  | NA  | 32     | 30            |\n",
       "| 8    | 2008-05-19 | 275.6        | NA  | NA  | 5      | 5             |\n",
       "| 9    | 2008-05-19 | 246.0        | NA  | NA  | 5      | 5             |\n",
       "| 10   | 2008-05-19 | 218.2        | NA  | NA  | 75     | 75            |\n",
       "| 11   | 2008-05-19 | 192.0        | NA  | NA  | 100    | 100           |\n",
       "⋮\n",
       "| 5950 | 2008-08-14 | 0.1          | NA  | NA  | 0      | 4649          |\n",
       "| 5951 | 2008-08-14 | 1353.2       | NA  | NA  | 0      | 2             |\n",
       "| 5952 | 2008-08-14 | 0.1          | NA  | NA  | 0      | 50            |\n",
       "| 5953 | 2008-08-14 | 1403.2       | NA  | NA  | 0      | 50            |\n",
       "| 5954 | 2008-08-14 | 0.1          | NA  | NA  | 0      | 767           |\n",
       "| 5955 | 2008-08-14 | 0.1          | NA  | NA  | 0      | 705           |\n",
       "| 5956 | 2008-08-14 | 1503.2       | NA  | NA  | 0      | 4             |\n",
       "| 5957 | 2008-08-14 | 0.1          | NA  | NA  | 0      | 442           |\n",
       "| 5958 | 2008-08-14 | 1553.2       | NA  | NA  | 0      | 54            |\n",
       "| 5959 | 2008-08-14 | 0.1          | NA  | NA  | 0      | 100           |\n",
       "| 5960 | 2008-08-14 | 0.1          | NA  | NA  | 0      | 17            |\n",
       "| 5961 | 2008-08-14 | 1653.2       | NA  | NA  | 0      | 60            |\n",
       "\n",
       "| Row  | Strike | Expiry     | DAX     | EONIA_matched | Time_to_Maturity |\n",
       "|------|--------|------------|---------|---------------|------------------|\n",
       "| 1    | 6700   | 2008-08-15 | 7225.94 | 0.0474535     | 0.25098          |\n",
       "| 2    | 6800   | 2008-08-15 | 7225.94 | 0.0474535     | 0.25098          |\n",
       "| 3    | 6850   | 2008-08-15 | 7225.94 | 0.0474535     | 0.25098          |\n",
       "| 4    | 6900   | 2008-08-15 | 7225.94 | 0.0474535     | 0.25098          |\n",
       "| 5    | 6950   | 2008-08-15 | 7225.94 | 0.0474535     | 0.25098          |\n",
       "| 6    | 7000   | 2008-08-15 | 7225.94 | 0.0474535     | 0.25098          |\n",
       "| 7    | 7200   | 2008-08-15 | 7225.94 | 0.0474535     | 0.25098          |\n",
       "| 8    | 7250   | 2008-08-15 | 7225.94 | 0.0474535     | 0.25098          |\n",
       "| 9    | 7300   | 2008-08-15 | 7225.94 | 0.0474535     | 0.25098          |\n",
       "| 10   | 7350   | 2008-08-15 | 7225.94 | 0.0474535     | 0.25098          |\n",
       "| 11   | 7400   | 2008-08-15 | 7225.94 | 0.0474535     | 0.25098          |\n",
       "⋮\n",
       "| 5950 | 7800   | 2008-08-15 | 6442.21 | 0.0429829     | 0.00392157       |\n",
       "| 5951 | 7800   | 2008-08-15 | 6442.21 | 0.0429829     | 0.00392157       |\n",
       "| 5952 | 7850   | 2008-08-15 | 6442.21 | 0.0429829     | 0.00392157       |\n",
       "| 5953 | 7850   | 2008-08-15 | 6442.21 | 0.0429829     | 0.00392157       |\n",
       "| 5954 | 7900   | 2008-08-15 | 6442.21 | 0.0429829     | 0.00392157       |\n",
       "| 5955 | 7950   | 2008-08-15 | 6442.21 | 0.0429829     | 0.00392157       |\n",
       "| 5956 | 7950   | 2008-08-15 | 6442.21 | 0.0429829     | 0.00392157       |\n",
       "| 5957 | 8000   | 2008-08-15 | 6442.21 | 0.0429829     | 0.00392157       |\n",
       "| 5958 | 8000   | 2008-08-15 | 6442.21 | 0.0429829     | 0.00392157       |\n",
       "| 5959 | 8050   | 2008-08-15 | 6442.21 | 0.0429829     | 0.00392157       |\n",
       "| 5960 | 8100   | 2008-08-15 | 6442.21 | 0.0429829     | 0.00392157       |\n",
       "| 5961 | 8100   | 2008-08-15 | 6442.21 | 0.0429829     | 0.00392157       |\n",
       "\n",
       "| Row  | IsCall |\n",
       "|------|--------|\n",
       "| 1    | false  |\n",
       "| 2    | false  |\n",
       "| 3    | false  |\n",
       "| 4    | false  |\n",
       "| 5    | false  |\n",
       "| 6    | false  |\n",
       "| 7    | true   |\n",
       "| 8    | true   |\n",
       "| 9    | true   |\n",
       "| 10   | true   |\n",
       "| 11   | true   |\n",
       "⋮\n",
       "| 5950 | true   |\n",
       "| 5951 | false  |\n",
       "| 5952 | true   |\n",
       "| 5953 | false  |\n",
       "| 5954 | true   |\n",
       "| 5955 | true   |\n",
       "| 5956 | false  |\n",
       "| 5957 | true   |\n",
       "| 5958 | false  |\n",
       "| 5959 | true   |\n",
       "| 5960 | true   |\n",
       "| 5961 | false  |"
      ]
     },
     "execution_count": 8,
     "metadata": {},
     "output_type": "execute_result"
    }
   ],
   "source": [
    "inds = optData[:Expiry] .== chosenExpiry\n",
    "expiryData = optData[inds, :]"
   ]
  },
  {
   "cell_type": "code",
   "execution_count": 10,
   "metadata": {
    "collapsed": false
   },
   "outputs": [],
   "source": [
    "writetable(\"../data/singleExpiry.csv\", expiryData)"
   ]
  }
 ],
 "metadata": {
  "kernelspec": {
   "display_name": "Julia",
   "name": "julia"
  },
  "language_info": {
   "name": "julia",
   "version": "0.3.5"
  }
 },
 "nbformat": 4,
 "nbformat_minor": 0
}
