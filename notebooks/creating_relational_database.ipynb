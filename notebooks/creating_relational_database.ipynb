{
 "cells": [
  {
   "cell_type": "code",
   "execution_count": 1,
   "metadata": {
    "collapsed": true
   },
   "outputs": [],
   "source": [
    "using DataFrames\n",
    "using Dates"
   ]
  },
  {
   "cell_type": "markdown",
   "metadata": {},
   "source": [
    "#### Loading data"
   ]
  },
  {
   "cell_type": "markdown",
   "metadata": {},
   "source": [
    "- loading the data as exported by MATLAB"
   ]
  },
  {
   "cell_type": "code",
   "execution_count": 2,
   "metadata": {
    "collapsed": false
   },
   "outputs": [
    {
     "name": "stdout",
     "output_type": "stream",
     "text": [
      "elapsed time: 18.539977886 seconds (3963227384 bytes allocated, 33.41% gc time)\n"
     ]
    },
    {
     "data": {
      "text/html": [
       "<table class=\"data-frame\"><tr><th></th><th>Date</th><th>Option_Price</th><th>Bid</th><th>Ask</th><th>Volume</th><th>Open_Interest</th><th>Strike</th><th>Expiry</th><th>DAX</th><th>EONIA_matched</th><th>Time_to_Maturity</th><th>IsCall</th></tr><tr><th>1</th><td>2006-07-03</td><td>3931.1</td><td>NA</td><td>NA</td><td>1</td><td>104</td><td>1800</td><td>2006-12-15</td><td>5712.69</td><td>0.031667592146348</td><td>0.466666666666667</td><td>1</td></tr><tr><th>2</th><td>2006-07-03</td><td>0.1</td><td>NA</td><td>NA</td><td>0</td><td>5515</td><td>1800</td><td>2006-12-15</td><td>5712.69</td><td>0.0316675921463482</td><td>0.466666666666667</td><td>0</td></tr><tr><th>3</th><td>2006-07-03</td><td>3734.0</td><td>NA</td><td>NA</td><td>0</td><td>2152</td><td>2000</td><td>2006-12-15</td><td>5712.69</td><td>0.0316675921463482</td><td>0.466666666666667</td><td>1</td></tr><tr><th>4</th><td>2006-07-03</td><td>0.1</td><td>NA</td><td>NA</td><td>0</td><td>20941</td><td>2000</td><td>2006-12-15</td><td>5712.69</td><td>0.0316675921463482</td><td>0.466666666666667</td><td>0</td></tr><tr><th>5</th><td>2006-07-03</td><td>3536.9</td><td>NA</td><td>NA</td><td>0</td><td>2</td><td>2200</td><td>2006-12-15</td><td>5712.69</td><td>0.0316675921463482</td><td>0.466666666666667</td><td>1</td></tr><tr><th>6</th><td>2006-07-03</td><td>0.1</td><td>NA</td><td>NA</td><td>0</td><td>4626</td><td>2200</td><td>2006-12-15</td><td>5712.69</td><td>0.0316675921463482</td><td>0.466666666666667</td><td>0</td></tr></table>"
      ],
      "text/plain": [
       "6x12 DataFrame\n",
       "| Row | Date         | Option_Price | Bid | Ask | Volume | Open_Interest |\n",
       "|-----|--------------|--------------|-----|-----|--------|---------------|\n",
       "| 1   | \"2006-07-03\" | 3931.1       | NA  | NA  | 1      | 104           |\n",
       "| 2   | \"2006-07-03\" | 0.1          | NA  | NA  | 0      | 5515          |\n",
       "| 3   | \"2006-07-03\" | 3734.0       | NA  | NA  | 0      | 2152          |\n",
       "| 4   | \"2006-07-03\" | 0.1          | NA  | NA  | 0      | 20941         |\n",
       "| 5   | \"2006-07-03\" | 3536.9       | NA  | NA  | 0      | 2             |\n",
       "| 6   | \"2006-07-03\" | 0.1          | NA  | NA  | 0      | 4626          |\n",
       "\n",
       "| Row | Strike | Expiry       | DAX     | EONIA_matched | Time_to_Maturity |\n",
       "|-----|--------|--------------|---------|---------------|------------------|\n",
       "| 1   | 1800   | \"2006-12-15\" | 5712.69 | 0.0316676     | 0.466667         |\n",
       "| 2   | 1800   | \"2006-12-15\" | 5712.69 | 0.0316676     | 0.466667         |\n",
       "| 3   | 2000   | \"2006-12-15\" | 5712.69 | 0.0316676     | 0.466667         |\n",
       "| 4   | 2000   | \"2006-12-15\" | 5712.69 | 0.0316676     | 0.466667         |\n",
       "| 5   | 2200   | \"2006-12-15\" | 5712.69 | 0.0316676     | 0.466667         |\n",
       "| 6   | 2200   | \"2006-12-15\" | 5712.69 | 0.0316676     | 0.466667         |\n",
       "\n",
       "| Row | IsCall |\n",
       "|-----|--------|\n",
       "| 1   | 1      |\n",
       "| 2   | 0      |\n",
       "| 3   | 1      |\n",
       "| 4   | 0      |\n",
       "| 5   | 1      |\n",
       "| 6   | 0      |"
      ]
     },
     "execution_count": 2,
     "metadata": {},
     "output_type": "execute_result"
    }
   ],
   "source": [
    "@time dat = readtable(\"../data/input_data/dat.txt\", separator = '\\t', nastrings = [\"NaN\"])\n",
    "\n",
    "head(dat)"
   ]
  },
  {
   "cell_type": "markdown",
   "metadata": {},
   "source": [
    "- some element types are not perfect yet:"
   ]
  },
  {
   "cell_type": "code",
   "execution_count": 3,
   "metadata": {
    "collapsed": false
   },
   "outputs": [
    {
     "data": {
      "text/plain": [
       "12-element Array{Type{T<:Top},1}:\n",
       " UTF8String\n",
       " Float64   \n",
       " Float64   \n",
       " Float64   \n",
       " Int64     \n",
       " Int64     \n",
       " Int64     \n",
       " UTF8String\n",
       " Float64   \n",
       " Float64   \n",
       " Float64   \n",
       " Int64     "
      ]
     },
     "execution_count": 3,
     "metadata": {},
     "output_type": "execute_result"
    }
   ],
   "source": [
    "eltypes(dat)"
   ]
  },
  {
   "cell_type": "markdown",
   "metadata": {},
   "source": [
    "- transform dates to `Date` type, `IsCall` to `Bool`:"
   ]
  },
  {
   "cell_type": "code",
   "execution_count": 4,
   "metadata": {
    "collapsed": false
   },
   "outputs": [
    {
     "name": "stderr",
     "output_type": "stream",
     "text": [
      "WARNING: array(da::DataArray{T}) is deprecated.\n",
      "Use convert(Array, da).\n",
      " in array at /home/jovyan/.julia/v0.3/DataArrays/src/deprecated.jl:22\n",
      " in include_string at loading.jl:97\n",
      " in execute_request_0x535c5df2 at /home/jovyan/.julia/v0.3/IJulia/src/execute_request.jl:157\n",
      " in eventloop at /home/jovyan/.julia/v0.3/IJulia/src/IJulia.jl:123\n",
      " in anonymous at task.jl:340\n",
      "WARNING: array(da::DataArray{T}) is deprecated.\n",
      "Use convert(Array, da).\n",
      " in array at /home/jovyan/.julia/v0.3/DataArrays/src/deprecated.jl:22\n",
      " in include_string at loading.jl:97\n",
      " in execute_request_0x535c5df2 at /home/jovyan/.julia/v0.3/IJulia/src/execute_request.jl:157\n",
      " in eventloop at /home/jovyan/.julia/v0.3/IJulia/src/IJulia.jl:123\n",
      " in anonymous at task.jl:340\n"
     ]
    },
    {
     "name": "stdout",
     "output_type": "stream",
     "text": [
      "elapsed time: 102.985029114 seconds (10928008748 bytes allocated, 69.85% gc time)\n"
     ]
    },
    {
     "data": {
      "text/html": [
       "<table class=\"data-frame\"><tr><th></th><th>Date</th><th>Option_Price</th><th>Bid</th><th>Ask</th><th>Volume</th><th>Open_Interest</th><th>Strike</th><th>Expiry</th><th>DAX</th><th>EONIA_matched</th><th>Time_to_Maturity</th><th>IsCall</th></tr><tr><th>1</th><td>2006-07-03</td><td>3931.1</td><td>NA</td><td>NA</td><td>1</td><td>104</td><td>1800</td><td>2006-12-15</td><td>5712.69</td><td>0.031667592146348</td><td>0.466666666666667</td><td>true</td></tr><tr><th>2</th><td>2006-07-03</td><td>0.1</td><td>NA</td><td>NA</td><td>0</td><td>5515</td><td>1800</td><td>2006-12-15</td><td>5712.69</td><td>0.0316675921463482</td><td>0.466666666666667</td><td>false</td></tr><tr><th>3</th><td>2006-07-03</td><td>3734.0</td><td>NA</td><td>NA</td><td>0</td><td>2152</td><td>2000</td><td>2006-12-15</td><td>5712.69</td><td>0.0316675921463482</td><td>0.466666666666667</td><td>true</td></tr><tr><th>4</th><td>2006-07-03</td><td>0.1</td><td>NA</td><td>NA</td><td>0</td><td>20941</td><td>2000</td><td>2006-12-15</td><td>5712.69</td><td>0.0316675921463482</td><td>0.466666666666667</td><td>false</td></tr><tr><th>5</th><td>2006-07-03</td><td>3536.9</td><td>NA</td><td>NA</td><td>0</td><td>2</td><td>2200</td><td>2006-12-15</td><td>5712.69</td><td>0.0316675921463482</td><td>0.466666666666667</td><td>true</td></tr><tr><th>6</th><td>2006-07-03</td><td>0.1</td><td>NA</td><td>NA</td><td>0</td><td>4626</td><td>2200</td><td>2006-12-15</td><td>5712.69</td><td>0.0316675921463482</td><td>0.466666666666667</td><td>false</td></tr></table>"
      ],
      "text/plain": [
       "6x12 DataFrame\n",
       "| Row | Date       | Option_Price | Bid | Ask | Volume | Open_Interest |\n",
       "|-----|------------|--------------|-----|-----|--------|---------------|\n",
       "| 1   | 2006-07-03 | 3931.1       | NA  | NA  | 1      | 104           |\n",
       "| 2   | 2006-07-03 | 0.1          | NA  | NA  | 0      | 5515          |\n",
       "| 3   | 2006-07-03 | 3734.0       | NA  | NA  | 0      | 2152          |\n",
       "| 4   | 2006-07-03 | 0.1          | NA  | NA  | 0      | 20941         |\n",
       "| 5   | 2006-07-03 | 3536.9       | NA  | NA  | 0      | 2             |\n",
       "| 6   | 2006-07-03 | 0.1          | NA  | NA  | 0      | 4626          |\n",
       "\n",
       "| Row | Strike | Expiry     | DAX     | EONIA_matched | Time_to_Maturity |\n",
       "|-----|--------|------------|---------|---------------|------------------|\n",
       "| 1   | 1800   | 2006-12-15 | 5712.69 | 0.0316676     | 0.466667         |\n",
       "| 2   | 1800   | 2006-12-15 | 5712.69 | 0.0316676     | 0.466667         |\n",
       "| 3   | 2000   | 2006-12-15 | 5712.69 | 0.0316676     | 0.466667         |\n",
       "| 4   | 2000   | 2006-12-15 | 5712.69 | 0.0316676     | 0.466667         |\n",
       "| 5   | 2200   | 2006-12-15 | 5712.69 | 0.0316676     | 0.466667         |\n",
       "| 6   | 2200   | 2006-12-15 | 5712.69 | 0.0316676     | 0.466667         |\n",
       "\n",
       "| Row | IsCall |\n",
       "|-----|--------|\n",
       "| 1   | true   |\n",
       "| 2   | false  |\n",
       "| 3   | true   |\n",
       "| 4   | false  |\n",
       "| 5   | true   |\n",
       "| 6   | false  |"
      ]
     },
     "execution_count": 4,
     "metadata": {},
     "output_type": "execute_result"
    }
   ],
   "source": [
    "@time begin\n",
    "    dat[:Date] = Date(array(dat[:, 1]));\n",
    "    dat[:Expiry] = Date(array(dat[:, :Expiry]));\n",
    "    dat[:IsCall] = bool(array(dat[:, :IsCall]));\n",
    "end\n",
    "\n",
    "head(dat)"
   ]
  },
  {
   "cell_type": "markdown",
   "metadata": {},
   "source": [
    "#### Option IDs"
   ]
  },
  {
   "cell_type": "markdown",
   "metadata": {},
   "source": [
    "- create IDs for individual options: searching a single option determined through three separate columns is too costly"
   ]
  },
  {
   "cell_type": "code",
   "execution_count": 5,
   "metadata": {
    "collapsed": false
   },
   "outputs": [
    {
     "data": {
      "text/plain": [
       "optParamsToString (generic function with 1 method)"
      ]
     },
     "execution_count": 5,
     "metadata": {},
     "output_type": "execute_result"
    }
   ],
   "source": [
    "function optParamsToString(expi::Date, stri::Int, isc::Bool)\n",
    "    y, m, d = yearmonthday(expi)\n",
    "    dateStr = string(y, lpad(m, 2, \"0\"), lpad(d, 2, \"0\"))\n",
    "    \n",
    "    if isc\n",
    "        return string(\"c_\", dateStr, \"_\", stri)\n",
    "    else\n",
    "        return string(\"p_\", dateStr, \"_\", stri)\n",
    "    end\n",
    "end"
   ]
  },
  {
   "cell_type": "code",
   "execution_count": 6,
   "metadata": {
    "collapsed": false
   },
   "outputs": [
    {
     "name": "stdout",
     "output_type": "stream",
     "text": [
      "elapsed time: 12.360254704 seconds (2390824040 bytes allocated, 59.73% gc time)\n"
     ]
    },
    {
     "data": {
      "text/plain": [
       "4-element Array{String,1}:\n",
       " \"c_20061215_1800\"\n",
       " \"p_20061215_1800\"\n",
       " \"c_20061215_2000\"\n",
       " \"p_20061215_2000\""
      ]
     },
     "execution_count": 6,
     "metadata": {},
     "output_type": "execute_result"
    }
   ],
   "source": [
    "nObs = size(dat, 1)\n",
    "optIDs = Array(String, nObs)\n",
    "\n",
    "@time begin\n",
    "    for ii=1:nObs\n",
    "        optIDs[ii] = optParamsToString(dat[ii, :Expiry], dat[ii, :Strike], dat[ii, :IsCall]) \n",
    "    end\n",
    "end\n",
    "\n",
    "optIDs[1:4]"
   ]
  },
  {
   "cell_type": "markdown",
   "metadata": {},
   "source": [
    "#### Create data table with option IDs and option parameters"
   ]
  },
  {
   "cell_type": "markdown",
   "metadata": {},
   "source": [
    "- create a table that contains for each option `ID` its option parameters: expiry, strike, type"
   ]
  },
  {
   "cell_type": "code",
   "execution_count": 7,
   "metadata": {
    "collapsed": false
   },
   "outputs": [
    {
     "data": {
      "text/plain": [
       "12917"
      ]
     },
     "execution_count": 7,
     "metadata": {},
     "output_type": "execute_result"
    }
   ],
   "source": [
    "uniqueOpts = unique(optIDs)\n",
    "\n",
    "nOpts = size(uniqueOpts, 1)"
   ]
  },
  {
   "cell_type": "markdown",
   "metadata": {},
   "source": [
    "- define function that decomposes option ID into its parameters:"
   ]
  },
  {
   "cell_type": "code",
   "execution_count": 8,
   "metadata": {
    "collapsed": false
   },
   "outputs": [
    {
     "data": {
      "text/plain": [
       "decodeOptID (generic function with 1 method)"
      ]
     },
     "execution_count": 8,
     "metadata": {},
     "output_type": "execute_result"
    }
   ],
   "source": [
    "function decodeOptID(id::String)\n",
    "    opt = id\n",
    "    x1, x2, x3 = split(opt, \"_\")\n",
    "    if x1 == \"c\"\n",
    "        isCall = true\n",
    "    else\n",
    "        isCall = false\n",
    "    end\n",
    "    expi = Date(x2, \"yyyymmdd\")\n",
    "    stri = int(x3)\n",
    "\n",
    "    return (expi, stri, isCall)\n",
    "end"
   ]
  },
  {
   "cell_type": "markdown",
   "metadata": {},
   "source": [
    "- decode each option ID"
   ]
  },
  {
   "cell_type": "code",
   "execution_count": 9,
   "metadata": {
    "collapsed": false
   },
   "outputs": [
    {
     "name": "stdout",
     "output_type": "stream",
     "text": [
      "elapsed time: 1.250250312 seconds (137238272 bytes allocated, 64.89% gc time)\n"
     ]
    },
    {
     "data": {
      "text/html": [
       "<table class=\"data-frame\"><tr><th></th><th>ID</th><th>Expiry</th><th>Strike</th><th>IsCall</th></tr><tr><th>1</th><td>c_20061215_1800</td><td>2006-12-15</td><td>1800</td><td>true</td></tr><tr><th>2</th><td>p_20061215_1800</td><td>2006-12-15</td><td>1800</td><td>false</td></tr><tr><th>3</th><td>c_20061215_2000</td><td>2006-12-15</td><td>2000</td><td>true</td></tr><tr><th>4</th><td>p_20061215_2000</td><td>2006-12-15</td><td>2000</td><td>false</td></tr><tr><th>5</th><td>c_20061215_2200</td><td>2006-12-15</td><td>2200</td><td>true</td></tr><tr><th>6</th><td>p_20061215_2200</td><td>2006-12-15</td><td>2200</td><td>false</td></tr></table>"
      ],
      "text/plain": [
       "6x4 DataFrame\n",
       "| Row | ID                | Expiry     | Strike | IsCall |\n",
       "|-----|-------------------|------------|--------|--------|\n",
       "| 1   | \"c_20061215_1800\" | 2006-12-15 | 1800   | true   |\n",
       "| 2   | \"p_20061215_1800\" | 2006-12-15 | 1800   | false  |\n",
       "| 3   | \"c_20061215_2000\" | 2006-12-15 | 2000   | true   |\n",
       "| 4   | \"p_20061215_2000\" | 2006-12-15 | 2000   | false  |\n",
       "| 5   | \"c_20061215_2200\" | 2006-12-15 | 2200   | true   |\n",
       "| 6   | \"p_20061215_2200\" | 2006-12-15 | 2200   | false  |"
      ]
     },
     "execution_count": 9,
     "metadata": {},
     "output_type": "execute_result"
    }
   ],
   "source": [
    "@time begin\n",
    "    expis = Array(Date, nOpts)\n",
    "    stris = Array(Int, nOpts)\n",
    "    iscs = Array(Bool, nOpts)\n",
    "    for ii=1:nOpts\n",
    "        x1, x2, x3 = decodeOptID(uniqueOpts[ii])\n",
    "        expis[ii] = x1\n",
    "        stris[ii] = x2\n",
    "        iscs[ii] = x3\n",
    "    end\n",
    "end\n",
    "\n",
    "opts = DataFrame(ID = uniqueOpts, Expiry = expis, Strike = stris, IsCall = iscs)\n",
    "\n",
    "head(opts)"
   ]
  },
  {
   "cell_type": "markdown",
   "metadata": {},
   "source": [
    "#### Create data table for underlying"
   ]
  },
  {
   "cell_type": "markdown",
   "metadata": {},
   "source": [
    "- get **underlying**: get value for each day"
   ]
  },
  {
   "cell_type": "code",
   "execution_count": 10,
   "metadata": {
    "collapsed": false
   },
   "outputs": [
    {
     "name": "stdout",
     "output_type": "stream",
     "text": [
      "elapsed time: 1.673485434 seconds (188855812 bytes allocated, 64.56% gc time)\n"
     ]
    },
    {
     "data": {
      "text/plain": [
       "1908"
      ]
     },
     "execution_count": 10,
     "metadata": {},
     "output_type": "execute_result"
    }
   ],
   "source": [
    "function getAllDAXobs(df::DataFrame)\n",
    "    vals1, vals2 = Date[], Float64[]\n",
    "    valsSet = Set{Int}()\n",
    "    nObs = size(df, 1)\n",
    "    for ii=1:nObs\n",
    "        currDat, currVal = df[ii, :Date], df[ii, :DAX]\n",
    "        currKey = Dates.value(currDat)\n",
    "        if !in(currKey, valsSet)\n",
    "            push!(valsSet, currKey)\n",
    "            push!(vals1, currDat)\n",
    "            push!(vals2, currVal)\n",
    "        end\n",
    "    end\n",
    "    return DataFrame(Date = vals1, DAX = vals2)\n",
    "end\n",
    "\n",
    "@time daxVals = getAllDAXobs(dat[[:Date, :DAX]])\n",
    "size(daxVals, 1)"
   ]
  },
  {
   "cell_type": "markdown",
   "metadata": {},
   "source": [
    "#### Create data table for cohort / date"
   ]
  },
  {
   "cell_type": "code",
   "execution_count": 11,
   "metadata": {
    "collapsed": false
   },
   "outputs": [
    {
     "name": "stdout",
     "output_type": "stream",
     "text": [
      "elapsed time: 5.844227435 seconds (727837404 bytes allocated, 73.85% gc time)\n"
     ]
    },
    {
     "data": {
      "text/plain": [
       "21053"
      ]
     },
     "execution_count": 11,
     "metadata": {},
     "output_type": "execute_result"
    }
   ],
   "source": [
    "function getAllCohortParams(df::DataFrame)\n",
    "    vals1, vals2, vals3, vals4 = Date[], Date[], Float64[], Float64[]\n",
    "    valsSet = Set{Array{Int, 1}}()\n",
    "    nObs = size(df, 1)\n",
    "    for ii=1:nObs\n",
    "        currDat, currExp = df[ii, :Date], df[ii, :Expiry]\n",
    "        currEON, currTTM = df[ii, :EONIA_matched], df[ii, :Time_to_Maturity]\n",
    "        currKeys = Int[Dates.value(currDat), Dates.value(currExp)]\n",
    "        if !in(currKeys, valsSet)\n",
    "            push!(valsSet, currKeys)\n",
    "            push!(vals1, currDat)\n",
    "            push!(vals2, currExp)\n",
    "            push!(vals3, currEON)\n",
    "            push!(vals4, currTTM)\n",
    "        end\n",
    "    end\n",
    "    return DataFrame(Date = vals1, Expiry = vals2, EONIA_matched = vals3, Time_to_Maturity = vals4)\n",
    "end\n",
    "\n",
    "@time cohortParams = getAllCohortParams(dat[[:Date, :Expiry, :EONIA_matched, :Time_to_Maturity]])\n",
    "size(cohortParams, 1)"
   ]
  },
  {
   "cell_type": "code",
   "execution_count": 12,
   "metadata": {
    "collapsed": false
   },
   "outputs": [
    {
     "data": {
      "text/html": [
       "<table class=\"data-frame\"><tr><th></th><th>Date</th><th>Expiry</th><th>EONIA_matched</th><th>Time_to_Maturity</th></tr><tr><th>1</th><td>2006-07-03</td><td>2006-12-15</td><td>0.031667592146348</td><td>0.466666666666667</td></tr><tr><th>2</th><td>2006-07-03</td><td>2006-09-15</td><td>0.0297573099811956</td><td>0.211764705882353</td></tr><tr><th>3</th><td>2006-07-03</td><td>2006-08-18</td><td>0.02903277602483</td><td>0.133333333333333</td></tr><tr><th>4</th><td>2006-07-03</td><td>2006-07-21</td><td>0.0283102283088403</td><td>0.0549019607843137</td></tr><tr><th>5</th><td>2006-07-03</td><td>2007-06-15</td><td>0.0342512630396996</td><td>0.949019607843137</td></tr><tr><th>6</th><td>2006-07-03</td><td>2007-03-16</td><td>0.0330875802131789</td><td>0.709803921568627</td></tr></table>"
      ],
      "text/plain": [
       "6x4 DataFrame\n",
       "| Row | Date       | Expiry     | EONIA_matched | Time_to_Maturity |\n",
       "|-----|------------|------------|---------------|------------------|\n",
       "| 1   | 2006-07-03 | 2006-12-15 | 0.0316676     | 0.466667         |\n",
       "| 2   | 2006-07-03 | 2006-09-15 | 0.0297573     | 0.211765         |\n",
       "| 3   | 2006-07-03 | 2006-08-18 | 0.0290328     | 0.133333         |\n",
       "| 4   | 2006-07-03 | 2006-07-21 | 0.0283102     | 0.054902         |\n",
       "| 5   | 2006-07-03 | 2007-06-15 | 0.0342513     | 0.94902          |\n",
       "| 6   | 2006-07-03 | 2007-03-16 | 0.0330876     | 0.709804         |"
      ]
     },
     "execution_count": 12,
     "metadata": {},
     "output_type": "execute_result"
    }
   ],
   "source": [
    "head(cohortParams)"
   ]
  },
  {
   "cell_type": "markdown",
   "metadata": {},
   "source": [
    "#### Create data table for option prices"
   ]
  },
  {
   "cell_type": "code",
   "execution_count": 13,
   "metadata": {
    "collapsed": false
   },
   "outputs": [
    {
     "data": {
      "text/html": [
       "<table class=\"data-frame\"><tr><th></th><th>Date</th><th>ID</th><th>Price</th></tr><tr><th>1</th><td>2006-07-03</td><td>c_20061215_1800</td><td>3931.1</td></tr><tr><th>2</th><td>2006-07-03</td><td>p_20061215_1800</td><td>0.1</td></tr><tr><th>3</th><td>2006-07-03</td><td>c_20061215_2000</td><td>3734.0</td></tr><tr><th>4</th><td>2006-07-03</td><td>p_20061215_2000</td><td>0.1</td></tr><tr><th>5</th><td>2006-07-03</td><td>c_20061215_2200</td><td>3536.9</td></tr><tr><th>6</th><td>2006-07-03</td><td>p_20061215_2200</td><td>0.1</td></tr></table>"
      ],
      "text/plain": [
       "6x3 DataFrame\n",
       "| Row | Date       | ID                | Price  |\n",
       "|-----|------------|-------------------|--------|\n",
       "| 1   | 2006-07-03 | \"c_20061215_1800\" | 3931.1 |\n",
       "| 2   | 2006-07-03 | \"p_20061215_1800\" | 0.1    |\n",
       "| 3   | 2006-07-03 | \"c_20061215_2000\" | 3734.0 |\n",
       "| 4   | 2006-07-03 | \"p_20061215_2000\" | 0.1    |\n",
       "| 5   | 2006-07-03 | \"c_20061215_2200\" | 3536.9 |\n",
       "| 6   | 2006-07-03 | \"p_20061215_2200\" | 0.1    |"
      ]
     },
     "execution_count": 13,
     "metadata": {},
     "output_type": "execute_result"
    }
   ],
   "source": [
    "optPrices = DataFrame(Date = dat[:Date], ID = optIDs, Price = dat[:Option_Price])\n",
    "\n",
    "head(optPrices)"
   ]
  },
  {
   "cell_type": "markdown",
   "metadata": {},
   "source": [
    "#### Create data table with all observations"
   ]
  },
  {
   "cell_type": "code",
   "execution_count": 14,
   "metadata": {
    "collapsed": false
   },
   "outputs": [
    {
     "data": {
      "text/html": [
       "<table class=\"data-frame\"><tr><th></th><th>Date</th><th>ID</th><th>Bid</th><th>Ask</th><th>Volume</th><th>Open_Interest</th></tr><tr><th>1</th><td>2006-07-03</td><td>c_20061215_1800</td><td>NA</td><td>NA</td><td>1</td><td>104</td></tr><tr><th>2</th><td>2006-07-03</td><td>p_20061215_1800</td><td>NA</td><td>NA</td><td>0</td><td>5515</td></tr><tr><th>3</th><td>2006-07-03</td><td>c_20061215_2000</td><td>NA</td><td>NA</td><td>0</td><td>2152</td></tr><tr><th>4</th><td>2006-07-03</td><td>p_20061215_2000</td><td>NA</td><td>NA</td><td>0</td><td>20941</td></tr><tr><th>5</th><td>2006-07-03</td><td>c_20061215_2200</td><td>NA</td><td>NA</td><td>0</td><td>2</td></tr><tr><th>6</th><td>2006-07-03</td><td>p_20061215_2200</td><td>NA</td><td>NA</td><td>0</td><td>4626</td></tr></table>"
      ],
      "text/plain": [
       "6x6 DataFrame\n",
       "| Row | Date       | ID                | Bid | Ask | Volume | Open_Interest |\n",
       "|-----|------------|-------------------|-----|-----|--------|---------------|\n",
       "| 1   | 2006-07-03 | \"c_20061215_1800\" | NA  | NA  | 1      | 104           |\n",
       "| 2   | 2006-07-03 | \"p_20061215_1800\" | NA  | NA  | 0      | 5515          |\n",
       "| 3   | 2006-07-03 | \"c_20061215_2000\" | NA  | NA  | 0      | 2152          |\n",
       "| 4   | 2006-07-03 | \"p_20061215_2000\" | NA  | NA  | 0      | 20941         |\n",
       "| 5   | 2006-07-03 | \"c_20061215_2200\" | NA  | NA  | 0      | 2             |\n",
       "| 6   | 2006-07-03 | \"p_20061215_2200\" | NA  | NA  | 0      | 4626          |"
      ]
     },
     "execution_count": 14,
     "metadata": {},
     "output_type": "execute_result"
    }
   ],
   "source": [
    "keys = DataFrame(Date = dat[:Date], ID = optIDs)\n",
    "obsData = dat[[:Bid, :Ask, :Volume, :Open_Interest]]\n",
    "addObs = [keys obsData]\n",
    "\n",
    "head(addObs)"
   ]
  },
  {
   "cell_type": "markdown",
   "metadata": {},
   "source": [
    "#### Write relational database to disk"
   ]
  },
  {
   "cell_type": "code",
   "execution_count": 15,
   "metadata": {
    "collapsed": false
   },
   "outputs": [],
   "source": [
    "writetable(\"../data/rel_data/opts.csv\", opts)\n",
    "writetable(\"../data/rel_data/daxVals.csv\", daxVals)\n",
    "writetable(\"../data/rel_data/cohortParams.csv\", cohortParams)\n",
    "writetable(\"../data/rel_data/optPrices.csv\", optPrices)\n",
    "writetable(\"../data/rel_data/addObs.csv\", addObs)"
   ]
  },
  {
   "cell_type": "markdown",
   "metadata": {},
   "source": [
    "### Session info"
   ]
  },
  {
   "cell_type": "code",
   "execution_count": 16,
   "metadata": {
    "collapsed": false
   },
   "outputs": [
    {
     "name": "stdout",
     "output_type": "stream",
     "text": [
      "Julia Version 0.3.6\n",
      "Commit a05f87b* (2015-01-08 22:33 UTC)\n",
      "Platform Info:\n",
      "  System: Linux (x86_64-linux-gnu)\n",
      "  CPU: Intel(R) Core(TM) i5-4210U CPU @ 1.70GHz\n",
      "  WORD_SIZE: 64\n",
      "  BLAS: libopenblas (DYNAMIC_ARCH NO_AFFINITY Haswell)\n",
      "  LAPACK: libopenblas\n",
      "  LIBM: libopenlibm\n",
      "  LLVM: libLLVM-3.3\n"
     ]
    }
   ],
   "source": [
    "versioninfo()"
   ]
  },
  {
   "cell_type": "code",
   "execution_count": 17,
   "metadata": {
    "collapsed": false
   },
   "outputs": [
    {
     "name": "stdout",
     "output_type": "stream",
     "text": [
      "20 required packages:\n",
      " - DataArrays                    0.2.15\n",
      " - DataFrames                    0.6.6\n",
      " - Dates                         0.3.2\n",
      " - Debug                         0.1.3\n",
      " - Distributions                 0.7.3\n",
      " - Docile                        0.5.3\n",
      " - GLM                           0.4.6\n",
      " - Gadfly                        0.3.12\n",
      " - IJulia                        0.2.5\n",
      " - JuMP                          0.9.1\n",
      " - Lexicon                       0.1.10\n",
      " - MAT                           0.2.12\n",
      " - NLopt                         0.2.1\n",
      " - Plotly                        0.0.3+             master\n",
      " - Quandl                        0.4.1\n",
      " - RDatasets                     0.1.2\n",
      " - Requires                      0.1.2              master\n",
      " - Taro                          0.1.4\n",
      " - TimeSeries                    0.5.9\n",
      " - Winston                       0.11.10\n",
      "58 additional packages:\n",
      " - ArrayViews                    0.6.2\n",
      " - AssetMgmt                     0.0.0-             master (unregistered)\n",
      " - BinDeps                       0.3.12\n",
      " - Blosc                         0.1.2\n",
      " - Cairo                         0.2.26\n",
      " - Calculus                      0.1.6\n",
      " - Codecs                        0.1.4\n",
      " - Color                         0.4.5\n",
      " - Compat                        0.4.4\n",
      " - Compose                       0.3.12\n",
      " - Contour                       0.0.7\n",
      " - Copulas                       0.0.0-             master (unregistered)\n",
      " - DataStructures                0.3.9\n",
      " - Distances                     0.2.0\n",
      " - DualNumbers                   0.1.3\n",
      " - EconDatasets                  0.0.2+             master\n",
      " - Econometrics                  0.0.0-             master (unregistered)\n",
      " - FixedPointNumbers             0.0.7\n",
      " - GZip                          0.2.15\n",
      " - GnuTLS                        0.0.4\n",
      " - Graphics                      0.1.0\n",
      " - Grid                          0.3.9\n",
      " - HDF5                          0.4.17\n",
      " - HTTPClient                    0.1.4\n",
      " - Hexagons                      0.0.3\n",
      " - HttpCommon                    0.0.12\n",
      " - HttpParser                    0.0.11\n",
      " - ImmutableArrays               0.0.7\n",
      " - IniFile                       0.2.4\n",
      " - Iterators                     0.1.8\n",
      " - JFinM_Charts                  0.0.0-             master (unregistered)\n",
      " - JSON                          0.4.3\n",
      " - JavaCall                      0.2.2\n",
      " - KernelDensity                 0.1.0              b2c9f7d6 (dirty)\n",
      " - LibCURL                       0.1.4\n",
      " - Loess                         0.0.3\n",
      " - MathProgBase                  0.3.11\n",
      " - Memoize                       0.0.0\n",
      " - NaNMath                       0.0.2\n",
      " - Nettle                        0.1.8\n",
      " - NumericFuns                   0.2.3\n",
      " - Optim                         0.4.1\n",
      " - PDMats                        0.3.3\n",
      " - REPLCompletions               0.0.3\n",
      " - Reexport                      0.0.2\n",
      " - Requests                      0.0.8\n",
      " - ReverseDiffSparse             0.2.7\n",
      " - SHA                           0.0.4\n",
      " - Showoff                       0.0.4\n",
      " - SortingAlgorithms             0.0.5\n",
      " - StatsBase                     0.6.15\n",
      " - TimeData                      0.6.0+             master\n",
      " - Tk                            0.3.3\n",
      " - URIParser                     0.0.5\n",
      " - WoodburyMatrices              0.0.2\n",
      " - WorldBankDataTd               0.0.0-             master (unregistered)\n",
      " - ZMQ                           0.1.18\n",
      " - Zlib                          0.1.8\n"
     ]
    }
   ],
   "source": [
    "Pkg.status()"
   ]
  }
 ],
 "metadata": {
  "kernelspec": {
   "display_name": "Julia",
   "language": "julia",
   "name": "julia"
  },
  "language_info": {
   "name": "julia",
   "version": "0.3.6"
  }
 },
 "nbformat": 4,
 "nbformat_minor": 0
}
