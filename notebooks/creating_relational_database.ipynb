{
 "cells": [
  {
   "cell_type": "code",
   "execution_count": 1,
   "metadata": {
    "collapsed": true
   },
   "outputs": [],
   "source": [
    "using DataFrames\n",
    "using Dates"
   ]
  },
  {
   "cell_type": "markdown",
   "metadata": {},
   "source": [
    "#### Loading data"
   ]
  },
  {
   "cell_type": "code",
   "execution_count": 16,
   "metadata": {
    "collapsed": false
   },
   "outputs": [
    {
     "name": "stdout",
     "output_type": "stream",
     "text": [
      "elapsed time: 12.954250909 seconds (3564920424 bytes allocated, 11.75% gc time)\n"
     ]
    },
    {
     "data": {
      "text/html": [
       "<table class=\"data-frame\"><tr><th></th><th>Date</th><th>Option_Price</th><th>Bid</th><th>Ask</th><th>Volume</th><th>Open_Interest</th><th>Strike</th><th>Expiry</th><th>DAX</th><th>EONIA_matched</th><th>Time_to_Maturity</th><th>IsCall</th></tr><tr><th>1</th><td>732495</td><td>3931.1</td><td>NA</td><td>NA</td><td>1</td><td>104</td><td>1800</td><td>732660</td><td>5712.69</td><td>0.031667592146348</td><td>0.466666666666667</td><td>true</td></tr><tr><th>2</th><td>732495</td><td>0.1</td><td>NA</td><td>NA</td><td>0</td><td>5515</td><td>1800</td><td>732660</td><td>5712.69</td><td>0.0316675921463482</td><td>0.466666666666667</td><td>false</td></tr><tr><th>3</th><td>732495</td><td>3734.0</td><td>NA</td><td>NA</td><td>0</td><td>2152</td><td>2000</td><td>732660</td><td>5712.69</td><td>0.0316675921463482</td><td>0.466666666666667</td><td>true</td></tr><tr><th>4</th><td>732495</td><td>0.1</td><td>NA</td><td>NA</td><td>0</td><td>20941</td><td>2000</td><td>732660</td><td>5712.69</td><td>0.0316675921463482</td><td>0.466666666666667</td><td>false</td></tr><tr><th>5</th><td>732495</td><td>3536.9</td><td>NA</td><td>NA</td><td>0</td><td>2</td><td>2200</td><td>732660</td><td>5712.69</td><td>0.0316675921463482</td><td>0.466666666666667</td><td>true</td></tr><tr><th>6</th><td>732495</td><td>0.1</td><td>NA</td><td>NA</td><td>0</td><td>4626</td><td>2200</td><td>732660</td><td>5712.69</td><td>0.0316675921463482</td><td>0.466666666666667</td><td>false</td></tr></table>"
      ],
      "text/plain": [
       "6x12 DataFrame\n",
       "| Row | Date   | Option_Price | Bid | Ask | Volume | Open_Interest | Strike |\n",
       "|-----|--------|--------------|-----|-----|--------|---------------|--------|\n",
       "| 1   | 732495 | 3931.1       | NA  | NA  | 1      | 104           | 1800   |\n",
       "| 2   | 732495 | 0.1          | NA  | NA  | 0      | 5515          | 1800   |\n",
       "| 3   | 732495 | 3734.0       | NA  | NA  | 0      | 2152          | 2000   |\n",
       "| 4   | 732495 | 0.1          | NA  | NA  | 0      | 20941         | 2000   |\n",
       "| 5   | 732495 | 3536.9       | NA  | NA  | 0      | 2             | 2200   |\n",
       "| 6   | 732495 | 0.1          | NA  | NA  | 0      | 4626          | 2200   |\n",
       "\n",
       "| Row | Expiry | DAX     | EONIA_matched | Time_to_Maturity | IsCall |\n",
       "|-----|--------|---------|---------------|------------------|--------|\n",
       "| 1   | 732660 | 5712.69 | 0.0316676     | 0.466667         | true   |\n",
       "| 2   | 732660 | 5712.69 | 0.0316676     | 0.466667         | false  |\n",
       "| 3   | 732660 | 5712.69 | 0.0316676     | 0.466667         | true   |\n",
       "| 4   | 732660 | 5712.69 | 0.0316676     | 0.466667         | false  |\n",
       "| 5   | 732660 | 5712.69 | 0.0316676     | 0.466667         | true   |\n",
       "| 6   | 732660 | 5712.69 | 0.0316676     | 0.466667         | false  |"
      ]
     },
     "execution_count": 16,
     "metadata": {},
     "output_type": "execute_result"
    }
   ],
   "source": [
    "@time optData = readtable(\"../data/intmed_data/optData.csv\")\n",
    "\n",
    "head(optData)"
   ]
  },
  {
   "cell_type": "markdown",
   "metadata": {},
   "source": [
    "#### Split data into tables"
   ]
  },
  {
   "cell_type": "markdown",
   "metadata": {},
   "source": [
    "- get **underlying**: get value for each day, transform dates to `Date` type"
   ]
  },
  {
   "cell_type": "code",
   "execution_count": 18,
   "metadata": {
    "collapsed": false
   },
   "outputs": [
    {
     "data": {
      "text/html": [
       "<table class=\"data-frame\"><tr><th></th><th>Date</th><th>DAX</th></tr><tr><th>1</th><td>2006-07-03</td><td>5712.69</td></tr><tr><th>2</th><td>2006-07-04</td><td>5729.01</td></tr><tr><th>3</th><td>2006-07-05</td><td>5625.63</td></tr><tr><th>4</th><td>2006-07-06</td><td>5695.47</td></tr><tr><th>5</th><td>2006-07-07</td><td>5681.85</td></tr><tr><th>6</th><td>2006-07-10</td><td>5706.32</td></tr></table>"
      ],
      "text/plain": [
       "6x2 DataFrame\n",
       "| Row | Date       | DAX     |\n",
       "|-----|------------|---------|\n",
       "| 1   | 2006-07-03 | 5712.69 |\n",
       "| 2   | 2006-07-04 | 5729.01 |\n",
       "| 3   | 2006-07-05 | 5625.63 |\n",
       "| 4   | 2006-07-06 | 5695.47 |\n",
       "| 5   | 2006-07-07 | 5681.85 |\n",
       "| 6   | 2006-07-10 | 5706.32 |"
      ]
     },
     "execution_count": 18,
     "metadata": {},
     "output_type": "execute_result"
    }
   ],
   "source": [
    "underlyingRaw = unique([optData[:Date].data optData[:DAX].data], 1)\n",
    "\n",
    "dats = Date[Date(Dates.UTD(int(x))) for x in underlyingRaw[:, 1]]\n",
    "underlying = DataFrame(Date = dats, DAX = underlyingRaw[:, 2])\n",
    "\n",
    "head(underlying)"
   ]
  },
  {
   "cell_type": "code",
   "execution_count": 19,
   "metadata": {
    "collapsed": false
   },
   "outputs": [
    {
     "name": "stdout",
     "output_type": "stream",
     "text": [
      "elapsed time: 0.47628593 seconds (93393484 bytes allocated, 7.37% gc time)\n"
     ]
    },
    {
     "data": {
      "text/plain": [
       "(12917,3)"
      ]
     },
     "execution_count": 19,
     "metadata": {},
     "output_type": "execute_result"
    }
   ],
   "source": [
    "function getAllOptions_num_dates(df::DataFrame)\n",
    "    arrData = [df[:Strike].data df[:Expiry].data df[:IsCall].data]\n",
    "    return unique(arrData, 1)\n",
    "end\n",
    "\n",
    "@time allOpts = getAllOptions_num_dates(optData)\n",
    "size(allOpts)"
   ]
  },
  {
   "cell_type": "code",
   "execution_count": 36,
   "metadata": {
    "collapsed": false
   },
   "outputs": [
    {
     "data": {
      "text/html": [
       "<table class=\"data-frame\"><tr><th></th><th>Strike</th><th>Expiry</th><th>IsCall</th></tr><tr><th>1</th><td>4200</td><td>732513</td><td>0</td></tr><tr><th>2</th><td>4300</td><td>732513</td><td>0</td></tr><tr><th>3</th><td>4400</td><td>732513</td><td>0</td></tr><tr><th>4</th><td>4500</td><td>732513</td><td>0</td></tr><tr><th>5</th><td>4600</td><td>732513</td><td>0</td></tr><tr><th>6</th><td>4700</td><td>732513</td><td>0</td></tr></table>"
      ],
      "text/plain": [
       "6x3 DataFrame\n",
       "| Row | Strike | Expiry | IsCall |\n",
       "|-----|--------|--------|--------|\n",
       "| 1   | 4200   | 732513 | 0      |\n",
       "| 2   | 4300   | 732513 | 0      |\n",
       "| 3   | 4400   | 732513 | 0      |\n",
       "| 4   | 4500   | 732513 | 0      |\n",
       "| 5   | 4600   | 732513 | 0      |\n",
       "| 6   | 4700   | 732513 | 0      |"
      ]
     },
     "execution_count": 36,
     "metadata": {},
     "output_type": "execute_result"
    }
   ],
   "source": [
    "# sort options\n",
    "df = DataFrame(Strike = allOpts[:, 1], Expiry = allOpts[:, 2], IsCall = allOpts[:, 3])\n",
    "df_sorted = sort(df, cols = [:Expiry, :IsCall, :Strike])\n",
    "\n",
    "head(df_sorted)"
   ]
  },
  {
   "cell_type": "code",
   "execution_count": 39,
   "metadata": {
    "collapsed": false
   },
   "outputs": [
    {
     "data": {
      "text/plain": [
       "12917-element Array{String,1}:\n",
       " \"o1\"    \n",
       " \"o2\"    \n",
       " \"o3\"    \n",
       " \"o4\"    \n",
       " \"o5\"    \n",
       " \"o6\"    \n",
       " \"o7\"    \n",
       " \"o8\"    \n",
       " \"o9\"    \n",
       " \"o10\"   \n",
       " \"o11\"   \n",
       " \"o12\"   \n",
       " \"o13\"   \n",
       " ⋮       \n",
       " \"o12906\"\n",
       " \"o12907\"\n",
       " \"o12908\"\n",
       " \"o12909\"\n",
       " \"o12910\"\n",
       " \"o12911\"\n",
       " \"o12912\"\n",
       " \"o12913\"\n",
       " \"o12914\"\n",
       " \"o12915\"\n",
       " \"o12916\"\n",
       " \"o12917\""
      ]
     },
     "execution_count": 39,
     "metadata": {},
     "output_type": "execute_result"
    }
   ],
   "source": [
    "# create string identifiers (allows usage as column names)\n",
    "ids = String[string(\"o\", x) for x in 1:size(df_sorted, 1)]"
   ]
  },
  {
   "cell_type": "code",
   "execution_count": 41,
   "metadata": {
    "collapsed": false
   },
   "outputs": [
    {
     "data": {
      "text/plain": [
       "12917-element Array{Date,1}:\n",
       " 2006-07-21\n",
       " 2006-07-21\n",
       " 2006-07-21\n",
       " 2006-07-21\n",
       " 2006-07-21\n",
       " 2006-07-21\n",
       " 2006-07-21\n",
       " 2006-07-21\n",
       " 2006-07-21\n",
       " 2006-07-21\n",
       " 2006-07-21\n",
       " 2006-07-21\n",
       " 2006-07-21\n",
       " ⋮         \n",
       " 2014-12-19\n",
       " 2014-12-19\n",
       " 2014-12-19\n",
       " 2014-12-19\n",
       " 2014-12-19\n",
       " 2014-12-19\n",
       " 2014-12-19\n",
       " 2014-12-19\n",
       " 2014-12-19\n",
       " 2014-12-19\n",
       " 2014-12-19\n",
       " 2014-12-19"
      ]
     },
     "execution_count": 41,
     "metadata": {},
     "output_type": "execute_result"
    }
   ],
   "source": [
    "# get expiry dates as Date\n",
    "expy = df_sorted[:Expiry]\n",
    "expyDats = Date[Date(Dates.UTD(int(x))) for x in expy]"
   ]
  },
  {
   "cell_type": "code",
   "execution_count": 43,
   "metadata": {
    "collapsed": false
   },
   "outputs": [
    {
     "data": {
      "text/html": [
       "<table class=\"data-frame\"><tr><th></th><th>ID</th><th>Expiry</th><th>Strike</th><th>IsCall</th></tr><tr><th>1</th><td>o1</td><td>2006-07-21</td><td>4200</td><td>0</td></tr><tr><th>2</th><td>o2</td><td>2006-07-21</td><td>4300</td><td>0</td></tr><tr><th>3</th><td>o3</td><td>2006-07-21</td><td>4400</td><td>0</td></tr><tr><th>4</th><td>o4</td><td>2006-07-21</td><td>4500</td><td>0</td></tr><tr><th>5</th><td>o5</td><td>2006-07-21</td><td>4600</td><td>0</td></tr><tr><th>6</th><td>o6</td><td>2006-07-21</td><td>4700</td><td>0</td></tr></table>"
      ],
      "text/plain": [
       "6x4 DataFrame\n",
       "| Row | ID   | Expiry     | Strike | IsCall |\n",
       "|-----|------|------------|--------|--------|\n",
       "| 1   | \"o1\" | 2006-07-21 | 4200   | 0      |\n",
       "| 2   | \"o2\" | 2006-07-21 | 4300   | 0      |\n",
       "| 3   | \"o3\" | 2006-07-21 | 4400   | 0      |\n",
       "| 4   | \"o4\" | 2006-07-21 | 4500   | 0      |\n",
       "| 5   | \"o5\" | 2006-07-21 | 4600   | 0      |\n",
       "| 6   | \"o6\" | 2006-07-21 | 4700   | 0      |"
      ]
     },
     "execution_count": 43,
     "metadata": {},
     "output_type": "execute_result"
    }
   ],
   "source": [
    "opts = DataFrame(ID = ids, Expiry = expyDats, Strike = df_sorted[:Strike], IsCall = df_sorted[:IsCall])\n",
    "head(opts)"
   ]
  },
  {
   "cell_type": "code",
   "execution_count": 52,
   "metadata": {
    "collapsed": false
   },
   "outputs": [
    {
     "data": {
      "text/plain": [
       "2025129x3 Array{Int64,2}:\n",
       " 732660  1800  1\n",
       " 732660  1800  0\n",
       " 732660  2000  1\n",
       " 732660  2000  0\n",
       " 732660  2200  1\n",
       " 732660  2200  0\n",
       " 732660  2400  1\n",
       " 732660  2400  0\n",
       " 732660  2600  0\n",
       " 732660  2800  1\n",
       " 732660  2800  0\n",
       " 732660  3000  1\n",
       " 732660  3000  0\n",
       "      ⋮         \n",
       " 735250  9650  0\n",
       " 735250  9700  1\n",
       " 735250  9700  0\n",
       " 735250  9750  1\n",
       " 735250  9750  0\n",
       " 735250  9800  1\n",
       " 735250  9800  0\n",
       " 735250  9850  1\n",
       " 735250  9900  1\n",
       " 735250  9900  0\n",
       " 735250  9950  1\n",
       " 735250  9950  0"
      ]
     },
     "execution_count": 52,
     "metadata": {},
     "output_type": "execute_result"
    }
   ],
   "source": [
    "obs_optParams = [array(optData[[:Expiry, :Strike]]) optData[:IsCall]]"
   ]
  },
  {
   "cell_type": "code",
   "execution_count": 59,
   "metadata": {
    "collapsed": false
   },
   "outputs": [
    {
     "data": {
      "text/plain": [
       "12917x3 Array{Int64,2}:\n",
       " 732513   4200  0\n",
       " 732513   4300  0\n",
       " 732513   4400  0\n",
       " 732513   4500  0\n",
       " 732513   4600  0\n",
       " 732513   4700  0\n",
       " 732513   4800  0\n",
       " 732513   4850  0\n",
       " 732513   4900  0\n",
       " 732513   4950  0\n",
       " 732513   5000  0\n",
       " 732513   5050  0\n",
       " 732513   5100  0\n",
       "      ⋮          \n",
       " 735586  10000  1\n",
       " 735586  10100  1\n",
       " 735586  10200  1\n",
       " 735586  10300  1\n",
       " 735586  10400  1\n",
       " 735586  10500  1\n",
       " 735586  10600  1\n",
       " 735586  10700  1\n",
       " 735586  11000  1\n",
       " 735586  11400  1\n",
       " 735586  11600  1\n",
       " 735586  12000  1"
      ]
     },
     "execution_count": 59,
     "metadata": {},
     "output_type": "execute_result"
    }
   ],
   "source": [
    "numDates = Int[Dates.value(x) for x in opts[:Expiry]]\n",
    "opts_optParams = [numDates array(opts[[:Strike, :IsCall]])]"
   ]
  },
  {
   "cell_type": "markdown",
   "metadata": {},
   "source": [
    "- get option ID for each observation"
   ]
  },
  {
   "cell_type": "code",
   "execution_count": 72,
   "metadata": {
    "collapsed": false
   },
   "outputs": [
    {
     "data": {
      "text/plain": [
       "findEqualRow (generic function with 1 method)"
      ]
     },
     "execution_count": 72,
     "metadata": {},
     "output_type": "execute_result"
    }
   ],
   "source": [
    "function findEqualRow(rowToFind::Array{Int, 2}, listedRows::Array{Int, 2})\n",
    "    nRows, nCols = size(listedRows)\n",
    "    equTrue = trues(nRows)\n",
    "    for jj=1:nCols\n",
    "        equTrue = equTrue & (listedRows[:, jj] .== rowToFind[1, jj])\n",
    "    end\n",
    "    return find(equTrue)\n",
    "end"
   ]
  },
  {
   "cell_type": "code",
   "execution_count": 73,
   "metadata": {
    "collapsed": false
   },
   "outputs": [
    {
     "data": {
      "text/plain": [
       "1-element Array{Int64,1}:\n",
       " 226"
      ]
     },
     "execution_count": 73,
     "metadata": {},
     "output_type": "execute_result"
    }
   ],
   "source": [
    "findEqualRow(obs_optParams[1200, :], opts_optParams)"
   ]
  },
  {
   "cell_type": "code",
   "execution_count": 74,
   "metadata": {
    "collapsed": false
   },
   "outputs": [
    {
     "data": {
      "text/plain": [
       "1x3 Array{Int64,2}:\n",
       " 732569  6500  0"
      ]
     },
     "execution_count": 74,
     "metadata": {},
     "output_type": "execute_result"
    }
   ],
   "source": [
    "obs_optParams[1200,:]"
   ]
  },
  {
   "cell_type": "code",
   "execution_count": 75,
   "metadata": {
    "collapsed": false
   },
   "outputs": [
    {
     "data": {
      "text/plain": [
       "1x3 Array{Int64,2}:\n",
       " 732569  6500  0"
      ]
     },
     "execution_count": 75,
     "metadata": {},
     "output_type": "execute_result"
    }
   ],
   "source": [
    "opts_optParams[226, :]"
   ]
  },
  {
   "cell_type": "code",
   "execution_count": 82,
   "metadata": {
    "collapsed": false
   },
   "outputs": [
    {
     "name": "stdout",
     "output_type": "stream",
     "text": [
      "elapsed time: 2269.044490644 seconds (684330751480 bytes allocated, 85.27% gc time)\n"
     ]
    }
   ],
   "source": [
    "@time begin \n",
    "    nObs = size(obs_optParams, 1)\n",
    "    obs_optIDs = Array(String, nObs)\n",
    "    for ii=1:nObs\n",
    "        currParams = obs_optParams[ii, :]\n",
    "        ind = findEqualRow(currParams, opts_optParams)[1]\n",
    "        obs_optIDs[ii] = opts[ind, :ID]\n",
    "    end\n",
    "end"
   ]
  },
  {
   "cell_type": "code",
   "execution_count": 83,
   "metadata": {
    "collapsed": false
   },
   "outputs": [
    {
     "data": {
      "text/plain": [
       "2025129-element Array{String,1}:\n",
       " \"o530\"  \n",
       " \"o457\"  \n",
       " \"o531\"  \n",
       " \"o458\"  \n",
       " \"o532\"  \n",
       " \"o459\"  \n",
       " \"o533\"  \n",
       " \"o460\"  \n",
       " \"o461\"  \n",
       " \"o534\"  \n",
       " \"o462\"  \n",
       " \"o535\"  \n",
       " \"o463\"  \n",
       " ⋮       \n",
       " \"o12200\"\n",
       " \"o12257\"\n",
       " \"o12201\"\n",
       " \"o12258\"\n",
       " \"o12202\"\n",
       " \"o12259\"\n",
       " \"o12203\"\n",
       " \"o12260\"\n",
       " \"o12261\"\n",
       " \"o12204\"\n",
       " \"o12262\"\n",
       " \"o12205\""
      ]
     },
     "execution_count": 83,
     "metadata": {},
     "output_type": "execute_result"
    }
   ],
   "source": [
    "obs_optIDs"
   ]
  },
  {
   "cell_type": "code",
   "execution_count": 86,
   "metadata": {
    "collapsed": false
   },
   "outputs": [
    {
     "data": {
      "text/html": [
       "<table class=\"data-frame\"><tr><th></th><th>Date</th><th>Option_Price</th><th>Bid</th><th>Ask</th><th>Volume</th><th>Open_Interest</th><th>Strike</th><th>Expiry</th><th>DAX</th><th>EONIA_matched</th><th>Time_to_Maturity</th><th>IsCall</th><th>ID</th></tr><tr><th>1</th><td>732495</td><td>3931.1</td><td>NA</td><td>NA</td><td>1</td><td>104</td><td>1800</td><td>732660</td><td>5712.69</td><td>0.031667592146348</td><td>0.466666666666667</td><td>true</td><td>o530</td></tr><tr><th>2</th><td>732495</td><td>0.1</td><td>NA</td><td>NA</td><td>0</td><td>5515</td><td>1800</td><td>732660</td><td>5712.69</td><td>0.0316675921463482</td><td>0.466666666666667</td><td>false</td><td>o457</td></tr><tr><th>3</th><td>732495</td><td>3734.0</td><td>NA</td><td>NA</td><td>0</td><td>2152</td><td>2000</td><td>732660</td><td>5712.69</td><td>0.0316675921463482</td><td>0.466666666666667</td><td>true</td><td>o531</td></tr><tr><th>4</th><td>732495</td><td>0.1</td><td>NA</td><td>NA</td><td>0</td><td>20941</td><td>2000</td><td>732660</td><td>5712.69</td><td>0.0316675921463482</td><td>0.466666666666667</td><td>false</td><td>o458</td></tr><tr><th>5</th><td>732495</td><td>3536.9</td><td>NA</td><td>NA</td><td>0</td><td>2</td><td>2200</td><td>732660</td><td>5712.69</td><td>0.0316675921463482</td><td>0.466666666666667</td><td>true</td><td>o532</td></tr><tr><th>6</th><td>732495</td><td>0.1</td><td>NA</td><td>NA</td><td>0</td><td>4626</td><td>2200</td><td>732660</td><td>5712.69</td><td>0.0316675921463482</td><td>0.466666666666667</td><td>false</td><td>o459</td></tr></table>"
      ],
      "text/plain": [
       "6x13 DataFrame\n",
       "| Row | Date   | Option_Price | Bid | Ask | Volume | Open_Interest | Strike |\n",
       "|-----|--------|--------------|-----|-----|--------|---------------|--------|\n",
       "| 1   | 732495 | 3931.1       | NA  | NA  | 1      | 104           | 1800   |\n",
       "| 2   | 732495 | 0.1          | NA  | NA  | 0      | 5515          | 1800   |\n",
       "| 3   | 732495 | 3734.0       | NA  | NA  | 0      | 2152          | 2000   |\n",
       "| 4   | 732495 | 0.1          | NA  | NA  | 0      | 20941         | 2000   |\n",
       "| 5   | 732495 | 3536.9       | NA  | NA  | 0      | 2             | 2200   |\n",
       "| 6   | 732495 | 0.1          | NA  | NA  | 0      | 4626          | 2200   |\n",
       "\n",
       "| Row | Expiry | DAX     | EONIA_matched | Time_to_Maturity | IsCall | ID     |\n",
       "|-----|--------|---------|---------------|------------------|--------|--------|\n",
       "| 1   | 732660 | 5712.69 | 0.0316676     | 0.466667         | true   | \"o530\" |\n",
       "| 2   | 732660 | 5712.69 | 0.0316676     | 0.466667         | false  | \"o457\" |\n",
       "| 3   | 732660 | 5712.69 | 0.0316676     | 0.466667         | true   | \"o531\" |\n",
       "| 4   | 732660 | 5712.69 | 0.0316676     | 0.466667         | false  | \"o458\" |\n",
       "| 5   | 732660 | 5712.69 | 0.0316676     | 0.466667         | true   | \"o532\" |\n",
       "| 6   | 732660 | 5712.69 | 0.0316676     | 0.466667         | false  | \"o459\" |"
      ]
     },
     "execution_count": 86,
     "metadata": {},
     "output_type": "execute_result"
    }
   ],
   "source": [
    "optData[:ID] = obs_optIDs\n",
    "head(optData)"
   ]
  },
  {
   "cell_type": "code",
   "execution_count": 91,
   "metadata": {
    "collapsed": false
   },
   "outputs": [],
   "source": [
    "writetable(\"../data/rel_data/optData.csv\", optData)\n",
    "writetable(\"../data/rel_data/underlying.csv\", underlying)\n",
    "writetable(\"../data/rel_data/opts.csv\", opts)"
   ]
  },
  {
   "cell_type": "markdown",
   "metadata": {},
   "source": [
    "- transform to dates"
   ]
  },
  {
   "cell_type": "code",
   "execution_count": 3,
   "metadata": {
    "collapsed": false
   },
   "outputs": [
    {
     "name": "stdout",
     "output_type": "stream",
     "text": [
      "elapsed time: 0.053756241 seconds (33650864 bytes allocated)\n"
     ]
    },
    {
     "data": {
      "text/html": [
       "<table class=\"data-frame\"><tr><th></th><th>Date</th><th>Option_Price</th><th>Bid</th><th>Ask</th><th>Volume</th><th>Open_Interest</th><th>Strike</th><th>Expiry</th><th>DAX</th><th>EONIA_matched</th><th>Time_to_Maturity</th><th>IsCall</th></tr><tr><th>1</th><td>2006-07-03</td><td>3931.1</td><td>NA</td><td>NA</td><td>1</td><td>104</td><td>1800</td><td>2006-12-15</td><td>5712.69</td><td>0.031667592146348</td><td>0.466666666666667</td><td>true</td></tr><tr><th>2</th><td>2006-07-03</td><td>0.1</td><td>NA</td><td>NA</td><td>0</td><td>5515</td><td>1800</td><td>2006-12-15</td><td>5712.69</td><td>0.0316675921463482</td><td>0.466666666666667</td><td>false</td></tr><tr><th>3</th><td>2006-07-03</td><td>3734.0</td><td>NA</td><td>NA</td><td>0</td><td>2152</td><td>2000</td><td>2006-12-15</td><td>5712.69</td><td>0.0316675921463482</td><td>0.466666666666667</td><td>true</td></tr><tr><th>4</th><td>2006-07-03</td><td>0.1</td><td>NA</td><td>NA</td><td>0</td><td>20941</td><td>2000</td><td>2006-12-15</td><td>5712.69</td><td>0.0316675921463482</td><td>0.466666666666667</td><td>false</td></tr><tr><th>5</th><td>2006-07-03</td><td>3536.9</td><td>NA</td><td>NA</td><td>0</td><td>2</td><td>2200</td><td>2006-12-15</td><td>5712.69</td><td>0.0316675921463482</td><td>0.466666666666667</td><td>true</td></tr><tr><th>6</th><td>2006-07-03</td><td>0.1</td><td>NA</td><td>NA</td><td>0</td><td>4626</td><td>2200</td><td>2006-12-15</td><td>5712.69</td><td>0.0316675921463482</td><td>0.466666666666667</td><td>false</td></tr><tr><th>7</th><td>2006-07-03</td><td>3339.8</td><td>NA</td><td>NA</td><td>0</td><td>2009</td><td>2400</td><td>2006-12-15</td><td>5712.69</td><td>0.0316675921463482</td><td>0.466666666666667</td><td>true</td></tr><tr><th>8</th><td>2006-07-03</td><td>0.1</td><td>NA</td><td>NA</td><td>0</td><td>13367</td><td>2400</td><td>2006-12-15</td><td>5712.69</td><td>0.0316675921463482</td><td>0.466666666666667</td><td>false</td></tr><tr><th>9</th><td>2006-07-03</td><td>0.2</td><td>NA</td><td>NA</td><td>0</td><td>2297</td><td>2600</td><td>2006-12-15</td><td>5712.69</td><td>0.0316675921463482</td><td>0.466666666666667</td><td>false</td></tr><tr><th>10</th><td>2006-07-03</td><td>2945.9</td><td>NA</td><td>NA</td><td>0</td><td>624</td><td>2800</td><td>2006-12-15</td><td>5712.69</td><td>0.0316675921463482</td><td>0.466666666666667</td><td>true</td></tr><tr><th>11</th><td>2006-07-03</td><td>0.5</td><td>NA</td><td>NA</td><td>0</td><td>6213</td><td>2800</td><td>2006-12-15</td><td>5712.69</td><td>0.0316675921463482</td><td>0.466666666666667</td><td>false</td></tr><tr><th>12</th><td>2006-07-03</td><td>2749.2</td><td>NA</td><td>NA</td><td>0</td><td>5808</td><td>3000</td><td>2006-12-15</td><td>5712.69</td><td>0.0316675921463482</td><td>0.466666666666667</td><td>true</td></tr><tr><th>13</th><td>2006-07-03</td><td>0.9</td><td>NA</td><td>NA</td><td>10</td><td>16589</td><td>3000</td><td>2006-12-15</td><td>5712.69</td><td>0.0316675921463482</td><td>0.466666666666667</td><td>false</td></tr><tr><th>14</th><td>2006-07-03</td><td>2552.7</td><td>NA</td><td>NA</td><td>0</td><td>3763</td><td>3200</td><td>2006-12-15</td><td>5712.69</td><td>0.0316675921463482</td><td>0.466666666666667</td><td>true</td></tr><tr><th>15</th><td>2006-07-03</td><td>1.5</td><td>NA</td><td>NA</td><td>0</td><td>29118</td><td>3200</td><td>2006-12-15</td><td>5712.69</td><td>0.0316675921463482</td><td>0.466666666666667</td><td>false</td></tr><tr><th>16</th><td>2006-07-03</td><td>2356.7</td><td>NA</td><td>NA</td><td>0</td><td>2913</td><td>3400</td><td>2006-12-15</td><td>5712.69</td><td>0.0316675921463482</td><td>0.466666666666667</td><td>true</td></tr><tr><th>17</th><td>2006-07-03</td><td>2.6</td><td>NA</td><td>NA</td><td>0</td><td>31559</td><td>3400</td><td>2006-12-15</td><td>5712.69</td><td>0.0316675921463482</td><td>0.466666666666667</td><td>false</td></tr><tr><th>18</th><td>2006-07-03</td><td>2161.2</td><td>NA</td><td>NA</td><td>0</td><td>8107</td><td>3600</td><td>2006-12-15</td><td>5712.69</td><td>0.0316675921463482</td><td>0.466666666666667</td><td>true</td></tr><tr><th>19</th><td>2006-07-03</td><td>4.2</td><td>NA</td><td>NA</td><td>0</td><td>28976</td><td>3600</td><td>2006-12-15</td><td>5712.69</td><td>0.0316675921463482</td><td>0.466666666666667</td><td>false</td></tr><tr><th>20</th><td>2006-07-03</td><td>1966.6</td><td>NA</td><td>NA</td><td>0</td><td>8817</td><td>3800</td><td>2006-12-15</td><td>5712.69</td><td>0.0316675921463482</td><td>0.466666666666667</td><td>true</td></tr><tr><th>21</th><td>2006-07-03</td><td>6.8</td><td>NA</td><td>NA</td><td>0</td><td>45495</td><td>3800</td><td>2006-12-15</td><td>5712.69</td><td>0.0316675921463482</td><td>0.466666666666667</td><td>false</td></tr><tr><th>22</th><td>2006-07-03</td><td>1869.7</td><td>NA</td><td>NA</td><td>0</td><td>200</td><td>3900</td><td>2006-12-15</td><td>5712.69</td><td>0.0316675921463482</td><td>0.466666666666667</td><td>true</td></tr><tr><th>23</th><td>2006-07-03</td><td>8.4</td><td>NA</td><td>NA</td><td>0</td><td>5155</td><td>3900</td><td>2006-12-15</td><td>5712.69</td><td>0.0316675921463482</td><td>0.466666666666667</td><td>false</td></tr><tr><th>24</th><td>2006-07-03</td><td>9.4</td><td>NA</td><td>NA</td><td>0</td><td>2244</td><td>3950</td><td>2006-12-15</td><td>5712.69</td><td>0.0316675921463482</td><td>0.466666666666667</td><td>false</td></tr><tr><th>25</th><td>2006-07-03</td><td>1773.2</td><td>NA</td><td>NA</td><td>0</td><td>30542</td><td>4000</td><td>2006-12-15</td><td>5712.69</td><td>0.0316675921463482</td><td>0.466666666666667</td><td>true</td></tr><tr><th>26</th><td>2006-07-03</td><td>10.5</td><td>NA</td><td>NA</td><td>100</td><td>63073</td><td>4000</td><td>2006-12-15</td><td>5712.69</td><td>0.0316675921463482</td><td>0.466666666666667</td><td>false</td></tr><tr><th>27</th><td>2006-07-03</td><td>1725.1</td><td>NA</td><td>NA</td><td>0</td><td>195</td><td>4050</td><td>2006-12-15</td><td>5712.69</td><td>0.0316675921463482</td><td>0.466666666666667</td><td>true</td></tr><tr><th>28</th><td>2006-07-03</td><td>11.7</td><td>NA</td><td>NA</td><td>0</td><td>2369</td><td>4050</td><td>2006-12-15</td><td>5712.69</td><td>0.0316675921463482</td><td>0.466666666666667</td><td>false</td></tr><tr><th>29</th><td>2006-07-03</td><td>1677.1</td><td>NA</td><td>NA</td><td>0</td><td>884</td><td>4100</td><td>2006-12-15</td><td>5712.69</td><td>0.0316675921463482</td><td>0.466666666666667</td><td>true</td></tr><tr><th>30</th><td>2006-07-03</td><td>13.0</td><td>NA</td><td>NA</td><td>20</td><td>17002</td><td>4100</td><td>2006-12-15</td><td>5712.69</td><td>0.0316675921463482</td><td>0.466666666666667</td><td>false</td></tr><tr><th>&vellip;</th><td>&vellip;</td><td>&vellip;</td><td>&vellip;</td><td>&vellip;</td><td>&vellip;</td><td>&vellip;</td><td>&vellip;</td><td>&vellip;</td><td>&vellip;</td><td>&vellip;</td><td>&vellip;</td><td>&vellip;</td></tr></table>"
      ],
      "text/plain": [
       "2025129x12 DataFrame\n",
       "| Row     | Date       | Option_Price | Bid   | Ask   | Volume | Open_Interest |\n",
       "|---------|------------|--------------|-------|-------|--------|---------------|\n",
       "| 1       | 2006-07-03 | 3931.1       | NA    | NA    | 1      | 104           |\n",
       "| 2       | 2006-07-03 | 0.1          | NA    | NA    | 0      | 5515          |\n",
       "| 3       | 2006-07-03 | 3734.0       | NA    | NA    | 0      | 2152          |\n",
       "| 4       | 2006-07-03 | 0.1          | NA    | NA    | 0      | 20941         |\n",
       "| 5       | 2006-07-03 | 3536.9       | NA    | NA    | 0      | 2             |\n",
       "| 6       | 2006-07-03 | 0.1          | NA    | NA    | 0      | 4626          |\n",
       "| 7       | 2006-07-03 | 3339.8       | NA    | NA    | 0      | 2009          |\n",
       "| 8       | 2006-07-03 | 0.1          | NA    | NA    | 0      | 13367         |\n",
       "| 9       | 2006-07-03 | 0.2          | NA    | NA    | 0      | 2297          |\n",
       "| 10      | 2006-07-03 | 2945.9       | NA    | NA    | 0      | 624           |\n",
       "| 11      | 2006-07-03 | 0.5          | NA    | NA    | 0      | 6213          |\n",
       "⋮\n",
       "| 2025118 | 2013-12-30 | 140.0        | 147.0 | 153.8 | 2300   | 2311          |\n",
       "| 2025119 | 2013-12-30 | 63.6         | 57.4  | 58.3  | 412    | 7633          |\n",
       "| 2025120 | 2013-12-30 | 169.9        | 174.7 | 185.9 | 19     | 76            |\n",
       "| 2025121 | 2013-12-30 | 47.2         | 41.1  | 42.7  | 180    | 6237          |\n",
       "| 2025122 | 2013-12-30 | 203.5        | 208.4 | 222.6 | 0      | 10            |\n",
       "| 2025123 | 2013-12-30 | 34.4         | 29.7  | 31.1  | 1795   | 14802         |\n",
       "| 2025124 | 2013-12-30 | 240.7        | 245.6 | 262.7 | 0      | 92            |\n",
       "| 2025125 | 2013-12-30 | 24.8         | 21.3  | 22.6  | 118    | 1908          |\n",
       "| 2025126 | 2013-12-30 | 17.7         | 15.0  | 16.4  | 1100   | 3989          |\n",
       "| 2025127 | 2013-12-30 | 324.0        | 328.6 | 349.8 | 5      | 5             |\n",
       "| 2025128 | 2013-12-30 | 12.6         | 10.7  | 12.1  | 9      | 428           |\n",
       "| 2025129 | 2013-12-30 | 368.9        | 374.2 | 398.0 | 1      | 1             |\n",
       "\n",
       "| Row     | Strike | Expiry     | DAX     | EONIA_matched | Time_to_Maturity |\n",
       "|---------|--------|------------|---------|---------------|------------------|\n",
       "| 1       | 1800   | 2006-12-15 | 5712.69 | 0.0316676     | 0.466667         |\n",
       "| 2       | 1800   | 2006-12-15 | 5712.69 | 0.0316676     | 0.466667         |\n",
       "| 3       | 2000   | 2006-12-15 | 5712.69 | 0.0316676     | 0.466667         |\n",
       "| 4       | 2000   | 2006-12-15 | 5712.69 | 0.0316676     | 0.466667         |\n",
       "| 5       | 2200   | 2006-12-15 | 5712.69 | 0.0316676     | 0.466667         |\n",
       "| 6       | 2200   | 2006-12-15 | 5712.69 | 0.0316676     | 0.466667         |\n",
       "| 7       | 2400   | 2006-12-15 | 5712.69 | 0.0316676     | 0.466667         |\n",
       "| 8       | 2400   | 2006-12-15 | 5712.69 | 0.0316676     | 0.466667         |\n",
       "| 9       | 2600   | 2006-12-15 | 5712.69 | 0.0316676     | 0.466667         |\n",
       "| 10      | 2800   | 2006-12-15 | 5712.69 | 0.0316676     | 0.466667         |\n",
       "| 11      | 2800   | 2006-12-15 | 5712.69 | 0.0316676     | 0.466667         |\n",
       "⋮\n",
       "| 2025118 | 9650   | 2014-01-17 | 9552.16 | 0.00207379    | 0.0470588        |\n",
       "| 2025119 | 9700   | 2014-01-17 | 9552.16 | 0.00207379    | 0.0470588        |\n",
       "| 2025120 | 9700   | 2014-01-17 | 9552.16 | 0.00207379    | 0.0470588        |\n",
       "| 2025121 | 9750   | 2014-01-17 | 9552.16 | 0.00207379    | 0.0470588        |\n",
       "| 2025122 | 9750   | 2014-01-17 | 9552.16 | 0.00207379    | 0.0470588        |\n",
       "| 2025123 | 9800   | 2014-01-17 | 9552.16 | 0.00207379    | 0.0470588        |\n",
       "| 2025124 | 9800   | 2014-01-17 | 9552.16 | 0.00207379    | 0.0470588        |\n",
       "| 2025125 | 9850   | 2014-01-17 | 9552.16 | 0.00207379    | 0.0470588        |\n",
       "| 2025126 | 9900   | 2014-01-17 | 9552.16 | 0.00207379    | 0.0470588        |\n",
       "| 2025127 | 9900   | 2014-01-17 | 9552.16 | 0.00207379    | 0.0470588        |\n",
       "| 2025128 | 9950   | 2014-01-17 | 9552.16 | 0.00207379    | 0.0470588        |\n",
       "| 2025129 | 9950   | 2014-01-17 | 9552.16 | 0.00207379    | 0.0470588        |\n",
       "\n",
       "| Row     | IsCall |\n",
       "|---------|--------|\n",
       "| 1       | true   |\n",
       "| 2       | false  |\n",
       "| 3       | true   |\n",
       "| 4       | false  |\n",
       "| 5       | true   |\n",
       "| 6       | false  |\n",
       "| 7       | true   |\n",
       "| 8       | false  |\n",
       "| 9       | false  |\n",
       "| 10      | true   |\n",
       "| 11      | false  |\n",
       "⋮\n",
       "| 2025118 | false  |\n",
       "| 2025119 | true   |\n",
       "| 2025120 | false  |\n",
       "| 2025121 | true   |\n",
       "| 2025122 | false  |\n",
       "| 2025123 | true   |\n",
       "| 2025124 | false  |\n",
       "| 2025125 | true   |\n",
       "| 2025126 | true   |\n",
       "| 2025127 | false  |\n",
       "| 2025128 | true   |\n",
       "| 2025129 | false  |"
      ]
     },
     "execution_count": 3,
     "metadata": {},
     "output_type": "execute_result"
    }
   ],
   "source": [
    "function num2date(numb::Int64)\n",
    "    return Date(Dates.UTD(numb))\n",
    "end\n",
    "function num2date(numb::Array{Int64})\n",
    "    nDats = size(numb, 1)\n",
    "    dats = Array(Date, nDats)\n",
    "    for ii=1:nDats\n",
    "        dats[ii] = num2date(numb[ii])\n",
    "    end\n",
    "    return dats\n",
    "end\n",
    "\n",
    "@time begin\n",
    "    optData[:Date] = num2date(optData[:Date].data)\n",
    "    optData[:Expiry] = num2date(optData[:Expiry].data)\n",
    "end\n",
    "optData"
   ]
  },
  {
   "cell_type": "code",
   "execution_count": 6,
   "metadata": {
    "collapsed": false
   },
   "outputs": [
    {
     "ename": "LoadError",
     "evalue": "syntax: keyword argument is not a symbol: \"4\"\nwhile loading In[6], in expression starting on line 1",
     "output_type": "error",
     "traceback": [
      "syntax: keyword argument is not a symbol: \"4\"\nwhile loading In[6], in expression starting on line 1",
      ""
     ]
    }
   ],
   "source": [
    "df = DataFrame(a = [3, 4], b = [5, 3], \"4\" = [4, 2])"
   ]
  },
  {
   "cell_type": "markdown",
   "metadata": {},
   "source": [
    "- arbitrarily select an expiry date"
   ]
  },
  {
   "cell_type": "code",
   "execution_count": 6,
   "metadata": {
    "collapsed": false
   },
   "outputs": [
    {
     "data": {
      "text/plain": [
       "2008-08-15"
      ]
     },
     "execution_count": 6,
     "metadata": {},
     "output_type": "execute_result"
    }
   ],
   "source": [
    "chosenExpiry = unique(optData[:Expiry])[35]"
   ]
  },
  {
   "cell_type": "markdown",
   "metadata": {},
   "source": [
    "- get all option data with given expiry date"
   ]
  },
  {
   "cell_type": "code",
   "execution_count": 8,
   "metadata": {
    "collapsed": false
   },
   "outputs": [
    {
     "data": {
      "text/html": [
       "<table class=\"data-frame\"><tr><th></th><th>Date</th><th>Option_Price</th><th>Bid</th><th>Ask</th><th>Volume</th><th>Open_Interest</th><th>Strike</th><th>Expiry</th><th>DAX</th><th>EONIA_matched</th><th>Time_to_Maturity</th><th>IsCall</th></tr><tr><th>1</th><td>2008-05-19</td><td>87.1</td><td>NA</td><td>NA</td><td>785</td><td>750</td><td>6700</td><td>2008-08-15</td><td>7225.94</td><td>0.0474534715097305</td><td>0.250980392156863</td><td>false</td></tr><tr><th>2</th><td>2008-05-19</td><td>104.2</td><td>NA</td><td>NA</td><td>2</td><td>2</td><td>6800</td><td>2008-08-15</td><td>7225.94</td><td>0.0474534715097305</td><td>0.250980392156863</td><td>false</td></tr><tr><th>3</th><td>2008-05-19</td><td>113.7</td><td>NA</td><td>NA</td><td>66</td><td>66</td><td>6850</td><td>2008-08-15</td><td>7225.94</td><td>0.0474534715097305</td><td>0.250980392156863</td><td>false</td></tr><tr><th>4</th><td>2008-05-19</td><td>124.2</td><td>NA</td><td>NA</td><td>4</td><td>4</td><td>6900</td><td>2008-08-15</td><td>7225.94</td><td>0.0474534715097305</td><td>0.250980392156863</td><td>false</td></tr><tr><th>5</th><td>2008-05-19</td><td>135.5</td><td>NA</td><td>NA</td><td>380</td><td>380</td><td>6950</td><td>2008-08-15</td><td>7225.94</td><td>0.0474534715097305</td><td>0.250980392156863</td><td>false</td></tr><tr><th>6</th><td>2008-05-19</td><td>147.6</td><td>NA</td><td>NA</td><td>5</td><td>5</td><td>7000</td><td>2008-08-15</td><td>7225.94</td><td>0.0474534715097305</td><td>0.250980392156863</td><td>false</td></tr><tr><th>7</th><td>2008-05-19</td><td>306.8</td><td>NA</td><td>NA</td><td>32</td><td>30</td><td>7200</td><td>2008-08-15</td><td>7225.94</td><td>0.0474534715097305</td><td>0.250980392156863</td><td>true</td></tr><tr><th>8</th><td>2008-05-19</td><td>275.6</td><td>NA</td><td>NA</td><td>5</td><td>5</td><td>7250</td><td>2008-08-15</td><td>7225.94</td><td>0.0474534715097305</td><td>0.250980392156863</td><td>true</td></tr><tr><th>9</th><td>2008-05-19</td><td>246.0</td><td>NA</td><td>NA</td><td>5</td><td>5</td><td>7300</td><td>2008-08-15</td><td>7225.94</td><td>0.0474534715097305</td><td>0.250980392156863</td><td>true</td></tr><tr><th>10</th><td>2008-05-19</td><td>218.2</td><td>NA</td><td>NA</td><td>75</td><td>75</td><td>7350</td><td>2008-08-15</td><td>7225.94</td><td>0.0474534715097305</td><td>0.250980392156863</td><td>true</td></tr><tr><th>11</th><td>2008-05-19</td><td>192.0</td><td>NA</td><td>NA</td><td>100</td><td>100</td><td>7400</td><td>2008-08-15</td><td>7225.94</td><td>0.0474534715097305</td><td>0.250980392156863</td><td>true</td></tr><tr><th>12</th><td>2008-05-19</td><td>145.0</td><td>NA</td><td>NA</td><td>2</td><td>2</td><td>7500</td><td>2008-08-15</td><td>7225.94</td><td>0.0474534715097305</td><td>0.250980392156863</td><td>true</td></tr><tr><th>13</th><td>2008-05-19</td><td>105.3</td><td>NA</td><td>NA</td><td>235</td><td>235</td><td>7600</td><td>2008-08-15</td><td>7225.94</td><td>0.0474534715097305</td><td>0.250980392156863</td><td>true</td></tr><tr><th>14</th><td>2008-05-19</td><td>400.7</td><td>NA</td><td>NA</td><td>200</td><td>200</td><td>7600</td><td>2008-08-15</td><td>7225.94</td><td>0.0474534715097305</td><td>0.250980392156863</td><td>false</td></tr><tr><th>15</th><td>2008-05-20</td><td>1.7</td><td>NA</td><td>NA</td><td>325</td><td>325</td><td>5600</td><td>2008-08-15</td><td>7118.5</td><td>0.0473660322284041</td><td>0.247058823529412</td><td>false</td></tr><tr><th>16</th><td>2008-05-20</td><td>2.4</td><td>NA</td><td>NA</td><td>300</td><td>300</td><td>5650</td><td>2008-08-15</td><td>7118.5</td><td>0.0473660322284041</td><td>0.247058823529412</td><td>false</td></tr><tr><th>17</th><td>2008-05-20</td><td>3.1</td><td>NA</td><td>NA</td><td>300</td><td>300</td><td>5700</td><td>2008-08-15</td><td>7118.5</td><td>0.0473660322284041</td><td>0.247058823529412</td><td>false</td></tr><tr><th>18</th><td>2008-05-20</td><td>3.8</td><td>NA</td><td>NA</td><td>200</td><td>200</td><td>5750</td><td>2008-08-15</td><td>7118.5</td><td>0.0473660322284041</td><td>0.247058823529412</td><td>false</td></tr><tr><th>19</th><td>2008-05-20</td><td>4.8</td><td>NA</td><td>NA</td><td>200</td><td>200</td><td>5800</td><td>2008-08-15</td><td>7118.5</td><td>0.0473660322284041</td><td>0.247058823529412</td><td>false</td></tr><tr><th>20</th><td>2008-05-20</td><td>6.3</td><td>NA</td><td>NA</td><td>100</td><td>100</td><td>5850</td><td>2008-08-15</td><td>7118.5</td><td>0.0473660322284041</td><td>0.247058823529412</td><td>false</td></tr><tr><th>21</th><td>2008-05-20</td><td>7.7</td><td>NA</td><td>NA</td><td>104</td><td>104</td><td>5900</td><td>2008-08-15</td><td>7118.5</td><td>0.0473660322284041</td><td>0.247058823529412</td><td>false</td></tr><tr><th>22</th><td>2008-05-20</td><td>9.1</td><td>NA</td><td>NA</td><td>100</td><td>100</td><td>5950</td><td>2008-08-15</td><td>7118.5</td><td>0.0473660322284041</td><td>0.247058823529412</td><td>false</td></tr><tr><th>23</th><td>2008-05-20</td><td>11.7</td><td>NA</td><td>NA</td><td>416</td><td>366</td><td>6000</td><td>2008-08-15</td><td>7118.5</td><td>0.0473660322284041</td><td>0.247058823529412</td><td>false</td></tr><tr><th>24</th><td>2008-05-20</td><td>17.0</td><td>NA</td><td>NA</td><td>400</td><td>400</td><td>6100</td><td>2008-08-15</td><td>7118.5</td><td>0.0473660322284041</td><td>0.247058823529412</td><td>false</td></tr><tr><th>25</th><td>2008-05-20</td><td>25.0</td><td>NA</td><td>NA</td><td>175</td><td>175</td><td>6200</td><td>2008-08-15</td><td>7118.5</td><td>0.0473660322284041</td><td>0.247058823529412</td><td>false</td></tr><tr><th>26</th><td>2008-05-20</td><td>34.1</td><td>NA</td><td>NA</td><td>367</td><td>367</td><td>6300</td><td>2008-08-15</td><td>7118.5</td><td>0.0473660322284041</td><td>0.247058823529412</td><td>false</td></tr><tr><th>27</th><td>2008-05-20</td><td>47.9</td><td>NA</td><td>NA</td><td>398</td><td>332</td><td>6400</td><td>2008-08-15</td><td>7118.5</td><td>0.0473660322284041</td><td>0.247058823529412</td><td>false</td></tr><tr><th>28</th><td>2008-05-20</td><td>749.1</td><td>NA</td><td>NA</td><td>50</td><td>50</td><td>6500</td><td>2008-08-15</td><td>7118.5</td><td>0.0473660322284041</td><td>0.247058823529412</td><td>true</td></tr><tr><th>29</th><td>2008-05-20</td><td>62.6</td><td>NA</td><td>NA</td><td>310</td><td>310</td><td>6500</td><td>2008-08-15</td><td>7118.5</td><td>0.0473660322284041</td><td>0.247058823529412</td><td>false</td></tr><tr><th>30</th><td>2008-05-20</td><td>95.3</td><td>NA</td><td>NA</td><td>100</td><td>100</td><td>6650</td><td>2008-08-15</td><td>7118.5</td><td>0.0473660322284041</td><td>0.247058823529412</td><td>false</td></tr><tr><th>&vellip;</th><td>&vellip;</td><td>&vellip;</td><td>&vellip;</td><td>&vellip;</td><td>&vellip;</td><td>&vellip;</td><td>&vellip;</td><td>&vellip;</td><td>&vellip;</td><td>&vellip;</td><td>&vellip;</td><td>&vellip;</td></tr></table>"
      ],
      "text/plain": [
       "5961x12 DataFrame\n",
       "| Row  | Date       | Option_Price | Bid | Ask | Volume | Open_Interest |\n",
       "|------|------------|--------------|-----|-----|--------|---------------|\n",
       "| 1    | 2008-05-19 | 87.1         | NA  | NA  | 785    | 750           |\n",
       "| 2    | 2008-05-19 | 104.2        | NA  | NA  | 2      | 2             |\n",
       "| 3    | 2008-05-19 | 113.7        | NA  | NA  | 66     | 66            |\n",
       "| 4    | 2008-05-19 | 124.2        | NA  | NA  | 4      | 4             |\n",
       "| 5    | 2008-05-19 | 135.5        | NA  | NA  | 380    | 380           |\n",
       "| 6    | 2008-05-19 | 147.6        | NA  | NA  | 5      | 5             |\n",
       "| 7    | 2008-05-19 | 306.8        | NA  | NA  | 32     | 30            |\n",
       "| 8    | 2008-05-19 | 275.6        | NA  | NA  | 5      | 5             |\n",
       "| 9    | 2008-05-19 | 246.0        | NA  | NA  | 5      | 5             |\n",
       "| 10   | 2008-05-19 | 218.2        | NA  | NA  | 75     | 75            |\n",
       "| 11   | 2008-05-19 | 192.0        | NA  | NA  | 100    | 100           |\n",
       "⋮\n",
       "| 5950 | 2008-08-14 | 0.1          | NA  | NA  | 0      | 4649          |\n",
       "| 5951 | 2008-08-14 | 1353.2       | NA  | NA  | 0      | 2             |\n",
       "| 5952 | 2008-08-14 | 0.1          | NA  | NA  | 0      | 50            |\n",
       "| 5953 | 2008-08-14 | 1403.2       | NA  | NA  | 0      | 50            |\n",
       "| 5954 | 2008-08-14 | 0.1          | NA  | NA  | 0      | 767           |\n",
       "| 5955 | 2008-08-14 | 0.1          | NA  | NA  | 0      | 705           |\n",
       "| 5956 | 2008-08-14 | 1503.2       | NA  | NA  | 0      | 4             |\n",
       "| 5957 | 2008-08-14 | 0.1          | NA  | NA  | 0      | 442           |\n",
       "| 5958 | 2008-08-14 | 1553.2       | NA  | NA  | 0      | 54            |\n",
       "| 5959 | 2008-08-14 | 0.1          | NA  | NA  | 0      | 100           |\n",
       "| 5960 | 2008-08-14 | 0.1          | NA  | NA  | 0      | 17            |\n",
       "| 5961 | 2008-08-14 | 1653.2       | NA  | NA  | 0      | 60            |\n",
       "\n",
       "| Row  | Strike | Expiry     | DAX     | EONIA_matched | Time_to_Maturity |\n",
       "|------|--------|------------|---------|---------------|------------------|\n",
       "| 1    | 6700   | 2008-08-15 | 7225.94 | 0.0474535     | 0.25098          |\n",
       "| 2    | 6800   | 2008-08-15 | 7225.94 | 0.0474535     | 0.25098          |\n",
       "| 3    | 6850   | 2008-08-15 | 7225.94 | 0.0474535     | 0.25098          |\n",
       "| 4    | 6900   | 2008-08-15 | 7225.94 | 0.0474535     | 0.25098          |\n",
       "| 5    | 6950   | 2008-08-15 | 7225.94 | 0.0474535     | 0.25098          |\n",
       "| 6    | 7000   | 2008-08-15 | 7225.94 | 0.0474535     | 0.25098          |\n",
       "| 7    | 7200   | 2008-08-15 | 7225.94 | 0.0474535     | 0.25098          |\n",
       "| 8    | 7250   | 2008-08-15 | 7225.94 | 0.0474535     | 0.25098          |\n",
       "| 9    | 7300   | 2008-08-15 | 7225.94 | 0.0474535     | 0.25098          |\n",
       "| 10   | 7350   | 2008-08-15 | 7225.94 | 0.0474535     | 0.25098          |\n",
       "| 11   | 7400   | 2008-08-15 | 7225.94 | 0.0474535     | 0.25098          |\n",
       "⋮\n",
       "| 5950 | 7800   | 2008-08-15 | 6442.21 | 0.0429829     | 0.00392157       |\n",
       "| 5951 | 7800   | 2008-08-15 | 6442.21 | 0.0429829     | 0.00392157       |\n",
       "| 5952 | 7850   | 2008-08-15 | 6442.21 | 0.0429829     | 0.00392157       |\n",
       "| 5953 | 7850   | 2008-08-15 | 6442.21 | 0.0429829     | 0.00392157       |\n",
       "| 5954 | 7900   | 2008-08-15 | 6442.21 | 0.0429829     | 0.00392157       |\n",
       "| 5955 | 7950   | 2008-08-15 | 6442.21 | 0.0429829     | 0.00392157       |\n",
       "| 5956 | 7950   | 2008-08-15 | 6442.21 | 0.0429829     | 0.00392157       |\n",
       "| 5957 | 8000   | 2008-08-15 | 6442.21 | 0.0429829     | 0.00392157       |\n",
       "| 5958 | 8000   | 2008-08-15 | 6442.21 | 0.0429829     | 0.00392157       |\n",
       "| 5959 | 8050   | 2008-08-15 | 6442.21 | 0.0429829     | 0.00392157       |\n",
       "| 5960 | 8100   | 2008-08-15 | 6442.21 | 0.0429829     | 0.00392157       |\n",
       "| 5961 | 8100   | 2008-08-15 | 6442.21 | 0.0429829     | 0.00392157       |\n",
       "\n",
       "| Row  | IsCall |\n",
       "|------|--------|\n",
       "| 1    | false  |\n",
       "| 2    | false  |\n",
       "| 3    | false  |\n",
       "| 4    | false  |\n",
       "| 5    | false  |\n",
       "| 6    | false  |\n",
       "| 7    | true   |\n",
       "| 8    | true   |\n",
       "| 9    | true   |\n",
       "| 10   | true   |\n",
       "| 11   | true   |\n",
       "⋮\n",
       "| 5950 | true   |\n",
       "| 5951 | false  |\n",
       "| 5952 | true   |\n",
       "| 5953 | false  |\n",
       "| 5954 | true   |\n",
       "| 5955 | true   |\n",
       "| 5956 | false  |\n",
       "| 5957 | true   |\n",
       "| 5958 | false  |\n",
       "| 5959 | true   |\n",
       "| 5960 | true   |\n",
       "| 5961 | false  |"
      ]
     },
     "execution_count": 8,
     "metadata": {},
     "output_type": "execute_result"
    }
   ],
   "source": [
    "inds = optData[:Expiry] .== chosenExpiry\n",
    "expiryData = optData[inds, :]"
   ]
  },
  {
   "cell_type": "code",
   "execution_count": 10,
   "metadata": {
    "collapsed": false
   },
   "outputs": [],
   "source": [
    "writetable(\"../data/singleExpiry.csv\", expiryData)"
   ]
  }
 ],
 "metadata": {
  "kernelspec": {
   "display_name": "Julia",
   "name": "julia"
  },
  "language_info": {
   "name": "julia",
   "version": "0.3.5"
  }
 },
 "nbformat": 4,
 "nbformat_minor": 0
}
