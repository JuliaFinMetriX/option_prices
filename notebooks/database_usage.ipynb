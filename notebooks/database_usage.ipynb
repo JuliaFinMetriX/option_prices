{
 "cells": [
  {
   "cell_type": "markdown",
   "metadata": {},
   "source": [
    "- this script provides some usage example for the relational database"
   ]
  },
  {
   "cell_type": "markdown",
   "metadata": {},
   "source": [
    "#### Load data and convert date columns to `Date` type"
   ]
  },
  {
   "cell_type": "code",
   "execution_count": 14,
   "metadata": {
    "collapsed": false
   },
   "outputs": [],
   "source": [
    "using DataFrames\n",
    "using Dates"
   ]
  },
  {
   "cell_type": "code",
   "execution_count": 15,
   "metadata": {
    "collapsed": false
   },
   "outputs": [
    {
     "data": {
      "text/html": [
       "<table class=\"data-frame\"><tr><th></th><th>ID</th><th>Expiry</th><th>Strike</th><th>IsCall</th></tr><tr><th>1</th><td>c_20061215_1800</td><td>2006-12-15</td><td>1800</td><td>true</td></tr><tr><th>2</th><td>p_20061215_1800</td><td>2006-12-15</td><td>1800</td><td>false</td></tr><tr><th>3</th><td>c_20061215_2000</td><td>2006-12-15</td><td>2000</td><td>true</td></tr><tr><th>4</th><td>p_20061215_2000</td><td>2006-12-15</td><td>2000</td><td>false</td></tr><tr><th>5</th><td>c_20061215_2200</td><td>2006-12-15</td><td>2200</td><td>true</td></tr><tr><th>6</th><td>p_20061215_2200</td><td>2006-12-15</td><td>2200</td><td>false</td></tr></table>"
      ],
      "text/plain": [
       "6x4 DataFrame\n",
       "| Row | ID                | Expiry       | Strike | IsCall |\n",
       "|-----|-------------------|--------------|--------|--------|\n",
       "| 1   | \"c_20061215_1800\" | \"2006-12-15\" | 1800   | true   |\n",
       "| 2   | \"p_20061215_1800\" | \"2006-12-15\" | 1800   | false  |\n",
       "| 3   | \"c_20061215_2000\" | \"2006-12-15\" | 2000   | true   |\n",
       "| 4   | \"p_20061215_2000\" | \"2006-12-15\" | 2000   | false  |\n",
       "| 5   | \"c_20061215_2200\" | \"2006-12-15\" | 2200   | true   |\n",
       "| 6   | \"p_20061215_2200\" | \"2006-12-15\" | 2200   | false  |"
      ]
     },
     "execution_count": 15,
     "metadata": {},
     "output_type": "execute_result"
    }
   ],
   "source": [
    "opts = readtable(\"../data/rel_data/opts.csv\")\n",
    "head(opts)"
   ]
  },
  {
   "cell_type": "code",
   "execution_count": 16,
   "metadata": {
    "collapsed": false
   },
   "outputs": [
    {
     "data": {
      "text/plain": [
       "4-element Array{Type{T<:Top},1}:\n",
       " UTF8String\n",
       " UTF8String\n",
       " Int64     \n",
       " Bool      "
      ]
     },
     "execution_count": 16,
     "metadata": {},
     "output_type": "execute_result"
    }
   ],
   "source": [
    "eltypes(opts)"
   ]
  },
  {
   "cell_type": "code",
   "execution_count": 17,
   "metadata": {
    "collapsed": false
   },
   "outputs": [
    {
     "data": {
      "text/plain": [
       "convertColToDates! (generic function with 1 method)"
      ]
     },
     "execution_count": 17,
     "metadata": {},
     "output_type": "execute_result"
    }
   ],
   "source": [
    "function convertColToDates!(df::DataFrame, col::Symbol)\n",
    "    dats = Date(array(df[:, col]))\n",
    "    df[col] = dats\n",
    "end"
   ]
  },
  {
   "cell_type": "code",
   "execution_count": 18,
   "metadata": {
    "collapsed": false
   },
   "outputs": [
    {
     "name": "stdout",
     "output_type": "stream",
     "text": [
      "elapsed time: 0.145947718 seconds (34717908 bytes allocated, 20.42% gc time)\n"
     ]
    },
    {
     "data": {
      "text/plain": [
       "4-element Array{Type{T<:Top},1}:\n",
       " UTF8String\n",
       " Date      \n",
       " Int64     \n",
       " Bool      "
      ]
     },
     "execution_count": 18,
     "metadata": {},
     "output_type": "execute_result"
    }
   ],
   "source": [
    "@time convertColToDates!(opts, :Expiry)\n",
    "eltypes(opts)"
   ]
  },
  {
   "cell_type": "code",
   "execution_count": 26,
   "metadata": {
    "collapsed": false
   },
   "outputs": [
    {
     "data": {
      "text/html": [
       "<table class=\"data-frame\"><tr><th></th><th>Date</th><th>DAX</th></tr><tr><th>1</th><td>2006-07-03</td><td>5712.69</td></tr><tr><th>2</th><td>2006-07-04</td><td>5729.01</td></tr><tr><th>3</th><td>2006-07-05</td><td>5625.63</td></tr><tr><th>4</th><td>2006-07-06</td><td>5695.47</td></tr><tr><th>5</th><td>2006-07-07</td><td>5681.85</td></tr><tr><th>6</th><td>2006-07-10</td><td>5706.32</td></tr></table>"
      ],
      "text/plain": [
       "6x2 DataFrame\n",
       "| Row | Date       | DAX     |\n",
       "|-----|------------|---------|\n",
       "| 1   | 2006-07-03 | 5712.69 |\n",
       "| 2   | 2006-07-04 | 5729.01 |\n",
       "| 3   | 2006-07-05 | 5625.63 |\n",
       "| 4   | 2006-07-06 | 5695.47 |\n",
       "| 5   | 2006-07-07 | 5681.85 |\n",
       "| 6   | 2006-07-10 | 5706.32 |"
      ]
     },
     "execution_count": 26,
     "metadata": {},
     "output_type": "execute_result"
    }
   ],
   "source": [
    "daxVals = readtable(\"../data/rel_data/daxVals.csv\")\n",
    "convertColToDates!(daxVals, :Date)\n",
    "\n",
    "head(daxVals)"
   ]
  },
  {
   "cell_type": "code",
   "execution_count": 30,
   "metadata": {
    "collapsed": false
   },
   "outputs": [
    {
     "data": {
      "text/html": [
       "<table class=\"data-frame\"><tr><th></th><th>Date</th><th>ID</th><th>Price</th></tr><tr><th>1</th><td>2006-07-03</td><td>c_20061215_1800</td><td>3931.1</td></tr><tr><th>2</th><td>2006-07-03</td><td>p_20061215_1800</td><td>0.1</td></tr><tr><th>3</th><td>2006-07-03</td><td>c_20061215_2000</td><td>3734.0</td></tr><tr><th>4</th><td>2006-07-03</td><td>p_20061215_2000</td><td>0.1</td></tr><tr><th>5</th><td>2006-07-03</td><td>c_20061215_2200</td><td>3536.9</td></tr><tr><th>6</th><td>2006-07-03</td><td>p_20061215_2200</td><td>0.1</td></tr></table>"
      ],
      "text/plain": [
       "6x3 DataFrame\n",
       "| Row | Date         | ID                | Price  |\n",
       "|-----|--------------|-------------------|--------|\n",
       "| 1   | \"2006-07-03\" | \"c_20061215_1800\" | 3931.1 |\n",
       "| 2   | \"2006-07-03\" | \"p_20061215_1800\" | 0.1    |\n",
       "| 3   | \"2006-07-03\" | \"c_20061215_2000\" | 3734.0 |\n",
       "| 4   | \"2006-07-03\" | \"p_20061215_2000\" | 0.1    |\n",
       "| 5   | \"2006-07-03\" | \"c_20061215_2200\" | 3536.9 |\n",
       "| 6   | \"2006-07-03\" | \"p_20061215_2200\" | 0.1    |"
      ]
     },
     "execution_count": 30,
     "metadata": {},
     "output_type": "execute_result"
    }
   ],
   "source": [
    "optPrices = readtable(\"../data/rel_data/optPrices.csv\")\n",
    "head(optPrices)"
   ]
  },
  {
   "cell_type": "code",
   "execution_count": 31,
   "metadata": {
    "collapsed": false
   },
   "outputs": [
    {
     "name": "stdout",
     "output_type": "stream",
     "text": [
      "elapsed time: 75.134913093 seconds (5435945372 bytes allocated, 77.41% gc time)\n"
     ]
    },
    {
     "data": {
      "text/html": [
       "<table class=\"data-frame\"><tr><th></th><th>Date</th><th>ID</th><th>Price</th></tr><tr><th>1</th><td>2006-07-03</td><td>c_20061215_1800</td><td>3931.1</td></tr><tr><th>2</th><td>2006-07-03</td><td>p_20061215_1800</td><td>0.1</td></tr><tr><th>3</th><td>2006-07-03</td><td>c_20061215_2000</td><td>3734.0</td></tr><tr><th>4</th><td>2006-07-03</td><td>p_20061215_2000</td><td>0.1</td></tr><tr><th>5</th><td>2006-07-03</td><td>c_20061215_2200</td><td>3536.9</td></tr><tr><th>6</th><td>2006-07-03</td><td>p_20061215_2200</td><td>0.1</td></tr></table>"
      ],
      "text/plain": [
       "6x3 DataFrame\n",
       "| Row | Date       | ID                | Price  |\n",
       "|-----|------------|-------------------|--------|\n",
       "| 1   | 2006-07-03 | \"c_20061215_1800\" | 3931.1 |\n",
       "| 2   | 2006-07-03 | \"p_20061215_1800\" | 0.1    |\n",
       "| 3   | 2006-07-03 | \"c_20061215_2000\" | 3734.0 |\n",
       "| 4   | 2006-07-03 | \"p_20061215_2000\" | 0.1    |\n",
       "| 5   | 2006-07-03 | \"c_20061215_2200\" | 3536.9 |\n",
       "| 6   | 2006-07-03 | \"p_20061215_2200\" | 0.1    |"
      ]
     },
     "execution_count": 31,
     "metadata": {},
     "output_type": "execute_result"
    }
   ],
   "source": [
    "@time convertColToDates!(optPrices, :Date); head(optPrices)"
   ]
  },
  {
   "cell_type": "code",
   "execution_count": 32,
   "metadata": {
    "collapsed": false
   },
   "outputs": [
    {
     "data": {
      "text/html": [
       "<table class=\"data-frame\"><tr><th></th><th>Date</th><th>Expiry</th><th>EONIA_matched</th><th>Time_to_Maturity</th></tr><tr><th>1</th><td>2006-07-03</td><td>2006-12-15</td><td>0.031667592146348</td><td>0.466666666666667</td></tr><tr><th>2</th><td>2006-07-03</td><td>2006-09-15</td><td>0.0297573099811956</td><td>0.211764705882353</td></tr><tr><th>3</th><td>2006-07-03</td><td>2006-08-18</td><td>0.02903277602483</td><td>0.133333333333333</td></tr><tr><th>4</th><td>2006-07-03</td><td>2006-07-21</td><td>0.0283102283088403</td><td>0.0549019607843137</td></tr><tr><th>5</th><td>2006-07-03</td><td>2007-06-15</td><td>0.0342512630396996</td><td>0.949019607843137</td></tr><tr><th>6</th><td>2006-07-03</td><td>2007-03-16</td><td>0.0330875802131789</td><td>0.709803921568627</td></tr></table>"
      ],
      "text/plain": [
       "6x4 DataFrame\n",
       "| Row | Date         | Expiry       | EONIA_matched | Time_to_Maturity |\n",
       "|-----|--------------|--------------|---------------|------------------|\n",
       "| 1   | \"2006-07-03\" | \"2006-12-15\" | 0.0316676     | 0.466667         |\n",
       "| 2   | \"2006-07-03\" | \"2006-09-15\" | 0.0297573     | 0.211765         |\n",
       "| 3   | \"2006-07-03\" | \"2006-08-18\" | 0.0290328     | 0.133333         |\n",
       "| 4   | \"2006-07-03\" | \"2006-07-21\" | 0.0283102     | 0.054902         |\n",
       "| 5   | \"2006-07-03\" | \"2007-06-15\" | 0.0342513     | 0.94902          |\n",
       "| 6   | \"2006-07-03\" | \"2007-03-16\" | 0.0330876     | 0.709804         |"
      ]
     },
     "execution_count": 32,
     "metadata": {},
     "output_type": "execute_result"
    }
   ],
   "source": [
    "cohortParams = readtable(\"../data/rel_data/cohortParams.csv\")\n",
    "head(cohortParams)"
   ]
  },
  {
   "cell_type": "code",
   "execution_count": 33,
   "metadata": {
    "collapsed": false
   },
   "outputs": [
    {
     "name": "stdout",
     "output_type": "stream",
     "text": [
      "elapsed time: 1.69525916 seconds (113008712 bytes allocated, 75.73% gc time)\n"
     ]
    },
    {
     "data": {
      "text/plain": [
       "21053-element Array{Date,1}:\n",
       " 2006-07-03\n",
       " 2006-07-03\n",
       " 2006-07-03\n",
       " 2006-07-03\n",
       " 2006-07-03\n",
       " 2006-07-03\n",
       " 2006-07-03\n",
       " 2006-07-03\n",
       " 2006-07-03\n",
       " 2006-07-03\n",
       " 2006-07-03\n",
       " 2006-07-04\n",
       " 2006-07-04\n",
       " ⋮         \n",
       " 2013-12-27\n",
       " 2013-12-27\n",
       " 2013-12-27\n",
       " 2013-12-27\n",
       " 2013-12-27\n",
       " 2013-12-27\n",
       " 2013-12-30\n",
       " 2013-12-30\n",
       " 2013-12-30\n",
       " 2013-12-30\n",
       " 2013-12-30\n",
       " 2013-12-30"
      ]
     },
     "execution_count": 33,
     "metadata": {},
     "output_type": "execute_result"
    }
   ],
   "source": [
    "@time begin\n",
    "    convertColToDates!(cohortParams, :Expiry)\n",
    "    convertColToDates!(cohortParams, :Date)\n",
    "end"
   ]
  },
  {
   "cell_type": "code",
   "execution_count": 34,
   "metadata": {
    "collapsed": false
   },
   "outputs": [
    {
     "name": "stdout",
     "output_type": "stream",
     "text": [
      "elapsed time: 83.723188718 seconds (5435945372 bytes allocated, 79.16% gc time)\n"
     ]
    },
    {
     "data": {
      "text/html": [
       "<table class=\"data-frame\"><tr><th></th><th>Date</th><th>ID</th><th>Bid</th><th>Ask</th><th>Volume</th><th>Open_Interest</th></tr><tr><th>1</th><td>2006-07-03</td><td>c_20061215_1800</td><td>NA</td><td>NA</td><td>1</td><td>104</td></tr><tr><th>2</th><td>2006-07-03</td><td>p_20061215_1800</td><td>NA</td><td>NA</td><td>0</td><td>5515</td></tr><tr><th>3</th><td>2006-07-03</td><td>c_20061215_2000</td><td>NA</td><td>NA</td><td>0</td><td>2152</td></tr><tr><th>4</th><td>2006-07-03</td><td>p_20061215_2000</td><td>NA</td><td>NA</td><td>0</td><td>20941</td></tr><tr><th>5</th><td>2006-07-03</td><td>c_20061215_2200</td><td>NA</td><td>NA</td><td>0</td><td>2</td></tr><tr><th>6</th><td>2006-07-03</td><td>p_20061215_2200</td><td>NA</td><td>NA</td><td>0</td><td>4626</td></tr></table>"
      ],
      "text/plain": [
       "6x6 DataFrame\n",
       "| Row | Date       | ID                | Bid | Ask | Volume | Open_Interest |\n",
       "|-----|------------|-------------------|-----|-----|--------|---------------|\n",
       "| 1   | 2006-07-03 | \"c_20061215_1800\" | NA  | NA  | 1      | 104           |\n",
       "| 2   | 2006-07-03 | \"p_20061215_1800\" | NA  | NA  | 0      | 5515          |\n",
       "| 3   | 2006-07-03 | \"c_20061215_2000\" | NA  | NA  | 0      | 2152          |\n",
       "| 4   | 2006-07-03 | \"p_20061215_2000\" | NA  | NA  | 0      | 20941         |\n",
       "| 5   | 2006-07-03 | \"c_20061215_2200\" | NA  | NA  | 0      | 2             |\n",
       "| 6   | 2006-07-03 | \"p_20061215_2200\" | NA  | NA  | 0      | 4626          |"
      ]
     },
     "execution_count": 34,
     "metadata": {},
     "output_type": "execute_result"
    }
   ],
   "source": [
    "addObs = readtable(\"../data/rel_data/addObs.csv\")\n",
    "@time convertColToDates!(addObs, :Date); head(addObs)"
   ]
  },
  {
   "cell_type": "markdown",
   "metadata": {},
   "source": [
    "#### Get observations with given expiry"
   ]
  },
  {
   "cell_type": "markdown",
   "metadata": {},
   "source": [
    "- select arbitrary maturity"
   ]
  },
  {
   "cell_type": "code",
   "execution_count": 37,
   "metadata": {
    "collapsed": false
   },
   "outputs": [
    {
     "data": {
      "text/plain": [
       "2007-06-15"
      ]
     },
     "execution_count": 37,
     "metadata": {},
     "output_type": "execute_result"
    }
   ],
   "source": [
    "expDate = opts[473, :Expiry]"
   ]
  },
  {
   "cell_type": "markdown",
   "metadata": {},
   "source": [
    "- get associated options"
   ]
  },
  {
   "cell_type": "code",
   "execution_count": 44,
   "metadata": {
    "collapsed": false
   },
   "outputs": [
    {
     "name": "stdout",
     "output_type": "stream",
     "text": [
      "elapsed time: 3.283591541 seconds (303228872 bytes allocated, 64.15% gc time)\n"
     ]
    },
    {
     "data": {
      "text/html": [
       "<table class=\"data-frame\"><tr><th></th><th>Date</th><th>ID</th><th>Price</th><th>Expiry</th><th>Strike</th><th>IsCall</th></tr><tr><th>1</th><td>2006-07-03</td><td>c_20070615_1800</td><td>3963.8</td><td>2007-06-15</td><td>1800</td><td>true</td></tr><tr><th>2</th><td>2006-07-04</td><td>c_20070615_1800</td><td>3984.4</td><td>2007-06-15</td><td>1800</td><td>true</td></tr><tr><th>3</th><td>2006-07-05</td><td>c_20070615_1800</td><td>3883.6</td><td>2007-06-15</td><td>1800</td><td>true</td></tr><tr><th>4</th><td>2006-07-06</td><td>c_20070615_1800</td><td>3949.7</td><td>2007-06-15</td><td>1800</td><td>true</td></tr><tr><th>5</th><td>2006-07-07</td><td>c_20070615_1800</td><td>3938.1</td><td>2007-06-15</td><td>1800</td><td>true</td></tr><tr><th>6</th><td>2006-07-10</td><td>c_20070615_1800</td><td>3964.1</td><td>2007-06-15</td><td>1800</td><td>true</td></tr></table>"
      ],
      "text/plain": [
       "6x6 DataFrame\n",
       "| Row | Date       | ID                | Price  | Expiry     | Strike | IsCall |\n",
       "|-----|------------|-------------------|--------|------------|--------|--------|\n",
       "| 1   | 2006-07-03 | \"c_20070615_1800\" | 3963.8 | 2007-06-15 | 1800   | true   |\n",
       "| 2   | 2006-07-04 | \"c_20070615_1800\" | 3984.4 | 2007-06-15 | 1800   | true   |\n",
       "| 3   | 2006-07-05 | \"c_20070615_1800\" | 3883.6 | 2007-06-15 | 1800   | true   |\n",
       "| 4   | 2006-07-06 | \"c_20070615_1800\" | 3949.7 | 2007-06-15 | 1800   | true   |\n",
       "| 5   | 2006-07-07 | \"c_20070615_1800\" | 3938.1 | 2007-06-15 | 1800   | true   |\n",
       "| 6   | 2006-07-10 | \"c_20070615_1800\" | 3964.1 | 2007-06-15 | 1800   | true   |"
      ]
     },
     "execution_count": 44,
     "metadata": {},
     "output_type": "execute_result"
    }
   ],
   "source": [
    "@time begin\n",
    "    allObsData = join(optPrices, opts, on = :ID)\n",
    "    relevObsData = allObsData[allObsData[:Expiry] .== expDate, :]\n",
    "end\n",
    "\n",
    "head(relevObsData)"
   ]
  },
  {
   "cell_type": "markdown",
   "metadata": {},
   "source": [
    "- add `DAX` column"
   ]
  },
  {
   "cell_type": "code",
   "execution_count": 45,
   "metadata": {
    "collapsed": false
   },
   "outputs": [
    {
     "name": "stdout",
     "output_type": "stream",
     "text": [
      "elapsed time: 0.015515749 seconds (7266272 bytes allocated)\n"
     ]
    },
    {
     "data": {
      "text/html": [
       "<table class=\"data-frame\"><tr><th></th><th>Date</th><th>ID</th><th>Price</th><th>Expiry</th><th>Strike</th><th>IsCall</th><th>DAX</th></tr><tr><th>1</th><td>2006-07-03</td><td>c_20070615_1800</td><td>3963.8</td><td>2007-06-15</td><td>1800</td><td>true</td><td>5712.69</td></tr><tr><th>2</th><td>2006-07-03</td><td>c_20070615_2200</td><td>3577.1</td><td>2007-06-15</td><td>2200</td><td>true</td><td>5712.69</td></tr><tr><th>3</th><td>2006-07-03</td><td>c_20070615_3000</td><td>2807.0</td><td>2007-06-15</td><td>3000</td><td>true</td><td>5712.69</td></tr><tr><th>4</th><td>2006-07-03</td><td>c_20070615_3400</td><td>2426.2</td><td>2007-06-15</td><td>3400</td><td>true</td><td>5712.69</td></tr><tr><th>5</th><td>2006-07-03</td><td>c_20070615_3600</td><td>2237.9</td><td>2007-06-15</td><td>3600</td><td>true</td><td>5712.69</td></tr><tr><th>6</th><td>2006-07-03</td><td>c_20070615_3800</td><td>2051.5</td><td>2007-06-15</td><td>3800</td><td>true</td><td>5712.69</td></tr></table>"
      ],
      "text/plain": [
       "6x7 DataFrame\n",
       "| Row | Date       | ID                | Price  | Expiry     | Strike | IsCall |\n",
       "|-----|------------|-------------------|--------|------------|--------|--------|\n",
       "| 1   | 2006-07-03 | \"c_20070615_1800\" | 3963.8 | 2007-06-15 | 1800   | true   |\n",
       "| 2   | 2006-07-03 | \"c_20070615_2200\" | 3577.1 | 2007-06-15 | 2200   | true   |\n",
       "| 3   | 2006-07-03 | \"c_20070615_3000\" | 2807.0 | 2007-06-15 | 3000   | true   |\n",
       "| 4   | 2006-07-03 | \"c_20070615_3400\" | 2426.2 | 2007-06-15 | 3400   | true   |\n",
       "| 5   | 2006-07-03 | \"c_20070615_3600\" | 2237.9 | 2007-06-15 | 3600   | true   |\n",
       "| 6   | 2006-07-03 | \"c_20070615_3800\" | 2051.5 | 2007-06-15 | 3800   | true   |\n",
       "\n",
       "| Row | DAX     |\n",
       "|-----|---------|\n",
       "| 1   | 5712.69 |\n",
       "| 2   | 5712.69 |\n",
       "| 3   | 5712.69 |\n",
       "| 4   | 5712.69 |\n",
       "| 5   | 5712.69 |\n",
       "| 6   | 5712.69 |"
      ]
     },
     "execution_count": 45,
     "metadata": {},
     "output_type": "execute_result"
    }
   ],
   "source": [
    "@time relevObsData = join(relevObsData, daxVals, on = :Date)\n",
    "\n",
    "head(relevObsData)"
   ]
  },
  {
   "cell_type": "markdown",
   "metadata": {},
   "source": [
    "- export for visualization"
   ]
  },
  {
   "cell_type": "code",
   "execution_count": 46,
   "metadata": {
    "collapsed": true
   },
   "outputs": [],
   "source": [
    "writetable(\"../data/chart_data/singleCohortLong.csv\", relevObsData)"
   ]
  },
  {
   "cell_type": "markdown",
   "metadata": {},
   "source": [
    "- transform to wide format"
   ]
  },
  {
   "cell_type": "code",
   "execution_count": 52,
   "metadata": {
    "collapsed": false
   },
   "outputs": [
    {
     "data": {
      "text/html": [
       "<table class=\"data-frame\"><tr><th></th><th>Date</th><th>DAX</th><th>c_20070615_1800</th><th>c_20070615_2000</th><th>c_20070615_2200</th><th>c_20070615_3000</th><th>c_20070615_3200</th><th>c_20070615_3400</th><th>c_20070615_3600</th><th>c_20070615_3800</th><th>c_20070615_4000</th><th>c_20070615_4200</th><th>c_20070615_4350</th><th>c_20070615_4400</th><th>c_20070615_4500</th><th>c_20070615_4600</th><th>c_20070615_4650</th><th>c_20070615_4700</th><th>c_20070615_4750</th><th>c_20070615_4800</th><th>c_20070615_4850</th><th>c_20070615_4900</th><th>c_20070615_4950</th><th>c_20070615_5000</th><th>c_20070615_5050</th><th>c_20070615_5100</th><th>c_20070615_5150</th><th>c_20070615_5200</th><th>c_20070615_5250</th><th>c_20070615_5300</th><th>c_20070615_5350</th><th>c_20070615_5400</th><th>c_20070615_5450</th><th>c_20070615_5500</th><th>c_20070615_5550</th><th>c_20070615_5600</th><th>c_20070615_5650</th><th>c_20070615_5700</th><th>c_20070615_5750</th><th>c_20070615_5800</th><th>c_20070615_5850</th><th>c_20070615_5900</th><th>c_20070615_5950</th><th>c_20070615_6000</th><th>c_20070615_6050</th><th>c_20070615_6100</th><th>c_20070615_6150</th><th>c_20070615_6200</th><th>c_20070615_6250</th><th>c_20070615_6300</th><th>c_20070615_6350</th><th>c_20070615_6400</th><th>c_20070615_6450</th><th>c_20070615_6500</th><th>c_20070615_6550</th><th>c_20070615_6600</th><th>c_20070615_6650</th><th>c_20070615_6700</th><th>c_20070615_6750</th><th>c_20070615_6800</th><th>c_20070615_6850</th><th>c_20070615_6900</th><th>c_20070615_6950</th><th>c_20070615_7000</th><th>c_20070615_7050</th><th>c_20070615_7100</th><th>c_20070615_7150</th><th>c_20070615_7200</th><th>c_20070615_7250</th><th>c_20070615_7300</th><th>c_20070615_7350</th><th>c_20070615_7400</th><th>c_20070615_7450</th><th>c_20070615_7500</th><th>c_20070615_7550</th><th>c_20070615_7600</th><th>c_20070615_7650</th><th>c_20070615_7700</th><th>c_20070615_7750</th><th>c_20070615_7800</th><th>c_20070615_7850</th><th>c_20070615_7900</th><th>c_20070615_7950</th><th>c_20070615_8000</th><th>c_20070615_8050</th><th>c_20070615_8100</th><th>c_20070615_8150</th><th>c_20070615_8200</th><th>c_20070615_8250</th><th>c_20070615_8300</th><th>c_20070615_8400</th><th>p_20070615_1800</th><th>p_20070615_2000</th><th>p_20070615_2200</th><th>p_20070615_2400</th><th>p_20070615_2600</th><th>p_20070615_2800</th><th>p_20070615_3000</th><th>p_20070615_3200</th><th>p_20070615_3400</th><th>p_20070615_3600</th><th>p_20070615_3800</th><th>p_20070615_4000</th><th>p_20070615_4050</th><th>p_20070615_4100</th><th>p_20070615_4150</th><th>p_20070615_4200</th><th>p_20070615_4250</th><th>p_20070615_4300</th><th>p_20070615_4350</th><th>p_20070615_4400</th><th>p_20070615_4450</th><th>p_20070615_4500</th><th>p_20070615_4550</th><th>p_20070615_4600</th><th>p_20070615_4650</th><th>p_20070615_4700</th><th>p_20070615_4750</th><th>p_20070615_4800</th><th>p_20070615_4850</th><th>p_20070615_4900</th><th>p_20070615_4950</th><th>p_20070615_5000</th><th>p_20070615_5050</th><th>p_20070615_5100</th><th>p_20070615_5150</th><th>p_20070615_5200</th><th>p_20070615_5250</th><th>p_20070615_5300</th><th>p_20070615_5350</th><th>p_20070615_5400</th><th>p_20070615_5450</th><th>p_20070615_5500</th><th>p_20070615_5550</th><th>p_20070615_5600</th><th>p_20070615_5650</th><th>p_20070615_5700</th><th>p_20070615_5750</th><th>p_20070615_5800</th><th>p_20070615_5850</th><th>p_20070615_5900</th><th>p_20070615_5950</th><th>p_20070615_6000</th><th>p_20070615_6050</th><th>p_20070615_6100</th><th>p_20070615_6150</th><th>p_20070615_6200</th><th>p_20070615_6250</th><th>p_20070615_6300</th><th>p_20070615_6350</th><th>p_20070615_6400</th><th>p_20070615_6450</th><th>p_20070615_6500</th><th>p_20070615_6550</th><th>p_20070615_6600</th><th>p_20070615_6650</th><th>p_20070615_6700</th><th>p_20070615_6750</th><th>p_20070615_6800</th><th>p_20070615_6850</th><th>p_20070615_6900</th><th>p_20070615_6950</th><th>p_20070615_7000</th><th>p_20070615_7050</th><th>p_20070615_7100</th><th>p_20070615_7150</th><th>p_20070615_7200</th><th>p_20070615_7250</th><th>p_20070615_7300</th><th>p_20070615_7350</th><th>p_20070615_7400</th><th>p_20070615_7450</th><th>p_20070615_7500</th><th>p_20070615_7550</th><th>p_20070615_7600</th><th>p_20070615_7650</th><th>p_20070615_7700</th><th>p_20070615_7750</th><th>p_20070615_7800</th><th>p_20070615_7850</th><th>p_20070615_7900</th><th>p_20070615_7950</th><th>p_20070615_8000</th><th>p_20070615_8050</th><th>p_20070615_8100</th><th>p_20070615_8150</th><th>p_20070615_8200</th></tr><tr><th>1</th><td>2006-07-03</td><td>5712.69</td><td>3963.8</td><td>NA</td><td>3577.1</td><td>2807.0</td><td>NA</td><td>2426.2</td><td>2237.9</td><td>2051.5</td><td>1867.6</td><td>1686.7</td><td>NA</td><td>1509.7</td><td>NA</td><td>1337.1</td><td>1294.8</td><td>1252.8</td><td>1211.1</td><td>1169.9</td><td>1128.9</td><td>1088.5</td><td>1048.4</td><td>1008.8</td><td>969.5</td><td>930.7</td><td>892.3</td><td>854.7</td><td>817.4</td><td>780.6</td><td>744.6</td><td>709.0</td><td>674.2</td><td>640.0</td><td>606.5</td><td>573.7</td><td>541.8</td><td>510.5</td><td>480.1</td><td>450.5</td><td>421.8</td><td>394.1</td><td>367.3</td><td>341.7</td><td>316.8</td><td>293.0</td><td>NA</td><td>248.9</td><td>NA</td><td>209.1</td><td>NA</td><td>174.2</td><td>NA</td><td>143.4</td><td>NA</td><td>117.1</td><td>NA</td><td>NA</td><td>NA</td><td>76.0</td><td>NA</td><td>NA</td><td>NA</td><td>47.8</td><td>NA</td><td>NA</td><td>NA</td><td>29.2</td><td>NA</td><td>NA</td><td>NA</td><td>17.4</td><td>NA</td><td>NA</td><td>NA</td><td>10.1</td><td>NA</td><td>NA</td><td>NA</td><td>5.8</td><td>NA</td><td>NA</td><td>NA</td><td>3.2</td><td>NA</td><td>NA</td><td>NA</td><td>NA</td><td>NA</td><td>NA</td><td>NA</td><td>0.1</td><td>0.2</td><td>0.4</td><td>0.8</td><td>1.4</td><td>2.5</td><td>4.2</td><td>6.8</td><td>10.4</td><td>15.6</td><td>22.7</td><td>32.3</td><td>NA</td><td>NA</td><td>41.4</td><td>44.9</td><td>48.7</td><td>52.6</td><td>56.9</td><td>61.4</td><td>66.2</td><td>71.2</td><td>NA</td><td>82.3</td><td>88.3</td><td>94.7</td><td>101.3</td><td>108.4</td><td>116.0</td><td>123.9</td><td>132.2</td><td>141.0</td><td>150.0</td><td>159.7</td><td>169.8</td><td>180.3</td><td>191.5</td><td>203.0</td><td>215.4</td><td>228.1</td><td>241.7</td><td>255.9</td><td>270.7</td><td>286.5</td><td>302.8</td><td>319.8</td><td>337.8</td><td>356.8</td><td>376.3</td><td>397.2</td><td>418.7</td><td>441.3</td><td>464.9</td><td>489.5</td><td>NA</td><td>542.3</td><td>NA</td><td>599.2</td><td>NA</td><td>660.8</td><td>NA</td><td>726.8</td><td>NA</td><td>797.3</td><td>NA</td><td>NA</td><td>NA</td><td>949.6</td><td>NA</td><td>NA</td><td>NA</td><td>1114.7</td><td>NA</td><td>NA</td><td>NA</td><td>1289.7</td><td>NA</td><td>NA</td><td>NA</td><td>1471.4</td><td>NA</td><td>NA</td><td>NA</td><td>NA</td><td>NA</td><td>NA</td><td>NA</td><td>NA</td><td>NA</td><td>NA</td><td>NA</td><td>2037.8</td><td>NA</td><td>NA</td><td>NA</td><td>NA</td></tr><tr><th>2</th><td>2006-07-04</td><td>5729.01</td><td>3984.4</td><td>NA</td><td>3597.5</td><td>2826.2</td><td>NA</td><td>2444.8</td><td>2256.2</td><td>2069.6</td><td>1885.5</td><td>1704.5</td><td>NA</td><td>1527.1</td><td>NA</td><td>1354.2</td><td>1311.8</td><td>1269.7</td><td>1227.9</td><td>1186.5</td><td>1145.6</td><td>1104.8</td><td>1064.7</td><td>1024.8</td><td>985.6</td><td>946.8</td><td>908.2</td><td>870.4</td><td>833.0</td><td>796.2</td><td>759.9</td><td>724.4</td><td>689.3</td><td>655.0</td><td>621.3</td><td>588.3</td><td>556.1</td><td>524.6</td><td>493.9</td><td>463.7</td><td>434.7</td><td>406.4</td><td>379.1</td><td>352.9</td><td>327.4</td><td>303.0</td><td>NA</td><td>257.5</td><td>NA</td><td>216.5</td><td>NA</td><td>180.2</td><td>NA</td><td>148.5</td><td>NA</td><td>121.4</td><td>NA</td><td>NA</td><td>NA</td><td>79.1</td><td>NA</td><td>NA</td><td>NA</td><td>50.0</td><td>NA</td><td>NA</td><td>NA</td><td>31.1</td><td>NA</td><td>NA</td><td>NA</td><td>19.0</td><td>NA</td><td>NA</td><td>NA</td><td>11.5</td><td>NA</td><td>NA</td><td>NA</td><td>6.9</td><td>NA</td><td>NA</td><td>NA</td><td>4.0</td><td>NA</td><td>NA</td><td>NA</td><td>NA</td><td>NA</td><td>NA</td><td>NA</td><td>0.1</td><td>0.1</td><td>0.2</td><td>0.4</td><td>0.8</td><td>1.7</td><td>3.1</td><td>5.3</td><td>8.7</td><td>13.6</td><td>20.6</td><td>30.0</td><td>NA</td><td>NA</td><td>39.1</td><td>42.6</td><td>46.2</td><td>50.2</td><td>54.3</td><td>58.8</td><td>63.5</td><td>68.5</td><td>NA</td><td>79.4</td><td>85.3</td><td>91.6</td><td>98.3</td><td>105.2</td><td>112.6</td><td>120.3</td><td>128.5</td><td>137.1</td><td>146.1</td><td>155.8</td><td>165.6</td><td>176.2</td><td>187.2</td><td>198.8</td><td>211.0</td><td>223.7</td><td>237.2</td><td>251.2</td><td>265.9</td><td>281.1</td><td>297.3</td><td>314.1</td><td>331.6</td><td>350.3</td><td>369.4</td><td>389.7</td><td>410.6</td><td>432.7</td><td>455.6</td><td>479.6</td><td>NA</td><td>531.1</td><td>NA</td><td>586.7</td><td>NA</td><td>647.2</td><td>NA</td><td>712.4</td><td>NA</td><td>781.9</td><td>NA</td><td>NA</td><td>NA</td><td>933.2</td><td>NA</td><td>NA</td><td>NA</td><td>1097.8</td><td>NA</td><td>NA</td><td>NA</td><td>1272.2</td><td>NA</td><td>NA</td><td>NA</td><td>1453.7</td><td>NA</td><td>NA</td><td>NA</td><td>NA</td><td>NA</td><td>NA</td><td>NA</td><td>NA</td><td>NA</td><td>NA</td><td>NA</td><td>2019.3</td><td>NA</td><td>NA</td><td>NA</td><td>NA</td></tr><tr><th>3</th><td>2006-07-05</td><td>5625.63</td><td>3883.6</td><td>NA</td><td>3496.8</td><td>2726.8</td><td>NA</td><td>2347.0</td><td>2159.7</td><td>1974.9</td><td>1793.0</td><td>1614.7</td><td>NA</td><td>1440.8</td><td>NA</td><td>1271.9</td><td>1230.6</td><td>1189.6</td><td>1149.0</td><td>1108.8</td><td>1069.0</td><td>1029.9</td><td>991.0</td><td>952.6</td><td>914.8</td><td>877.4</td><td>840.6</td><td>804.2</td><td>768.3</td><td>733.3</td><td>698.5</td><td>664.7</td><td>631.5</td><td>598.8</td><td>566.9</td><td>535.7</td><td>505.3</td><td>475.7</td><td>447.0</td><td>419.0</td><td>392.1</td><td>365.7</td><td>340.7</td><td>316.3</td><td>293.0</td><td>270.9</td><td>NA</td><td>229.5</td><td>NA</td><td>192.3</td><td>NA</td><td>159.8</td><td>NA</td><td>131.6</td><td>NA</td><td>107.3</td><td>NA</td><td>NA</td><td>NA</td><td>70.1</td><td>NA</td><td>NA</td><td>NA</td><td>44.5</td><td>NA</td><td>NA</td><td>NA</td><td>27.9</td><td>NA</td><td>NA</td><td>NA</td><td>17.2</td><td>NA</td><td>NA</td><td>NA</td><td>10.5</td><td>NA</td><td>NA</td><td>NA</td><td>6.3</td><td>NA</td><td>NA</td><td>NA</td><td>3.8</td><td>NA</td><td>NA</td><td>NA</td><td>NA</td><td>NA</td><td>NA</td><td>NA</td><td>0.1</td><td>0.1</td><td>0.2</td><td>0.6</td><td>1.2</td><td>2.3</td><td>4.1</td><td>7.0</td><td>11.3</td><td>17.5</td><td>26.2</td><td>37.8</td><td>NA</td><td>NA</td><td>48.8</td><td>53.0</td><td>57.4</td><td>62.2</td><td>67.2</td><td>72.5</td><td>78.2</td><td>84.1</td><td>NA</td><td>97.1</td><td>104.1</td><td>111.6</td><td>119.3</td><td>127.6</td><td>136.2</td><td>145.3</td><td>154.9</td><td>164.8</td><td>175.3</td><td>186.3</td><td>197.9</td><td>209.7</td><td>222.4</td><td>235.7</td><td>249.4</td><td>263.8</td><td>279.0</td><td>294.7</td><td>311.1</td><td>328.3</td><td>346.2</td><td>365.0</td><td>384.7</td><td>405.1</td><td>426.5</td><td>448.7</td><td>471.9</td><td>496.0</td><td>521.1</td><td>547.1</td><td>NA</td><td>602.5</td><td>NA</td><td>662.1</td><td>NA</td><td>726.3</td><td>NA</td><td>794.9</td><td>NA</td><td>867.5</td><td>NA</td><td>NA</td><td>NA</td><td>1023.6</td><td>NA</td><td>NA</td><td>NA</td><td>1191.6</td><td>NA</td><td>NA</td><td>NA</td><td>1368.3</td><td>NA</td><td>NA</td><td>NA</td><td>1551.1</td><td>NA</td><td>NA</td><td>NA</td><td>NA</td><td>NA</td><td>NA</td><td>NA</td><td>NA</td><td>NA</td><td>NA</td><td>NA</td><td>2118.1</td><td>NA</td><td>NA</td><td>NA</td><td>NA</td></tr><tr><th>4</th><td>2006-07-06</td><td>5695.47</td><td>3949.7</td><td>NA</td><td>3563.0</td><td>2793.1</td><td>NA</td><td>2412.6</td><td>2224.6</td><td>2038.7</td><td>1855.4</td><td>1675.4</td><td>NA</td><td>1499.5</td><td>NA</td><td>1328.3</td><td>1286.4</td><td>1244.8</td><td>1203.5</td><td>1162.7</td><td>1122.2</td><td>1082.1</td><td>1042.5</td><td>1003.3</td><td>964.4</td><td>926.1</td><td>888.2</td><td>850.8</td><td>814.1</td><td>777.7</td><td>742.0</td><td>706.8</td><td>672.3</td><td>638.4</td><td>605.2</td><td>572.8</td><td>541.2</td><td>510.2</td><td>480.2</td><td>451.0</td><td>422.5</td><td>395.2</td><td>368.7</td><td>343.2</td><td>318.7</td><td>295.3</td><td>NA</td><td>251.4</td><td>NA</td><td>212.0</td><td>NA</td><td>176.8</td><td>NA</td><td>145.9</td><td>NA</td><td>119.3</td><td>NA</td><td>NA</td><td>NA</td><td>77.1</td><td>NA</td><td>NA</td><td>NA</td><td>47.7</td><td>NA</td><td>NA</td><td>NA</td><td>28.2</td><td>NA</td><td>NA</td><td>NA</td><td>16.0</td><td>NA</td><td>NA</td><td>NA</td><td>8.6</td><td>NA</td><td>NA</td><td>NA</td><td>4.4</td><td>NA</td><td>NA</td><td>NA</td><td>2.2</td><td>NA</td><td>NA</td><td>NA</td><td>NA</td><td>NA</td><td>NA</td><td>NA</td><td>0.1</td><td>0.2</td><td>0.4</td><td>0.9</td><td>1.6</td><td>2.8</td><td>4.6</td><td>7.4</td><td>11.3</td><td>16.8</td><td>24.4</td><td>34.7</td><td>NA</td><td>NA</td><td>44.5</td><td>48.2</td><td>52.2</td><td>56.5</td><td>61.0</td><td>65.8</td><td>71.0</td><td>76.4</td><td>NA</td><td>88.2</td><td>94.6</td><td>101.5</td><td>108.6</td><td>116.2</td><td>123.9</td><td>132.3</td><td>141.0</td><td>150.1</td><td>159.8</td><td>169.8</td><td>180.3</td><td>191.3</td><td>202.9</td><td>215.0</td><td>227.7</td><td>240.8</td><td>254.6</td><td>269.2</td><td>284.4</td><td>300.5</td><td>317.1</td><td>334.4</td><td>352.9</td><td>372.0</td><td>391.9</td><td>413.0</td><td>434.8</td><td>457.8</td><td>481.6</td><td>506.6</td><td>NA</td><td>559.7</td><td>NA</td><td>616.9</td><td>NA</td><td>678.4</td><td>NA</td><td>744.4</td><td>NA</td><td>814.5</td><td>NA</td><td>NA</td><td>NA</td><td>965.7</td><td>NA</td><td>NA</td><td>NA</td><td>1129.9</td><td>NA</td><td>NA</td><td>NA</td><td>1304.0</td><td>NA</td><td>NA</td><td>NA</td><td>1485.3</td><td>NA</td><td>NA</td><td>NA</td><td>NA</td><td>NA</td><td>NA</td><td>NA</td><td>NA</td><td>NA</td><td>NA</td><td>NA</td><td>2052.1</td><td>NA</td><td>NA</td><td>NA</td><td>NA</td></tr><tr><th>5</th><td>2006-07-07</td><td>5681.85</td><td>3938.1</td><td>NA</td><td>3551.3</td><td>2781.3</td><td>NA</td><td>2401.0</td><td>2213.0</td><td>2027.1</td><td>1843.9</td><td>1664.1</td><td>NA</td><td>1488.4</td><td>NA</td><td>1317.5</td><td>1275.6</td><td>1234.1</td><td>1193.0</td><td>1152.2</td><td>1111.8</td><td>1071.9</td><td>1032.2</td><td>993.2</td><td>954.5</td><td>916.3</td><td>878.5</td><td>841.3</td><td>804.7</td><td>768.3</td><td>732.8</td><td>697.9</td><td>663.6</td><td>629.7</td><td>596.9</td><td>564.7</td><td>533.2</td><td>502.3</td><td>472.6</td><td>443.6</td><td>415.5</td><td>388.4</td><td>361.9</td><td>336.9</td><td>312.4</td><td>289.4</td><td>NA</td><td>245.9</td><td>NA</td><td>207.1</td><td>NA</td><td>172.5</td><td>NA</td><td>142.1</td><td>NA</td><td>115.8</td><td>NA</td><td>NA</td><td>NA</td><td>74.6</td><td>NA</td><td>NA</td><td>NA</td><td>45.9</td><td>NA</td><td>NA</td><td>NA</td><td>27.1</td><td>NA</td><td>NA</td><td>NA</td><td>15.3</td><td>NA</td><td>NA</td><td>NA</td><td>8.2</td><td>NA</td><td>NA</td><td>NA</td><td>4.2</td><td>NA</td><td>NA</td><td>NA</td><td>2.0</td><td>NA</td><td>NA</td><td>NA</td><td>NA</td><td>NA</td><td>NA</td><td>NA</td><td>0.1</td><td>0.2</td><td>0.4</td><td>0.9</td><td>1.6</td><td>2.8</td><td>4.7</td><td>7.4</td><td>11.4</td><td>17.0</td><td>24.7</td><td>35.1</td><td>NA</td><td>NA</td><td>45.0</td><td>48.8</td><td>52.8</td><td>57.2</td><td>61.7</td><td>66.6</td><td>71.8</td><td>77.3</td><td>NA</td><td>89.3</td><td>95.8</td><td>102.7</td><td>109.9</td><td>117.4</td><td>125.5</td><td>133.9</td><td>142.8</td><td>152.1</td><td>161.9</td><td>172.0</td><td>182.6</td><td>193.8</td><td>205.4</td><td>217.8</td><td>230.5</td><td>243.9</td><td>258.0</td><td>272.5</td><td>287.9</td><td>304.2</td><td>321.1</td><td>338.8</td><td>357.3</td><td>376.7</td><td>397.0</td><td>418.3</td><td>440.2</td><td>463.3</td><td>487.6</td><td>512.8</td><td>NA</td><td>566.3</td><td>NA</td><td>624.1</td><td>NA</td><td>686.2</td><td>NA</td><td>752.7</td><td>NA</td><td>823.1</td><td>NA</td><td>NA</td><td>NA</td><td>975.5</td><td>NA</td><td>NA</td><td>NA</td><td>1140.5</td><td>NA</td><td>NA</td><td>NA</td><td>1315.1</td><td>NA</td><td>NA</td><td>NA</td><td>1496.8</td><td>NA</td><td>NA</td><td>NA</td><td>NA</td><td>NA</td><td>NA</td><td>NA</td><td>NA</td><td>NA</td><td>NA</td><td>NA</td><td>2064.3</td><td>NA</td><td>NA</td><td>NA</td><td>NA</td></tr><tr><th>6</th><td>2006-07-10</td><td>5706.32</td><td>3964.1</td><td>NA</td><td>3577.2</td><td>2806.8</td><td>NA</td><td>2426.0</td><td>2237.7</td><td>2051.4</td><td>1867.7</td><td>1687.2</td><td>NA</td><td>1510.6</td><td>NA</td><td>1338.7</td><td>1296.6</td><td>1254.8</td><td>1213.4</td><td>1172.3</td><td>1131.7</td><td>1091.4</td><td>1051.6</td><td>1012.2</td><td>973.2</td><td>934.7</td><td>896.8</td><td>859.2</td><td>822.1</td><td>785.8</td><td>749.9</td><td>714.6</td><td>680.0</td><td>645.9</td><td>612.8</td><td>579.9</td><td>548.2</td><td>517.1</td><td>486.7</td><td>457.4</td><td>428.7</td><td>401.0</td><td>374.2</td><td>348.3</td><td>323.7</td><td>299.9</td><td>NA</td><td>255.4</td><td>NA</td><td>215.1</td><td>NA</td><td>179.4</td><td>NA</td><td>147.9</td><td>NA</td><td>120.6</td><td>NA</td><td>NA</td><td>NA</td><td>77.8</td><td>NA</td><td>NA</td><td>NA</td><td>48.0</td><td>NA</td><td>NA</td><td>NA</td><td>28.4</td><td>NA</td><td>NA</td><td>NA</td><td>16.1</td><td>NA</td><td>NA</td><td>NA</td><td>8.7</td><td>NA</td><td>NA</td><td>NA</td><td>4.5</td><td>NA</td><td>NA</td><td>NA</td><td>2.2</td><td>NA</td><td>NA</td><td>NA</td><td>NA</td><td>NA</td><td>NA</td><td>NA</td><td>0.1</td><td>0.2</td><td>0.4</td><td>0.8</td><td>1.5</td><td>2.6</td><td>4.3</td><td>6.9</td><td>10.7</td><td>16.0</td><td>23.3</td><td>33.1</td><td>NA</td><td>NA</td><td>42.6</td><td>46.2</td><td>50.1</td><td>54.2</td><td>58.6</td><td>63.2</td><td>68.2</td><td>73.5</td><td>NA</td><td>85.0</td><td>91.2</td><td>97.8</td><td>104.8</td><td>112.1</td><td>119.9</td><td>128.0</td><td>136.5</td><td>145.6</td><td>155.0</td><td>164.8</td><td>175.3</td><td>186.1</td><td>197.6</td><td>209.6</td><td>222.2</td><td>235.2</td><td>249.0</td><td>263.3</td><td>278.4</td><td>294.1</td><td>310.8</td><td>328.0</td><td>346.1</td><td>365.1</td><td>384.8</td><td>405.7</td><td>427.2</td><td>449.9</td><td>473.4</td><td>498.0</td><td>NA</td><td>550.3</td><td>NA</td><td>606.9</td><td>NA</td><td>667.7</td><td>NA</td><td>733.2</td><td>NA</td><td>802.8</td><td>NA</td><td>NA</td><td>NA</td><td>953.5</td><td>NA</td><td>NA</td><td>NA</td><td>1117.2</td><td>NA</td><td>NA</td><td>NA</td><td>1291.2</td><td>NA</td><td>NA</td><td>NA</td><td>1472.5</td><td>NA</td><td>NA</td><td>NA</td><td>NA</td><td>NA</td><td>NA</td><td>NA</td><td>NA</td><td>NA</td><td>NA</td><td>NA</td><td>2039.4</td><td>NA</td><td>NA</td><td>NA</td><td>NA</td></tr></table>"
      ],
      "text/plain": [
       "6x187 DataFrame\n",
       "| Row | Date       | DAX     | c_20070615_1800 | c_20070615_2000 |\n",
       "|-----|------------|---------|-----------------|-----------------|\n",
       "| 1   | 2006-07-03 | 5712.69 | 3963.8          | NA              |\n",
       "| 2   | 2006-07-04 | 5729.01 | 3984.4          | NA              |\n",
       "| 3   | 2006-07-05 | 5625.63 | 3883.6          | NA              |\n",
       "| 4   | 2006-07-06 | 5695.47 | 3949.7          | NA              |\n",
       "| 5   | 2006-07-07 | 5681.85 | 3938.1          | NA              |\n",
       "| 6   | 2006-07-10 | 5706.32 | 3964.1          | NA              |\n",
       "\n",
       "| Row | c_20070615_2200 | c_20070615_3000 | c_20070615_3200 | c_20070615_3400 |\n",
       "|-----|-----------------|-----------------|-----------------|-----------------|\n",
       "| 1   | 3577.1          | 2807.0          | NA              | 2426.2          |\n",
       "| 2   | 3597.5          | 2826.2          | NA              | 2444.8          |\n",
       "| 3   | 3496.8          | 2726.8          | NA              | 2347.0          |\n",
       "| 4   | 3563.0          | 2793.1          | NA              | 2412.6          |\n",
       "| 5   | 3551.3          | 2781.3          | NA              | 2401.0          |\n",
       "| 6   | 3577.2          | 2806.8          | NA              | 2426.0          |\n",
       "\n",
       "| Row | c_20070615_3600 | c_20070615_3800 | c_20070615_4000 | c_20070615_4200 |\n",
       "|-----|-----------------|-----------------|-----------------|-----------------|\n",
       "| 1   | 2237.9          | 2051.5          | 1867.6          | 1686.7          |\n",
       "| 2   | 2256.2          | 2069.6          | 1885.5          | 1704.5          |\n",
       "| 3   | 2159.7          | 1974.9          | 1793.0          | 1614.7          |\n",
       "| 4   | 2224.6          | 2038.7          | 1855.4          | 1675.4          |\n",
       "| 5   | 2213.0          | 2027.1          | 1843.9          | 1664.1          |\n",
       "| 6   | 2237.7          | 2051.4          | 1867.7          | 1687.2          |\n",
       "\n",
       "| Row | c_20070615_4350 | c_20070615_4400 | c_20070615_4500 | c_20070615_4600 |\n",
       "|-----|-----------------|-----------------|-----------------|-----------------|\n",
       "| 1   | NA              | 1509.7          | NA              | 1337.1          |\n",
       "| 2   | NA              | 1527.1          | NA              | 1354.2          |\n",
       "| 3   | NA              | 1440.8          | NA              | 1271.9          |\n",
       "| 4   | NA              | 1499.5          | NA              | 1328.3          |\n",
       "| 5   | NA              | 1488.4          | NA              | 1317.5          |\n",
       "| 6   | NA              | 1510.6          | NA              | 1338.7          |\n",
       "\n",
       "| Row | c_20070615_4650 | c_20070615_4700 | c_20070615_4750 | c_20070615_4800 |\n",
       "|-----|-----------------|-----------------|-----------------|-----------------|\n",
       "| 1   | 1294.8          | 1252.8          | 1211.1          | 1169.9          |\n",
       "| 2   | 1311.8          | 1269.7          | 1227.9          | 1186.5          |\n",
       "| 3   | 1230.6          | 1189.6          | 1149.0          | 1108.8          |\n",
       "| 4   | 1286.4          | 1244.8          | 1203.5          | 1162.7          |\n",
       "| 5   | 1275.6          | 1234.1          | 1193.0          | 1152.2          |\n",
       "| 6   | 1296.6          | 1254.8          | 1213.4          | 1172.3          |\n",
       "\n",
       "| Row | c_20070615_4850 | c_20070615_4900 | c_20070615_4950 | c_20070615_5000 |\n",
       "|-----|-----------------|-----------------|-----------------|-----------------|\n",
       "| 1   | 1128.9          | 1088.5          | 1048.4          | 1008.8          |\n",
       "| 2   | 1145.6          | 1104.8          | 1064.7          | 1024.8          |\n",
       "| 3   | 1069.0          | 1029.9          | 991.0           | 952.6           |\n",
       "| 4   | 1122.2          | 1082.1          | 1042.5          | 1003.3          |\n",
       "| 5   | 1111.8          | 1071.9          | 1032.2          | 993.2           |\n",
       "| 6   | 1131.7          | 1091.4          | 1051.6          | 1012.2          |\n",
       "\n",
       "| Row | c_20070615_5050 | c_20070615_5100 | c_20070615_5150 | c_20070615_5200 |\n",
       "|-----|-----------------|-----------------|-----------------|-----------------|\n",
       "| 1   | 969.5           | 930.7           | 892.3           | 854.7           |\n",
       "| 2   | 985.6           | 946.8           | 908.2           | 870.4           |\n",
       "| 3   | 914.8           | 877.4           | 840.6           | 804.2           |\n",
       "| 4   | 964.4           | 926.1           | 888.2           | 850.8           |\n",
       "| 5   | 954.5           | 916.3           | 878.5           | 841.3           |\n",
       "| 6   | 973.2           | 934.7           | 896.8           | 859.2           |\n",
       "\n",
       "| Row | c_20070615_5250 | c_20070615_5300 | c_20070615_5350 | c_20070615_5400 |\n",
       "|-----|-----------------|-----------------|-----------------|-----------------|\n",
       "| 1   | 817.4           | 780.6           | 744.6           | 709.0           |\n",
       "| 2   | 833.0           | 796.2           | 759.9           | 724.4           |\n",
       "| 3   | 768.3           | 733.3           | 698.5           | 664.7           |\n",
       "| 4   | 814.1           | 777.7           | 742.0           | 706.8           |\n",
       "| 5   | 804.7           | 768.3           | 732.8           | 697.9           |\n",
       "| 6   | 822.1           | 785.8           | 749.9           | 714.6           |\n",
       "\n",
       "| Row | c_20070615_5450 | c_20070615_5500 | c_20070615_5550 | c_20070615_5600 |\n",
       "|-----|-----------------|-----------------|-----------------|-----------------|\n",
       "| 1   | 674.2           | 640.0           | 606.5           | 573.7           |\n",
       "| 2   | 689.3           | 655.0           | 621.3           | 588.3           |\n",
       "| 3   | 631.5           | 598.8           | 566.9           | 535.7           |\n",
       "| 4   | 672.3           | 638.4           | 605.2           | 572.8           |\n",
       "| 5   | 663.6           | 629.7           | 596.9           | 564.7           |\n",
       "| 6   | 680.0           | 645.9           | 612.8           | 579.9           |\n",
       "\n",
       "| Row | c_20070615_5650 | c_20070615_5700 | c_20070615_5750 | c_20070615_5800 |\n",
       "|-----|-----------------|-----------------|-----------------|-----------------|\n",
       "| 1   | 541.8           | 510.5           | 480.1           | 450.5           |\n",
       "| 2   | 556.1           | 524.6           | 493.9           | 463.7           |\n",
       "| 3   | 505.3           | 475.7           | 447.0           | 419.0           |\n",
       "| 4   | 541.2           | 510.2           | 480.2           | 451.0           |\n",
       "| 5   | 533.2           | 502.3           | 472.6           | 443.6           |\n",
       "| 6   | 548.2           | 517.1           | 486.7           | 457.4           |\n",
       "\n",
       "| Row | c_20070615_5850 | c_20070615_5900 | c_20070615_5950 | c_20070615_6000 |\n",
       "|-----|-----------------|-----------------|-----------------|-----------------|\n",
       "| 1   | 421.8           | 394.1           | 367.3           | 341.7           |\n",
       "| 2   | 434.7           | 406.4           | 379.1           | 352.9           |\n",
       "| 3   | 392.1           | 365.7           | 340.7           | 316.3           |\n",
       "| 4   | 422.5           | 395.2           | 368.7           | 343.2           |\n",
       "| 5   | 415.5           | 388.4           | 361.9           | 336.9           |\n",
       "| 6   | 428.7           | 401.0           | 374.2           | 348.3           |\n",
       "\n",
       "| Row | c_20070615_6050 | c_20070615_6100 | c_20070615_6150 | c_20070615_6200 |\n",
       "|-----|-----------------|-----------------|-----------------|-----------------|\n",
       "| 1   | 316.8           | 293.0           | NA              | 248.9           |\n",
       "| 2   | 327.4           | 303.0           | NA              | 257.5           |\n",
       "| 3   | 293.0           | 270.9           | NA              | 229.5           |\n",
       "| 4   | 318.7           | 295.3           | NA              | 251.4           |\n",
       "| 5   | 312.4           | 289.4           | NA              | 245.9           |\n",
       "| 6   | 323.7           | 299.9           | NA              | 255.4           |\n",
       "\n",
       "| Row | c_20070615_6250 | c_20070615_6300 | c_20070615_6350 | c_20070615_6400 |\n",
       "|-----|-----------------|-----------------|-----------------|-----------------|\n",
       "| 1   | NA              | 209.1           | NA              | 174.2           |\n",
       "| 2   | NA              | 216.5           | NA              | 180.2           |\n",
       "| 3   | NA              | 192.3           | NA              | 159.8           |\n",
       "| 4   | NA              | 212.0           | NA              | 176.8           |\n",
       "| 5   | NA              | 207.1           | NA              | 172.5           |\n",
       "| 6   | NA              | 215.1           | NA              | 179.4           |\n",
       "\n",
       "| Row | c_20070615_6450 | c_20070615_6500 | c_20070615_6550 | c_20070615_6600 |\n",
       "|-----|-----------------|-----------------|-----------------|-----------------|\n",
       "| 1   | NA              | 143.4           | NA              | 117.1           |\n",
       "| 2   | NA              | 148.5           | NA              | 121.4           |\n",
       "| 3   | NA              | 131.6           | NA              | 107.3           |\n",
       "| 4   | NA              | 145.9           | NA              | 119.3           |\n",
       "| 5   | NA              | 142.1           | NA              | 115.8           |\n",
       "| 6   | NA              | 147.9           | NA              | 120.6           |\n",
       "\n",
       "| Row | c_20070615_6650 | c_20070615_6700 | c_20070615_6750 | c_20070615_6800 |\n",
       "|-----|-----------------|-----------------|-----------------|-----------------|\n",
       "| 1   | NA              | NA              | NA              | 76.0            |\n",
       "| 2   | NA              | NA              | NA              | 79.1            |\n",
       "| 3   | NA              | NA              | NA              | 70.1            |\n",
       "| 4   | NA              | NA              | NA              | 77.1            |\n",
       "| 5   | NA              | NA              | NA              | 74.6            |\n",
       "| 6   | NA              | NA              | NA              | 77.8            |\n",
       "\n",
       "| Row | c_20070615_6850 | c_20070615_6900 | c_20070615_6950 | c_20070615_7000 |\n",
       "|-----|-----------------|-----------------|-----------------|-----------------|\n",
       "| 1   | NA              | NA              | NA              | 47.8            |\n",
       "| 2   | NA              | NA              | NA              | 50.0            |\n",
       "| 3   | NA              | NA              | NA              | 44.5            |\n",
       "| 4   | NA              | NA              | NA              | 47.7            |\n",
       "| 5   | NA              | NA              | NA              | 45.9            |\n",
       "| 6   | NA              | NA              | NA              | 48.0            |\n",
       "\n",
       "| Row | c_20070615_7050 | c_20070615_7100 | c_20070615_7150 | c_20070615_7200 |\n",
       "|-----|-----------------|-----------------|-----------------|-----------------|\n",
       "| 1   | NA              | NA              | NA              | 29.2            |\n",
       "| 2   | NA              | NA              | NA              | 31.1            |\n",
       "| 3   | NA              | NA              | NA              | 27.9            |\n",
       "| 4   | NA              | NA              | NA              | 28.2            |\n",
       "| 5   | NA              | NA              | NA              | 27.1            |\n",
       "| 6   | NA              | NA              | NA              | 28.4            |\n",
       "\n",
       "| Row | c_20070615_7250 | c_20070615_7300 | c_20070615_7350 | c_20070615_7400 |\n",
       "|-----|-----------------|-----------------|-----------------|-----------------|\n",
       "| 1   | NA              | NA              | NA              | 17.4            |\n",
       "| 2   | NA              | NA              | NA              | 19.0            |\n",
       "| 3   | NA              | NA              | NA              | 17.2            |\n",
       "| 4   | NA              | NA              | NA              | 16.0            |\n",
       "| 5   | NA              | NA              | NA              | 15.3            |\n",
       "| 6   | NA              | NA              | NA              | 16.1            |\n",
       "\n",
       "| Row | c_20070615_7450 | c_20070615_7500 | c_20070615_7550 | c_20070615_7600 |\n",
       "|-----|-----------------|-----------------|-----------------|-----------------|\n",
       "| 1   | NA              | NA              | NA              | 10.1            |\n",
       "| 2   | NA              | NA              | NA              | 11.5            |\n",
       "| 3   | NA              | NA              | NA              | 10.5            |\n",
       "| 4   | NA              | NA              | NA              | 8.6             |\n",
       "| 5   | NA              | NA              | NA              | 8.2             |\n",
       "| 6   | NA              | NA              | NA              | 8.7             |\n",
       "\n",
       "| Row | c_20070615_7650 | c_20070615_7700 | c_20070615_7750 | c_20070615_7800 |\n",
       "|-----|-----------------|-----------------|-----------------|-----------------|\n",
       "| 1   | NA              | NA              | NA              | 5.8             |\n",
       "| 2   | NA              | NA              | NA              | 6.9             |\n",
       "| 3   | NA              | NA              | NA              | 6.3             |\n",
       "| 4   | NA              | NA              | NA              | 4.4             |\n",
       "| 5   | NA              | NA              | NA              | 4.2             |\n",
       "| 6   | NA              | NA              | NA              | 4.5             |\n",
       "\n",
       "| Row | c_20070615_7850 | c_20070615_7900 | c_20070615_7950 | c_20070615_8000 |\n",
       "|-----|-----------------|-----------------|-----------------|-----------------|\n",
       "| 1   | NA              | NA              | NA              | 3.2             |\n",
       "| 2   | NA              | NA              | NA              | 4.0             |\n",
       "| 3   | NA              | NA              | NA              | 3.8             |\n",
       "| 4   | NA              | NA              | NA              | 2.2             |\n",
       "| 5   | NA              | NA              | NA              | 2.0             |\n",
       "| 6   | NA              | NA              | NA              | 2.2             |\n",
       "\n",
       "| Row | c_20070615_8050 | c_20070615_8100 | c_20070615_8150 | c_20070615_8200 |\n",
       "|-----|-----------------|-----------------|-----------------|-----------------|\n",
       "| 1   | NA              | NA              | NA              | NA              |\n",
       "| 2   | NA              | NA              | NA              | NA              |\n",
       "| 3   | NA              | NA              | NA              | NA              |\n",
       "| 4   | NA              | NA              | NA              | NA              |\n",
       "| 5   | NA              | NA              | NA              | NA              |\n",
       "| 6   | NA              | NA              | NA              | NA              |\n",
       "\n",
       "| Row | c_20070615_8250 | c_20070615_8300 | c_20070615_8400 | p_20070615_1800 |\n",
       "|-----|-----------------|-----------------|-----------------|-----------------|\n",
       "| 1   | NA              | NA              | NA              | 0.1             |\n",
       "| 2   | NA              | NA              | NA              | 0.1             |\n",
       "| 3   | NA              | NA              | NA              | 0.1             |\n",
       "| 4   | NA              | NA              | NA              | 0.1             |\n",
       "| 5   | NA              | NA              | NA              | 0.1             |\n",
       "| 6   | NA              | NA              | NA              | 0.1             |\n",
       "\n",
       "| Row | p_20070615_2000 | p_20070615_2200 | p_20070615_2400 | p_20070615_2600 |\n",
       "|-----|-----------------|-----------------|-----------------|-----------------|\n",
       "| 1   | 0.2             | 0.4             | 0.8             | 1.4             |\n",
       "| 2   | 0.1             | 0.2             | 0.4             | 0.8             |\n",
       "| 3   | 0.1             | 0.2             | 0.6             | 1.2             |\n",
       "| 4   | 0.2             | 0.4             | 0.9             | 1.6             |\n",
       "| 5   | 0.2             | 0.4             | 0.9             | 1.6             |\n",
       "| 6   | 0.2             | 0.4             | 0.8             | 1.5             |\n",
       "\n",
       "| Row | p_20070615_2800 | p_20070615_3000 | p_20070615_3200 | p_20070615_3400 |\n",
       "|-----|-----------------|-----------------|-----------------|-----------------|\n",
       "| 1   | 2.5             | 4.2             | 6.8             | 10.4            |\n",
       "| 2   | 1.7             | 3.1             | 5.3             | 8.7             |\n",
       "| 3   | 2.3             | 4.1             | 7.0             | 11.3            |\n",
       "| 4   | 2.8             | 4.6             | 7.4             | 11.3            |\n",
       "| 5   | 2.8             | 4.7             | 7.4             | 11.4            |\n",
       "| 6   | 2.6             | 4.3             | 6.9             | 10.7            |\n",
       "\n",
       "| Row | p_20070615_3600 | p_20070615_3800 | p_20070615_4000 | p_20070615_4050 |\n",
       "|-----|-----------------|-----------------|-----------------|-----------------|\n",
       "| 1   | 15.6            | 22.7            | 32.3            | NA              |\n",
       "| 2   | 13.6            | 20.6            | 30.0            | NA              |\n",
       "| 3   | 17.5            | 26.2            | 37.8            | NA              |\n",
       "| 4   | 16.8            | 24.4            | 34.7            | NA              |\n",
       "| 5   | 17.0            | 24.7            | 35.1            | NA              |\n",
       "| 6   | 16.0            | 23.3            | 33.1            | NA              |\n",
       "\n",
       "| Row | p_20070615_4100 | p_20070615_4150 | p_20070615_4200 | p_20070615_4250 |\n",
       "|-----|-----------------|-----------------|-----------------|-----------------|\n",
       "| 1   | NA              | 41.4            | 44.9            | 48.7            |\n",
       "| 2   | NA              | 39.1            | 42.6            | 46.2            |\n",
       "| 3   | NA              | 48.8            | 53.0            | 57.4            |\n",
       "| 4   | NA              | 44.5            | 48.2            | 52.2            |\n",
       "| 5   | NA              | 45.0            | 48.8            | 52.8            |\n",
       "| 6   | NA              | 42.6            | 46.2            | 50.1            |\n",
       "\n",
       "| Row | p_20070615_4300 | p_20070615_4350 | p_20070615_4400 | p_20070615_4450 |\n",
       "|-----|-----------------|-----------------|-----------------|-----------------|\n",
       "| 1   | 52.6            | 56.9            | 61.4            | 66.2            |\n",
       "| 2   | 50.2            | 54.3            | 58.8            | 63.5            |\n",
       "| 3   | 62.2            | 67.2            | 72.5            | 78.2            |\n",
       "| 4   | 56.5            | 61.0            | 65.8            | 71.0            |\n",
       "| 5   | 57.2            | 61.7            | 66.6            | 71.8            |\n",
       "| 6   | 54.2            | 58.6            | 63.2            | 68.2            |\n",
       "\n",
       "| Row | p_20070615_4500 | p_20070615_4550 | p_20070615_4600 | p_20070615_4650 |\n",
       "|-----|-----------------|-----------------|-----------------|-----------------|\n",
       "| 1   | 71.2            | NA              | 82.3            | 88.3            |\n",
       "| 2   | 68.5            | NA              | 79.4            | 85.3            |\n",
       "| 3   | 84.1            | NA              | 97.1            | 104.1           |\n",
       "| 4   | 76.4            | NA              | 88.2            | 94.6            |\n",
       "| 5   | 77.3            | NA              | 89.3            | 95.8            |\n",
       "| 6   | 73.5            | NA              | 85.0            | 91.2            |\n",
       "\n",
       "| Row | p_20070615_4700 | p_20070615_4750 | p_20070615_4800 | p_20070615_4850 |\n",
       "|-----|-----------------|-----------------|-----------------|-----------------|\n",
       "| 1   | 94.7            | 101.3           | 108.4           | 116.0           |\n",
       "| 2   | 91.6            | 98.3            | 105.2           | 112.6           |\n",
       "| 3   | 111.6           | 119.3           | 127.6           | 136.2           |\n",
       "| 4   | 101.5           | 108.6           | 116.2           | 123.9           |\n",
       "| 5   | 102.7           | 109.9           | 117.4           | 125.5           |\n",
       "| 6   | 97.8            | 104.8           | 112.1           | 119.9           |\n",
       "\n",
       "| Row | p_20070615_4900 | p_20070615_4950 | p_20070615_5000 | p_20070615_5050 |\n",
       "|-----|-----------------|-----------------|-----------------|-----------------|\n",
       "| 1   | 123.9           | 132.2           | 141.0           | 150.0           |\n",
       "| 2   | 120.3           | 128.5           | 137.1           | 146.1           |\n",
       "| 3   | 145.3           | 154.9           | 164.8           | 175.3           |\n",
       "| 4   | 132.3           | 141.0           | 150.1           | 159.8           |\n",
       "| 5   | 133.9           | 142.8           | 152.1           | 161.9           |\n",
       "| 6   | 128.0           | 136.5           | 145.6           | 155.0           |\n",
       "\n",
       "| Row | p_20070615_5100 | p_20070615_5150 | p_20070615_5200 | p_20070615_5250 |\n",
       "|-----|-----------------|-----------------|-----------------|-----------------|\n",
       "| 1   | 159.7           | 169.8           | 180.3           | 191.5           |\n",
       "| 2   | 155.8           | 165.6           | 176.2           | 187.2           |\n",
       "| 3   | 186.3           | 197.9           | 209.7           | 222.4           |\n",
       "| 4   | 169.8           | 180.3           | 191.3           | 202.9           |\n",
       "| 5   | 172.0           | 182.6           | 193.8           | 205.4           |\n",
       "| 6   | 164.8           | 175.3           | 186.1           | 197.6           |\n",
       "\n",
       "| Row | p_20070615_5300 | p_20070615_5350 | p_20070615_5400 | p_20070615_5450 |\n",
       "|-----|-----------------|-----------------|-----------------|-----------------|\n",
       "| 1   | 203.0           | 215.4           | 228.1           | 241.7           |\n",
       "| 2   | 198.8           | 211.0           | 223.7           | 237.2           |\n",
       "| 3   | 235.7           | 249.4           | 263.8           | 279.0           |\n",
       "| 4   | 215.0           | 227.7           | 240.8           | 254.6           |\n",
       "| 5   | 217.8           | 230.5           | 243.9           | 258.0           |\n",
       "| 6   | 209.6           | 222.2           | 235.2           | 249.0           |\n",
       "\n",
       "| Row | p_20070615_5500 | p_20070615_5550 | p_20070615_5600 | p_20070615_5650 |\n",
       "|-----|-----------------|-----------------|-----------------|-----------------|\n",
       "| 1   | 255.9           | 270.7           | 286.5           | 302.8           |\n",
       "| 2   | 251.2           | 265.9           | 281.1           | 297.3           |\n",
       "| 3   | 294.7           | 311.1           | 328.3           | 346.2           |\n",
       "| 4   | 269.2           | 284.4           | 300.5           | 317.1           |\n",
       "| 5   | 272.5           | 287.9           | 304.2           | 321.1           |\n",
       "| 6   | 263.3           | 278.4           | 294.1           | 310.8           |\n",
       "\n",
       "| Row | p_20070615_5700 | p_20070615_5750 | p_20070615_5800 | p_20070615_5850 |\n",
       "|-----|-----------------|-----------------|-----------------|-----------------|\n",
       "| 1   | 319.8           | 337.8           | 356.8           | 376.3           |\n",
       "| 2   | 314.1           | 331.6           | 350.3           | 369.4           |\n",
       "| 3   | 365.0           | 384.7           | 405.1           | 426.5           |\n",
       "| 4   | 334.4           | 352.9           | 372.0           | 391.9           |\n",
       "| 5   | 338.8           | 357.3           | 376.7           | 397.0           |\n",
       "| 6   | 328.0           | 346.1           | 365.1           | 384.8           |\n",
       "\n",
       "| Row | p_20070615_5900 | p_20070615_5950 | p_20070615_6000 | p_20070615_6050 |\n",
       "|-----|-----------------|-----------------|-----------------|-----------------|\n",
       "| 1   | 397.2           | 418.7           | 441.3           | 464.9           |\n",
       "| 2   | 389.7           | 410.6           | 432.7           | 455.6           |\n",
       "| 3   | 448.7           | 471.9           | 496.0           | 521.1           |\n",
       "| 4   | 413.0           | 434.8           | 457.8           | 481.6           |\n",
       "| 5   | 418.3           | 440.2           | 463.3           | 487.6           |\n",
       "| 6   | 405.7           | 427.2           | 449.9           | 473.4           |\n",
       "\n",
       "| Row | p_20070615_6100 | p_20070615_6150 | p_20070615_6200 | p_20070615_6250 |\n",
       "|-----|-----------------|-----------------|-----------------|-----------------|\n",
       "| 1   | 489.5           | NA              | 542.3           | NA              |\n",
       "| 2   | 479.6           | NA              | 531.1           | NA              |\n",
       "| 3   | 547.1           | NA              | 602.5           | NA              |\n",
       "| 4   | 506.6           | NA              | 559.7           | NA              |\n",
       "| 5   | 512.8           | NA              | 566.3           | NA              |\n",
       "| 6   | 498.0           | NA              | 550.3           | NA              |\n",
       "\n",
       "| Row | p_20070615_6300 | p_20070615_6350 | p_20070615_6400 | p_20070615_6450 |\n",
       "|-----|-----------------|-----------------|-----------------|-----------------|\n",
       "| 1   | 599.2           | NA              | 660.8           | NA              |\n",
       "| 2   | 586.7           | NA              | 647.2           | NA              |\n",
       "| 3   | 662.1           | NA              | 726.3           | NA              |\n",
       "| 4   | 616.9           | NA              | 678.4           | NA              |\n",
       "| 5   | 624.1           | NA              | 686.2           | NA              |\n",
       "| 6   | 606.9           | NA              | 667.7           | NA              |\n",
       "\n",
       "| Row | p_20070615_6500 | p_20070615_6550 | p_20070615_6600 | p_20070615_6650 |\n",
       "|-----|-----------------|-----------------|-----------------|-----------------|\n",
       "| 1   | 726.8           | NA              | 797.3           | NA              |\n",
       "| 2   | 712.4           | NA              | 781.9           | NA              |\n",
       "| 3   | 794.9           | NA              | 867.5           | NA              |\n",
       "| 4   | 744.4           | NA              | 814.5           | NA              |\n",
       "| 5   | 752.7           | NA              | 823.1           | NA              |\n",
       "| 6   | 733.2           | NA              | 802.8           | NA              |\n",
       "\n",
       "| Row | p_20070615_6700 | p_20070615_6750 | p_20070615_6800 | p_20070615_6850 |\n",
       "|-----|-----------------|-----------------|-----------------|-----------------|\n",
       "| 1   | NA              | NA              | 949.6           | NA              |\n",
       "| 2   | NA              | NA              | 933.2           | NA              |\n",
       "| 3   | NA              | NA              | 1023.6          | NA              |\n",
       "| 4   | NA              | NA              | 965.7           | NA              |\n",
       "| 5   | NA              | NA              | 975.5           | NA              |\n",
       "| 6   | NA              | NA              | 953.5           | NA              |\n",
       "\n",
       "| Row | p_20070615_6900 | p_20070615_6950 | p_20070615_7000 | p_20070615_7050 |\n",
       "|-----|-----------------|-----------------|-----------------|-----------------|\n",
       "| 1   | NA              | NA              | 1114.7          | NA              |\n",
       "| 2   | NA              | NA              | 1097.8          | NA              |\n",
       "| 3   | NA              | NA              | 1191.6          | NA              |\n",
       "| 4   | NA              | NA              | 1129.9          | NA              |\n",
       "| 5   | NA              | NA              | 1140.5          | NA              |\n",
       "| 6   | NA              | NA              | 1117.2          | NA              |\n",
       "\n",
       "| Row | p_20070615_7100 | p_20070615_7150 | p_20070615_7200 | p_20070615_7250 |\n",
       "|-----|-----------------|-----------------|-----------------|-----------------|\n",
       "| 1   | NA              | NA              | 1289.7          | NA              |\n",
       "| 2   | NA              | NA              | 1272.2          | NA              |\n",
       "| 3   | NA              | NA              | 1368.3          | NA              |\n",
       "| 4   | NA              | NA              | 1304.0          | NA              |\n",
       "| 5   | NA              | NA              | 1315.1          | NA              |\n",
       "| 6   | NA              | NA              | 1291.2          | NA              |\n",
       "\n",
       "| Row | p_20070615_7300 | p_20070615_7350 | p_20070615_7400 | p_20070615_7450 |\n",
       "|-----|-----------------|-----------------|-----------------|-----------------|\n",
       "| 1   | NA              | NA              | 1471.4          | NA              |\n",
       "| 2   | NA              | NA              | 1453.7          | NA              |\n",
       "| 3   | NA              | NA              | 1551.1          | NA              |\n",
       "| 4   | NA              | NA              | 1485.3          | NA              |\n",
       "| 5   | NA              | NA              | 1496.8          | NA              |\n",
       "| 6   | NA              | NA              | 1472.5          | NA              |\n",
       "\n",
       "| Row | p_20070615_7500 | p_20070615_7550 | p_20070615_7600 | p_20070615_7650 |\n",
       "|-----|-----------------|-----------------|-----------------|-----------------|\n",
       "| 1   | NA              | NA              | NA              | NA              |\n",
       "| 2   | NA              | NA              | NA              | NA              |\n",
       "| 3   | NA              | NA              | NA              | NA              |\n",
       "| 4   | NA              | NA              | NA              | NA              |\n",
       "| 5   | NA              | NA              | NA              | NA              |\n",
       "| 6   | NA              | NA              | NA              | NA              |\n",
       "\n",
       "| Row | p_20070615_7700 | p_20070615_7750 | p_20070615_7800 | p_20070615_7850 |\n",
       "|-----|-----------------|-----------------|-----------------|-----------------|\n",
       "| 1   | NA              | NA              | NA              | NA              |\n",
       "| 2   | NA              | NA              | NA              | NA              |\n",
       "| 3   | NA              | NA              | NA              | NA              |\n",
       "| 4   | NA              | NA              | NA              | NA              |\n",
       "| 5   | NA              | NA              | NA              | NA              |\n",
       "| 6   | NA              | NA              | NA              | NA              |\n",
       "\n",
       "| Row | p_20070615_7900 | p_20070615_7950 | p_20070615_8000 | p_20070615_8050 |\n",
       "|-----|-----------------|-----------------|-----------------|-----------------|\n",
       "| 1   | NA              | NA              | 2037.8          | NA              |\n",
       "| 2   | NA              | NA              | 2019.3          | NA              |\n",
       "| 3   | NA              | NA              | 2118.1          | NA              |\n",
       "| 4   | NA              | NA              | 2052.1          | NA              |\n",
       "| 5   | NA              | NA              | 2064.3          | NA              |\n",
       "| 6   | NA              | NA              | 2039.4          | NA              |\n",
       "\n",
       "| Row | p_20070615_8100 | p_20070615_8150 | p_20070615_8200 |\n",
       "|-----|-----------------|-----------------|-----------------|\n",
       "| 1   | NA              | NA              | NA              |\n",
       "| 2   | NA              | NA              | NA              |\n",
       "| 3   | NA              | NA              | NA              |\n",
       "| 4   | NA              | NA              | NA              |\n",
       "| 5   | NA              | NA              | NA              |\n",
       "| 6   | NA              | NA              | NA              |"
      ]
     },
     "execution_count": 52,
     "metadata": {},
     "output_type": "execute_result"
    }
   ],
   "source": [
    "relevObsDataWide = unstack(relevObsData, :Date, :ID, :Price)\n",
    "rename!(relevObsDataWide, :ID, :Date)\n",
    "relevObsDataWide = join(daxVals, relevObsDataWide, on = :Date)\n",
    "head(relevObsDataWide)"
   ]
  },
  {
   "cell_type": "code",
   "execution_count": 53,
   "metadata": {
    "collapsed": true
   },
   "outputs": [],
   "source": [
    "writetable(\"../data/chart_data/singleCohortWide.csv\", relevObsDataWide)"
   ]
  }
 ],
 "metadata": {
  "kernelspec": {
   "display_name": "Julia",
   "name": "julia"
  },
  "language_info": {
   "name": "julia",
   "version": "0.3.5"
  }
 },
 "nbformat": 4,
 "nbformat_minor": 0
}
