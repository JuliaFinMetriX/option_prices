{
 "cells": [
  {
   "cell_type": "markdown",
   "metadata": {},
   "source": [
    "- the purpose of this script is to show how some properties of the data behave locally"
   ]
  },
  {
   "cell_type": "code",
   "execution_count": 2,
   "metadata": {
    "collapsed": false
   },
   "outputs": [
    {
     "name": "stdout",
     "output_type": "stream",
     "text": [
      "elapsed time: 0.494417748 seconds (52416884 bytes allocated, 8.67% gc time)\n",
      "elapsed time: 52.062909832 seconds (5419744236 bytes allocated, 65.06% gc time)\n",
      "elapsed time: 0.742616777 seconds (112671656 bytes allocated, 48.67% gc time)\n",
      "elapsed time: 66.922377146 seconds (5419744236 bytes allocated, 72.34% gc time)\n",
      "elapsed time: 140.922123209 seconds (14792109664 bytes allocated, 60.68% gc time)\n"
     ]
    },
    {
     "data": {
      "text/html": [
       "<table class=\"data-frame\"><tr><th></th><th>Date</th><th>ID</th><th>Bid</th><th>Ask</th><th>Volume</th><th>Open_Interest</th></tr><tr><th>1</th><td>2006-07-03</td><td>c_20061215_1800</td><td>NA</td><td>NA</td><td>1</td><td>104</td></tr><tr><th>2</th><td>2006-07-03</td><td>p_20061215_1800</td><td>NA</td><td>NA</td><td>0</td><td>5515</td></tr><tr><th>3</th><td>2006-07-03</td><td>c_20061215_2000</td><td>NA</td><td>NA</td><td>0</td><td>2152</td></tr><tr><th>4</th><td>2006-07-03</td><td>p_20061215_2000</td><td>NA</td><td>NA</td><td>0</td><td>20941</td></tr><tr><th>5</th><td>2006-07-03</td><td>c_20061215_2200</td><td>NA</td><td>NA</td><td>0</td><td>2</td></tr><tr><th>6</th><td>2006-07-03</td><td>p_20061215_2200</td><td>NA</td><td>NA</td><td>0</td><td>4626</td></tr></table>"
      ],
      "text/plain": [
       "6x6 DataFrame\n",
       "| Row | Date       | ID                | Bid | Ask | Volume | Open_Interest |\n",
       "|-----|------------|-------------------|-----|-----|--------|---------------|\n",
       "| 1   | 2006-07-03 | \"c_20061215_1800\" | NA  | NA  | 1      | 104           |\n",
       "| 2   | 2006-07-03 | \"p_20061215_1800\" | NA  | NA  | 0      | 5515          |\n",
       "| 3   | 2006-07-03 | \"c_20061215_2000\" | NA  | NA  | 0      | 2152          |\n",
       "| 4   | 2006-07-03 | \"p_20061215_2000\" | NA  | NA  | 0      | 20941         |\n",
       "| 5   | 2006-07-03 | \"c_20061215_2200\" | NA  | NA  | 0      | 2             |\n",
       "| 6   | 2006-07-03 | \"p_20061215_2200\" | NA  | NA  | 0      | 4626          |"
      ]
     },
     "execution_count": 2,
     "metadata": {},
     "output_type": "execute_result"
    }
   ],
   "source": [
    "@time include(\"../startup_script.jl\")"
   ]
  },
  {
   "cell_type": "markdown",
   "metadata": {},
   "source": [
    "- load data"
   ]
  },
  {
   "cell_type": "code",
   "execution_count": 3,
   "metadata": {
    "collapsed": false
   },
   "outputs": [
    {
     "data": {
      "text/html": [
       "<table class=\"data-frame\"><tr><th></th><th>Date</th><th>ID</th><th>Bid</th><th>Ask</th><th>Volume</th><th>Open_Interest</th><th>Expiry</th><th>Strike</th><th>IsCall</th><th>DAX</th><th>VolRanks</th><th>DeltaOI</th><th>OiRanks</th></tr><tr><th>1</th><td>2006-07-03</td><td>p_20060721_4200</td><td>NA</td><td>NA</td><td>0</td><td>1337</td><td>2006-07-21</td><td>4200</td><td>false</td><td>5712.69</td><td>0.0</td><td>1337.0</td><td>0.5011194343079209</td></tr><tr><th>2</th><td>2006-07-03</td><td>p_20060721_4300</td><td>NA</td><td>NA</td><td>0</td><td>3260</td><td>2006-07-21</td><td>4300</td><td>false</td><td>5712.69</td><td>0.0</td><td>3260.0</td><td>0.6202273434298045</td></tr><tr><th>3</th><td>2006-07-03</td><td>p_20060721_4400</td><td>NA</td><td>NA</td><td>0</td><td>5565</td><td>2006-07-21</td><td>4400</td><td>false</td><td>5712.69</td><td>0.0</td><td>5565.0</td><td>0.6946808353044002</td></tr><tr><th>4</th><td>2006-07-03</td><td>p_20060721_4500</td><td>NA</td><td>NA</td><td>0</td><td>4252</td><td>2006-07-21</td><td>4500</td><td>false</td><td>5712.69</td><td>0.0</td><td>4252.0</td><td>0.654867588747389</td></tr><tr><th>5</th><td>2006-07-03</td><td>p_20060721_4600</td><td>NA</td><td>NA</td><td>0</td><td>5335</td><td>2006-07-21</td><td>4600</td><td>false</td><td>5712.69</td><td>0.0</td><td>5335.0</td><td>0.6879854626616563</td></tr><tr><th>6</th><td>2006-07-03</td><td>p_20060721_4700</td><td>NA</td><td>NA</td><td>150</td><td>3380</td><td>2006-07-21</td><td>4700</td><td>false</td><td>5712.69</td><td>0.5902119355387291</td><td>3380.0</td><td>0.6248482813449013</td></tr></table>"
      ],
      "text/plain": [
       "6x13 DataFrame\n",
       "| Row | Date         | ID                | Bid | Ask | Volume | Open_Interest |\n",
       "|-----|--------------|-------------------|-----|-----|--------|---------------|\n",
       "| 1   | \"2006-07-03\" | \"p_20060721_4200\" | NA  | NA  | 0      | 1337          |\n",
       "| 2   | \"2006-07-03\" | \"p_20060721_4300\" | NA  | NA  | 0      | 3260          |\n",
       "| 3   | \"2006-07-03\" | \"p_20060721_4400\" | NA  | NA  | 0      | 5565          |\n",
       "| 4   | \"2006-07-03\" | \"p_20060721_4500\" | NA  | NA  | 0      | 4252          |\n",
       "| 5   | \"2006-07-03\" | \"p_20060721_4600\" | NA  | NA  | 0      | 5335          |\n",
       "| 6   | \"2006-07-03\" | \"p_20060721_4700\" | NA  | NA  | 150    | 3380          |\n",
       "\n",
       "| Row | Expiry       | Strike | IsCall | DAX     | VolRanks | DeltaOI |\n",
       "|-----|--------------|--------|--------|---------|----------|---------|\n",
       "| 1   | \"2006-07-21\" | 4200   | false  | 5712.69 | 0.0      | 1337.0  |\n",
       "| 2   | \"2006-07-21\" | 4300   | false  | 5712.69 | 0.0      | 3260.0  |\n",
       "| 3   | \"2006-07-21\" | 4400   | false  | 5712.69 | 0.0      | 5565.0  |\n",
       "| 4   | \"2006-07-21\" | 4500   | false  | 5712.69 | 0.0      | 4252.0  |\n",
       "| 5   | \"2006-07-21\" | 4600   | false  | 5712.69 | 0.0      | 5335.0  |\n",
       "| 6   | \"2006-07-21\" | 4700   | false  | 5712.69 | 0.590212 | 3380.0  |\n",
       "\n",
       "| Row | OiRanks  |\n",
       "|-----|----------|\n",
       "| 1   | 0.501119 |\n",
       "| 2   | 0.620227 |\n",
       "| 3   | 0.694681 |\n",
       "| 4   | 0.654868 |\n",
       "| 5   | 0.687985 |\n",
       "| 6   | 0.624848 |"
      ]
     },
     "execution_count": 3,
     "metadata": {},
     "output_type": "execute_result"
    }
   ],
   "source": [
    "putLiquData = readtable(\"../data/chart_data/putLiquidityData.csv\")\n",
    "\n",
    "head(putLiquData)"
   ]
  },
  {
   "cell_type": "markdown",
   "metadata": {},
   "source": [
    "- calculate moneyness"
   ]
  },
  {
   "cell_type": "code",
   "execution_count": 4,
   "metadata": {
    "collapsed": false
   },
   "outputs": [
    {
     "data": {
      "text/html": [
       "<table class=\"data-frame\"><tr><th></th><th>Date</th><th>ID</th><th>Bid</th><th>Ask</th><th>Volume</th><th>Open_Interest</th><th>Expiry</th><th>Strike</th><th>IsCall</th><th>DAX</th><th>VolRanks</th><th>DeltaOI</th><th>OiRanks</th><th>mnyness</th></tr><tr><th>1</th><td>2006-07-03</td><td>p_20060721_4200</td><td>NA</td><td>NA</td><td>0</td><td>1337</td><td>2006-07-21</td><td>4200</td><td>false</td><td>5712.69</td><td>0.0</td><td>1337.0</td><td>0.5011194343079209</td><td>-1512.6899999999996</td></tr><tr><th>2</th><td>2006-07-03</td><td>p_20060721_4300</td><td>NA</td><td>NA</td><td>0</td><td>3260</td><td>2006-07-21</td><td>4300</td><td>false</td><td>5712.69</td><td>0.0</td><td>3260.0</td><td>0.6202273434298045</td><td>-1412.6899999999996</td></tr><tr><th>3</th><td>2006-07-03</td><td>p_20060721_4400</td><td>NA</td><td>NA</td><td>0</td><td>5565</td><td>2006-07-21</td><td>4400</td><td>false</td><td>5712.69</td><td>0.0</td><td>5565.0</td><td>0.6946808353044002</td><td>-1312.6899999999996</td></tr><tr><th>4</th><td>2006-07-03</td><td>p_20060721_4500</td><td>NA</td><td>NA</td><td>0</td><td>4252</td><td>2006-07-21</td><td>4500</td><td>false</td><td>5712.69</td><td>0.0</td><td>4252.0</td><td>0.654867588747389</td><td>-1212.6899999999996</td></tr><tr><th>5</th><td>2006-07-03</td><td>p_20060721_4600</td><td>NA</td><td>NA</td><td>0</td><td>5335</td><td>2006-07-21</td><td>4600</td><td>false</td><td>5712.69</td><td>0.0</td><td>5335.0</td><td>0.6879854626616563</td><td>-1112.6899999999996</td></tr><tr><th>6</th><td>2006-07-03</td><td>p_20060721_4700</td><td>NA</td><td>NA</td><td>150</td><td>3380</td><td>2006-07-21</td><td>4700</td><td>false</td><td>5712.69</td><td>0.5902119355387291</td><td>3380.0</td><td>0.6248482813449013</td><td>-1012.6899999999996</td></tr></table>"
      ],
      "text/plain": [
       "6x14 DataFrame\n",
       "| Row | Date         | ID                | Bid | Ask | Volume | Open_Interest |\n",
       "|-----|--------------|-------------------|-----|-----|--------|---------------|\n",
       "| 1   | \"2006-07-03\" | \"p_20060721_4200\" | NA  | NA  | 0      | 1337          |\n",
       "| 2   | \"2006-07-03\" | \"p_20060721_4300\" | NA  | NA  | 0      | 3260          |\n",
       "| 3   | \"2006-07-03\" | \"p_20060721_4400\" | NA  | NA  | 0      | 5565          |\n",
       "| 4   | \"2006-07-03\" | \"p_20060721_4500\" | NA  | NA  | 0      | 4252          |\n",
       "| 5   | \"2006-07-03\" | \"p_20060721_4600\" | NA  | NA  | 0      | 5335          |\n",
       "| 6   | \"2006-07-03\" | \"p_20060721_4700\" | NA  | NA  | 150    | 3380          |\n",
       "\n",
       "| Row | Expiry       | Strike | IsCall | DAX     | VolRanks | DeltaOI |\n",
       "|-----|--------------|--------|--------|---------|----------|---------|\n",
       "| 1   | \"2006-07-21\" | 4200   | false  | 5712.69 | 0.0      | 1337.0  |\n",
       "| 2   | \"2006-07-21\" | 4300   | false  | 5712.69 | 0.0      | 3260.0  |\n",
       "| 3   | \"2006-07-21\" | 4400   | false  | 5712.69 | 0.0      | 5565.0  |\n",
       "| 4   | \"2006-07-21\" | 4500   | false  | 5712.69 | 0.0      | 4252.0  |\n",
       "| 5   | \"2006-07-21\" | 4600   | false  | 5712.69 | 0.0      | 5335.0  |\n",
       "| 6   | \"2006-07-21\" | 4700   | false  | 5712.69 | 0.590212 | 3380.0  |\n",
       "\n",
       "| Row | OiRanks  | mnyness  |\n",
       "|-----|----------|----------|\n",
       "| 1   | 0.501119 | -1512.69 |\n",
       "| 2   | 0.620227 | -1412.69 |\n",
       "| 3   | 0.694681 | -1312.69 |\n",
       "| 4   | 0.654868 | -1212.69 |\n",
       "| 5   | 0.687985 | -1112.69 |\n",
       "| 6   | 0.624848 | -1012.69 |"
      ]
     },
     "execution_count": 4,
     "metadata": {},
     "output_type": "execute_result"
    }
   ],
   "source": [
    "nObs = size(putLiquData, 1)\n",
    "\n",
    "mnyness = zeros(nObs)\n",
    "for ii=1:nObs\n",
    "    mnyness[ii] = putLiquData[ii, :Strike] - putLiquData[ii, :DAX]\n",
    "end\n",
    "\n",
    "putLiquData[:mnyness] = mnyness\n",
    "\n",
    "head(putLiquData)"
   ]
  },
  {
   "cell_type": "markdown",
   "metadata": {},
   "source": [
    "- attach time to maturity"
   ]
  },
  {
   "cell_type": "code",
   "execution_count": 5,
   "metadata": {
    "collapsed": false
   },
   "outputs": [
    {
     "name": "stdout",
     "output_type": "stream",
     "text": [
      "elapsed time: 36.223402325 seconds (2776011524 bytes allocated, 73.04% gc time)\n",
      "elapsed time: 34.738824491 seconds (2775935732 bytes allocated, 71.93% gc time)\n"
     ]
    },
    {
     "data": {
      "text/plain": [
       "1037251-element Array{Date,1}:\n",
       " 2006-07-21\n",
       " 2006-07-21\n",
       " 2006-07-21\n",
       " 2006-07-21\n",
       " 2006-07-21\n",
       " 2006-07-21\n",
       " 2006-07-21\n",
       " 2006-07-21\n",
       " 2006-07-21\n",
       " 2006-07-21\n",
       " 2006-07-21\n",
       " 2006-07-21\n",
       " 2006-07-21\n",
       " ⋮         \n",
       " 2014-12-19\n",
       " 2014-12-19\n",
       " 2014-12-19\n",
       " 2014-12-19\n",
       " 2014-12-19\n",
       " 2014-12-19\n",
       " 2014-12-19\n",
       " 2014-12-19\n",
       " 2014-12-19\n",
       " 2014-12-19\n",
       " 2014-12-19\n",
       " 2014-12-19"
      ]
     },
     "execution_count": 5,
     "metadata": {},
     "output_type": "execute_result"
    }
   ],
   "source": [
    "function convertColToDates!(df::DataFrame, col::Symbol)\n",
    "    dats = Date(convert(Array, df[:, col]))\n",
    "    df[col] = dats\n",
    "end\n",
    "\n",
    "@time convertColToDates!(putLiquData, :Date)\n",
    "@time convertColToDates!(putLiquData, :Expiry)"
   ]
  },
  {
   "cell_type": "code",
   "execution_count": 6,
   "metadata": {
    "collapsed": false,
    "scrolled": true
   },
   "outputs": [
    {
     "data": {
      "text/html": [
       "<table class=\"data-frame\"><tr><th></th><th>Date</th><th>ID</th><th>Bid</th><th>Ask</th><th>Volume</th><th>Open_Interest</th><th>Expiry</th><th>Strike</th><th>IsCall</th><th>DAX</th><th>VolRanks</th><th>DeltaOI</th><th>OiRanks</th><th>mnyness</th><th>EONIA_matched</th><th>Time_to_Maturity</th></tr><tr><th>1</th><td>2006-07-03</td><td>p_20060721_4200</td><td>NA</td><td>NA</td><td>0</td><td>1337</td><td>2006-07-21</td><td>4200</td><td>false</td><td>5712.69</td><td>0.0</td><td>1337.0</td><td>0.5011194343079209</td><td>-1512.6899999999996</td><td>0.0283102283088403</td><td>0.0549019607843137</td></tr><tr><th>2</th><td>2006-07-03</td><td>p_20060721_4300</td><td>NA</td><td>NA</td><td>0</td><td>3260</td><td>2006-07-21</td><td>4300</td><td>false</td><td>5712.69</td><td>0.0</td><td>3260.0</td><td>0.6202273434298045</td><td>-1412.6899999999996</td><td>0.0283102283088403</td><td>0.0549019607843137</td></tr><tr><th>3</th><td>2006-07-03</td><td>p_20060721_4400</td><td>NA</td><td>NA</td><td>0</td><td>5565</td><td>2006-07-21</td><td>4400</td><td>false</td><td>5712.69</td><td>0.0</td><td>5565.0</td><td>0.6946808353044002</td><td>-1312.6899999999996</td><td>0.0283102283088403</td><td>0.0549019607843137</td></tr><tr><th>4</th><td>2006-07-03</td><td>p_20060721_4500</td><td>NA</td><td>NA</td><td>0</td><td>4252</td><td>2006-07-21</td><td>4500</td><td>false</td><td>5712.69</td><td>0.0</td><td>4252.0</td><td>0.654867588747389</td><td>-1212.6899999999996</td><td>0.0283102283088403</td><td>0.0549019607843137</td></tr><tr><th>5</th><td>2006-07-03</td><td>p_20060721_4600</td><td>NA</td><td>NA</td><td>0</td><td>5335</td><td>2006-07-21</td><td>4600</td><td>false</td><td>5712.69</td><td>0.0</td><td>5335.0</td><td>0.6879854626616563</td><td>-1112.6899999999996</td><td>0.0283102283088403</td><td>0.0549019607843137</td></tr><tr><th>6</th><td>2006-07-03</td><td>p_20060721_4700</td><td>NA</td><td>NA</td><td>150</td><td>3380</td><td>2006-07-21</td><td>4700</td><td>false</td><td>5712.69</td><td>0.5902119355387291</td><td>3380.0</td><td>0.6248482813449013</td><td>-1012.6899999999996</td><td>0.0283102283088403</td><td>0.0549019607843137</td></tr><tr><th>7</th><td>2006-07-03</td><td>p_20060721_4800</td><td>NA</td><td>NA</td><td>64</td><td>18200</td><td>2006-07-21</td><td>4800</td><td>false</td><td>5712.69</td><td>0.4646165140333419</td><td>18200.0</td><td>0.8744134944423321</td><td>-912.6899999999996</td><td>0.0283102283088403</td><td>0.0549019607843137</td></tr><tr><th>8</th><td>2006-07-03</td><td>p_20060721_4850</td><td>NA</td><td>NA</td><td>104</td><td>4130</td><td>2006-07-21</td><td>4850</td><td>false</td><td>5712.69</td><td>0.5447031269205448</td><td>4130.0</td><td>0.6515561963923304</td><td>-862.6899999999996</td><td>0.0283102283088403</td><td>0.0549019607843137</td></tr><tr><th>9</th><td>2006-07-03</td><td>p_20060721_4900</td><td>NA</td><td>NA</td><td>1282</td><td>20927</td><td>2006-07-21</td><td>4900</td><td>false</td><td>5712.69</td><td>0.8384932321053633</td><td>20927.0</td><td>0.8931352555144608</td><td>-812.6899999999996</td><td>0.0283102283088403</td><td>0.0549019607843137</td></tr><tr><th>10</th><td>2006-07-03</td><td>p_20060721_4950</td><td>NA</td><td>NA</td><td>0</td><td>4855</td><td>2006-07-21</td><td>4950</td><td>false</td><td>5712.69</td><td>0.0</td><td>4855.0</td><td>0.6742569612814979</td><td>-762.6899999999996</td><td>0.0283102283088403</td><td>0.0549019607843137</td></tr><tr><th>11</th><td>2006-07-03</td><td>p_20060721_5000</td><td>NA</td><td>NA</td><td>1315</td><td>23879</td><td>2006-07-21</td><td>5000</td><td>false</td><td>5712.69</td><td>0.8405709984896625</td><td>23879.0</td><td>0.9095075377876976</td><td>-712.6899999999996</td><td>0.0283102283088403</td><td>0.0549019607843137</td></tr><tr><th>12</th><td>2006-07-03</td><td>p_20060721_5050</td><td>NA</td><td>NA</td><td>211</td><td>12244</td><td>2006-07-21</td><td>5050</td><td>false</td><td>5712.69</td><td>0.6426090280128034</td><td>12244.0</td><td>0.8160799553608904</td><td>-662.6899999999996</td><td>0.0283102283088403</td><td>0.0549019607843137</td></tr><tr><th>13</th><td>2006-07-03</td><td>p_20060721_5100</td><td>NA</td><td>NA</td><td>4335</td><td>22622</td><td>2006-07-21</td><td>5100</td><td>false</td><td>5712.69</td><td>0.9421424566472528</td><td>22622.0</td><td>0.902682296938962</td><td>-612.6899999999996</td><td>0.0283102283088403</td><td>0.0549019607843137</td></tr><tr><th>14</th><td>2006-07-03</td><td>p_20060721_5150</td><td>NA</td><td>NA</td><td>840</td><td>8779</td><td>2006-07-21</td><td>5150</td><td>false</td><td>5712.69</td><td>0.7930079962014255</td><td>8779.0</td><td>0.7651765565667389</td><td>-562.6899999999996</td><td>0.0283102283088403</td><td>0.0549019607843137</td></tr><tr><th>15</th><td>2006-07-03</td><td>p_20060721_5200</td><td>NA</td><td>NA</td><td>545</td><td>26831</td><td>2006-07-21</td><td>5200</td><td>false</td><td>5712.69</td><td>0.7517658488618588</td><td>26831.0</td><td>0.9236355196950319</td><td>-512.6899999999996</td><td>0.0283102283088403</td><td>0.0549019607843137</td></tr><tr><th>16</th><td>2006-07-03</td><td>p_20060721_5250</td><td>NA</td><td>NA</td><td>328</td><td>12310</td><td>2006-07-21</td><td>5250</td><td>false</td><td>5712.69</td><td>0.6952317450375227</td><td>12310.0</td><td>0.8170739656219601</td><td>-462.6899999999996</td><td>0.0283102283088403</td><td>0.0549019607843137</td></tr><tr><th>17</th><td>2006-07-03</td><td>p_20060721_5300</td><td>NA</td><td>NA</td><td>5715</td><td>43767</td><td>2006-07-21</td><td>5300</td><td>false</td><td>5712.69</td><td>0.9596620346283172</td><td>43767.0</td><td>0.9715988603200783</td><td>-412.6899999999996</td><td>0.0283102283088403</td><td>0.0549019607843137</td></tr><tr><th>18</th><td>2006-07-03</td><td>p_20060721_5350</td><td>NA</td><td>NA</td><td>1657</td><td>12263</td><td>2006-07-21</td><td>5350</td><td>false</td><td>5712.69</td><td>0.861747714709542</td><td>12263.0</td><td>0.8164863490245071</td><td>-362.6899999999996</td><td>0.0283102283088403</td><td>0.0549019607843137</td></tr><tr><th>19</th><td>2006-07-03</td><td>p_20060721_5400</td><td>NA</td><td>NA</td><td>2143</td><td>29874</td><td>2006-07-21</td><td>5400</td><td>false</td><td>5712.69</td><td>0.8863761498012315</td><td>29874.0</td><td>0.9362505123127898</td><td>-312.6899999999996</td><td>0.0283102283088403</td><td>0.0549019607843137</td></tr><tr><th>20</th><td>2006-07-03</td><td>p_20060721_5450</td><td>NA</td><td>NA</td><td>432</td><td>15743</td><td>2006-07-21</td><td>5450</td><td>false</td><td>5712.69</td><td>0.7227848804610822</td><td>15743.0</td><td>0.8534173114812382</td><td>-262.6899999999996</td><td>0.0283102283088403</td><td>0.0549019607843137</td></tr><tr><th>21</th><td>2006-07-03</td><td>p_20060721_5500</td><td>NA</td><td>NA</td><td>7162</td><td>34672</td><td>2006-07-21</td><td>5500</td><td>false</td><td>5712.69</td><td>0.9714635456393004</td><td>34672.0</td><td>0.9519003718279814</td><td>-212.6899999999996</td><td>0.0283102283088403</td><td>0.0549019607843137</td></tr><tr><th>22</th><td>2006-07-03</td><td>p_20060721_5550</td><td>NA</td><td>NA</td><td>665</td><td>15148</td><td>2006-07-21</td><td>5550</td><td>false</td><td>5712.69</td><td>0.7724138627764953</td><td>15148.0</td><td>0.847273508367364</td><td>-162.6899999999996</td><td>0.0283102283088403</td><td>0.0549019607843137</td></tr><tr><th>23</th><td>2006-07-03</td><td>p_20060721_5600</td><td>NA</td><td>NA</td><td>1651</td><td>40722</td><td>2006-07-21</td><td>5600</td><td>false</td><td>5712.69</td><td>0.8614564233120674</td><td>40722.0</td><td>0.9662441423513553</td><td>-112.6899999999996</td><td>0.0283102283088403</td><td>0.0549019607843137</td></tr><tr><th>24</th><td>2006-07-03</td><td>p_20060721_5650</td><td>NA</td><td>NA</td><td>700</td><td>7749</td><td>2006-07-21</td><td>5650</td><td>false</td><td>5712.69</td><td>0.7765188825859941</td><td>7749.0</td><td>0.7451674707302741</td><td>-62.6899999999996</td><td>0.0283102283088403</td><td>0.0549019607843137</td></tr><tr><th>25</th><td>2006-07-03</td><td>p_20060721_5700</td><td>NA</td><td>NA</td><td>1459</td><td>8660</td><td>2006-07-21</td><td>5700</td><td>false</td><td>5712.69</td><td>0.8480603865588383</td><td>8660.0</td><td>0.7628226336087066</td><td>-12.6899999999996</td><td>0.0283102283088403</td><td>0.0549019607843137</td></tr><tr><th>26</th><td>2006-07-03</td><td>p_20060721_5750</td><td>NA</td><td>NA</td><td>446</td><td>3831</td><td>2006-07-21</td><td>5750</td><td>false</td><td>5712.69</td><td>0.7254873237729139</td><td>3831.0</td><td>0.6400315041503508</td><td>37.3100000000004</td><td>0.0283102283088403</td><td>0.0549019607843137</td></tr><tr><th>27</th><td>2006-07-03</td><td>p_20060721_5800</td><td>NA</td><td>NA</td><td>112</td><td>7592</td><td>2006-07-21</td><td>5800</td><td>false</td><td>5712.69</td><td>0.556745416369903</td><td>7592.0</td><td>0.7419029889439196</td><td>87.3100000000004</td><td>0.0283102283088403</td><td>0.0549019607843137</td></tr><tr><th>28</th><td>2006-07-03</td><td>p_20060721_5850</td><td>NA</td><td>NA</td><td>6</td><td>4018</td><td>2006-07-21</td><td>5850</td><td>false</td><td>5712.69</td><td>0.16828055570990072</td><td>4018.0</td><td>0.6468942734540498</td><td>137.3100000000004</td><td>0.0283102283088403</td><td>0.0549019607843137</td></tr><tr><th>29</th><td>2006-07-03</td><td>p_20060721_5900</td><td>NA</td><td>NA</td><td>50</td><td>7605</td><td>2006-07-21</td><td>5900</td><td>false</td><td>5712.69</td><td>0.39353972928421455</td><td>7605.0</td><td>0.7421755640378642</td><td>187.3100000000004</td><td>0.0283102283088403</td><td>0.0549019607843137</td></tr><tr><th>30</th><td>2006-07-03</td><td>p_20060721_5950</td><td>NA</td><td>NA</td><td>14</td><td>2526</td><td>2006-07-21</td><td>5950</td><td>false</td><td>5712.69</td><td>0.2558077274724831</td><td>2526.0</td><td>0.5835309338165945</td><td>237.3100000000004</td><td>0.0283102283088403</td><td>0.0549019607843137</td></tr><tr><th>&vellip;</th><td>&vellip;</td><td>&vellip;</td><td>&vellip;</td><td>&vellip;</td><td>&vellip;</td><td>&vellip;</td><td>&vellip;</td><td>&vellip;</td><td>&vellip;</td><td>&vellip;</td><td>&vellip;</td><td>&vellip;</td><td>&vellip;</td><td>&vellip;</td><td>&vellip;</td><td>&vellip;</td></tr></table>"
      ],
      "text/plain": [
       "1037251x16 DataFrame\n",
       "| Row     | Date       | ID                | Bid   | Ask   | Volume |\n",
       "|---------|------------|-------------------|-------|-------|--------|\n",
       "| 1       | 2006-07-03 | \"p_20060721_4200\" | NA    | NA    | 0      |\n",
       "| 2       | 2006-07-03 | \"p_20060721_4300\" | NA    | NA    | 0      |\n",
       "| 3       | 2006-07-03 | \"p_20060721_4400\" | NA    | NA    | 0      |\n",
       "| 4       | 2006-07-03 | \"p_20060721_4500\" | NA    | NA    | 0      |\n",
       "| 5       | 2006-07-03 | \"p_20060721_4600\" | NA    | NA    | 0      |\n",
       "| 6       | 2006-07-03 | \"p_20060721_4700\" | NA    | NA    | 150    |\n",
       "| 7       | 2006-07-03 | \"p_20060721_4800\" | NA    | NA    | 64     |\n",
       "| 8       | 2006-07-03 | \"p_20060721_4850\" | NA    | NA    | 104    |\n",
       "| 9       | 2006-07-03 | \"p_20060721_4900\" | NA    | NA    | 1282   |\n",
       "| 10      | 2006-07-03 | \"p_20060721_4950\" | NA    | NA    | 0      |\n",
       "| 11      | 2006-07-03 | \"p_20060721_5000\" | NA    | NA    | 1315   |\n",
       "⋮\n",
       "| 1037240 | 2013-12-30 | \"p_20141219_9100\" | 398.0 | 409.8 | 0      |\n",
       "| 1037241 | 2013-12-30 | \"p_20141219_9200\" | 431.0 | 443.0 | 2      |\n",
       "| 1037242 | 2013-12-30 | \"p_20141219_9250\" | NA    | NA    | 0      |\n",
       "| 1037243 | 2013-12-30 | \"p_20141219_9300\" | 466.4 | 477.5 | 0      |\n",
       "| 1037244 | 2013-12-30 | \"p_20141219_9400\" | 504.0 | 514.9 | 0      |\n",
       "| 1037245 | 2013-12-30 | \"p_20141219_9450\" | NA    | NA    | 0      |\n",
       "| 1037246 | 2013-12-30 | \"p_20141219_9500\" | 544.1 | 554.8 | 5      |\n",
       "| 1037247 | 2013-12-30 | \"p_20141219_9550\" | NA    | NA    | 0      |\n",
       "| 1037248 | 2013-12-30 | \"p_20141219_9600\" | 586.6 | 597.5 | 30     |\n",
       "| 1037249 | 2013-12-30 | \"p_20141219_9700\" | 630.9 | 643.0 | 0      |\n",
       "| 1037250 | 2013-12-30 | \"p_20141219_9800\" | 678.4 | 691.2 | 50     |\n",
       "| 1037251 | 2013-12-30 | \"p_20141219_9900\" | 729.6 | 745.8 | 50     |\n",
       "\n",
       "| Row     | Open_Interest | Expiry     | Strike | IsCall | DAX     | VolRanks  |\n",
       "|---------|---------------|------------|--------|--------|---------|-----------|\n",
       "| 1       | 1337          | 2006-07-21 | 4200   | false  | 5712.69 | 0.0       |\n",
       "| 2       | 3260          | 2006-07-21 | 4300   | false  | 5712.69 | 0.0       |\n",
       "| 3       | 5565          | 2006-07-21 | 4400   | false  | 5712.69 | 0.0       |\n",
       "| 4       | 4252          | 2006-07-21 | 4500   | false  | 5712.69 | 0.0       |\n",
       "| 5       | 5335          | 2006-07-21 | 4600   | false  | 5712.69 | 0.0       |\n",
       "| 6       | 3380          | 2006-07-21 | 4700   | false  | 5712.69 | 0.590212  |\n",
       "| 7       | 18200         | 2006-07-21 | 4800   | false  | 5712.69 | 0.464617  |\n",
       "| 8       | 4130          | 2006-07-21 | 4850   | false  | 5712.69 | 0.544703  |\n",
       "| 9       | 20927         | 2006-07-21 | 4900   | false  | 5712.69 | 0.838493  |\n",
       "| 10      | 4855          | 2006-07-21 | 4950   | false  | 5712.69 | 0.0       |\n",
       "| 11      | 23879         | 2006-07-21 | 5000   | false  | 5712.69 | 0.840571  |\n",
       "⋮\n",
       "| 1037240 | 497           | 2014-12-19 | 9100   | false  | 9552.16 | 0.0       |\n",
       "| 1037241 | 8874          | 2014-12-19 | 9200   | false  | 9552.16 | 0.0997008 |\n",
       "| 1037242 | 10            | 2014-12-19 | 9250   | false  | 9552.16 | 0.0       |\n",
       "| 1037243 | 1678          | 2014-12-19 | 9300   | false  | 9552.16 | 0.0       |\n",
       "| 1037244 | 1671          | 2014-12-19 | 9400   | false  | 9552.16 | 0.0       |\n",
       "| 1037245 | 3             | 2014-12-19 | 9450   | false  | 9552.16 | 0.0       |\n",
       "| 1037246 | 4210          | 2014-12-19 | 9500   | false  | 9552.16 | 0.168277  |\n",
       "| 1037247 | 1             | 2014-12-19 | 9550   | false  | 9552.16 | 0.0       |\n",
       "| 1037248 | 158           | 2014-12-19 | 9600   | false  | 9552.16 | 0.348044  |\n",
       "| 1037249 | 452           | 2014-12-19 | 9700   | false  | 9552.16 | 0.0       |\n",
       "| 1037250 | 64            | 2014-12-19 | 9800   | false  | 9552.16 | 0.428005  |\n",
       "| 1037251 | 51            | 2014-12-19 | 9900   | false  | 9552.16 | 0.428006  |\n",
       "\n",
       "| Row     | DeltaOI | OiRanks   | mnyness  | EONIA_matched | Time_to_Maturity |\n",
       "|---------|---------|-----------|----------|---------------|------------------|\n",
       "| 1       | 1337.0  | 0.501119  | -1512.69 | 0.0283102     | 0.054902         |\n",
       "| 2       | 3260.0  | 0.620227  | -1412.69 | 0.0283102     | 0.054902         |\n",
       "| 3       | 5565.0  | 0.694681  | -1312.69 | 0.0283102     | 0.054902         |\n",
       "| 4       | 4252.0  | 0.654868  | -1212.69 | 0.0283102     | 0.054902         |\n",
       "| 5       | 5335.0  | 0.687985  | -1112.69 | 0.0283102     | 0.054902         |\n",
       "| 6       | 3380.0  | 0.624848  | -1012.69 | 0.0283102     | 0.054902         |\n",
       "| 7       | 18200.0 | 0.874413  | -912.69  | 0.0283102     | 0.054902         |\n",
       "| 8       | 4130.0  | 0.651556  | -862.69  | 0.0283102     | 0.054902         |\n",
       "| 9       | 20927.0 | 0.893135  | -812.69  | 0.0283102     | 0.054902         |\n",
       "| 10      | 4855.0  | 0.674257  | -762.69  | 0.0283102     | 0.054902         |\n",
       "| 11      | 23879.0 | 0.909508  | -712.69  | 0.0283102     | 0.054902         |\n",
       "⋮\n",
       "| 1037240 | 0.0     | 0.364819  | -452.16  | 0.00553263    | 0.988235         |\n",
       "| 1037241 | 0.0     | 0.767259  | -352.16  | 0.00553263    | 0.988235         |\n",
       "| 1037242 | 0.0     | 0.0642853 | -302.16  | 0.00553263    | 0.988235         |\n",
       "| 1037243 | 0.0     | 0.529706  | -252.16  | 0.00553263    | 0.988235         |\n",
       "| 1037244 | 0.0     | 0.529075  | -152.16  | 0.00553263    | 0.988235         |\n",
       "| 1037245 | 0.0     | 0.035176  | -102.16  | 0.00553263    | 0.988235         |\n",
       "| 1037246 | 5.0     | 0.653665  | -52.16   | 0.00553263    | 0.988235         |\n",
       "| 1037247 | 0.0     | 0.0159684 | -2.16    | 0.00553263    | 0.988235         |\n",
       "| 1037248 | 6.0     | 0.234012  | 47.84    | 0.00553263    | 0.988235         |\n",
       "| 1037249 | 0.0     | 0.354314  | 147.84   | 0.00553263    | 0.988235         |\n",
       "| 1037250 | 50.0    | 0.149     | 247.84   | 0.00553263    | 0.988235         |\n",
       "| 1037251 | 50.0    | 0.133827  | 347.84   | 0.00553263    | 0.988235         |"
      ]
     },
     "execution_count": 6,
     "metadata": {},
     "output_type": "execute_result"
    }
   ],
   "source": [
    "fullData = join(putLiquData, cohortParams, on = [:Date, :Expiry])"
   ]
  },
  {
   "cell_type": "markdown",
   "metadata": {},
   "source": [
    "- define function to evaluate local properties"
   ]
  },
  {
   "cell_type": "code",
   "execution_count": 7,
   "metadata": {
    "collapsed": false
   },
   "outputs": [
    {
     "data": {
      "text/plain": [
       "localAppl (generic function with 1 method)"
      ]
     },
     "execution_count": 7,
     "metadata": {},
     "output_type": "execute_result"
    }
   ],
   "source": [
    "function localAppl(df::DataFrame, xCol::Symbol, yCol::Symbol,\n",
    "                   xE::Array{Float64, 1}, yE::Array{Float64, 1},\n",
    "                   aggrFunc::Function)\n",
    "\n",
    "    ## calculate interval midpoints\n",
    "    xMids = midpoints(xE)\n",
    "    yMids = midpoints(yE)\n",
    "\n",
    "    ## get grid dimensions\n",
    "    n = length(xE) - 1\n",
    "    m = length(yE) - 1\n",
    "\n",
    "    ## preallocation\n",
    "    xInds = zeros(Int64, nObs)\n",
    "    yInds = zeros(Int64, nObs)\n",
    "    \n",
    "    # find respective grid interval\n",
    "    for ii = 1:nObs\n",
    "        x = searchsortedfirst(xE, df[ii, xCol]) - 1\n",
    "        y = searchsortedfirst(yE, df[ii, yCol]) - 1\n",
    "\n",
    "        xInds[ii] = x\n",
    "        yInds[ii] = y\n",
    "    end\n",
    "    extDf = [df DataFrame(xInds = xInds, yInds = yInds)]\n",
    "\n",
    "    # group by grid interval, apply function\n",
    "    res = by(extDf, [:xInds, :yInds], aggrFunc)\n",
    "    \n",
    "    # translate interval indices to values\n",
    "    nIntervals = size(res, 1)\n",
    "    \n",
    "    xVals = zeros(nIntervals)\n",
    "    yVals = zeros(nIntervals)\n",
    "    for ii=1:nIntervals\n",
    "        xVals[ii] = xMids[res[ii, :xInds]]\n",
    "        yVals[ii] = yMids[res[ii, :yInds]]\n",
    "    end\n",
    "\n",
    "    # rename results\n",
    "    finalDf = DataFrame(x = xVals, y = yVals, vals = res[:x1])\n",
    "    names!(finalDf, [xCol, yCol, :value])\n",
    "\n",
    "    return finalDf\n",
    "\n",
    "end\n"
   ]
  },
  {
   "cell_type": "markdown",
   "metadata": {},
   "source": [
    "- where are observations?"
   ]
  },
  {
   "cell_type": "code",
   "execution_count": 8,
   "metadata": {
    "collapsed": false
   },
   "outputs": [
    {
     "data": {
      "text/plain": [
       "countObs (generic function with 1 method)"
      ]
     },
     "execution_count": 8,
     "metadata": {},
     "output_type": "execute_result"
    }
   ],
   "source": [
    "xEdges = [0:0.5:5]\n",
    "yEdges = Float64[-10000:500:13000]\n",
    "\n",
    "xCol = :Time_to_Maturity\n",
    "yCol = :mnyness\n",
    "\n",
    "function countObs(df::SubDataFrame)\n",
    "    return size(df, 1)\n",
    "end"
   ]
  },
  {
   "cell_type": "code",
   "execution_count": 9,
   "metadata": {
    "collapsed": false
   },
   "outputs": [
    {
     "data": {
      "text/html": [
       "<table class=\"data-frame\"><tr><th></th><th>Time_to_Maturity</th><th>mnyness</th><th>value</th></tr><tr><th>1</th><td>0.25</td><td>-8750.0</td><td>2</td></tr><tr><th>2</th><td>0.25</td><td>-8250.0</td><td>52</td></tr><tr><th>3</th><td>0.25</td><td>-7750.0</td><td>77</td></tr><tr><th>4</th><td>0.25</td><td>-7250.0</td><td>261</td></tr><tr><th>5</th><td>0.25</td><td>-6750.0</td><td>471</td></tr><tr><th>6</th><td>0.25</td><td>-6250.0</td><td>1230</td></tr><tr><th>7</th><td>0.25</td><td>-5750.0</td><td>1980</td></tr><tr><th>8</th><td>0.25</td><td>-5250.0</td><td>2932</td></tr><tr><th>9</th><td>0.25</td><td>-4750.0</td><td>4078</td></tr><tr><th>10</th><td>0.25</td><td>-4250.0</td><td>6130</td></tr><tr><th>11</th><td>0.25</td><td>-3750.0</td><td>8896</td></tr><tr><th>12</th><td>0.25</td><td>-3250.0</td><td>12187</td></tr><tr><th>13</th><td>0.25</td><td>-2750.0</td><td>17739</td></tr><tr><th>14</th><td>0.25</td><td>-2250.0</td><td>28236</td></tr><tr><th>15</th><td>0.25</td><td>-1750.0</td><td>46335</td></tr><tr><th>16</th><td>0.25</td><td>-1250.0</td><td>63841</td></tr><tr><th>17</th><td>0.25</td><td>-750.0</td><td>72170</td></tr><tr><th>18</th><td>0.25</td><td>-250.0</td><td>74529</td></tr><tr><th>19</th><td>0.25</td><td>250.0</td><td>66697</td></tr><tr><th>20</th><td>0.25</td><td>750.0</td><td>38777</td></tr><tr><th>21</th><td>0.25</td><td>1250.0</td><td>22764</td></tr><tr><th>22</th><td>0.25</td><td>1750.0</td><td>14725</td></tr><tr><th>23</th><td>0.25</td><td>2250.0</td><td>9589</td></tr><tr><th>24</th><td>0.25</td><td>2750.0</td><td>6456</td></tr><tr><th>25</th><td>0.25</td><td>3250.0</td><td>4271</td></tr><tr><th>26</th><td>0.25</td><td>3750.0</td><td>2595</td></tr><tr><th>27</th><td>0.25</td><td>4250.0</td><td>1610</td></tr><tr><th>28</th><td>0.25</td><td>4750.0</td><td>888</td></tr><tr><th>29</th><td>0.25</td><td>5250.0</td><td>597</td></tr><tr><th>30</th><td>0.25</td><td>5750.0</td><td>355</td></tr><tr><th>&vellip;</th><td>&vellip;</td><td>&vellip;</td><td>&vellip;</td></tr></table>"
      ],
      "text/plain": [
       "310x3 DataFrame\n",
       "| Row | Time_to_Maturity | mnyness | value |\n",
       "|-----|------------------|---------|-------|\n",
       "| 1   | 0.25             | -8750.0 | 2     |\n",
       "| 2   | 0.25             | -8250.0 | 52    |\n",
       "| 3   | 0.25             | -7750.0 | 77    |\n",
       "| 4   | 0.25             | -7250.0 | 261   |\n",
       "| 5   | 0.25             | -6750.0 | 471   |\n",
       "| 6   | 0.25             | -6250.0 | 1230  |\n",
       "| 7   | 0.25             | -5750.0 | 1980  |\n",
       "| 8   | 0.25             | -5250.0 | 2932  |\n",
       "| 9   | 0.25             | -4750.0 | 4078  |\n",
       "| 10  | 0.25             | -4250.0 | 6130  |\n",
       "| 11  | 0.25             | -3750.0 | 8896  |\n",
       "⋮\n",
       "| 299 | 4.75             | -2250.0 | 201   |\n",
       "| 300 | 4.75             | -1750.0 | 258   |\n",
       "| 301 | 4.75             | -1250.0 | 313   |\n",
       "| 302 | 4.75             | -750.0  | 511   |\n",
       "| 303 | 4.75             | -250.0  | 517   |\n",
       "| 304 | 4.75             | 250.0   | 413   |\n",
       "| 305 | 4.75             | 750.0   | 277   |\n",
       "| 306 | 4.75             | 1250.0  | 230   |\n",
       "| 307 | 4.75             | 1750.0  | 108   |\n",
       "| 308 | 4.75             | 2250.0  | 152   |\n",
       "| 309 | 4.75             | 2750.0  | 52    |\n",
       "| 310 | 4.75             | 3250.0  | 1     |"
      ]
     },
     "execution_count": 9,
     "metadata": {},
     "output_type": "execute_result"
    }
   ],
   "source": [
    "res = localAppl(fullData, xCol, yCol, xEdges, yEdges, countObs)"
   ]
  },
  {
   "cell_type": "code",
   "execution_count": 10,
   "metadata": {
    "collapsed": true
   },
   "outputs": [],
   "source": [
    "using Gadfly"
   ]
  },
  {
   "cell_type": "code",
   "execution_count": 11,
   "metadata": {
    "collapsed": false
   },
   "outputs": [],
   "source": [
    "# plot(res, x=xCol, y=yCol, color=:value, Geom.rectbin)"
   ]
  },
  {
   "cell_type": "markdown",
   "metadata": {},
   "source": [
    "- "
   ]
  },
  {
   "cell_type": "code",
   "execution_count": 12,
   "metadata": {
    "collapsed": false
   },
   "outputs": [],
   "source": [
    "# Gadfly.plot(fullData, x=\"Time_to_Maturity\", y=\"mnyness\", Geom.hexbin(xbincount=100, ybincount=100))"
   ]
  },
  {
   "cell_type": "code",
   "execution_count": 13,
   "metadata": {
    "collapsed": false
   },
   "outputs": [],
   "source": [
    "# Gadfly.plot(fullData, x=\"Time_to_Maturity\", y=\"mnyness\", Stat.BinMeanStatistic, Geom.hexbin(xbincount=20, ybincount=20))"
   ]
  },
  {
   "cell_type": "code",
   "execution_count": 14,
   "metadata": {
    "collapsed": false
   },
   "outputs": [],
   "source": [
    "# Gadfly.plot(fullData, x=\"Time_to_Maturity\", y=\"mnyness\", Geom.histogram2d)"
   ]
  },
  {
   "cell_type": "code",
   "execution_count": 15,
   "metadata": {
    "collapsed": false,
    "scrolled": true
   },
   "outputs": [],
   "source": [
    "# Gadfly.plot(fullData, x=\"Time_to_Maturity\", y=\"mnyness\", Stat.histogram2d(xbincount = 50, ybincount = 50), Geom.rectbin)"
   ]
  }
 ],
 "metadata": {
  "kernelspec": {
   "display_name": "Julia 0.3.6",
   "language": "julia",
   "name": "julia-0.3"
  },
  "language_info": {
   "name": "julia",
   "version": "0.3.6"
  }
 },
 "nbformat": 4,
 "nbformat_minor": 0
}
