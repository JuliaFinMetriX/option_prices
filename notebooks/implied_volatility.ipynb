{
 "cells": [
  {
   "cell_type": "markdown",
   "metadata": {},
   "source": [
    "The script\n",
    "- recalculates implied volatilites in Julia based on the results from MATLAB\n",
    "- calculates moneyness measures"
   ]
  },
  {
   "cell_type": "markdown",
   "metadata": {},
   "source": [
    "## Implied volatility"
   ]
  },
  {
   "cell_type": "markdown",
   "metadata": {},
   "source": [
    "- re-calculate implied volatilities in Julia and join them with dates and option IDs"
   ]
  },
  {
   "cell_type": "code",
   "execution_count": 1,
   "metadata": {
    "collapsed": false
   },
   "outputs": [
    {
     "name": "stdout",
     "output_type": "stream",
     "text": [
      "elapsed time: 0.521153522 seconds (52396148 bytes allocated, 7.33% gc time)\n",
      "elapsed time: 52.980657877 seconds (5419744236 bytes allocated, 65.55% gc time)\n",
      "elapsed time: 0.728349379 seconds (112671656 bytes allocated, 49.54% gc time)\n",
      "elapsed time: 67.373304003 seconds (5419744236 bytes allocated, 72.28% gc time)\n",
      "elapsed time: 143.792628095 seconds (14793920072 bytes allocated, 60.31% gc time)\n"
     ]
    },
    {
     "data": {
      "text/html": [
       "<table class=\"data-frame\"><tr><th></th><th>Date</th><th>ID</th><th>Bid</th><th>Ask</th><th>Volume</th><th>Open_Interest</th></tr><tr><th>1</th><td>2006-07-03</td><td>c_20061215_1800</td><td>NA</td><td>NA</td><td>1</td><td>104</td></tr><tr><th>2</th><td>2006-07-03</td><td>p_20061215_1800</td><td>NA</td><td>NA</td><td>0</td><td>5515</td></tr><tr><th>3</th><td>2006-07-03</td><td>c_20061215_2000</td><td>NA</td><td>NA</td><td>0</td><td>2152</td></tr><tr><th>4</th><td>2006-07-03</td><td>p_20061215_2000</td><td>NA</td><td>NA</td><td>0</td><td>20941</td></tr><tr><th>5</th><td>2006-07-03</td><td>c_20061215_2200</td><td>NA</td><td>NA</td><td>0</td><td>2</td></tr><tr><th>6</th><td>2006-07-03</td><td>p_20061215_2200</td><td>NA</td><td>NA</td><td>0</td><td>4626</td></tr></table>"
      ],
      "text/plain": [
       "6x6 DataFrame\n",
       "| Row | Date       | ID                | Bid | Ask | Volume | Open_Interest |\n",
       "|-----|------------|-------------------|-----|-----|--------|---------------|\n",
       "| 1   | 2006-07-03 | \"c_20061215_1800\" | NA  | NA  | 1      | 104           |\n",
       "| 2   | 2006-07-03 | \"p_20061215_1800\" | NA  | NA  | 0      | 5515          |\n",
       "| 3   | 2006-07-03 | \"c_20061215_2000\" | NA  | NA  | 0      | 2152          |\n",
       "| 4   | 2006-07-03 | \"p_20061215_2000\" | NA  | NA  | 0      | 20941         |\n",
       "| 5   | 2006-07-03 | \"c_20061215_2200\" | NA  | NA  | 0      | 2             |\n",
       "| 6   | 2006-07-03 | \"p_20061215_2200\" | NA  | NA  | 0      | 4626          |"
      ]
     },
     "execution_count": 1,
     "metadata": {},
     "output_type": "execute_result"
    }
   ],
   "source": [
    "@time include(\"../startup_script.jl\")"
   ]
  },
  {
   "cell_type": "code",
   "execution_count": 2,
   "metadata": {
    "collapsed": true
   },
   "outputs": [],
   "source": [
    "using Econometrics"
   ]
  },
  {
   "cell_type": "markdown",
   "metadata": {},
   "source": [
    "- load implied volatilites calculated in Matlab and attach metadata"
   ]
  },
  {
   "cell_type": "code",
   "execution_count": 3,
   "metadata": {
    "collapsed": false
   },
   "outputs": [
    {
     "data": {
      "text/html": [
       "<table class=\"data-frame\"><tr><th></th><th>Date</th><th>ID</th><th>IV_Matlab</th></tr><tr><th>1</th><td>2006-07-03</td><td>c_20061215_1800</td><td>NA</td></tr><tr><th>2</th><td>2006-07-03</td><td>p_20061215_1800</td><td>0.50594</td></tr><tr><th>3</th><td>2006-07-03</td><td>c_20061215_2000</td><td>NA</td></tr><tr><th>4</th><td>2006-07-03</td><td>p_20061215_2000</td><td>0.46166</td></tr><tr><th>5</th><td>2006-07-03</td><td>c_20061215_2200</td><td>NA</td></tr><tr><th>6</th><td>2006-07-03</td><td>p_20061215_2200</td><td>0.42165</td></tr></table>"
      ],
      "text/plain": [
       "6x3 DataFrame\n",
       "| Row | Date       | ID                | IV_Matlab |\n",
       "|-----|------------|-------------------|-----------|\n",
       "| 1   | 2006-07-03 | \"c_20061215_1800\" | NA        |\n",
       "| 2   | 2006-07-03 | \"p_20061215_1800\" | 0.50594   |\n",
       "| 3   | 2006-07-03 | \"c_20061215_2000\" | NA        |\n",
       "| 4   | 2006-07-03 | \"p_20061215_2000\" | 0.46166   |\n",
       "| 5   | 2006-07-03 | \"c_20061215_2200\" | NA        |\n",
       "| 6   | 2006-07-03 | \"p_20061215_2200\" | 0.42165   |"
      ]
     },
     "execution_count": 3,
     "metadata": {},
     "output_type": "execute_result"
    }
   ],
   "source": [
    "implVolasMatlab = readtable(\"../data/rel_data/implVolas_matlab.csv\", header = false, nastrings = [\"NaN\"])\n",
    "nObs = size(implVolasMatlab, 1)\n",
    "\n",
    "iv = optPrices[[:Date, :ID]]\n",
    "iv[:IV_Matlab] = implVolasMatlab[:x1]\n",
    "\n",
    "head(iv)"
   ]
  },
  {
   "cell_type": "markdown",
   "metadata": {},
   "source": [
    "- get all data in one table which is required for the calculation of implied volatilities"
   ]
  },
  {
   "cell_type": "code",
   "execution_count": 4,
   "metadata": {
    "collapsed": false
   },
   "outputs": [
    {
     "data": {
      "text/html": [
       "<table class=\"data-frame\"><tr><th></th><th>Date</th><th>ID</th><th>Price</th><th>Expiry</th><th>Strike</th><th>IsCall</th><th>EONIA_matched</th><th>Time_to_Maturity</th><th>DAX</th><th>IV_Matlab</th></tr><tr><th>1</th><td>2006-07-03</td><td>c_20060721_4500</td><td>1212.0</td><td>2006-07-21</td><td>4500</td><td>true</td><td>0.0283102283088403</td><td>0.0549019607843137</td><td>5712.69</td><td>NA</td></tr><tr><th>2</th><td>2006-07-04</td><td>c_20060721_4500</td><td>1232.6</td><td>2006-07-21</td><td>4500</td><td>true</td><td>0.0282186257343229</td><td>0.0509803921568627</td><td>5729.01</td><td>NA</td></tr><tr><th>3</th><td>2006-07-05</td><td>c_20060721_4500</td><td>1131.1</td><td>2006-07-21</td><td>4500</td><td>true</td><td>0.0281095973321041</td><td>0.0470588235294118</td><td>5625.63</td><td>NA</td></tr><tr><th>4</th><td>2006-07-06</td><td>c_20060721_4500</td><td>1197.0</td><td>2006-07-21</td><td>4500</td><td>true</td><td>0.0281618489048387</td><td>0.0431372549019608</td><td>5695.47</td><td>NA</td></tr><tr><th>5</th><td>2006-07-07</td><td>c_20060721_4500</td><td>1185.1</td><td>2006-07-21</td><td>4500</td><td>true</td><td>0.0281130672686915</td><td>0.0392156862745098</td><td>5681.85</td><td>NA</td></tr><tr><th>6</th><td>2006-07-10</td><td>c_20060721_4500</td><td>1210.3</td><td>2006-07-21</td><td>4500</td><td>true</td><td>0.0281756309615022</td><td>0.0352941176470588</td><td>5706.32</td><td>NA</td></tr></table>"
      ],
      "text/plain": [
       "6x10 DataFrame\n",
       "| Row | Date       | ID                | Price  | Expiry     | Strike | IsCall |\n",
       "|-----|------------|-------------------|--------|------------|--------|--------|\n",
       "| 1   | 2006-07-03 | \"c_20060721_4500\" | 1212.0 | 2006-07-21 | 4500   | true   |\n",
       "| 2   | 2006-07-04 | \"c_20060721_4500\" | 1232.6 | 2006-07-21 | 4500   | true   |\n",
       "| 3   | 2006-07-05 | \"c_20060721_4500\" | 1131.1 | 2006-07-21 | 4500   | true   |\n",
       "| 4   | 2006-07-06 | \"c_20060721_4500\" | 1197.0 | 2006-07-21 | 4500   | true   |\n",
       "| 5   | 2006-07-07 | \"c_20060721_4500\" | 1185.1 | 2006-07-21 | 4500   | true   |\n",
       "| 6   | 2006-07-10 | \"c_20060721_4500\" | 1210.3 | 2006-07-21 | 4500   | true   |\n",
       "\n",
       "| Row | EONIA_matched | Time_to_Maturity | DAX     | IV_Matlab |\n",
       "|-----|---------------|------------------|---------|-----------|\n",
       "| 1   | 0.0283102     | 0.054902         | 5712.69 | NA        |\n",
       "| 2   | 0.0282186     | 0.0509804        | 5729.01 | NA        |\n",
       "| 3   | 0.0281096     | 0.0470588        | 5625.63 | NA        |\n",
       "| 4   | 0.0281618     | 0.0431373        | 5695.47 | NA        |\n",
       "| 5   | 0.0281131     | 0.0392157        | 5681.85 | NA        |\n",
       "| 6   | 0.0281756     | 0.0352941        | 5706.32 | NA        |"
      ]
     },
     "execution_count": 4,
     "metadata": {},
     "output_type": "execute_result"
    }
   ],
   "source": [
    "ivData = join(optPrices, opts, on = :ID) |>\n",
    "x -> join(x, cohortParams, on = [:Date, :Expiry]) |>\n",
    "x -> join(x, daxVals, on = :Date) |>\n",
    "x -> join(x, iv, on = [:Date, :ID])\n",
    "\n",
    "head(ivData)"
   ]
  },
  {
   "cell_type": "markdown",
   "metadata": {},
   "source": [
    "- define function to extract information required to calculate Black-Scholes prices"
   ]
  },
  {
   "cell_type": "code",
   "execution_count": 5,
   "metadata": {
    "collapsed": false
   },
   "outputs": [
    {
     "data": {
      "text/plain": [
       "(anonymous function)"
      ]
     },
     "execution_count": 5,
     "metadata": {},
     "output_type": "execute_result"
    }
   ],
   "source": [
    "bsPriceInputExtractor = x -> (x[1, :DAX], x[1, :Strike], x[1, :EONIA_matched], x[1, :Time_to_Maturity])"
   ]
  },
  {
   "cell_type": "markdown",
   "metadata": {},
   "source": [
    "- in some cases the observed option price is so low that there simply is no volatility that could cause such a low option price \n",
    "- for example, even with volatility almost zero the first option would be still more worth in a Black-Scholes world than the real market price"
   ]
  },
  {
   "cell_type": "code",
   "execution_count": 6,
   "metadata": {
    "collapsed": false
   },
   "outputs": [
    {
     "data": {
      "text/plain": [
       "(1212.0,1219.678858946394)"
      ]
     },
     "execution_count": 6,
     "metadata": {},
     "output_type": "execute_result"
    }
   ],
   "source": [
    "(ivData[1, :Price], bsCall(0.0000000001, bsPriceInputExtractor(ivData[1, :])...))"
   ]
  },
  {
   "cell_type": "markdown",
   "metadata": {},
   "source": [
    "- for such cases, no implied volatility can be found\n",
    "- find cases where no implied volatility is possible"
   ]
  },
  {
   "cell_type": "code",
   "execution_count": 7,
   "metadata": {
    "collapsed": false
   },
   "outputs": [
    {
     "data": {
      "text/plain": [
       "0.9993888235429784"
      ]
     },
     "execution_count": 7,
     "metadata": {},
     "output_type": "execute_result"
    }
   ],
   "source": [
    "counter = 0\n",
    "otherInds = falses(nObs)\n",
    "currPrice = 0.\n",
    "for ii=1:nObs\n",
    "    if isna(ivData[ii, :IV_Matlab])\n",
    "        if ivData[ii, :IsCall]\n",
    "            currPrice = bsCall(0.0000000001, bsPriceInputExtractor(ivData[ii, :])...)\n",
    "        else\n",
    "            currPrice = bsPut(0.0000000001, bsPriceInputExtractor(ivData[ii, :])...)\n",
    "        end\n",
    "        if currPrice > ivData[ii, :Price]\n",
    "            counter += 1\n",
    "        else\n",
    "            otherInds[ii] = true\n",
    "        end\n",
    "    end\n",
    "end\n",
    "\n",
    "counter / sum(isna(ivData[:IV_Matlab]))"
   ]
  },
  {
   "cell_type": "markdown",
   "metadata": {},
   "source": [
    "- hence, this seems to be the reason in almost all cases of `NA` values for implied volatility"
   ]
  },
  {
   "cell_type": "markdown",
   "metadata": {},
   "source": [
    "- in other cases, however, the implied volatility would simply need to be higher than Matlab's default volatility limit"
   ]
  },
  {
   "cell_type": "code",
   "execution_count": 8,
   "metadata": {
    "collapsed": false
   },
   "outputs": [
    {
     "data": {
      "text/html": [
       "<table class=\"data-frame\"><tr><th></th><th>Date</th><th>ID</th><th>Price</th><th>Expiry</th><th>Strike</th><th>IsCall</th><th>EONIA_matched</th><th>Time_to_Maturity</th><th>DAX</th><th>IV_Matlab</th></tr><tr><th>1</th><td>2009-03-19</td><td>c_20090320_500</td><td>3545.4</td><td>2009-03-20</td><td>500</td><td>true</td><td>0.00926692907052475</td><td>0.00392156862745098</td><td>4043.46</td><td>NA</td></tr><tr><th>2</th><td>2009-06-18</td><td>c_20090619_1000</td><td>3840.9</td><td>2009-06-19</td><td>1000</td><td>true</td><td>0.00888045180593722</td><td>0.00392156862745098</td><td>4837.48</td><td>NA</td></tr><tr><th>3</th><td>2009-06-17</td><td>c_20090619_500</td><td>4307.797</td><td>2009-06-19</td><td>500</td><td>true</td><td>0.0089597413714718</td><td>0.00784313725490196</td><td>4799.98</td><td>NA</td></tr><tr><th>4</th><td>2009-06-18</td><td>c_20090619_500</td><td>4340.898</td><td>2009-06-19</td><td>500</td><td>true</td><td>0.00888045180593722</td><td>0.00392156862745098</td><td>4837.48</td><td>NA</td></tr><tr><th>5</th><td>2009-09-17</td><td>c_20090918_1000</td><td>4737.5</td><td>2009-09-18</td><td>1000</td><td>true</td><td>0.00339423306801562</td><td>0.00392156862745098</td><td>5731.14</td><td>NA</td></tr><tr><th>6</th><td>2009-09-17</td><td>c_20090918_500</td><td>5237.5</td><td>2009-09-18</td><td>500</td><td>true</td><td>0.00339423306801562</td><td>0.00392156862745098</td><td>5731.14</td><td>NA</td></tr><tr><th>7</th><td>2009-12-17</td><td>c_20091218_1000</td><td>4856.5</td><td>2009-12-18</td><td>1000</td><td>true</td><td>0.00376291136052792</td><td>0.00392156862745098</td><td>5844.44</td><td>NA</td></tr><tr><th>8</th><td>2009-12-17</td><td>c_20091218_1100</td><td>4756.5</td><td>2009-12-18</td><td>1100</td><td>true</td><td>0.00376291136052792</td><td>0.00392156862745098</td><td>5844.44</td><td>NA</td></tr><tr><th>9</th><td>2009-12-17</td><td>c_20091218_1200</td><td>4656.5</td><td>2009-12-18</td><td>1200</td><td>true</td><td>0.00376291136052792</td><td>0.00392156862745098</td><td>5844.44</td><td>NA</td></tr><tr><th>10</th><td>2009-12-17</td><td>c_20091218_1300</td><td>4556.5</td><td>2009-12-18</td><td>1300</td><td>true</td><td>0.00376291136052792</td><td>0.00392156862745098</td><td>5844.44</td><td>NA</td></tr><tr><th>11</th><td>2009-12-17</td><td>c_20091218_1500</td><td>4356.5</td><td>2009-12-18</td><td>1500</td><td>true</td><td>0.00376291136052792</td><td>0.00392156862745098</td><td>5844.44</td><td>NA</td></tr><tr><th>12</th><td>2009-12-17</td><td>c_20091218_500</td><td>5356.398</td><td>2009-12-18</td><td>500</td><td>true</td><td>0.00376291136052792</td><td>0.00392156862745098</td><td>5844.44</td><td>NA</td></tr><tr><th>13</th><td>2009-12-17</td><td>c_20091218_600</td><td>5256.398</td><td>2009-12-18</td><td>600</td><td>true</td><td>0.00376291136052792</td><td>0.00392156862745098</td><td>5844.44</td><td>NA</td></tr><tr><th>14</th><td>2009-12-17</td><td>c_20091218_800</td><td>5056.398</td><td>2009-12-18</td><td>800</td><td>true</td><td>0.00376291136052792</td><td>0.00392156862745098</td><td>5844.44</td><td>NA</td></tr><tr><th>15</th><td>2010-03-18</td><td>c_20100319_500</td><td>5513.0</td><td>2010-03-19</td><td>500</td><td>true</td><td>0.00335436781257367</td><td>0.00392156862745098</td><td>6012.31</td><td>NA</td></tr><tr><th>16</th><td>2010-06-16</td><td>c_20100618_500</td><td>5691.898</td><td>2010-06-18</td><td>500</td><td>true</td><td>0.00364335491479852</td><td>0.00784313725490196</td><td>6190.91</td><td>NA</td></tr><tr><th>17</th><td>2010-09-16</td><td>c_20100917_1000</td><td>5251.398</td><td>2010-09-17</td><td>1000</td><td>true</td><td>0.00501739181178316</td><td>0.00392156862745098</td><td>6249.65</td><td>NA</td></tr><tr><th>18</th><td>2010-09-15</td><td>c_20100917_500</td><td>5767.898</td><td>2010-09-17</td><td>500</td><td>true</td><td>0.00498754151103897</td><td>0.00784313725490196</td><td>6261.87</td><td>NA</td></tr><tr><th>19</th><td>2010-09-16</td><td>c_20100917_500</td><td>5751.398</td><td>2010-09-17</td><td>500</td><td>true</td><td>0.00501739181178316</td><td>0.00392156862745098</td><td>6249.65</td><td>NA</td></tr><tr><th>20</th><td>2010-12-15</td><td>c_20101217_500</td><td>6522.898</td><td>2010-12-17</td><td>500</td><td>true</td><td>0.00638954332166852</td><td>0.00784313725490196</td><td>7016.37</td><td>NA</td></tr><tr><th>21</th><td>2011-03-16</td><td>c_20110318_1000</td><td>5529.297</td><td>2011-03-18</td><td>1000</td><td>true</td><td>0.00791856524429545</td><td>0.00784313725490196</td><td>6513.84</td><td>NA</td></tr><tr><th>22</th><td>2011-03-15</td><td>c_20110318_500</td><td>6163.699</td><td>2011-03-18</td><td>500</td><td>true</td><td>0.00810704889389704</td><td>0.0117647058823529</td><td>6647.66</td><td>NA</td></tr><tr><th>23</th><td>2011-03-16</td><td>c_20110318_500</td><td>6029.297</td><td>2011-03-18</td><td>500</td><td>true</td><td>0.00791856524429545</td><td>0.00784313725490196</td><td>6513.84</td><td>NA</td></tr><tr><th>24</th><td>2011-06-15</td><td>c_20110617_500</td><td>6619.598</td><td>2011-06-17</td><td>500</td><td>true</td><td>0.0125904071392903</td><td>0.00784313725490196</td><td>7115.08</td><td>NA</td></tr><tr><th>25</th><td>2011-12-15</td><td>c_20111216_1000</td><td>4747.5</td><td>2011-12-16</td><td>1000</td><td>true</td><td>0.00759111444581304</td><td>0.00392156862745098</td><td>5730.62</td><td>NA</td></tr><tr><th>26</th><td>2011-12-15</td><td>c_20111216_1400</td><td>4347.5</td><td>2011-12-16</td><td>1400</td><td>true</td><td>0.00759111444581304</td><td>0.00392156862745098</td><td>5730.62</td><td>NA</td></tr><tr><th>27</th><td>2011-12-14</td><td>c_20111216_500</td><td>5185.398</td><td>2011-12-16</td><td>500</td><td>true</td><td>0.00764073509595308</td><td>0.00784313725490196</td><td>5675.14</td><td>NA</td></tr><tr><th>28</th><td>2011-12-15</td><td>c_20111216_500</td><td>5247.398</td><td>2011-12-16</td><td>500</td><td>true</td><td>0.00759111444581304</td><td>0.00392156862745098</td><td>5730.62</td><td>NA</td></tr><tr><th>29</th><td>2011-12-14</td><td>c_20111216_800</td><td>4885.398</td><td>2011-12-16</td><td>800</td><td>true</td><td>0.00764073509595308</td><td>0.00784313725490196</td><td>5675.14</td><td>NA</td></tr><tr><th>30</th><td>2011-12-15</td><td>c_20111216_800</td><td>4947.398</td><td>2011-12-16</td><td>800</td><td>true</td><td>0.00759111444581304</td><td>0.00392156862745098</td><td>5730.62</td><td>NA</td></tr><tr><th>&vellip;</th><td>&vellip;</td><td>&vellip;</td><td>&vellip;</td><td>&vellip;</td><td>&vellip;</td><td>&vellip;</td><td>&vellip;</td><td>&vellip;</td><td>&vellip;</td><td>&vellip;</td></tr></table>"
      ],
      "text/plain": [
       "53x10 DataFrame\n",
       "| Row | Date       | ID                | Price  | Expiry     | Strike | IsCall |\n",
       "|-----|------------|-------------------|--------|------------|--------|--------|\n",
       "| 1   | 2009-03-19 | \"c_20090320_500\"  | 3545.4 | 2009-03-20 | 500    | true   |\n",
       "| 2   | 2009-06-18 | \"c_20090619_1000\" | 3840.9 | 2009-06-19 | 1000   | true   |\n",
       "| 3   | 2009-06-17 | \"c_20090619_500\"  | 4307.8 | 2009-06-19 | 500    | true   |\n",
       "| 4   | 2009-06-18 | \"c_20090619_500\"  | 4340.9 | 2009-06-19 | 500    | true   |\n",
       "| 5   | 2009-09-17 | \"c_20090918_1000\" | 4737.5 | 2009-09-18 | 1000   | true   |\n",
       "| 6   | 2009-09-17 | \"c_20090918_500\"  | 5237.5 | 2009-09-18 | 500    | true   |\n",
       "| 7   | 2009-12-17 | \"c_20091218_1000\" | 4856.5 | 2009-12-18 | 1000   | true   |\n",
       "| 8   | 2009-12-17 | \"c_20091218_1100\" | 4756.5 | 2009-12-18 | 1100   | true   |\n",
       "| 9   | 2009-12-17 | \"c_20091218_1200\" | 4656.5 | 2009-12-18 | 1200   | true   |\n",
       "| 10  | 2009-12-17 | \"c_20091218_1300\" | 4556.5 | 2009-12-18 | 1300   | true   |\n",
       "| 11  | 2009-12-17 | \"c_20091218_1500\" | 4356.5 | 2009-12-18 | 1500   | true   |\n",
       "⋮\n",
       "| 42  | 2008-12-18 | \"p_20081219_500\"  | 0.1    | 2008-12-19 | 500    | false  |\n",
       "| 43  | 2009-03-19 | \"p_20090320_500\"  | 0.1    | 2009-03-20 | 500    | false  |\n",
       "| 44  | 2009-12-17 | \"p_20091218_500\"  | 0.1    | 2009-12-18 | 500    | false  |\n",
       "| 45  | 2009-12-17 | \"p_20091218_600\"  | 0.1    | 2009-12-18 | 600    | false  |\n",
       "| 46  | 2011-06-16 | \"p_20110617_500\"  | 0.1    | 2011-06-17 | 500    | false  |\n",
       "| 47  | 2011-12-15 | \"p_20111216_500\"  | 0.1    | 2011-12-16 | 500    | false  |\n",
       "| 48  | 2011-12-15 | \"p_20111216_600\"  | 0.1    | 2011-12-16 | 600    | false  |\n",
       "| 49  | 2012-06-14 | \"p_20120615_500\"  | 0.1    | 2012-06-15 | 500    | false  |\n",
       "| 50  | 2012-09-20 | \"p_20120921_500\"  | 0.1    | 2012-09-21 | 500    | false  |\n",
       "| 51  | 2012-12-20 | \"p_20121221_800\"  | 0.1    | 2012-12-21 | 800    | false  |\n",
       "| 52  | 2013-06-20 | \"p_20130621_500\"  | 0.1    | 2013-06-21 | 500    | false  |\n",
       "| 53  | 2013-12-19 | \"p_20131220_1000\" | 0.1    | 2013-12-20 | 1000   | false  |\n",
       "\n",
       "| Row | EONIA_matched | Time_to_Maturity | DAX     | IV_Matlab |\n",
       "|-----|---------------|------------------|---------|-----------|\n",
       "| 1   | 0.00926693    | 0.00392157       | 4043.46 | NA        |\n",
       "| 2   | 0.00888045    | 0.00392157       | 4837.48 | NA        |\n",
       "| 3   | 0.00895974    | 0.00784314       | 4799.98 | NA        |\n",
       "| 4   | 0.00888045    | 0.00392157       | 4837.48 | NA        |\n",
       "| 5   | 0.00339423    | 0.00392157       | 5731.14 | NA        |\n",
       "| 6   | 0.00339423    | 0.00392157       | 5731.14 | NA        |\n",
       "| 7   | 0.00376291    | 0.00392157       | 5844.44 | NA        |\n",
       "| 8   | 0.00376291    | 0.00392157       | 5844.44 | NA        |\n",
       "| 9   | 0.00376291    | 0.00392157       | 5844.44 | NA        |\n",
       "| 10  | 0.00376291    | 0.00392157       | 5844.44 | NA        |\n",
       "| 11  | 0.00376291    | 0.00392157       | 5844.44 | NA        |\n",
       "⋮\n",
       "| 42  | 0.0230327     | 0.00392157       | 4756.4  | NA        |\n",
       "| 43  | 0.00926693    | 0.00392157       | 4043.46 | NA        |\n",
       "| 44  | 0.00376291    | 0.00392157       | 5844.44 | NA        |\n",
       "| 45  | 0.00376291    | 0.00392157       | 5844.44 | NA        |\n",
       "| 46  | 0.0126595     | 0.00392157       | 7110.2  | NA        |\n",
       "| 47  | 0.00759111    | 0.00392157       | 5730.62 | NA        |\n",
       "| 48  | 0.00759111    | 0.00392157       | 5730.62 | NA        |\n",
       "| 49  | 0.00319489    | 0.00392157       | 6138.61 | NA        |\n",
       "| 50  | 0.000839647   | 0.00392157       | 7389.49 | NA        |\n",
       "| 51  | 0.000779696   | 0.00392157       | 7672.1  | NA        |\n",
       "| 52  | 0.00098951    | 0.00392157       | 7928.48 | NA        |\n",
       "| 53  | 0.00180836    | 0.00392157       | 9335.74 | NA        |"
      ]
     },
     "execution_count": 8,
     "metadata": {},
     "output_type": "execute_result"
    }
   ],
   "source": [
    "ivNoValue = ivData[otherInds, :]"
   ]
  },
  {
   "cell_type": "markdown",
   "metadata": {},
   "source": [
    "- for example, an implied volatility of approximately 14 seems to do the job for the first option here"
   ]
  },
  {
   "cell_type": "code",
   "execution_count": 9,
   "metadata": {
    "collapsed": false
   },
   "outputs": [
    {
     "data": {
      "text/plain": [
       "(3545.4,3546.764104033321)"
      ]
     },
     "execution_count": 9,
     "metadata": {},
     "output_type": "execute_result"
    }
   ],
   "source": [
    "(ivNoValue[1, :Price], bsCall(14., bsPriceInputExtractor(ivNoValue[1, :])...))"
   ]
  },
  {
   "cell_type": "markdown",
   "metadata": {},
   "source": [
    "- all of these cases occur with maximum 3 days left to maturity"
   ]
  },
  {
   "cell_type": "code",
   "execution_count": 10,
   "metadata": {
    "collapsed": false
   },
   "outputs": [
    {
     "data": {
      "text/plain": [
       "2"
      ]
     },
     "execution_count": 10,
     "metadata": {},
     "output_type": "execute_result"
    }
   ],
   "source": [
    "sum(ivNoValue[:Time_to_Maturity] .> 0.008)"
   ]
  },
  {
   "cell_type": "code",
   "execution_count": 11,
   "metadata": {
    "collapsed": false,
    "scrolled": true
   },
   "outputs": [
    {
     "data": {
      "text/plain": [
       "0"
      ]
     },
     "execution_count": 11,
     "metadata": {},
     "output_type": "execute_result"
    }
   ],
   "source": [
    "sum(ivNoValue[:Time_to_Maturity] .> 0.012)"
   ]
  },
  {
   "cell_type": "markdown",
   "metadata": {},
   "source": [
    "- hence, it might be worthwhile to set a filter that excludes options with short remaining time to expiry in any ongoing analysis"
   ]
  },
  {
   "cell_type": "markdown",
   "metadata": {},
   "source": [
    "- the associated volumes are 0 almost everywhere"
   ]
  },
  {
   "cell_type": "code",
   "execution_count": 12,
   "metadata": {
    "collapsed": false
   },
   "outputs": [
    {
     "data": {
      "text/html": [
       "<table class=\"data-frame\"><tr><th></th><th>Date</th><th>ID</th><th>Price</th><th>Expiry</th><th>Strike</th><th>IsCall</th><th>EONIA_matched</th><th>Time_to_Maturity</th><th>DAX</th><th>IV_Matlab</th><th>Bid</th><th>Ask</th><th>Volume</th><th>Open_Interest</th></tr><tr><th>1</th><td>2009-03-19</td><td>c_20090320_500</td><td>3545.4</td><td>2009-03-20</td><td>500</td><td>true</td><td>0.00926692907052475</td><td>0.00392156862745098</td><td>4043.46</td><td>NA</td><td>NA</td><td>NA</td><td>0</td><td>30</td></tr><tr><th>2</th><td>2009-06-18</td><td>c_20090619_1000</td><td>3840.9</td><td>2009-06-19</td><td>1000</td><td>true</td><td>0.00888045180593722</td><td>0.00392156862745098</td><td>4837.48</td><td>NA</td><td>NA</td><td>NA</td><td>0</td><td>1650</td></tr><tr><th>3</th><td>2009-06-17</td><td>c_20090619_500</td><td>4307.797</td><td>2009-06-19</td><td>500</td><td>true</td><td>0.0089597413714718</td><td>0.00784313725490196</td><td>4799.98</td><td>NA</td><td>NA</td><td>NA</td><td>0</td><td>270</td></tr><tr><th>4</th><td>2009-06-18</td><td>c_20090619_500</td><td>4340.898</td><td>2009-06-19</td><td>500</td><td>true</td><td>0.00888045180593722</td><td>0.00392156862745098</td><td>4837.48</td><td>NA</td><td>NA</td><td>NA</td><td>0</td><td>270</td></tr><tr><th>5</th><td>2009-09-17</td><td>c_20090918_1000</td><td>4737.5</td><td>2009-09-18</td><td>1000</td><td>true</td><td>0.00339423306801562</td><td>0.00392156862745098</td><td>5731.14</td><td>NA</td><td>NA</td><td>NA</td><td>0</td><td>1020</td></tr><tr><th>6</th><td>2009-09-17</td><td>c_20090918_500</td><td>5237.5</td><td>2009-09-18</td><td>500</td><td>true</td><td>0.00339423306801562</td><td>0.00392156862745098</td><td>5731.14</td><td>NA</td><td>NA</td><td>NA</td><td>0</td><td>267</td></tr><tr><th>7</th><td>2009-12-17</td><td>c_20091218_1000</td><td>4856.5</td><td>2009-12-18</td><td>1000</td><td>true</td><td>0.00376291136052792</td><td>0.00392156862745098</td><td>5844.44</td><td>NA</td><td>NA</td><td>NA</td><td>0</td><td>627</td></tr><tr><th>8</th><td>2009-12-17</td><td>c_20091218_1100</td><td>4756.5</td><td>2009-12-18</td><td>1100</td><td>true</td><td>0.00376291136052792</td><td>0.00392156862745098</td><td>5844.44</td><td>NA</td><td>NA</td><td>NA</td><td>0</td><td>14</td></tr><tr><th>9</th><td>2009-12-17</td><td>c_20091218_1200</td><td>4656.5</td><td>2009-12-18</td><td>1200</td><td>true</td><td>0.00376291136052792</td><td>0.00392156862745098</td><td>5844.44</td><td>NA</td><td>NA</td><td>NA</td><td>750</td><td>650</td></tr><tr><th>10</th><td>2009-12-17</td><td>c_20091218_1300</td><td>4556.5</td><td>2009-12-18</td><td>1300</td><td>true</td><td>0.00376291136052792</td><td>0.00392156862745098</td><td>5844.44</td><td>NA</td><td>NA</td><td>NA</td><td>0</td><td>220</td></tr><tr><th>11</th><td>2009-12-17</td><td>c_20091218_1500</td><td>4356.5</td><td>2009-12-18</td><td>1500</td><td>true</td><td>0.00376291136052792</td><td>0.00392156862745098</td><td>5844.44</td><td>NA</td><td>NA</td><td>NA</td><td>10</td><td>40</td></tr><tr><th>12</th><td>2009-12-17</td><td>c_20091218_500</td><td>5356.398</td><td>2009-12-18</td><td>500</td><td>true</td><td>0.00376291136052792</td><td>0.00392156862745098</td><td>5844.44</td><td>NA</td><td>NA</td><td>NA</td><td>0</td><td>1546</td></tr><tr><th>13</th><td>2009-12-17</td><td>c_20091218_600</td><td>5256.398</td><td>2009-12-18</td><td>600</td><td>true</td><td>0.00376291136052792</td><td>0.00392156862745098</td><td>5844.44</td><td>NA</td><td>NA</td><td>NA</td><td>0</td><td>420</td></tr><tr><th>14</th><td>2009-12-17</td><td>c_20091218_800</td><td>5056.398</td><td>2009-12-18</td><td>800</td><td>true</td><td>0.00376291136052792</td><td>0.00392156862745098</td><td>5844.44</td><td>NA</td><td>NA</td><td>NA</td><td>0</td><td>60</td></tr><tr><th>15</th><td>2010-03-18</td><td>c_20100319_500</td><td>5513.0</td><td>2010-03-19</td><td>500</td><td>true</td><td>0.00335436781257367</td><td>0.00392156862745098</td><td>6012.31</td><td>NA</td><td>NA</td><td>NA</td><td>0</td><td>590</td></tr><tr><th>16</th><td>2010-06-16</td><td>c_20100618_500</td><td>5691.898</td><td>2010-06-18</td><td>500</td><td>true</td><td>0.00364335491479852</td><td>0.00784313725490196</td><td>6190.91</td><td>NA</td><td>NA</td><td>NA</td><td>0</td><td>1350</td></tr><tr><th>17</th><td>2010-09-16</td><td>c_20100917_1000</td><td>5251.398</td><td>2010-09-17</td><td>1000</td><td>true</td><td>0.00501739181178316</td><td>0.00392156862745098</td><td>6249.65</td><td>NA</td><td>NA</td><td>NA</td><td>0</td><td>2265</td></tr><tr><th>18</th><td>2010-09-15</td><td>c_20100917_500</td><td>5767.898</td><td>2010-09-17</td><td>500</td><td>true</td><td>0.00498754151103897</td><td>0.00784313725490196</td><td>6261.87</td><td>NA</td><td>NA</td><td>NA</td><td>0</td><td>2100</td></tr><tr><th>19</th><td>2010-09-16</td><td>c_20100917_500</td><td>5751.398</td><td>2010-09-17</td><td>500</td><td>true</td><td>0.00501739181178316</td><td>0.00392156862745098</td><td>6249.65</td><td>NA</td><td>NA</td><td>NA</td><td>0</td><td>2100</td></tr><tr><th>20</th><td>2010-12-15</td><td>c_20101217_500</td><td>6522.898</td><td>2010-12-17</td><td>500</td><td>true</td><td>0.00638954332166852</td><td>0.00784313725490196</td><td>7016.37</td><td>NA</td><td>NA</td><td>NA</td><td>0</td><td>1806</td></tr><tr><th>21</th><td>2011-03-16</td><td>c_20110318_1000</td><td>5529.297</td><td>2011-03-18</td><td>1000</td><td>true</td><td>0.00791856524429545</td><td>0.00784313725490196</td><td>6513.84</td><td>NA</td><td>NA</td><td>NA</td><td>0</td><td>979</td></tr><tr><th>22</th><td>2011-03-15</td><td>c_20110318_500</td><td>6163.699</td><td>2011-03-18</td><td>500</td><td>true</td><td>0.00810704889389704</td><td>0.0117647058823529</td><td>6647.66</td><td>NA</td><td>NA</td><td>NA</td><td>0</td><td>198</td></tr><tr><th>23</th><td>2011-03-16</td><td>c_20110318_500</td><td>6029.297</td><td>2011-03-18</td><td>500</td><td>true</td><td>0.00791856524429545</td><td>0.00784313725490196</td><td>6513.84</td><td>NA</td><td>NA</td><td>NA</td><td>0</td><td>198</td></tr><tr><th>24</th><td>2011-06-15</td><td>c_20110617_500</td><td>6619.598</td><td>2011-06-17</td><td>500</td><td>true</td><td>0.0125904071392903</td><td>0.00784313725490196</td><td>7115.08</td><td>NA</td><td>NA</td><td>NA</td><td>0</td><td>2002</td></tr><tr><th>25</th><td>2011-12-15</td><td>c_20111216_1000</td><td>4747.5</td><td>2011-12-16</td><td>1000</td><td>true</td><td>0.00759111444581304</td><td>0.00392156862745098</td><td>5730.62</td><td>NA</td><td>NA</td><td>NA</td><td>0</td><td>14412</td></tr><tr><th>26</th><td>2011-12-15</td><td>c_20111216_1400</td><td>4347.5</td><td>2011-12-16</td><td>1400</td><td>true</td><td>0.00759111444581304</td><td>0.00392156862745098</td><td>5730.62</td><td>NA</td><td>NA</td><td>NA</td><td>0</td><td>660</td></tr><tr><th>27</th><td>2011-12-14</td><td>c_20111216_500</td><td>5185.398</td><td>2011-12-16</td><td>500</td><td>true</td><td>0.00764073509595308</td><td>0.00784313725490196</td><td>5675.14</td><td>NA</td><td>NA</td><td>NA</td><td>0</td><td>2283</td></tr><tr><th>28</th><td>2011-12-15</td><td>c_20111216_500</td><td>5247.398</td><td>2011-12-16</td><td>500</td><td>true</td><td>0.00759111444581304</td><td>0.00392156862745098</td><td>5730.62</td><td>NA</td><td>NA</td><td>NA</td><td>1</td><td>2282</td></tr><tr><th>29</th><td>2011-12-14</td><td>c_20111216_800</td><td>4885.398</td><td>2011-12-16</td><td>800</td><td>true</td><td>0.00764073509595308</td><td>0.00784313725490196</td><td>5675.14</td><td>NA</td><td>NA</td><td>NA</td><td>0</td><td>69</td></tr><tr><th>30</th><td>2011-12-15</td><td>c_20111216_800</td><td>4947.398</td><td>2011-12-16</td><td>800</td><td>true</td><td>0.00759111444581304</td><td>0.00392156862745098</td><td>5730.62</td><td>NA</td><td>NA</td><td>NA</td><td>0</td><td>69</td></tr><tr><th>&vellip;</th><td>&vellip;</td><td>&vellip;</td><td>&vellip;</td><td>&vellip;</td><td>&vellip;</td><td>&vellip;</td><td>&vellip;</td><td>&vellip;</td><td>&vellip;</td><td>&vellip;</td><td>&vellip;</td><td>&vellip;</td><td>&vellip;</td><td>&vellip;</td></tr></table>"
      ],
      "text/plain": [
       "53x14 DataFrame\n",
       "| Row | Date       | ID                | Price  | Expiry     | Strike | IsCall |\n",
       "|-----|------------|-------------------|--------|------------|--------|--------|\n",
       "| 1   | 2009-03-19 | \"c_20090320_500\"  | 3545.4 | 2009-03-20 | 500    | true   |\n",
       "| 2   | 2009-06-18 | \"c_20090619_1000\" | 3840.9 | 2009-06-19 | 1000   | true   |\n",
       "| 3   | 2009-06-17 | \"c_20090619_500\"  | 4307.8 | 2009-06-19 | 500    | true   |\n",
       "| 4   | 2009-06-18 | \"c_20090619_500\"  | 4340.9 | 2009-06-19 | 500    | true   |\n",
       "| 5   | 2009-09-17 | \"c_20090918_1000\" | 4737.5 | 2009-09-18 | 1000   | true   |\n",
       "| 6   | 2009-09-17 | \"c_20090918_500\"  | 5237.5 | 2009-09-18 | 500    | true   |\n",
       "| 7   | 2009-12-17 | \"c_20091218_1000\" | 4856.5 | 2009-12-18 | 1000   | true   |\n",
       "| 8   | 2009-12-17 | \"c_20091218_1100\" | 4756.5 | 2009-12-18 | 1100   | true   |\n",
       "| 9   | 2009-12-17 | \"c_20091218_1200\" | 4656.5 | 2009-12-18 | 1200   | true   |\n",
       "| 10  | 2009-12-17 | \"c_20091218_1300\" | 4556.5 | 2009-12-18 | 1300   | true   |\n",
       "| 11  | 2009-12-17 | \"c_20091218_1500\" | 4356.5 | 2009-12-18 | 1500   | true   |\n",
       "⋮\n",
       "| 42  | 2008-12-18 | \"p_20081219_500\"  | 0.1    | 2008-12-19 | 500    | false  |\n",
       "| 43  | 2009-03-19 | \"p_20090320_500\"  | 0.1    | 2009-03-20 | 500    | false  |\n",
       "| 44  | 2009-12-17 | \"p_20091218_500\"  | 0.1    | 2009-12-18 | 500    | false  |\n",
       "| 45  | 2009-12-17 | \"p_20091218_600\"  | 0.1    | 2009-12-18 | 600    | false  |\n",
       "| 46  | 2011-06-16 | \"p_20110617_500\"  | 0.1    | 2011-06-17 | 500    | false  |\n",
       "| 47  | 2011-12-15 | \"p_20111216_500\"  | 0.1    | 2011-12-16 | 500    | false  |\n",
       "| 48  | 2011-12-15 | \"p_20111216_600\"  | 0.1    | 2011-12-16 | 600    | false  |\n",
       "| 49  | 2012-06-14 | \"p_20120615_500\"  | 0.1    | 2012-06-15 | 500    | false  |\n",
       "| 50  | 2012-09-20 | \"p_20120921_500\"  | 0.1    | 2012-09-21 | 500    | false  |\n",
       "| 51  | 2012-12-20 | \"p_20121221_800\"  | 0.1    | 2012-12-21 | 800    | false  |\n",
       "| 52  | 2013-06-20 | \"p_20130621_500\"  | 0.1    | 2013-06-21 | 500    | false  |\n",
       "| 53  | 2013-12-19 | \"p_20131220_1000\" | 0.1    | 2013-12-20 | 1000   | false  |\n",
       "\n",
       "| Row | EONIA_matched | Time_to_Maturity | DAX     | IV_Matlab | Bid | Ask  |\n",
       "|-----|---------------|------------------|---------|-----------|-----|------|\n",
       "| 1   | 0.00926693    | 0.00392157       | 4043.46 | NA        | NA  | NA   |\n",
       "| 2   | 0.00888045    | 0.00392157       | 4837.48 | NA        | NA  | NA   |\n",
       "| 3   | 0.00895974    | 0.00784314       | 4799.98 | NA        | NA  | NA   |\n",
       "| 4   | 0.00888045    | 0.00392157       | 4837.48 | NA        | NA  | NA   |\n",
       "| 5   | 0.00339423    | 0.00392157       | 5731.14 | NA        | NA  | NA   |\n",
       "| 6   | 0.00339423    | 0.00392157       | 5731.14 | NA        | NA  | NA   |\n",
       "| 7   | 0.00376291    | 0.00392157       | 5844.44 | NA        | NA  | NA   |\n",
       "| 8   | 0.00376291    | 0.00392157       | 5844.44 | NA        | NA  | NA   |\n",
       "| 9   | 0.00376291    | 0.00392157       | 5844.44 | NA        | NA  | NA   |\n",
       "| 10  | 0.00376291    | 0.00392157       | 5844.44 | NA        | NA  | NA   |\n",
       "| 11  | 0.00376291    | 0.00392157       | 5844.44 | NA        | NA  | NA   |\n",
       "⋮\n",
       "| 42  | 0.0230327     | 0.00392157       | 4756.4  | NA        | NA  | NA   |\n",
       "| 43  | 0.00926693    | 0.00392157       | 4043.46 | NA        | NA  | NA   |\n",
       "| 44  | 0.00376291    | 0.00392157       | 5844.44 | NA        | NA  | NA   |\n",
       "| 45  | 0.00376291    | 0.00392157       | 5844.44 | NA        | NA  | NA   |\n",
       "| 46  | 0.0126595     | 0.00392157       | 7110.2  | NA        | NA  | NA   |\n",
       "| 47  | 0.00759111    | 0.00392157       | 5730.62 | NA        | NA  | NA   |\n",
       "| 48  | 0.00759111    | 0.00392157       | 5730.62 | NA        | NA  | 30.0 |\n",
       "| 49  | 0.00319489    | 0.00392157       | 6138.61 | NA        | NA  | NA   |\n",
       "| 50  | 0.000839647   | 0.00392157       | 7389.49 | NA        | NA  | NA   |\n",
       "| 51  | 0.000779696   | 0.00392157       | 7672.1  | NA        | NA  | 0.8  |\n",
       "| 52  | 0.00098951    | 0.00392157       | 7928.48 | NA        | NA  | NA   |\n",
       "| 53  | 0.00180836    | 0.00392157       | 9335.74 | NA        | NA  | NA   |\n",
       "\n",
       "| Row | Volume | Open_Interest |\n",
       "|-----|--------|---------------|\n",
       "| 1   | 0      | 30            |\n",
       "| 2   | 0      | 1650          |\n",
       "| 3   | 0      | 270           |\n",
       "| 4   | 0      | 270           |\n",
       "| 5   | 0      | 1020          |\n",
       "| 6   | 0      | 267           |\n",
       "| 7   | 0      | 627           |\n",
       "| 8   | 0      | 14            |\n",
       "| 9   | 750    | 650           |\n",
       "| 10  | 0      | 220           |\n",
       "| 11  | 10     | 40            |\n",
       "⋮\n",
       "| 42  | 0      | 400           |\n",
       "| 43  | 0      | 1             |\n",
       "| 44  | 0      | 701           |\n",
       "| 45  | 0      | 2165          |\n",
       "| 46  | 0      | 1112          |\n",
       "| 47  | 0      | 1902          |\n",
       "| 48  | 0      | 1759          |\n",
       "| 49  | 0      | 37            |\n",
       "| 50  | 0      | 37            |\n",
       "| 51  | 0      | 515           |\n",
       "| 52  | 0      | 700           |\n",
       "| 53  | 0      | 442           |"
      ]
     },
     "execution_count": 12,
     "metadata": {},
     "output_type": "execute_result"
    }
   ],
   "source": [
    "join(ivNoValue, addObs, on = [:Date, :ID])"
   ]
  },
  {
   "cell_type": "markdown",
   "metadata": {},
   "source": [
    "### Recalculate implied volatilities"
   ]
  },
  {
   "cell_type": "markdown",
   "metadata": {},
   "source": [
    "- make sure that all metadata was correctly assigned\n",
    "- extend implied volatility search to larger values for cases with short remaining time to expiry"
   ]
  },
  {
   "cell_type": "code",
   "execution_count": 13,
   "metadata": {
    "collapsed": false
   },
   "outputs": [
    {
     "data": {
      "text/html": [
       "<table class=\"data-frame\"><tr><th></th><th>Date</th><th>ID</th><th>Price</th><th>Expiry</th><th>Strike</th><th>IsCall</th><th>EONIA_matched</th><th>Time_to_Maturity</th><th>DAX</th><th>IV_Matlab</th></tr><tr><th>1</th><td>2006-07-03</td><td>c_20060721_4500</td><td>1212.0</td><td>2006-07-21</td><td>4500</td><td>true</td><td>0.0283102283088403</td><td>0.0549019607843137</td><td>5712.69</td><td>NA</td></tr><tr><th>2</th><td>2006-07-04</td><td>c_20060721_4500</td><td>1232.6</td><td>2006-07-21</td><td>4500</td><td>true</td><td>0.0282186257343229</td><td>0.0509803921568627</td><td>5729.01</td><td>NA</td></tr><tr><th>3</th><td>2006-07-05</td><td>c_20060721_4500</td><td>1131.1</td><td>2006-07-21</td><td>4500</td><td>true</td><td>0.0281095973321041</td><td>0.0470588235294118</td><td>5625.63</td><td>NA</td></tr><tr><th>4</th><td>2006-07-06</td><td>c_20060721_4500</td><td>1197.0</td><td>2006-07-21</td><td>4500</td><td>true</td><td>0.0281618489048387</td><td>0.0431372549019608</td><td>5695.47</td><td>NA</td></tr><tr><th>5</th><td>2006-07-07</td><td>c_20060721_4500</td><td>1185.1</td><td>2006-07-21</td><td>4500</td><td>true</td><td>0.0281130672686915</td><td>0.0392156862745098</td><td>5681.85</td><td>NA</td></tr><tr><th>6</th><td>2006-07-10</td><td>c_20060721_4500</td><td>1210.3</td><td>2006-07-21</td><td>4500</td><td>true</td><td>0.0281756309615022</td><td>0.0352941176470588</td><td>5706.32</td><td>NA</td></tr></table>"
      ],
      "text/plain": [
       "6x10 DataFrame\n",
       "| Row | Date       | ID                | Price  | Expiry     | Strike | IsCall |\n",
       "|-----|------------|-------------------|--------|------------|--------|--------|\n",
       "| 1   | 2006-07-03 | \"c_20060721_4500\" | 1212.0 | 2006-07-21 | 4500   | true   |\n",
       "| 2   | 2006-07-04 | \"c_20060721_4500\" | 1232.6 | 2006-07-21 | 4500   | true   |\n",
       "| 3   | 2006-07-05 | \"c_20060721_4500\" | 1131.1 | 2006-07-21 | 4500   | true   |\n",
       "| 4   | 2006-07-06 | \"c_20060721_4500\" | 1197.0 | 2006-07-21 | 4500   | true   |\n",
       "| 5   | 2006-07-07 | \"c_20060721_4500\" | 1185.1 | 2006-07-21 | 4500   | true   |\n",
       "| 6   | 2006-07-10 | \"c_20060721_4500\" | 1210.3 | 2006-07-21 | 4500   | true   |\n",
       "\n",
       "| Row | EONIA_matched | Time_to_Maturity | DAX     | IV_Matlab |\n",
       "|-----|---------------|------------------|---------|-----------|\n",
       "| 1   | 0.0283102     | 0.054902         | 5712.69 | NA        |\n",
       "| 2   | 0.0282186     | 0.0509804        | 5729.01 | NA        |\n",
       "| 3   | 0.0281096     | 0.0470588        | 5625.63 | NA        |\n",
       "| 4   | 0.0281618     | 0.0431373        | 5695.47 | NA        |\n",
       "| 5   | 0.0281131     | 0.0392157        | 5681.85 | NA        |\n",
       "| 6   | 0.0281756     | 0.0352941        | 5706.32 | NA        |"
      ]
     },
     "execution_count": 13,
     "metadata": {},
     "output_type": "execute_result"
    }
   ],
   "source": [
    "head(ivData)"
   ]
  },
  {
   "cell_type": "markdown",
   "metadata": {},
   "source": [
    "- define function to extract data required to calculate implied volatilities"
   ]
  },
  {
   "cell_type": "code",
   "execution_count": 14,
   "metadata": {
    "collapsed": false
   },
   "outputs": [
    {
     "data": {
      "text/plain": [
       "(anonymous function)"
      ]
     },
     "execution_count": 14,
     "metadata": {},
     "output_type": "execute_result"
    }
   ],
   "source": [
    "ivInputExtractor = x -> (x[1, :Price], x[1, :DAX], x[1, :Strike], x[1, :EONIA_matched], x[1, :Time_to_Maturity])"
   ]
  },
  {
   "cell_type": "markdown",
   "metadata": {},
   "source": [
    "- check extractor function:"
   ]
  },
  {
   "cell_type": "code",
   "execution_count": 15,
   "metadata": {
    "collapsed": false,
    "scrolled": true
   },
   "outputs": [
    {
     "data": {
      "text/plain": [
       "(1212.0,5712.69,4500,0.0283102283088403,0.0549019607843137)"
      ]
     },
     "execution_count": 15,
     "metadata": {},
     "output_type": "execute_result"
    }
   ],
   "source": [
    "ivInputExtractor(ivData[1, :])"
   ]
  },
  {
   "cell_type": "markdown",
   "metadata": {},
   "source": [
    "- try to improve values by calculating implied volatilites with Matlab values as starting values"
   ]
  },
  {
   "cell_type": "code",
   "execution_count": 16,
   "metadata": {
    "collapsed": false
   },
   "outputs": [
    {
     "name": "stdout",
     "output_type": "stream",
     "text": [
      "elapsed time: 172.642675109 seconds (14599282888 bytes allocated, 82.12% gc time)\n"
     ]
    }
   ],
   "source": [
    "prec = 0.0000001\n",
    "\n",
    "implVolasJulia = DataArray(Float64, nObs)\n",
    "\n",
    "@time begin\n",
    "    for ii=1:nObs\n",
    "        if !isna(ivData[ii, :IV_Matlab])\n",
    "            inputs = ivInputExtractor(ivData[ii, :])\n",
    "            implVolasJulia[ii] = implVola(ivData[ii, :IV_Matlab], inputs..., prec, ivData[ii, :IsCall])[1]\n",
    "        end\n",
    "    end\n",
    "end"
   ]
  },
  {
   "cell_type": "markdown",
   "metadata": {},
   "source": [
    "- this did not produce new NAs"
   ]
  },
  {
   "cell_type": "code",
   "execution_count": 17,
   "metadata": {
    "collapsed": false
   },
   "outputs": [
    {
     "data": {
      "text/plain": [
       "0"
      ]
     },
     "execution_count": 17,
     "metadata": {},
     "output_type": "execute_result"
    }
   ],
   "source": [
    "sum(isna(implVolasJulia) & !(isna(ivData[:IV_Matlab])))"
   ]
  },
  {
   "cell_type": "code",
   "execution_count": 18,
   "metadata": {
    "collapsed": false
   },
   "outputs": [
    {
     "data": {
      "text/plain": [
       "(86718,86718)"
      ]
     },
     "execution_count": 18,
     "metadata": {},
     "output_type": "execute_result"
    }
   ],
   "source": [
    "(sum(isna(implVolasJulia)), sum(isna(ivData[:IV_Matlab])))"
   ]
  },
  {
   "cell_type": "markdown",
   "metadata": {},
   "source": [
    "- hence, all Julia calculated implied volatilities seem to be valid values\n",
    "- check, whether Julia implied volatilities did give an improvement, and whether the required precision is fulfilled for all values"
   ]
  },
  {
   "cell_type": "code",
   "execution_count": 19,
   "metadata": {
    "collapsed": false
   },
   "outputs": [],
   "source": [
    "improvement = falses(nObs)\n",
    "bestIV = DataArray(Float64, nObs)\n",
    "requPrec = falses(nObs)\n",
    "\n",
    "for ii=1:nObs\n",
    "    c1 = 0.\n",
    "    c2 = 0.\n",
    "    \n",
    "    if !isna(ivData[ii, :IV_Matlab])\n",
    "    \n",
    "        if ivData[ii, :IsCall]\n",
    "            # matlab price and julia price\n",
    "            c1 = bsCall(ivData[ii, :IV_Matlab], bsPriceInputExtractor(ivData[ii, :])...)\n",
    "            c2 = bsCall(implVolasJulia[ii], bsPriceInputExtractor(ivData[ii, :])...)\n",
    "        else\n",
    "            # matlab price and julia price\n",
    "            c1 = bsPut(ivData[ii, :IV_Matlab], bsPriceInputExtractor(ivData[ii, :])...)\n",
    "            c2 = bsPut(implVolasJulia[ii], bsPriceInputExtractor(ivData[ii, :])...)\n",
    "        end\n",
    "        \n",
    "        diff1 = abs(ivData[ii, :Price] - c1)\n",
    "        diff2 = abs(ivData[ii, :Price] - c2)\n",
    "        if diff2 <= diff1\n",
    "            improvement[ii] = true\n",
    "            bestIV[ii] = implVolasJulia[ii]\n",
    "            if diff2 < prec\n",
    "                requPrec[ii] = true\n",
    "            end\n",
    "        else\n",
    "            # no improvement\n",
    "            bestIV[ii] = ivData[ii, :IV_Matlab]\n",
    "            if diff1 < prec\n",
    "                requPrec[ii] = true\n",
    "            end\n",
    "        end\n",
    "    end\n",
    "end"
   ]
  },
  {
   "cell_type": "markdown",
   "metadata": {},
   "source": [
    "- is required precision fulfilled for all cases without `NA`?"
   ]
  },
  {
   "cell_type": "code",
   "execution_count": 20,
   "metadata": {
    "collapsed": false
   },
   "outputs": [
    {
     "data": {
      "text/plain": [
       "true"
      ]
     },
     "execution_count": 20,
     "metadata": {},
     "output_type": "execute_result"
    }
   ],
   "source": [
    "all(requPrec[!isna(ivData[:IV_Matlab])])"
   ]
  },
  {
   "cell_type": "markdown",
   "metadata": {},
   "source": [
    "- how large is the fraction of improved (or equally good) implied values?"
   ]
  },
  {
   "cell_type": "code",
   "execution_count": 21,
   "metadata": {
    "collapsed": false
   },
   "outputs": [
    {
     "data": {
      "text/plain": [
       "1.0"
      ]
     },
     "execution_count": 21,
     "metadata": {},
     "output_type": "execute_result"
    }
   ],
   "source": [
    "sum(improvement[!isna(ivData[:IV_Matlab])])/length(improvement[!isna(ivData[:IV_Matlab])])"
   ]
  },
  {
   "cell_type": "markdown",
   "metadata": {},
   "source": [
    "- how many cases have not improved?"
   ]
  },
  {
   "cell_type": "code",
   "execution_count": 22,
   "metadata": {
    "collapsed": false
   },
   "outputs": [
    {
     "data": {
      "text/plain": [
       "0"
      ]
     },
     "execution_count": 22,
     "metadata": {},
     "output_type": "execute_result"
    }
   ],
   "source": [
    "length(improvement[!isna(ivData[:IV_Matlab])]) - sum(improvement[!isna(ivData[:IV_Matlab])])"
   ]
  },
  {
   "cell_type": "markdown",
   "metadata": {},
   "source": [
    "#### Get implied volatility for cases exceeding Matlab's default implied volatility limit"
   ]
  },
  {
   "cell_type": "markdown",
   "metadata": {},
   "source": [
    "- find cases where vola is still possible"
   ]
  },
  {
   "cell_type": "code",
   "execution_count": 23,
   "metadata": {
    "collapsed": false
   },
   "outputs": [],
   "source": [
    "possibleInds = falses(nObs)\n",
    "for ii=1:nObs\n",
    "    if isna(ivData[ii, :IV_Matlab])\n",
    "        if ivData[ii, :IsCall]\n",
    "            # if NA is not produced because BS price is always too high\n",
    "            if ivData[ii, :Price] > bsCall(0.0000000001, bsPriceInputExtractor(ivData[ii, :])...)\n",
    "                possibleInds[ii] = true\n",
    "            end\n",
    "        else\n",
    "            if ivData[ii, :Price] > bsPut(0.0000000001, bsPriceInputExtractor(ivData[ii, :])...)\n",
    "                possibleInds[ii] = true\n",
    "            end\n",
    "        end\n",
    "    end\n",
    "end"
   ]
  },
  {
   "cell_type": "markdown",
   "metadata": {},
   "source": [
    "- number of volatilities that still can be calculated"
   ]
  },
  {
   "cell_type": "code",
   "execution_count": 24,
   "metadata": {
    "collapsed": false
   },
   "outputs": [
    {
     "data": {
      "text/plain": [
       "53"
      ]
     },
     "execution_count": 24,
     "metadata": {},
     "output_type": "execute_result"
    }
   ],
   "source": [
    "nToTry = sum(possibleInds)"
   ]
  },
  {
   "cell_type": "markdown",
   "metadata": {},
   "source": [
    "- show cases"
   ]
  },
  {
   "cell_type": "code",
   "execution_count": 25,
   "metadata": {
    "collapsed": false
   },
   "outputs": [
    {
     "data": {
      "text/html": [
       "<table class=\"data-frame\"><tr><th></th><th>Date</th><th>ID</th><th>Price</th><th>Expiry</th><th>Strike</th><th>IsCall</th><th>EONIA_matched</th><th>Time_to_Maturity</th><th>DAX</th><th>IV_Matlab</th></tr><tr><th>1</th><td>2009-03-19</td><td>c_20090320_500</td><td>3545.4</td><td>2009-03-20</td><td>500</td><td>true</td><td>0.00926692907052475</td><td>0.00392156862745098</td><td>4043.46</td><td>NA</td></tr><tr><th>2</th><td>2009-06-18</td><td>c_20090619_1000</td><td>3840.9</td><td>2009-06-19</td><td>1000</td><td>true</td><td>0.00888045180593722</td><td>0.00392156862745098</td><td>4837.48</td><td>NA</td></tr><tr><th>3</th><td>2009-06-17</td><td>c_20090619_500</td><td>4307.797</td><td>2009-06-19</td><td>500</td><td>true</td><td>0.0089597413714718</td><td>0.00784313725490196</td><td>4799.98</td><td>NA</td></tr><tr><th>4</th><td>2009-06-18</td><td>c_20090619_500</td><td>4340.898</td><td>2009-06-19</td><td>500</td><td>true</td><td>0.00888045180593722</td><td>0.00392156862745098</td><td>4837.48</td><td>NA</td></tr><tr><th>5</th><td>2009-09-17</td><td>c_20090918_1000</td><td>4737.5</td><td>2009-09-18</td><td>1000</td><td>true</td><td>0.00339423306801562</td><td>0.00392156862745098</td><td>5731.14</td><td>NA</td></tr><tr><th>6</th><td>2009-09-17</td><td>c_20090918_500</td><td>5237.5</td><td>2009-09-18</td><td>500</td><td>true</td><td>0.00339423306801562</td><td>0.00392156862745098</td><td>5731.14</td><td>NA</td></tr><tr><th>7</th><td>2009-12-17</td><td>c_20091218_1000</td><td>4856.5</td><td>2009-12-18</td><td>1000</td><td>true</td><td>0.00376291136052792</td><td>0.00392156862745098</td><td>5844.44</td><td>NA</td></tr><tr><th>8</th><td>2009-12-17</td><td>c_20091218_1100</td><td>4756.5</td><td>2009-12-18</td><td>1100</td><td>true</td><td>0.00376291136052792</td><td>0.00392156862745098</td><td>5844.44</td><td>NA</td></tr><tr><th>9</th><td>2009-12-17</td><td>c_20091218_1200</td><td>4656.5</td><td>2009-12-18</td><td>1200</td><td>true</td><td>0.00376291136052792</td><td>0.00392156862745098</td><td>5844.44</td><td>NA</td></tr><tr><th>10</th><td>2009-12-17</td><td>c_20091218_1300</td><td>4556.5</td><td>2009-12-18</td><td>1300</td><td>true</td><td>0.00376291136052792</td><td>0.00392156862745098</td><td>5844.44</td><td>NA</td></tr><tr><th>11</th><td>2009-12-17</td><td>c_20091218_1500</td><td>4356.5</td><td>2009-12-18</td><td>1500</td><td>true</td><td>0.00376291136052792</td><td>0.00392156862745098</td><td>5844.44</td><td>NA</td></tr><tr><th>12</th><td>2009-12-17</td><td>c_20091218_500</td><td>5356.398</td><td>2009-12-18</td><td>500</td><td>true</td><td>0.00376291136052792</td><td>0.00392156862745098</td><td>5844.44</td><td>NA</td></tr><tr><th>13</th><td>2009-12-17</td><td>c_20091218_600</td><td>5256.398</td><td>2009-12-18</td><td>600</td><td>true</td><td>0.00376291136052792</td><td>0.00392156862745098</td><td>5844.44</td><td>NA</td></tr><tr><th>14</th><td>2009-12-17</td><td>c_20091218_800</td><td>5056.398</td><td>2009-12-18</td><td>800</td><td>true</td><td>0.00376291136052792</td><td>0.00392156862745098</td><td>5844.44</td><td>NA</td></tr><tr><th>15</th><td>2010-03-18</td><td>c_20100319_500</td><td>5513.0</td><td>2010-03-19</td><td>500</td><td>true</td><td>0.00335436781257367</td><td>0.00392156862745098</td><td>6012.31</td><td>NA</td></tr><tr><th>16</th><td>2010-06-16</td><td>c_20100618_500</td><td>5691.898</td><td>2010-06-18</td><td>500</td><td>true</td><td>0.00364335491479852</td><td>0.00784313725490196</td><td>6190.91</td><td>NA</td></tr><tr><th>17</th><td>2010-09-16</td><td>c_20100917_1000</td><td>5251.398</td><td>2010-09-17</td><td>1000</td><td>true</td><td>0.00501739181178316</td><td>0.00392156862745098</td><td>6249.65</td><td>NA</td></tr><tr><th>18</th><td>2010-09-15</td><td>c_20100917_500</td><td>5767.898</td><td>2010-09-17</td><td>500</td><td>true</td><td>0.00498754151103897</td><td>0.00784313725490196</td><td>6261.87</td><td>NA</td></tr><tr><th>19</th><td>2010-09-16</td><td>c_20100917_500</td><td>5751.398</td><td>2010-09-17</td><td>500</td><td>true</td><td>0.00501739181178316</td><td>0.00392156862745098</td><td>6249.65</td><td>NA</td></tr><tr><th>20</th><td>2010-12-15</td><td>c_20101217_500</td><td>6522.898</td><td>2010-12-17</td><td>500</td><td>true</td><td>0.00638954332166852</td><td>0.00784313725490196</td><td>7016.37</td><td>NA</td></tr><tr><th>21</th><td>2011-03-16</td><td>c_20110318_1000</td><td>5529.297</td><td>2011-03-18</td><td>1000</td><td>true</td><td>0.00791856524429545</td><td>0.00784313725490196</td><td>6513.84</td><td>NA</td></tr><tr><th>22</th><td>2011-03-15</td><td>c_20110318_500</td><td>6163.699</td><td>2011-03-18</td><td>500</td><td>true</td><td>0.00810704889389704</td><td>0.0117647058823529</td><td>6647.66</td><td>NA</td></tr><tr><th>23</th><td>2011-03-16</td><td>c_20110318_500</td><td>6029.297</td><td>2011-03-18</td><td>500</td><td>true</td><td>0.00791856524429545</td><td>0.00784313725490196</td><td>6513.84</td><td>NA</td></tr><tr><th>24</th><td>2011-06-15</td><td>c_20110617_500</td><td>6619.598</td><td>2011-06-17</td><td>500</td><td>true</td><td>0.0125904071392903</td><td>0.00784313725490196</td><td>7115.08</td><td>NA</td></tr><tr><th>25</th><td>2011-12-15</td><td>c_20111216_1000</td><td>4747.5</td><td>2011-12-16</td><td>1000</td><td>true</td><td>0.00759111444581304</td><td>0.00392156862745098</td><td>5730.62</td><td>NA</td></tr><tr><th>26</th><td>2011-12-15</td><td>c_20111216_1400</td><td>4347.5</td><td>2011-12-16</td><td>1400</td><td>true</td><td>0.00759111444581304</td><td>0.00392156862745098</td><td>5730.62</td><td>NA</td></tr><tr><th>27</th><td>2011-12-14</td><td>c_20111216_500</td><td>5185.398</td><td>2011-12-16</td><td>500</td><td>true</td><td>0.00764073509595308</td><td>0.00784313725490196</td><td>5675.14</td><td>NA</td></tr><tr><th>28</th><td>2011-12-15</td><td>c_20111216_500</td><td>5247.398</td><td>2011-12-16</td><td>500</td><td>true</td><td>0.00759111444581304</td><td>0.00392156862745098</td><td>5730.62</td><td>NA</td></tr><tr><th>29</th><td>2011-12-14</td><td>c_20111216_800</td><td>4885.398</td><td>2011-12-16</td><td>800</td><td>true</td><td>0.00764073509595308</td><td>0.00784313725490196</td><td>5675.14</td><td>NA</td></tr><tr><th>30</th><td>2011-12-15</td><td>c_20111216_800</td><td>4947.398</td><td>2011-12-16</td><td>800</td><td>true</td><td>0.00759111444581304</td><td>0.00392156862745098</td><td>5730.62</td><td>NA</td></tr><tr><th>&vellip;</th><td>&vellip;</td><td>&vellip;</td><td>&vellip;</td><td>&vellip;</td><td>&vellip;</td><td>&vellip;</td><td>&vellip;</td><td>&vellip;</td><td>&vellip;</td><td>&vellip;</td></tr></table>"
      ],
      "text/plain": [
       "53x10 DataFrame\n",
       "| Row | Date       | ID                | Price  | Expiry     | Strike | IsCall |\n",
       "|-----|------------|-------------------|--------|------------|--------|--------|\n",
       "| 1   | 2009-03-19 | \"c_20090320_500\"  | 3545.4 | 2009-03-20 | 500    | true   |\n",
       "| 2   | 2009-06-18 | \"c_20090619_1000\" | 3840.9 | 2009-06-19 | 1000   | true   |\n",
       "| 3   | 2009-06-17 | \"c_20090619_500\"  | 4307.8 | 2009-06-19 | 500    | true   |\n",
       "| 4   | 2009-06-18 | \"c_20090619_500\"  | 4340.9 | 2009-06-19 | 500    | true   |\n",
       "| 5   | 2009-09-17 | \"c_20090918_1000\" | 4737.5 | 2009-09-18 | 1000   | true   |\n",
       "| 6   | 2009-09-17 | \"c_20090918_500\"  | 5237.5 | 2009-09-18 | 500    | true   |\n",
       "| 7   | 2009-12-17 | \"c_20091218_1000\" | 4856.5 | 2009-12-18 | 1000   | true   |\n",
       "| 8   | 2009-12-17 | \"c_20091218_1100\" | 4756.5 | 2009-12-18 | 1100   | true   |\n",
       "| 9   | 2009-12-17 | \"c_20091218_1200\" | 4656.5 | 2009-12-18 | 1200   | true   |\n",
       "| 10  | 2009-12-17 | \"c_20091218_1300\" | 4556.5 | 2009-12-18 | 1300   | true   |\n",
       "| 11  | 2009-12-17 | \"c_20091218_1500\" | 4356.5 | 2009-12-18 | 1500   | true   |\n",
       "⋮\n",
       "| 42  | 2008-12-18 | \"p_20081219_500\"  | 0.1    | 2008-12-19 | 500    | false  |\n",
       "| 43  | 2009-03-19 | \"p_20090320_500\"  | 0.1    | 2009-03-20 | 500    | false  |\n",
       "| 44  | 2009-12-17 | \"p_20091218_500\"  | 0.1    | 2009-12-18 | 500    | false  |\n",
       "| 45  | 2009-12-17 | \"p_20091218_600\"  | 0.1    | 2009-12-18 | 600    | false  |\n",
       "| 46  | 2011-06-16 | \"p_20110617_500\"  | 0.1    | 2011-06-17 | 500    | false  |\n",
       "| 47  | 2011-12-15 | \"p_20111216_500\"  | 0.1    | 2011-12-16 | 500    | false  |\n",
       "| 48  | 2011-12-15 | \"p_20111216_600\"  | 0.1    | 2011-12-16 | 600    | false  |\n",
       "| 49  | 2012-06-14 | \"p_20120615_500\"  | 0.1    | 2012-06-15 | 500    | false  |\n",
       "| 50  | 2012-09-20 | \"p_20120921_500\"  | 0.1    | 2012-09-21 | 500    | false  |\n",
       "| 51  | 2012-12-20 | \"p_20121221_800\"  | 0.1    | 2012-12-21 | 800    | false  |\n",
       "| 52  | 2013-06-20 | \"p_20130621_500\"  | 0.1    | 2013-06-21 | 500    | false  |\n",
       "| 53  | 2013-12-19 | \"p_20131220_1000\" | 0.1    | 2013-12-20 | 1000   | false  |\n",
       "\n",
       "| Row | EONIA_matched | Time_to_Maturity | DAX     | IV_Matlab |\n",
       "|-----|---------------|------------------|---------|-----------|\n",
       "| 1   | 0.00926693    | 0.00392157       | 4043.46 | NA        |\n",
       "| 2   | 0.00888045    | 0.00392157       | 4837.48 | NA        |\n",
       "| 3   | 0.00895974    | 0.00784314       | 4799.98 | NA        |\n",
       "| 4   | 0.00888045    | 0.00392157       | 4837.48 | NA        |\n",
       "| 5   | 0.00339423    | 0.00392157       | 5731.14 | NA        |\n",
       "| 6   | 0.00339423    | 0.00392157       | 5731.14 | NA        |\n",
       "| 7   | 0.00376291    | 0.00392157       | 5844.44 | NA        |\n",
       "| 8   | 0.00376291    | 0.00392157       | 5844.44 | NA        |\n",
       "| 9   | 0.00376291    | 0.00392157       | 5844.44 | NA        |\n",
       "| 10  | 0.00376291    | 0.00392157       | 5844.44 | NA        |\n",
       "| 11  | 0.00376291    | 0.00392157       | 5844.44 | NA        |\n",
       "⋮\n",
       "| 42  | 0.0230327     | 0.00392157       | 4756.4  | NA        |\n",
       "| 43  | 0.00926693    | 0.00392157       | 4043.46 | NA        |\n",
       "| 44  | 0.00376291    | 0.00392157       | 5844.44 | NA        |\n",
       "| 45  | 0.00376291    | 0.00392157       | 5844.44 | NA        |\n",
       "| 46  | 0.0126595     | 0.00392157       | 7110.2  | NA        |\n",
       "| 47  | 0.00759111    | 0.00392157       | 5730.62 | NA        |\n",
       "| 48  | 0.00759111    | 0.00392157       | 5730.62 | NA        |\n",
       "| 49  | 0.00319489    | 0.00392157       | 6138.61 | NA        |\n",
       "| 50  | 0.000839647   | 0.00392157       | 7389.49 | NA        |\n",
       "| 51  | 0.000779696   | 0.00392157       | 7672.1  | NA        |\n",
       "| 52  | 0.00098951    | 0.00392157       | 7928.48 | NA        |\n",
       "| 53  | 0.00180836    | 0.00392157       | 9335.74 | NA        |"
      ]
     },
     "execution_count": 25,
     "metadata": {},
     "output_type": "execute_result"
    }
   ],
   "source": [
    "ivData[possibleInds, :]"
   ]
  },
  {
   "cell_type": "markdown",
   "metadata": {},
   "source": [
    "- try to find improvement for these cases"
   ]
  },
  {
   "cell_type": "code",
   "execution_count": 26,
   "metadata": {
    "collapsed": false
   },
   "outputs": [
    {
     "data": {
      "text/plain": [
       "53x11 Array{Float64,2}:\n",
       "  Inf         13.1358  13.1358  …  13.1358    13.1358   Inf  -Inf  Inf\n",
       "   10.3562    10.3562  10.3562     10.3562    10.3562   Inf  -Inf  Inf\n",
       "   11.7865    11.7865  11.7865     11.7865  -Inf       -Inf   Inf  Inf\n",
       " -Inf       -Inf       14.9703     14.9703    14.9703  -Inf  -Inf  Inf\n",
       "  Inf         12.14    12.14       12.14      12.14     Inf  -Inf  Inf\n",
       " -Inf        Inf       17.1175  …  17.1175    17.1175  -Inf  -Inf  Inf\n",
       "  Inf         13.3907  13.3907     13.3907    13.3907   Inf  -Inf  Inf\n",
       "  Inf         12.6685  12.6685     12.6685    12.6685   Inf  -Inf  Inf\n",
       "   12.0148    12.0148  12.0148     12.0148    12.0148   Inf  -Inf  Inf\n",
       "   11.4179    11.4179  11.4179     11.4179    11.4179   Inf  -Inf  Inf\n",
       "   10.3602    10.3602  10.3602  …  10.3602    10.3602   Inf  -Inf  Inf\n",
       " -Inf        Inf       18.8577     18.8577    18.8577  -Inf  -Inf  Inf\n",
       " -Inf        Inf       17.369      17.369     17.369   -Inf  -Inf  Inf\n",
       "    ⋮                           ⋱                                    ⋮\n",
       " -Inf         10.71    10.71       10.71      10.71    -Inf  -Inf  Inf\n",
       "   10.0462    10.0462  10.0462     10.0462    10.0462   Inf  -Inf  Inf\n",
       "  Inf         11.5386  11.5386     11.5386    11.5386  -Inf  -Inf  Inf\n",
       " -Inf         10.6661  10.6661     10.6661    10.6661  -Inf  -Inf  Inf\n",
       " -Inf         12.3153  12.3153  …  12.3153    12.3153  -Inf  -Inf  Inf\n",
       "  Inf         11.4601  11.4601     11.4601    11.4601  -Inf  -Inf  Inf\n",
       "  Inf         10.5872  10.5872     10.5872    10.5872  -Inf  -Inf  Inf\n",
       "  Inf         11.7342  11.7342     11.7342    11.7342  -Inf  -Inf  Inf\n",
       " -Inf         12.4663  12.4663     12.4663    12.4663  -Inf  -Inf  Inf\n",
       "  Inf         10.3938  10.3938  …  10.3938    10.3938  -Inf  -Inf  Inf\n",
       " -Inf         12.7416  12.7416     12.7416    12.7416  -Inf  -Inf  Inf\n",
       "   10.1333    10.1333  10.1333     10.1333    10.1333  -Inf  -Inf  Inf"
      ]
     },
     "execution_count": 26,
     "metadata": {},
     "output_type": "execute_result"
    }
   ],
   "source": [
    "# specify high initial implied vola levels\n",
    "sigmaHigh = [8., 10, 15, 20, 25, 30, 35, 40, 60, 80, 100]\n",
    "\n",
    "highVolas = Array(Float64, nToTry, length(sigmaHigh))\n",
    "pDiffs = Array(Float64, nToTry, length(sigmaHigh))\n",
    "\n",
    "rowCounter = 1\n",
    "\n",
    "for ii=1:nObs\n",
    "    if possibleInds[ii]\n",
    "        inputs = ivInputExtractor(ivData[ii, :])\n",
    "        for kk=1:length(sigmaHigh)\n",
    "            ivRes = implVola(sigmaHigh[kk], inputs..., prec, ivData[ii, :IsCall])\n",
    "            if !isna(ivRes[1])\n",
    "                highVolas[rowCounter, kk] = ivRes[1]\n",
    "            else\n",
    "                highVolas[rowCounter, kk] = NaN\n",
    "            end\n",
    "            if !isna(ivRes[2])\n",
    "                pDiffs[rowCounter, kk] = ivRes[2]\n",
    "            else\n",
    "                pDiffs[rowCounter, kk] = NaN\n",
    "            end\n",
    "        end\n",
    "        # find best volatility\n",
    "        minDiffInd = indmin(pDiffs[rowCounter, :])\n",
    "        bestIVval = highVolas[rowCounter, minDiffInd]\n",
    "        \n",
    "        # write to bestIV\n",
    "        bestIV[ii] = bestIVval\n",
    "        rowCounter += 1\n",
    "    end\n",
    "end\n",
    "        \n",
    "highVolas"
   ]
  },
  {
   "cell_type": "markdown",
   "metadata": {},
   "source": [
    "- show improved values"
   ]
  },
  {
   "cell_type": "code",
   "execution_count": 27,
   "metadata": {
    "collapsed": false
   },
   "outputs": [
    {
     "data": {
      "text/plain": [
       "53-element DataArray{Float64,1}:\n",
       " 13.1358\n",
       " 10.3562\n",
       " 11.7865\n",
       " 14.9703\n",
       " 12.14  \n",
       " 17.1175\n",
       " 13.3907\n",
       " 12.6685\n",
       " 12.0148\n",
       " 11.4179\n",
       " 10.3602\n",
       " 18.8577\n",
       " 17.369 \n",
       "  ⋮     \n",
       " 10.71  \n",
       " 10.0462\n",
       " 11.5386\n",
       " 10.6661\n",
       " 12.3153\n",
       " 11.4601\n",
       " 10.5872\n",
       " 11.7342\n",
       " 12.4663\n",
       " 10.3938\n",
       " 12.7416\n",
       " 10.1333"
      ]
     },
     "execution_count": 27,
     "metadata": {},
     "output_type": "execute_result"
    }
   ],
   "source": [
    "bestIV[possibleInds]"
   ]
  },
  {
   "cell_type": "markdown",
   "metadata": {},
   "source": [
    "- attach metadata"
   ]
  },
  {
   "cell_type": "code",
   "execution_count": 28,
   "metadata": {
    "collapsed": false
   },
   "outputs": [
    {
     "data": {
      "text/html": [
       "<table class=\"data-frame\"><tr><th></th><th>Date</th><th>ID</th><th>IV</th></tr><tr><th>1</th><td>2006-07-03</td><td>c_20060721_4500</td><td>NA</td></tr><tr><th>2</th><td>2006-07-04</td><td>c_20060721_4500</td><td>NA</td></tr><tr><th>3</th><td>2006-07-05</td><td>c_20060721_4500</td><td>NA</td></tr><tr><th>4</th><td>2006-07-06</td><td>c_20060721_4500</td><td>NA</td></tr><tr><th>5</th><td>2006-07-07</td><td>c_20060721_4500</td><td>NA</td></tr><tr><th>6</th><td>2006-07-10</td><td>c_20060721_4500</td><td>NA</td></tr></table>"
      ],
      "text/plain": [
       "6x3 DataFrame\n",
       "| Row | Date       | ID                | IV |\n",
       "|-----|------------|-------------------|----|\n",
       "| 1   | 2006-07-03 | \"c_20060721_4500\" | NA |\n",
       "| 2   | 2006-07-04 | \"c_20060721_4500\" | NA |\n",
       "| 3   | 2006-07-05 | \"c_20060721_4500\" | NA |\n",
       "| 4   | 2006-07-06 | \"c_20060721_4500\" | NA |\n",
       "| 5   | 2006-07-07 | \"c_20060721_4500\" | NA |\n",
       "| 6   | 2006-07-10 | \"c_20060721_4500\" | NA |"
      ]
     },
     "execution_count": 28,
     "metadata": {},
     "output_type": "execute_result"
    }
   ],
   "source": [
    "impliedVolas = ivData[[:Date, :ID]]\n",
    "impliedVolas[:IV] = bestIV\n",
    "\n",
    "head(impliedVolas)"
   ]
  },
  {
   "cell_type": "markdown",
   "metadata": {},
   "source": [
    "- write to disk"
   ]
  },
  {
   "cell_type": "code",
   "execution_count": 29,
   "metadata": {
    "collapsed": true
   },
   "outputs": [],
   "source": [
    "writetable(\"../data/rel_data/implVola.csv\", impliedVolas)"
   ]
  },
  {
   "cell_type": "markdown",
   "metadata": {},
   "source": [
    "### Calculate moneyness measures"
   ]
  },
  {
   "cell_type": "code",
   "execution_count": 30,
   "metadata": {
    "collapsed": false
   },
   "outputs": [
    {
     "data": {
      "text/html": [
       "<table class=\"data-frame\"><tr><th></th><th>Date</th><th>ID</th><th>Price</th><th>Expiry</th><th>Strike</th><th>IsCall</th><th>EONIA_matched</th><th>Time_to_Maturity</th><th>DAX</th></tr><tr><th>1</th><td>2006-07-03</td><td>c_20060721_4500</td><td>1212.0</td><td>2006-07-21</td><td>4500</td><td>true</td><td>0.0283102283088403</td><td>0.0549019607843137</td><td>5712.69</td></tr><tr><th>2</th><td>2006-07-03</td><td>c_20060721_4600</td><td>1112.3</td><td>2006-07-21</td><td>4600</td><td>true</td><td>0.0283102283088403</td><td>0.0549019607843137</td><td>5712.69</td></tr><tr><th>3</th><td>2006-07-03</td><td>c_20060721_4700</td><td>1012.7</td><td>2006-07-21</td><td>4700</td><td>true</td><td>0.0283102283088403</td><td>0.0549019607843137</td><td>5712.69</td></tr><tr><th>4</th><td>2006-07-03</td><td>c_20060721_4800</td><td>913.2</td><td>2006-07-21</td><td>4800</td><td>true</td><td>0.0283102283088403</td><td>0.0549019607843137</td><td>5712.69</td></tr><tr><th>5</th><td>2006-07-03</td><td>c_20060721_4850</td><td>863.5</td><td>2006-07-21</td><td>4850</td><td>true</td><td>0.0283102283088403</td><td>0.0549019607843137</td><td>5712.69</td></tr><tr><th>6</th><td>2006-07-03</td><td>c_20060721_4900</td><td>813.9</td><td>2006-07-21</td><td>4900</td><td>true</td><td>0.0283102283088403</td><td>0.0549019607843137</td><td>5712.69</td></tr></table>"
      ],
      "text/plain": [
       "6x9 DataFrame\n",
       "| Row | Date       | ID                | Price  | Expiry     | Strike | IsCall |\n",
       "|-----|------------|-------------------|--------|------------|--------|--------|\n",
       "| 1   | 2006-07-03 | \"c_20060721_4500\" | 1212.0 | 2006-07-21 | 4500   | true   |\n",
       "| 2   | 2006-07-03 | \"c_20060721_4600\" | 1112.3 | 2006-07-21 | 4600   | true   |\n",
       "| 3   | 2006-07-03 | \"c_20060721_4700\" | 1012.7 | 2006-07-21 | 4700   | true   |\n",
       "| 4   | 2006-07-03 | \"c_20060721_4800\" | 913.2  | 2006-07-21 | 4800   | true   |\n",
       "| 5   | 2006-07-03 | \"c_20060721_4850\" | 863.5  | 2006-07-21 | 4850   | true   |\n",
       "| 6   | 2006-07-03 | \"c_20060721_4900\" | 813.9  | 2006-07-21 | 4900   | true   |\n",
       "\n",
       "| Row | EONIA_matched | Time_to_Maturity | DAX     |\n",
       "|-----|---------------|------------------|---------|\n",
       "| 1   | 0.0283102     | 0.054902         | 5712.69 |\n",
       "| 2   | 0.0283102     | 0.054902         | 5712.69 |\n",
       "| 3   | 0.0283102     | 0.054902         | 5712.69 |\n",
       "| 4   | 0.0283102     | 0.054902         | 5712.69 |\n",
       "| 5   | 0.0283102     | 0.054902         | 5712.69 |\n",
       "| 6   | 0.0283102     | 0.054902         | 5712.69 |"
      ]
     },
     "execution_count": 30,
     "metadata": {},
     "output_type": "execute_result"
    }
   ],
   "source": [
    "mnynessData = join(optPrices, opts, on = :ID) |>\n",
    "x -> join(x, cohortParams, on = [:Date, :Expiry]) |>\n",
    "x -> join(x, daxVals, on = [:Date])\n",
    "\n",
    "head(mnynessData)"
   ]
  },
  {
   "cell_type": "code",
   "execution_count": 31,
   "metadata": {
    "collapsed": true
   },
   "outputs": [],
   "source": [
    "absMny = zeros(Float64, nObs)\n",
    "simpleMny = zeros(Float64, nObs)\n",
    "invMny = zeros(Float64, nObs)\n",
    "logSimpleMny = zeros(Float64, nObs)\n",
    "logForwardMny = zeros(Float64, nObs)\n",
    "sclMny = zeros(Float64, nObs)\n",
    "\n",
    "for ii=1:nObs\n",
    "    # absolute moneyness\n",
    "    absMny[ii] = mnynessData[ii, :DAX] - mnynessData[ii, :Strike]\n",
    "    \n",
    "    # relative moneyness\n",
    "    simpleMny[ii] = mnynessData[ii, :DAX]/mnynessData[ii, :Strike]\n",
    "    \n",
    "    # inverse relative moneyness\n",
    "    invMny[ii] = mnynessData[ii, :Strike]/mnynessData[ii, :DAX]\n",
    "    \n",
    "    # log simple moneyness\n",
    "    logSimpleMny[ii] = log(mnynessData[ii, :DAX]/mnynessData[ii, :Strike])\n",
    "    \n",
    "    # log forward moneyness\n",
    "    logForwardMny[ii] = log(mnynessData[ii, :DAX]/mnynessData[ii, :Strike]) + mnynessData[ii, :EONIA_matched]*mnynessData[ii, :Time_to_Maturity]\n",
    "    \n",
    "    # time scaled moneyness\n",
    "    sclMny[ii] = log(mnynessData[ii, :DAX]/mnynessData[ii, :Strike])/sqrt(mnynessData[ii, :Time_to_Maturity])\n",
    "end\n"
   ]
  },
  {
   "cell_type": "code",
   "execution_count": 32,
   "metadata": {
    "collapsed": false
   },
   "outputs": [
    {
     "data": {
      "text/html": [
       "<table class=\"data-frame\"><tr><th></th><th>Date</th><th>ID</th><th>AbsMny</th><th>SimpMny</th><th>InvMny</th><th>LogMny</th><th>LogFMny</th><th>SclMny</th></tr><tr><th>1</th><td>2006-07-03</td><td>c_20060721_4500</td><td>1212.6899999999996</td><td>1.2694866666666667</td><td>0.7877199708018465</td><td>0.23861261928480745</td><td>0.24016690632921436</td><td>1.0183556574518589</td></tr><tr><th>2</th><td>2006-07-03</td><td>c_20060721_4600</td><td>1112.6899999999996</td><td>1.2418891304347826</td><td>0.8052248590418875</td><td>0.21663371256603217</td><td>0.21818799961043908</td><td>0.9245536445124007</td></tr><tr><th>3</th><td>2006-07-03</td><td>c_20060721_4700</td><td>1012.6899999999996</td><td>1.2154659574468085</td><td>0.8227297472819285</td><td>0.19512750734506865</td><td>0.19668179438947556</td><td>0.8327690363775394</td></tr><tr><th>4</th><td>2006-07-03</td><td>c_20060721_4800</td><td>912.6899999999996</td><td>1.1901437499999998</td><td>0.8402346355219695</td><td>0.17407409814723615</td><td>0.17562838519164306</td><td>0.7429168800686095</td></tr><tr><th>5</th><td>2006-07-03</td><td>c_20060721_4850</td><td>862.6899999999996</td><td>1.1778742268041236</td><td>0.84898707964199</td><td>0.1637113111116896</td><td>0.1652655981560965</td><td>0.6986903725341459</td></tr><tr><th>6</th><td>2006-07-03</td><td>c_20060721_4900</td><td>812.6899999999996</td><td>1.1658551020408163</td><td>0.8577395237620106</td><td>0.1534548109445006</td><td>0.15500909798890752</td><td>0.6549174781993078</td></tr></table>"
      ],
      "text/plain": [
       "6x8 DataFrame\n",
       "| Row | Date       | ID                | AbsMny  | SimpMny | InvMny   |\n",
       "|-----|------------|-------------------|---------|---------|----------|\n",
       "| 1   | 2006-07-03 | \"c_20060721_4500\" | 1212.69 | 1.26949 | 0.78772  |\n",
       "| 2   | 2006-07-03 | \"c_20060721_4600\" | 1112.69 | 1.24189 | 0.805225 |\n",
       "| 3   | 2006-07-03 | \"c_20060721_4700\" | 1012.69 | 1.21547 | 0.82273  |\n",
       "| 4   | 2006-07-03 | \"c_20060721_4800\" | 912.69  | 1.19014 | 0.840235 |\n",
       "| 5   | 2006-07-03 | \"c_20060721_4850\" | 862.69  | 1.17787 | 0.848987 |\n",
       "| 6   | 2006-07-03 | \"c_20060721_4900\" | 812.69  | 1.16586 | 0.85774  |\n",
       "\n",
       "| Row | LogMny   | LogFMny  | SclMny   |\n",
       "|-----|----------|----------|----------|\n",
       "| 1   | 0.238613 | 0.240167 | 1.01836  |\n",
       "| 2   | 0.216634 | 0.218188 | 0.924554 |\n",
       "| 3   | 0.195128 | 0.196682 | 0.832769 |\n",
       "| 4   | 0.174074 | 0.175628 | 0.742917 |\n",
       "| 5   | 0.163711 | 0.165266 | 0.69869  |\n",
       "| 6   | 0.153455 | 0.155009 | 0.654917 |"
      ]
     },
     "execution_count": 32,
     "metadata": {},
     "output_type": "execute_result"
    }
   ],
   "source": [
    "mnyness = mnynessData[[:Date, :ID]]\n",
    "mnyness[:AbsMny] = absMny\n",
    "mnyness[:SimpMny] = simpleMny\n",
    "mnyness[:InvMny] = invMny\n",
    "mnyness[:LogMny] = logSimpleMny\n",
    "mnyness[:LogFMny] = logForwardMny\n",
    "mnyness[:SclMny] = sclMny\n",
    "\n",
    "head(mnyness)"
   ]
  },
  {
   "cell_type": "code",
   "execution_count": 33,
   "metadata": {
    "collapsed": true
   },
   "outputs": [],
   "source": [
    "writetable(\"../data/rel_data/mnyness.csv\", mnyness)"
   ]
  },
  {
   "cell_type": "markdown",
   "metadata": {},
   "source": [
    "### Sessioninfo"
   ]
  },
  {
   "cell_type": "code",
   "execution_count": 34,
   "metadata": {
    "collapsed": false
   },
   "outputs": [
    {
     "name": "stdout",
     "output_type": "stream",
     "text": [
      "Julia Version 0.3.6\n",
      "Commit a05f87b* (2015-01-08 22:33 UTC)\n",
      "Platform Info:\n",
      "  System: Linux (x86_64-linux-gnu)\n",
      "  CPU: Intel(R) Core(TM) i3-3240 CPU @ 3.40GHz\n",
      "  WORD_SIZE: 64\n",
      "  BLAS: libopenblas (DYNAMIC_ARCH NO_AFFINITY Sandybridge)\n",
      "  LAPACK: libopenblas\n",
      "  LIBM: libopenlibm\n",
      "  LLVM: libLLVM-3.3\n"
     ]
    }
   ],
   "source": [
    "versioninfo()"
   ]
  },
  {
   "cell_type": "code",
   "execution_count": 35,
   "metadata": {
    "collapsed": false
   },
   "outputs": [
    {
     "name": "stdout",
     "output_type": "stream",
     "text": [
      "20 required packages:\n",
      " - DataArrays                    0.2.15\n",
      " - DataFrames                    0.6.6\n",
      " - Dates                         0.3.2\n",
      " - Debug                         0.1.3\n",
      " - Distributions                 0.7.3\n",
      " - Docile                        0.5.3\n",
      " - GLM                           0.4.6\n",
      " - Gadfly                        0.3.12\n",
      " - IJulia                        0.2.5\n",
      " - JuMP                          0.9.1\n",
      " - Lexicon                       0.1.10\n",
      " - MAT                           0.2.12\n",
      " - NLopt                         0.2.1\n",
      " - Plotly                        0.0.3+             master\n",
      " - Quandl                        0.4.1\n",
      " - RDatasets                     0.1.2\n",
      " - Requires                      0.1.2              master\n",
      " - Taro                          0.1.4\n",
      " - TimeSeries                    0.5.9\n",
      " - Winston                       0.11.10\n",
      "58 additional packages:\n",
      " - ArrayViews                    0.6.2\n",
      " - AssetMgmt                     0.0.0-             master (unregistered)\n",
      " - BinDeps                       0.3.12\n",
      " - Blosc                         0.1.2\n",
      " - Cairo                         0.2.26\n",
      " - Calculus                      0.1.6\n",
      " - Codecs                        0.1.4\n",
      " - Color                         0.4.5\n",
      " - Compat                        0.4.4\n",
      " - Compose                       0.3.12\n",
      " - Contour                       0.0.7\n",
      " - Copulas                       0.0.0-             master (unregistered)\n",
      " - DataStructures                0.3.9\n",
      " - Distances                     0.2.0\n",
      " - DualNumbers                   0.1.3\n",
      " - EconDatasets                  0.0.2+             master\n",
      " - Econometrics                  0.0.0-             master (unregistered)\n",
      " - FixedPointNumbers             0.0.7\n",
      " - GZip                          0.2.15\n",
      " - GnuTLS                        0.0.4\n",
      " - Graphics                      0.1.0\n",
      " - Grid                          0.3.9\n",
      " - HDF5                          0.4.17\n",
      " - HTTPClient                    0.1.4\n",
      " - Hexagons                      0.0.3\n",
      " - HttpCommon                    0.0.12\n",
      " - HttpParser                    0.0.11\n",
      " - ImmutableArrays               0.0.7\n",
      " - IniFile                       0.2.4\n",
      " - Iterators                     0.1.8\n",
      " - JFinM_Charts                  0.0.0-             master (unregistered)\n",
      " - JSON                          0.4.3\n",
      " - JavaCall                      0.2.2\n",
      " - KernelDensity                 0.1.0              b2c9f7d6 (dirty)\n",
      " - LibCURL                       0.1.4\n",
      " - Loess                         0.0.3\n",
      " - MathProgBase                  0.3.11\n",
      " - Memoize                       0.0.0\n",
      " - NaNMath                       0.0.2\n",
      " - Nettle                        0.1.8\n",
      " - NumericFuns                   0.2.3\n",
      " - Optim                         0.4.1\n",
      " - PDMats                        0.3.3\n",
      " - REPLCompletions               0.0.3\n",
      " - Reexport                      0.0.2\n",
      " - Requests                      0.0.8\n",
      " - ReverseDiffSparse             0.2.7\n",
      " - SHA                           0.0.4\n",
      " - Showoff                       0.0.4\n",
      " - SortingAlgorithms             0.0.5\n",
      " - StatsBase                     0.6.15\n",
      " - TimeData                      0.6.0+             master\n",
      " - Tk                            0.3.3\n",
      " - URIParser                     0.0.5\n",
      " - WoodburyMatrices              0.0.2\n",
      " - WorldBankDataTd               0.0.0-             master (unregistered)\n",
      " - ZMQ                           0.1.18\n",
      " - Zlib                          0.1.8\n"
     ]
    }
   ],
   "source": [
    "Pkg.status()"
   ]
  }
 ],
 "metadata": {
  "kernelspec": {
   "display_name": "Julia 0.3.6",
   "language": "julia",
   "name": "julia-0.3"
  },
  "language_info": {
   "name": "julia",
   "version": "0.3.6"
  }
 },
 "nbformat": 4,
 "nbformat_minor": 0
}
