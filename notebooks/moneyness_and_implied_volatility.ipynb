{
 "cells": [
  {
   "cell_type": "markdown",
   "metadata": {},
   "source": [
    "the purpose of this script is the calculation of additional option data indicators like\n",
    "- moneyness\n",
    "- implied volatility"
   ]
  },
  {
   "cell_type": "code",
   "execution_count": 1,
   "metadata": {
    "collapsed": false
   },
   "outputs": [
    {
     "name": "stdout",
     "output_type": "stream",
     "text": [
      "elapsed time: 0.486359555 seconds (52396804 bytes allocated, 5.40% gc time)\n",
      "elapsed time: 58.804497622 seconds (5419744236 bytes allocated, 65.93% gc time)\n",
      "elapsed time: 0.773305587 seconds (112671656 bytes allocated, 49.36% gc time)\n",
      "elapsed time: 69.111887543 seconds (5419744236 bytes allocated, 72.81% gc time)\n",
      "elapsed time: 150.303480298 seconds (14793773304 bytes allocated, 61.55% gc time)\n"
     ]
    },
    {
     "data": {
      "text/html": [
       "<table class=\"data-frame\"><tr><th></th><th>Date</th><th>ID</th><th>Bid</th><th>Ask</th><th>Volume</th><th>Open_Interest</th></tr><tr><th>1</th><td>2006-07-03</td><td>c_20061215_1800</td><td>NA</td><td>NA</td><td>1</td><td>104</td></tr><tr><th>2</th><td>2006-07-03</td><td>p_20061215_1800</td><td>NA</td><td>NA</td><td>0</td><td>5515</td></tr><tr><th>3</th><td>2006-07-03</td><td>c_20061215_2000</td><td>NA</td><td>NA</td><td>0</td><td>2152</td></tr><tr><th>4</th><td>2006-07-03</td><td>p_20061215_2000</td><td>NA</td><td>NA</td><td>0</td><td>20941</td></tr><tr><th>5</th><td>2006-07-03</td><td>c_20061215_2200</td><td>NA</td><td>NA</td><td>0</td><td>2</td></tr><tr><th>6</th><td>2006-07-03</td><td>p_20061215_2200</td><td>NA</td><td>NA</td><td>0</td><td>4626</td></tr></table>"
      ],
      "text/plain": [
       "6x6 DataFrame\n",
       "| Row | Date       | ID                | Bid | Ask | Volume | Open_Interest |\n",
       "|-----|------------|-------------------|-----|-----|--------|---------------|\n",
       "| 1   | 2006-07-03 | \"c_20061215_1800\" | NA  | NA  | 1      | 104           |\n",
       "| 2   | 2006-07-03 | \"p_20061215_1800\" | NA  | NA  | 0      | 5515          |\n",
       "| 3   | 2006-07-03 | \"c_20061215_2000\" | NA  | NA  | 0      | 2152          |\n",
       "| 4   | 2006-07-03 | \"p_20061215_2000\" | NA  | NA  | 0      | 20941         |\n",
       "| 5   | 2006-07-03 | \"c_20061215_2200\" | NA  | NA  | 0      | 2             |\n",
       "| 6   | 2006-07-03 | \"p_20061215_2200\" | NA  | NA  | 0      | 4626          |"
      ]
     },
     "execution_count": 1,
     "metadata": {},
     "output_type": "execute_result"
    }
   ],
   "source": [
    "@time include(\"../startup_script.jl\")"
   ]
  },
  {
   "cell_type": "code",
   "execution_count": 2,
   "metadata": {
    "collapsed": true
   },
   "outputs": [],
   "source": [
    "using Distributions"
   ]
  },
  {
   "cell_type": "markdown",
   "metadata": {},
   "source": [
    "- create full dataset"
   ]
  },
  {
   "cell_type": "code",
   "execution_count": 6,
   "metadata": {
    "collapsed": false
   },
   "outputs": [
    {
     "data": {
      "text/html": [
       "<table class=\"data-frame\"><tr><th></th><th>Date</th><th>ID</th><th>Price</th><th>Expiry</th><th>Strike</th><th>IsCall</th><th>DAX</th><th>EONIA_matched</th><th>Time_to_Maturity</th></tr><tr><th>1</th><td>2006-07-03</td><td>c_20060721_4500</td><td>1212.0</td><td>2006-07-21</td><td>4500</td><td>true</td><td>5712.69</td><td>0.0283102283088403</td><td>0.0549019607843137</td></tr><tr><th>2</th><td>2006-07-03</td><td>c_20060721_4600</td><td>1112.3</td><td>2006-07-21</td><td>4600</td><td>true</td><td>5712.69</td><td>0.0283102283088403</td><td>0.0549019607843137</td></tr><tr><th>3</th><td>2006-07-03</td><td>c_20060721_4700</td><td>1012.7</td><td>2006-07-21</td><td>4700</td><td>true</td><td>5712.69</td><td>0.0283102283088403</td><td>0.0549019607843137</td></tr><tr><th>4</th><td>2006-07-03</td><td>c_20060721_4800</td><td>913.2</td><td>2006-07-21</td><td>4800</td><td>true</td><td>5712.69</td><td>0.0283102283088403</td><td>0.0549019607843137</td></tr><tr><th>5</th><td>2006-07-03</td><td>c_20060721_4850</td><td>863.5</td><td>2006-07-21</td><td>4850</td><td>true</td><td>5712.69</td><td>0.0283102283088403</td><td>0.0549019607843137</td></tr><tr><th>6</th><td>2006-07-03</td><td>c_20060721_4900</td><td>813.9</td><td>2006-07-21</td><td>4900</td><td>true</td><td>5712.69</td><td>0.0283102283088403</td><td>0.0549019607843137</td></tr></table>"
      ],
      "text/plain": [
       "6x9 DataFrame\n",
       "| Row | Date       | ID                | Price  | Expiry     | Strike | IsCall |\n",
       "|-----|------------|-------------------|--------|------------|--------|--------|\n",
       "| 1   | 2006-07-03 | \"c_20060721_4500\" | 1212.0 | 2006-07-21 | 4500   | true   |\n",
       "| 2   | 2006-07-03 | \"c_20060721_4600\" | 1112.3 | 2006-07-21 | 4600   | true   |\n",
       "| 3   | 2006-07-03 | \"c_20060721_4700\" | 1012.7 | 2006-07-21 | 4700   | true   |\n",
       "| 4   | 2006-07-03 | \"c_20060721_4800\" | 913.2  | 2006-07-21 | 4800   | true   |\n",
       "| 5   | 2006-07-03 | \"c_20060721_4850\" | 863.5  | 2006-07-21 | 4850   | true   |\n",
       "| 6   | 2006-07-03 | \"c_20060721_4900\" | 813.9  | 2006-07-21 | 4900   | true   |\n",
       "\n",
       "| Row | DAX     | EONIA_matched | Time_to_Maturity |\n",
       "|-----|---------|---------------|------------------|\n",
       "| 1   | 5712.69 | 0.0283102     | 0.054902         |\n",
       "| 2   | 5712.69 | 0.0283102     | 0.054902         |\n",
       "| 3   | 5712.69 | 0.0283102     | 0.054902         |\n",
       "| 4   | 5712.69 | 0.0283102     | 0.054902         |\n",
       "| 5   | 5712.69 | 0.0283102     | 0.054902         |\n",
       "| 6   | 5712.69 | 0.0283102     | 0.054902         |"
      ]
     },
     "execution_count": 6,
     "metadata": {},
     "output_type": "execute_result"
    }
   ],
   "source": [
    "bsData = join(optPrices, opts, on = :ID) |>\n",
    "x -> join(x, daxVals, on = :Date) |>\n",
    "x -> join(x, cohortParams, on = [:Date, :Expiry])\n",
    "\n",
    "head(bsData)"
   ]
  },
  {
   "cell_type": "markdown",
   "metadata": {},
   "source": [
    "- select single option"
   ]
  },
  {
   "cell_type": "code",
   "execution_count": 38,
   "metadata": {
    "collapsed": false
   },
   "outputs": [
    {
     "data": {
      "text/html": [
       "<table class=\"data-frame\"><tr><th></th><th>Date</th><th>ID</th><th>Price</th><th>Expiry</th><th>Strike</th><th>IsCall</th><th>DAX</th><th>EONIA_matched</th><th>Time_to_Maturity</th></tr><tr><th>1</th><td>2013-03-19</td><td>p_20130419_8550</td><td>593.9</td><td>2013-04-19</td><td>8550</td><td>false</td><td>7947.79</td><td>0.00117367663163307</td><td>0.0823529411764706</td></tr><tr><th>2</th><td>2013-03-20</td><td>p_20130419_8550</td><td>548.2</td><td>2013-04-19</td><td>8550</td><td>false</td><td>8001.97</td><td>0.00115210681120124</td><td>0.0784313725490196</td></tr><tr><th>3</th><td>2013-03-21</td><td>p_20130419_8550</td><td>621.4</td><td>2013-04-19</td><td>8550</td><td>false</td><td>7932.51</td><td>0.00113174638419021</td><td>0.0745098039215686</td></tr><tr><th>4</th><td>2013-03-22</td><td>p_20130419_8550</td><td>633.8</td><td>2013-04-19</td><td>8550</td><td>false</td><td>7911.35</td><td>0.00113145615321311</td><td>0.0705882352941176</td></tr><tr><th>5</th><td>2013-03-25</td><td>p_20130419_8550</td><td>672.9</td><td>2013-04-19</td><td>8550</td><td>false</td><td>7870.9</td><td>0.00110258000791653</td><td>0.0666666666666667</td></tr><tr><th>6</th><td>2013-03-26</td><td>p_20130419_8550</td><td>667.0</td><td>2013-04-19</td><td>8550</td><td>false</td><td>7879.67</td><td>0.00108789157649784</td><td>0.0627450980392157</td></tr><tr><th>7</th><td>2013-03-27</td><td>p_20130419_8550</td><td>754.3</td><td>2013-04-19</td><td>8550</td><td>false</td><td>7789.09</td><td>0.00104035366648964</td><td>0.0588235294117647</td></tr><tr><th>8</th><td>2013-03-28</td><td>p_20130419_8550</td><td>760.7</td><td>2013-04-19</td><td>8550</td><td>false</td><td>7795.31</td><td>0.00101423807922663</td><td>0.0549019607843137</td></tr><tr><th>9</th><td>2013-04-02</td><td>p_20130419_8550</td><td>604.9</td><td>2013-04-19</td><td>8550</td><td>false</td><td>7943.87</td><td>0.000997469775367238</td><td>0.0509803921568627</td></tr><tr><th>10</th><td>2013-04-03</td><td>p_20130419_8550</td><td>667.0</td><td>2013-04-19</td><td>8550</td><td>false</td><td>7874.75</td><td>0.000972467490137603</td><td>0.0470588235294118</td></tr><tr><th>11</th><td>2013-04-04</td><td>p_20130419_8550</td><td>719.6</td><td>2013-04-19</td><td>8550</td><td>false</td><td>7817.39</td><td>0.000956764712018172</td><td>0.0431372549019608</td></tr><tr><th>12</th><td>2013-04-05</td><td>p_20130419_8550</td><td>886.5</td><td>2013-04-19</td><td>8550</td><td>false</td><td>7658.75</td><td>0.000934872095342638</td><td>0.0392156862745098</td></tr><tr><th>13</th><td>2013-04-08</td><td>p_20130419_8550</td><td>895.3</td><td>2013-04-19</td><td>8550</td><td>false</td><td>7662.64</td><td>0.000920247076380522</td><td>0.0352941176470588</td></tr><tr><th>14</th><td>2013-04-09</td><td>p_20130419_8550</td><td>926.5</td><td>2013-04-19</td><td>8550</td><td>false</td><td>7637.51</td><td>0.000902142839290976</td><td>0.0313725490196078</td></tr><tr><th>15</th><td>2013-04-10</td><td>p_20130419_8550</td><td>739.2</td><td>2013-04-19</td><td>8550</td><td>false</td><td>7810.63</td><td>0.000880875555034832</td><td>0.0274509803921569</td></tr><tr><th>16</th><td>2013-04-11</td><td>p_20130419_8550</td><td>671.7</td><td>2013-04-19</td><td>8550</td><td>false</td><td>7871.63</td><td>0.000859599100104341</td><td>0.0235294117647059</td></tr><tr><th>17</th><td>2013-04-12</td><td>p_20130419_8550</td><td>811.8</td><td>2013-04-19</td><td>8550</td><td>false</td><td>7744.77</td><td>0.00081966398367642</td><td>0.0196078431372549</td></tr><tr><th>18</th><td>2013-04-15</td><td>p_20130419_8550</td><td>838.3</td><td>2013-04-19</td><td>8550</td><td>false</td><td>7712.63</td><td>0.00081966398367642</td><td>0.0156862745098039</td></tr><tr><th>19</th><td>2013-04-16</td><td>p_20130419_8550</td><td>859.0</td><td>2013-04-19</td><td>8550</td><td>false</td><td>7682.58</td><td>0.00081966398367642</td><td>0.0117647058823529</td></tr><tr><th>20</th><td>2013-04-17</td><td>p_20130419_8550</td><td>1038.1</td><td>2013-04-19</td><td>8550</td><td>false</td><td>7503.03</td><td>0.000829655740477208</td><td>0.00784313725490196</td></tr><tr><th>21</th><td>2013-04-18</td><td>p_20130419_8550</td><td>1075.5</td><td>2013-04-19</td><td>8550</td><td>false</td><td>7473.73</td><td>0.00081966398367642</td><td>0.00392156862745098</td></tr><tr><th>&vellip;</th><td>&vellip;</td><td>&vellip;</td><td>&vellip;</td><td>&vellip;</td><td>&vellip;</td><td>&vellip;</td><td>&vellip;</td><td>&vellip;</td><td>&vellip;</td></tr></table>"
      ],
      "text/plain": [
       "21x9 DataFrame\n",
       "| Row | Date       | ID                | Price  | Expiry     | Strike | IsCall |\n",
       "|-----|------------|-------------------|--------|------------|--------|--------|\n",
       "| 1   | 2013-03-19 | \"p_20130419_8550\" | 593.9  | 2013-04-19 | 8550   | false  |\n",
       "| 2   | 2013-03-20 | \"p_20130419_8550\" | 548.2  | 2013-04-19 | 8550   | false  |\n",
       "| 3   | 2013-03-21 | \"p_20130419_8550\" | 621.4  | 2013-04-19 | 8550   | false  |\n",
       "| 4   | 2013-03-22 | \"p_20130419_8550\" | 633.8  | 2013-04-19 | 8550   | false  |\n",
       "| 5   | 2013-03-25 | \"p_20130419_8550\" | 672.9  | 2013-04-19 | 8550   | false  |\n",
       "| 6   | 2013-03-26 | \"p_20130419_8550\" | 667.0  | 2013-04-19 | 8550   | false  |\n",
       "| 7   | 2013-03-27 | \"p_20130419_8550\" | 754.3  | 2013-04-19 | 8550   | false  |\n",
       "| 8   | 2013-03-28 | \"p_20130419_8550\" | 760.7  | 2013-04-19 | 8550   | false  |\n",
       "| 9   | 2013-04-02 | \"p_20130419_8550\" | 604.9  | 2013-04-19 | 8550   | false  |\n",
       "| 10  | 2013-04-03 | \"p_20130419_8550\" | 667.0  | 2013-04-19 | 8550   | false  |\n",
       "| 11  | 2013-04-04 | \"p_20130419_8550\" | 719.6  | 2013-04-19 | 8550   | false  |\n",
       "| 12  | 2013-04-05 | \"p_20130419_8550\" | 886.5  | 2013-04-19 | 8550   | false  |\n",
       "| 13  | 2013-04-08 | \"p_20130419_8550\" | 895.3  | 2013-04-19 | 8550   | false  |\n",
       "| 14  | 2013-04-09 | \"p_20130419_8550\" | 926.5  | 2013-04-19 | 8550   | false  |\n",
       "| 15  | 2013-04-10 | \"p_20130419_8550\" | 739.2  | 2013-04-19 | 8550   | false  |\n",
       "| 16  | 2013-04-11 | \"p_20130419_8550\" | 671.7  | 2013-04-19 | 8550   | false  |\n",
       "| 17  | 2013-04-12 | \"p_20130419_8550\" | 811.8  | 2013-04-19 | 8550   | false  |\n",
       "| 18  | 2013-04-15 | \"p_20130419_8550\" | 838.3  | 2013-04-19 | 8550   | false  |\n",
       "| 19  | 2013-04-16 | \"p_20130419_8550\" | 859.0  | 2013-04-19 | 8550   | false  |\n",
       "| 20  | 2013-04-17 | \"p_20130419_8550\" | 1038.1 | 2013-04-19 | 8550   | false  |\n",
       "| 21  | 2013-04-18 | \"p_20130419_8550\" | 1075.5 | 2013-04-19 | 8550   | false  |\n",
       "\n",
       "| Row | DAX     | EONIA_matched | Time_to_Maturity |\n",
       "|-----|---------|---------------|------------------|\n",
       "| 1   | 7947.79 | 0.00117368    | 0.0823529        |\n",
       "| 2   | 8001.97 | 0.00115211    | 0.0784314        |\n",
       "| 3   | 7932.51 | 0.00113175    | 0.0745098        |\n",
       "| 4   | 7911.35 | 0.00113146    | 0.0705882        |\n",
       "| 5   | 7870.9  | 0.00110258    | 0.0666667        |\n",
       "| 6   | 7879.67 | 0.00108789    | 0.0627451        |\n",
       "| 7   | 7789.09 | 0.00104035    | 0.0588235        |\n",
       "| 8   | 7795.31 | 0.00101424    | 0.054902         |\n",
       "| 9   | 7943.87 | 0.00099747    | 0.0509804        |\n",
       "| 10  | 7874.75 | 0.000972467   | 0.0470588        |\n",
       "| 11  | 7817.39 | 0.000956765   | 0.0431373        |\n",
       "| 12  | 7658.75 | 0.000934872   | 0.0392157        |\n",
       "| 13  | 7662.64 | 0.000920247   | 0.0352941        |\n",
       "| 14  | 7637.51 | 0.000902143   | 0.0313725        |\n",
       "| 15  | 7810.63 | 0.000880876   | 0.027451         |\n",
       "| 16  | 7871.63 | 0.000859599   | 0.0235294        |\n",
       "| 17  | 7744.77 | 0.000819664   | 0.0196078        |\n",
       "| 18  | 7712.63 | 0.000819664   | 0.0156863        |\n",
       "| 19  | 7682.58 | 0.000819664   | 0.0117647        |\n",
       "| 20  | 7503.03 | 0.000829656   | 0.00784314       |\n",
       "| 21  | 7473.73 | 0.000819664   | 0.00392157       |"
      ]
     },
     "execution_count": 38,
     "metadata": {},
     "output_type": "execute_result"
    }
   ],
   "source": [
    "nOpts = size(opts, 1)\n",
    "optInd = rand(1:nOpts)\n",
    "optID = opts[optInd, :ID]\n",
    "\n",
    "singleOptData = bsData[bsData[:ID] .== optID, :]"
   ]
  },
  {
   "cell_type": "code",
   "execution_count": 34,
   "metadata": {
    "collapsed": false
   },
   "outputs": [
    {
     "data": {
      "text/plain": [
       "implVolaCall (generic function with 2 methods)"
      ]
     },
     "execution_count": 34,
     "metadata": {},
     "output_type": "execute_result"
    }
   ],
   "source": [
    "\n"
   ]
  },
  {
   "cell_type": "code",
   "execution_count": 35,
   "metadata": {
    "collapsed": false
   },
   "outputs": [
    {
     "data": {
      "text/plain": [
       "(119.99999952343718,120.0)"
      ]
     },
     "execution_count": 35,
     "metadata": {},
     "output_type": "execute_result"
    }
   ],
   "source": [
    "sigma = 12.\n",
    "S = 120.\n",
    "K = 100\n",
    "r = 0.0139159755407187\n",
    "T = 0.956862745098039\n",
    "\n",
    "price = bsCall(sigma, S, K, r, T)\n",
    "\n",
    "sigmaHat = 124.\n",
    "priceHat = bsCall(sigmaHat, S, K, r, T)\n",
    "\n",
    "(price, priceHat)"
   ]
  },
  {
   "cell_type": "code",
   "execution_count": 31,
   "metadata": {
    "collapsed": false
   },
   "outputs": [
    {
     "data": {
      "text/plain": [
       "(8.3,0.0,0)"
      ]
     },
     "execution_count": 31,
     "metadata": {},
     "output_type": "execute_result"
    }
   ],
   "source": [
    "implVolaCall(8.3, price, S, K, r, T, 0.004)"
   ]
  },
  {
   "cell_type": "code",
   "execution_count": 32,
   "metadata": {
    "collapsed": false
   },
   "outputs": [
    {
     "data": {
      "text/plain": [
       "(8.3,-6088.977886792872,0)"
      ]
     },
     "execution_count": 32,
     "metadata": {},
     "output_type": "execute_result"
    }
   ],
   "source": [
    "implVolaCall(8.3, 26.7, 6175.05, 6700, 0.00614817975904164, 0.188235294117647, 0.004)"
   ]
  },
  {
   "cell_type": "code",
   "execution_count": null,
   "metadata": {
    "collapsed": true
   },
   "outputs": [],
   "source": []
  }
 ],
 "metadata": {
  "kernelspec": {
   "display_name": "Julia 0.3.6",
   "language": "julia",
   "name": "julia-0.3"
  },
  "language_info": {
   "name": "julia",
   "version": "0.3.6"
  }
 },
 "nbformat": 4,
 "nbformat_minor": 0
}
