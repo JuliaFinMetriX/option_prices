{
 "cells": [
  {
   "cell_type": "code",
   "execution_count": 1,
   "metadata": {
    "collapsed": false
   },
   "outputs": [
    {
     "name": "stdout",
     "output_type": "stream",
     "text": [
      "elapsed time: 0.492883614 seconds (52396500 bytes allocated, 5.95% gc time)\n",
      "elapsed time: 50.462344727 seconds (5419744236 bytes allocated, 63.67% gc time)\n",
      "elapsed time: 0.759639091 seconds (112671656 bytes allocated, 46.60% gc time)\n",
      "elapsed time: 64.578535375 seconds (5419744236 bytes allocated, 70.91% gc time)\n",
      "elapsed time: 139.649531764 seconds (14794155496 bytes allocated, 58.01% gc time)\n"
     ]
    },
    {
     "data": {
      "text/html": [
       "<table class=\"data-frame\"><tr><th></th><th>Date</th><th>ID</th><th>Bid</th><th>Ask</th><th>Volume</th><th>Open_Interest</th></tr><tr><th>1</th><td>2006-07-03</td><td>c_20061215_1800</td><td>NA</td><td>NA</td><td>1</td><td>104</td></tr><tr><th>2</th><td>2006-07-03</td><td>p_20061215_1800</td><td>NA</td><td>NA</td><td>0</td><td>5515</td></tr><tr><th>3</th><td>2006-07-03</td><td>c_20061215_2000</td><td>NA</td><td>NA</td><td>0</td><td>2152</td></tr><tr><th>4</th><td>2006-07-03</td><td>p_20061215_2000</td><td>NA</td><td>NA</td><td>0</td><td>20941</td></tr><tr><th>5</th><td>2006-07-03</td><td>c_20061215_2200</td><td>NA</td><td>NA</td><td>0</td><td>2</td></tr><tr><th>6</th><td>2006-07-03</td><td>p_20061215_2200</td><td>NA</td><td>NA</td><td>0</td><td>4626</td></tr></table>"
      ],
      "text/plain": [
       "6x6 DataFrame\n",
       "| Row | Date       | ID                | Bid | Ask | Volume | Open_Interest |\n",
       "|-----|------------|-------------------|-----|-----|--------|---------------|\n",
       "| 1   | 2006-07-03 | \"c_20061215_1800\" | NA  | NA  | 1      | 104           |\n",
       "| 2   | 2006-07-03 | \"p_20061215_1800\" | NA  | NA  | 0      | 5515          |\n",
       "| 3   | 2006-07-03 | \"c_20061215_2000\" | NA  | NA  | 0      | 2152          |\n",
       "| 4   | 2006-07-03 | \"p_20061215_2000\" | NA  | NA  | 0      | 20941         |\n",
       "| 5   | 2006-07-03 | \"c_20061215_2200\" | NA  | NA  | 0      | 2             |\n",
       "| 6   | 2006-07-03 | \"p_20061215_2200\" | NA  | NA  | 0      | 4626          |"
      ]
     },
     "execution_count": 1,
     "metadata": {},
     "output_type": "execute_result"
    }
   ],
   "source": [
    "@time include(\"../startup_script.jl\")"
   ]
  },
  {
   "cell_type": "code",
   "execution_count": 2,
   "metadata": {
    "collapsed": false
   },
   "outputs": [
    {
     "name": "stdout",
     "output_type": "stream",
     "text": [
      "elapsed time: 80.388458575 seconds (5419744236 bytes allocated, 75.98% gc time)\n"
     ]
    }
   ],
   "source": [
    "mnyness = readtable(\"../data/rel_data/mnyness.csv\")\n",
    "@time convertColToDates!(mnyness, :Date);"
   ]
  },
  {
   "cell_type": "code",
   "execution_count": 3,
   "metadata": {
    "collapsed": false
   },
   "outputs": [
    {
     "name": "stdout",
     "output_type": "stream",
     "text": [
      "elapsed time: 85.194807028 seconds (5419744236 bytes allocated, 78.27% gc time)\n"
     ]
    }
   ],
   "source": [
    "impliedVolas = readtable(\"../data/rel_data/implVola.csv\")\n",
    "@time convertColToDates!(impliedVolas, :Date);"
   ]
  },
  {
   "cell_type": "markdown",
   "metadata": {},
   "source": [
    "### Display relational database components"
   ]
  },
  {
   "cell_type": "code",
   "execution_count": 4,
   "metadata": {
    "collapsed": false
   },
   "outputs": [
    {
     "data": {
      "text/html": [
       "<table class=\"data-frame\"><tr><th></th><th>Date</th><th>ID</th><th>AbsMny</th><th>SimpMny</th><th>InvMny</th><th>LogMny</th><th>LogFMny</th><th>SclMny</th></tr><tr><th>1</th><td>2006-07-03</td><td>c_20060721_4500</td><td>1212.6899999999996</td><td>1.2694866666666667</td><td>0.7877199708018465</td><td>0.23861261928480745</td><td>0.24016690632921436</td><td>1.0183556574518589</td></tr><tr><th>2</th><td>2006-07-03</td><td>c_20060721_4600</td><td>1112.6899999999996</td><td>1.2418891304347826</td><td>0.8052248590418875</td><td>0.21663371256603217</td><td>0.21818799961043908</td><td>0.9245536445124007</td></tr><tr><th>3</th><td>2006-07-03</td><td>c_20060721_4700</td><td>1012.6899999999996</td><td>1.2154659574468085</td><td>0.8227297472819285</td><td>0.19512750734506865</td><td>0.19668179438947556</td><td>0.8327690363775394</td></tr><tr><th>4</th><td>2006-07-03</td><td>c_20060721_4800</td><td>912.6899999999996</td><td>1.1901437499999998</td><td>0.8402346355219695</td><td>0.17407409814723615</td><td>0.17562838519164306</td><td>0.7429168800686095</td></tr><tr><th>5</th><td>2006-07-03</td><td>c_20060721_4850</td><td>862.6899999999996</td><td>1.1778742268041236</td><td>0.84898707964199</td><td>0.1637113111116896</td><td>0.1652655981560965</td><td>0.6986903725341459</td></tr><tr><th>6</th><td>2006-07-03</td><td>c_20060721_4900</td><td>812.6899999999996</td><td>1.1658551020408163</td><td>0.8577395237620106</td><td>0.1534548109445006</td><td>0.15500909798890752</td><td>0.6549174781993078</td></tr></table>"
      ],
      "text/plain": [
       "6x8 DataFrame\n",
       "| Row | Date       | ID                | AbsMny  | SimpMny | InvMny   |\n",
       "|-----|------------|-------------------|---------|---------|----------|\n",
       "| 1   | 2006-07-03 | \"c_20060721_4500\" | 1212.69 | 1.26949 | 0.78772  |\n",
       "| 2   | 2006-07-03 | \"c_20060721_4600\" | 1112.69 | 1.24189 | 0.805225 |\n",
       "| 3   | 2006-07-03 | \"c_20060721_4700\" | 1012.69 | 1.21547 | 0.82273  |\n",
       "| 4   | 2006-07-03 | \"c_20060721_4800\" | 912.69  | 1.19014 | 0.840235 |\n",
       "| 5   | 2006-07-03 | \"c_20060721_4850\" | 862.69  | 1.17787 | 0.848987 |\n",
       "| 6   | 2006-07-03 | \"c_20060721_4900\" | 812.69  | 1.16586 | 0.85774  |\n",
       "\n",
       "| Row | LogMny   | LogFMny  | SclMny   |\n",
       "|-----|----------|----------|----------|\n",
       "| 1   | 0.238613 | 0.240167 | 1.01836  |\n",
       "| 2   | 0.216634 | 0.218188 | 0.924554 |\n",
       "| 3   | 0.195128 | 0.196682 | 0.832769 |\n",
       "| 4   | 0.174074 | 0.175628 | 0.742917 |\n",
       "| 5   | 0.163711 | 0.165266 | 0.69869  |\n",
       "| 6   | 0.153455 | 0.155009 | 0.654917 |"
      ]
     },
     "execution_count": 4,
     "metadata": {},
     "output_type": "execute_result"
    }
   ],
   "source": [
    "head(mnyness)"
   ]
  },
  {
   "cell_type": "code",
   "execution_count": 5,
   "metadata": {
    "collapsed": false
   },
   "outputs": [
    {
     "data": {
      "text/html": [
       "<table class=\"data-frame\"><tr><th></th><th>Date</th><th>ID</th><th>IV</th></tr><tr><th>1</th><td>2006-07-03</td><td>c_20060721_4500</td><td>NA</td></tr><tr><th>2</th><td>2006-07-04</td><td>c_20060721_4500</td><td>NA</td></tr><tr><th>3</th><td>2006-07-05</td><td>c_20060721_4500</td><td>NA</td></tr><tr><th>4</th><td>2006-07-06</td><td>c_20060721_4500</td><td>NA</td></tr><tr><th>5</th><td>2006-07-07</td><td>c_20060721_4500</td><td>NA</td></tr><tr><th>6</th><td>2006-07-10</td><td>c_20060721_4500</td><td>NA</td></tr></table>"
      ],
      "text/plain": [
       "6x3 DataFrame\n",
       "| Row | Date       | ID                | IV |\n",
       "|-----|------------|-------------------|----|\n",
       "| 1   | 2006-07-03 | \"c_20060721_4500\" | NA |\n",
       "| 2   | 2006-07-04 | \"c_20060721_4500\" | NA |\n",
       "| 3   | 2006-07-05 | \"c_20060721_4500\" | NA |\n",
       "| 4   | 2006-07-06 | \"c_20060721_4500\" | NA |\n",
       "| 5   | 2006-07-07 | \"c_20060721_4500\" | NA |\n",
       "| 6   | 2006-07-10 | \"c_20060721_4500\" | NA |"
      ]
     },
     "execution_count": 5,
     "metadata": {},
     "output_type": "execute_result"
    }
   ],
   "source": [
    "head(impliedVolas)"
   ]
  }
 ],
 "metadata": {
  "kernelspec": {
   "display_name": "Julia 0.3.6",
   "language": "julia",
   "name": "julia 0.3"
  },
  "language_info": {
   "name": "julia",
   "version": "0.3.6"
  }
 },
 "nbformat": 4,
 "nbformat_minor": 0
}
