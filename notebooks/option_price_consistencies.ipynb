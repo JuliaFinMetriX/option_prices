{
 "cells": [
  {
   "cell_type": "markdown",
   "metadata": {},
   "source": [
    "In this notebook we will check for inconsistencies in the dataset:\n",
    "- prices between no-arbitrage bounds\n",
    "- put-call-parity\n",
    "- negative time values"
   ]
  },
  {
   "cell_type": "code",
   "execution_count": 1,
   "metadata": {
    "collapsed": false
   },
   "outputs": [
    {
     "name": "stdout",
     "output_type": "stream",
     "text": [
      "elapsed time: 0.611456806 seconds (52396500 bytes allocated, 5.23% gc time)\n",
      "elapsed time: 59.982242506 seconds (5419744236 bytes allocated, 61.33% gc time)\n",
      "elapsed time: 0.84185482 seconds (112671656 bytes allocated, 43.65% gc time)\n",
      "elapsed time: 73.316054299 seconds (5419744236 bytes allocated, 68.39% gc time)\n",
      "elapsed time: 160.434629087 seconds (14793848892 bytes allocated, 56.26% gc time)\n"
     ]
    }
   ],
   "source": [
    "@time include(\"../startup_script.jl\");"
   ]
  },
  {
   "cell_type": "markdown",
   "metadata": {},
   "source": [
    "### Put-Call parity"
   ]
  },
  {
   "cell_type": "markdown",
   "metadata": {},
   "source": [
    "- following Hull, we have:"
   ]
  },
  {
   "cell_type": "markdown",
   "metadata": {},
   "source": [
    "$$c+Ke^{-rT}=p+S_{0}$$"
   ]
  },
  {
   "cell_type": "markdown",
   "metadata": {},
   "source": [
    "### Bounds"
   ]
  },
  {
   "cell_type": "markdown",
   "metadata": {},
   "source": [
    "- for non-dividend-paying stocks we get the following bounds"
   ]
  },
  {
   "cell_type": "markdown",
   "metadata": {},
   "source": [
    "$$\\max (S_{0} - Ke^{-rT}, 0) \\leq c \\leq S_{0}$$\n",
    "$$ \\max (Ke^{-rT} - S_{0}, 0) \\leq p \\leq Ke^{-rT}$$"
   ]
  },
  {
   "cell_type": "markdown",
   "metadata": {},
   "source": [
    "- create required data matrix"
   ]
  },
  {
   "cell_type": "code",
   "execution_count": 3,
   "metadata": {
    "collapsed": false
   },
   "outputs": [
    {
     "data": {
      "text/html": [
       "<table class=\"data-frame\"><tr><th></th><th>Date</th><th>ID</th><th>Price</th><th>Expiry</th><th>Strike</th><th>IsCall</th><th>EONIA_matched</th><th>Time_to_Maturity</th><th>DAX</th></tr><tr><th>1</th><td>2006-07-03</td><td>c_20060721_4500</td><td>1212.0</td><td>2006-07-21</td><td>4500</td><td>true</td><td>0.0283102283088403</td><td>0.0549019607843137</td><td>5712.69</td></tr><tr><th>2</th><td>2006-07-03</td><td>c_20060721_4600</td><td>1112.3</td><td>2006-07-21</td><td>4600</td><td>true</td><td>0.0283102283088403</td><td>0.0549019607843137</td><td>5712.69</td></tr><tr><th>3</th><td>2006-07-03</td><td>c_20060721_4700</td><td>1012.7</td><td>2006-07-21</td><td>4700</td><td>true</td><td>0.0283102283088403</td><td>0.0549019607843137</td><td>5712.69</td></tr><tr><th>4</th><td>2006-07-03</td><td>c_20060721_4800</td><td>913.2</td><td>2006-07-21</td><td>4800</td><td>true</td><td>0.0283102283088403</td><td>0.0549019607843137</td><td>5712.69</td></tr><tr><th>5</th><td>2006-07-03</td><td>c_20060721_4850</td><td>863.5</td><td>2006-07-21</td><td>4850</td><td>true</td><td>0.0283102283088403</td><td>0.0549019607843137</td><td>5712.69</td></tr><tr><th>6</th><td>2006-07-03</td><td>c_20060721_4900</td><td>813.9</td><td>2006-07-21</td><td>4900</td><td>true</td><td>0.0283102283088403</td><td>0.0549019607843137</td><td>5712.69</td></tr></table>"
      ],
      "text/plain": [
       "6x9 DataFrame\n",
       "| Row | Date       | ID                | Price  | Expiry     | Strike | IsCall |\n",
       "|-----|------------|-------------------|--------|------------|--------|--------|\n",
       "| 1   | 2006-07-03 | \"c_20060721_4500\" | 1212.0 | 2006-07-21 | 4500   | true   |\n",
       "| 2   | 2006-07-03 | \"c_20060721_4600\" | 1112.3 | 2006-07-21 | 4600   | true   |\n",
       "| 3   | 2006-07-03 | \"c_20060721_4700\" | 1012.7 | 2006-07-21 | 4700   | true   |\n",
       "| 4   | 2006-07-03 | \"c_20060721_4800\" | 913.2  | 2006-07-21 | 4800   | true   |\n",
       "| 5   | 2006-07-03 | \"c_20060721_4850\" | 863.5  | 2006-07-21 | 4850   | true   |\n",
       "| 6   | 2006-07-03 | \"c_20060721_4900\" | 813.9  | 2006-07-21 | 4900   | true   |\n",
       "\n",
       "| Row | EONIA_matched | Time_to_Maturity | DAX     |\n",
       "|-----|---------------|------------------|---------|\n",
       "| 1   | 0.0283102     | 0.054902         | 5712.69 |\n",
       "| 2   | 0.0283102     | 0.054902         | 5712.69 |\n",
       "| 3   | 0.0283102     | 0.054902         | 5712.69 |\n",
       "| 4   | 0.0283102     | 0.054902         | 5712.69 |\n",
       "| 5   | 0.0283102     | 0.054902         | 5712.69 |\n",
       "| 6   | 0.0283102     | 0.054902         | 5712.69 |"
      ]
     },
     "execution_count": 3,
     "metadata": {},
     "output_type": "execute_result"
    }
   ],
   "source": [
    "consistData = join(optPrices, opts, on = :ID) |>\n",
    "x -> join(x, cohortParams, on = [:Date, :Expiry]) |>\n",
    "x -> join(x, daxVals, on = :Date)\n",
    "\n",
    "head(consistData)"
   ]
  },
  {
   "cell_type": "code",
   "execution_count": 9,
   "metadata": {
    "collapsed": false
   },
   "outputs": [
    {
     "data": {
      "text/plain": [
       "putLowBound (generic function with 1 method)"
      ]
     },
     "execution_count": 9,
     "metadata": {},
     "output_type": "execute_result"
    }
   ],
   "source": [
    "function callLowBound(s::Float64, k::Int, r::Float64, T::Float64)\n",
    "    return maximum([s - k*exp(-r*T), 0])\n",
    "end\n",
    "\n",
    "function putLowBound(s::Float64, k::Int, r::Float64, T::Float64)\n",
    "    return maximum([k*exp(-r*T - s), 0])\n",
    "end"
   ]
  },
  {
   "cell_type": "code",
   "execution_count": 14,
   "metadata": {
    "collapsed": false
   },
   "outputs": [
    {
     "data": {
      "text/plain": [
       "priceBounds (generic function with 1 method)"
      ]
     },
     "execution_count": 14,
     "metadata": {},
     "output_type": "execute_result"
    }
   ],
   "source": [
    "function priceBounds(x::DataFrame)\n",
    "    nObs = size(x, 1)\n",
    "    lowBounds, upBounds = (zeros(nObs), zeros(nObs))\n",
    "    for ii=1:nObs\n",
    "        if x[ii, :IsCall]\n",
    "            lowBounds[ii] = callLowBound(x[ii, :DAX], x[ii, :Strike], x[ii, :EONIA_matched], x[ii, :Time_to_Maturity])\n",
    "            upBounds[ii] = x[ii, :DAX]\n",
    "        else\n",
    "            lowBounds[ii] = putLowBound(x[ii, :DAX], x[ii, :Strike], x[ii, :EONIA_matched], x[ii, :Time_to_Maturity])\n",
    "            upBounds[ii] = x[ii, :Strike]*exp(-x[ii, :EONIA_matched]*x[ii, :Time_to_Maturity])\n",
    "        end\n",
    "    end\n",
    "    return (lowBounds, upBounds)         \n",
    "end            "
   ]
  },
  {
   "cell_type": "code",
   "execution_count": 15,
   "metadata": {
    "collapsed": false
   },
   "outputs": [
    {
     "data": {
      "text/plain": [
       "([1219.68,1119.83,1019.99,920.145,870.222,820.3,770.378,720.455,670.533,620.611  …  0.0,0.0,0.0,0.0,0.0,0.0,0.0,0.0,0.0,0.0],[5712.69,5712.69,5712.69,5712.69,5712.69,5712.69,5712.69,5712.69,5712.69,5712.69  …  9199.56,9249.29,9348.75,9398.47,9448.2,9497.93,9547.65,9647.11,9746.56,9846.02])"
      ]
     },
     "execution_count": 15,
     "metadata": {},
     "output_type": "execute_result"
    }
   ],
   "source": [
    "lowBounds, upBounds = priceBounds(consistData)"
   ]
  },
  {
   "cell_type": "code",
   "execution_count": 17,
   "metadata": {
    "collapsed": false,
    "scrolled": true
   },
   "outputs": [
    {
     "data": {
      "text/html": [
       "<table class=\"data-frame\"><tr><th></th><th>Date</th><th>ID</th><th>Price</th><th>Expiry</th><th>Strike</th><th>IsCall</th><th>EONIA_matched</th><th>Time_to_Maturity</th><th>DAX</th><th>LowBound</th><th>UpBound</th></tr><tr><th>1</th><td>2006-07-03</td><td>c_20060721_4500</td><td>1212.0</td><td>2006-07-21</td><td>4500</td><td>true</td><td>0.0283102283088403</td><td>0.0549019607843137</td><td>5712.69</td><td>1219.678858946394</td><td>5712.69</td></tr><tr><th>2</th><td>2006-07-03</td><td>c_20060721_4600</td><td>1112.3</td><td>2006-07-21</td><td>4600</td><td>true</td><td>0.0283102283088403</td><td>0.0549019607843137</td><td>5712.69</td><td>1119.8341669229812</td><td>5712.69</td></tr><tr><th>3</th><td>2006-07-03</td><td>c_20060721_4700</td><td>1012.7</td><td>2006-07-21</td><td>4700</td><td>true</td><td>0.0283102283088403</td><td>0.0549019607843137</td><td>5712.69</td><td>1019.9894748995675</td><td>5712.69</td></tr><tr><th>4</th><td>2006-07-03</td><td>c_20060721_4800</td><td>913.2</td><td>2006-07-21</td><td>4800</td><td>true</td><td>0.0283102283088403</td><td>0.0549019607843137</td><td>5712.69</td><td>920.1447828761538</td><td>5712.69</td></tr><tr><th>5</th><td>2006-07-03</td><td>c_20060721_4850</td><td>863.5</td><td>2006-07-21</td><td>4850</td><td>true</td><td>0.0283102283088403</td><td>0.0549019607843137</td><td>5712.69</td><td>870.2224368644474</td><td>5712.69</td></tr><tr><th>6</th><td>2006-07-03</td><td>c_20060721_4900</td><td>813.9</td><td>2006-07-21</td><td>4900</td><td>true</td><td>0.0283102283088403</td><td>0.0549019607843137</td><td>5712.69</td><td>820.3000908527401</td><td>5712.69</td></tr></table>"
      ],
      "text/plain": [
       "6x11 DataFrame\n",
       "| Row | Date       | ID                | Price  | Expiry     | Strike | IsCall |\n",
       "|-----|------------|-------------------|--------|------------|--------|--------|\n",
       "| 1   | 2006-07-03 | \"c_20060721_4500\" | 1212.0 | 2006-07-21 | 4500   | true   |\n",
       "| 2   | 2006-07-03 | \"c_20060721_4600\" | 1112.3 | 2006-07-21 | 4600   | true   |\n",
       "| 3   | 2006-07-03 | \"c_20060721_4700\" | 1012.7 | 2006-07-21 | 4700   | true   |\n",
       "| 4   | 2006-07-03 | \"c_20060721_4800\" | 913.2  | 2006-07-21 | 4800   | true   |\n",
       "| 5   | 2006-07-03 | \"c_20060721_4850\" | 863.5  | 2006-07-21 | 4850   | true   |\n",
       "| 6   | 2006-07-03 | \"c_20060721_4900\" | 813.9  | 2006-07-21 | 4900   | true   |\n",
       "\n",
       "| Row | EONIA_matched | Time_to_Maturity | DAX     | LowBound | UpBound |\n",
       "|-----|---------------|------------------|---------|----------|---------|\n",
       "| 1   | 0.0283102     | 0.054902         | 5712.69 | 1219.68  | 5712.69 |\n",
       "| 2   | 0.0283102     | 0.054902         | 5712.69 | 1119.83  | 5712.69 |\n",
       "| 3   | 0.0283102     | 0.054902         | 5712.69 | 1019.99  | 5712.69 |\n",
       "| 4   | 0.0283102     | 0.054902         | 5712.69 | 920.145  | 5712.69 |\n",
       "| 5   | 0.0283102     | 0.054902         | 5712.69 | 870.222  | 5712.69 |\n",
       "| 6   | 0.0283102     | 0.054902         | 5712.69 | 820.3    | 5712.69 |"
      ]
     },
     "execution_count": 17,
     "metadata": {},
     "output_type": "execute_result"
    }
   ],
   "source": [
    "consistData[:LowBound] = lowBounds\n",
    "consistData[:UpBound] = upBounds\n",
    "\n",
    "head(consistData)"
   ]
  },
  {
   "cell_type": "markdown",
   "metadata": {},
   "source": [
    "- frequency of option prices below option lower bound"
   ]
  },
  {
   "cell_type": "code",
   "execution_count": 18,
   "metadata": {
    "collapsed": false,
    "scrolled": true
   },
   "outputs": [
    {
     "data": {
      "text/plain": [
       "0.031203444323793694"
      ]
     },
     "execution_count": 18,
     "metadata": {},
     "output_type": "execute_result"
    }
   ],
   "source": [
    "sum(consistData[:Price] .< consistData[:LowBound])/size(consistData, 1)"
   ]
  },
  {
   "cell_type": "markdown",
   "metadata": {},
   "source": [
    "- frequency of option prices above upper bound"
   ]
  },
  {
   "cell_type": "code",
   "execution_count": 19,
   "metadata": {
    "collapsed": false
   },
   "outputs": [
    {
     "data": {
      "text/plain": [
       "0.0"
      ]
     },
     "execution_count": 19,
     "metadata": {},
     "output_type": "execute_result"
    }
   ],
   "source": [
    "sum(consistData[:Price] .> consistData[:UpBound])/size(consistData, 1)"
   ]
  },
  {
   "cell_type": "markdown",
   "metadata": {},
   "source": [
    "- checking put-call parity"
   ]
  },
  {
   "cell_type": "code",
   "execution_count": null,
   "metadata": {
    "collapsed": true
   },
   "outputs": [],
   "source": []
  }
 ],
 "metadata": {
  "kernelspec": {
   "display_name": "Julia 0.3.6",
   "language": "julia",
   "name": "julia-0.3"
  },
  "language_info": {
   "name": "julia",
   "version": "0.3.6"
  }
 },
 "nbformat": 4,
 "nbformat_minor": 0
}
