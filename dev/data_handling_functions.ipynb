{
 "cells": [
  {
   "cell_type": "markdown",
   "metadata": {},
   "source": [
    "This notebook defines some convenience functions that will be used in further analyses."
   ]
  },
  {
   "cell_type": "code",
   "execution_count": 1,
   "metadata": {
    "collapsed": true
   },
   "outputs": [],
   "source": [
    "using DataFrames\n",
    "using Dates"
   ]
  },
  {
   "cell_type": "code",
   "execution_count": null,
   "metadata": {
    "collapsed": true
   },
   "outputs": [],
   "source": []
  },
  {
   "cell_type": "markdown",
   "metadata": {},
   "source": [
    "## Data characteristics"
   ]
  },
  {
   "cell_type": "markdown",
   "metadata": {},
   "source": [
    "In order to get a feeling about the size of the dataset, let's take a look at the number of rows of the table."
   ]
  },
  {
   "cell_type": "code",
   "execution_count": 5,
   "metadata": {
    "collapsed": false
   },
   "outputs": [
    {
     "data": {
      "text/plain": [
       "2025129"
      ]
     },
     "execution_count": 5,
     "metadata": {},
     "output_type": "execute_result"
    }
   ],
   "source": [
    "nObs = size(dat, 1)"
   ]
  },
  {
   "cell_type": "markdown",
   "metadata": {},
   "source": [
    "Hence, be prepared that each operation will take quite some time."
   ]
  },
  {
   "cell_type": "markdown",
   "metadata": {},
   "source": [
    "Let's now take a look at missing values:"
   ]
  },
  {
   "cell_type": "code",
   "execution_count": 6,
   "metadata": {
    "collapsed": false
   },
   "outputs": [
    {
     "data": {
      "text/plain": [
       "12-element Array{Any,1}:\n",
       " false\n",
       " false\n",
       "  true\n",
       "  true\n",
       "  true\n",
       " false\n",
       " false\n",
       " false\n",
       " false\n",
       " false\n",
       " false\n",
       " false"
      ]
     },
     "execution_count": 6,
     "metadata": {},
     "output_type": "execute_result"
    }
   ],
   "source": [
    "missVals = [any(isna(dat[:, ii])) for ii=1:size(dat, 2)]"
   ]
  },
  {
   "cell_type": "markdown",
   "metadata": {},
   "source": [
    "## Define option type"
   ]
  },
  {
   "cell_type": "markdown",
   "metadata": {},
   "source": [
    "An option is determined by a unique combination of *strike*, *expiry* and *call/put*."
   ]
  },
  {
   "cell_type": "code",
   "execution_count": 7,
   "metadata": {
    "collapsed": false
   },
   "outputs": [],
   "source": [
    "type Option\n",
    "    strike::Int64\n",
    "    expiry::Date\n",
    "    iscall::Bool\n",
    "end"
   ]
  },
  {
   "cell_type": "markdown",
   "metadata": {},
   "source": [
    "Default constructor: option type is set to call option."
   ]
  },
  {
   "cell_type": "code",
   "execution_count": 8,
   "metadata": {
    "collapsed": false
   },
   "outputs": [
    {
     "data": {
      "text/plain": [
       "Option (constructor with 4 methods)"
      ]
     },
     "execution_count": 8,
     "metadata": {},
     "output_type": "execute_result"
    }
   ],
   "source": [
    "function Option(strike::Int64, expiry::Date)\n",
    "    return Option(strike, expiry, true)\n",
    "end\n",
    "\n",
    "function Option(df::DataFrame)\n",
    "    return Option(df[1, :Strike], df[1, :Expiry], df[1, :IsCall])\n",
    "end"
   ]
  },
  {
   "cell_type": "markdown",
   "metadata": {},
   "source": [
    "Define writemime methods for customized display of option objects:"
   ]
  },
  {
   "cell_type": "code",
   "execution_count": 9,
   "metadata": {
    "collapsed": false
   },
   "outputs": [
    {
     "data": {
      "text/plain": [
       "writemime (generic function with 19 methods)"
      ]
     },
     "execution_count": 9,
     "metadata": {},
     "output_type": "execute_result"
    }
   ],
   "source": [
    "import Base.writemime\n",
    "function writemime(io::IO, ::MIME\"text/html\", opt::Option)\n",
    "    opt.iscall ? typ = \"Call\" : typ = \"Put\"\n",
    "    write(io, \"<p><strong>$(typ)</strong> option:\")\n",
    "    write(io, \"<ul><li>strike:&nbsp&nbsp&nbsp $(opt.strike)</li>\")\n",
    "    write(io, \"<li>expiry:&nbsp&nbsp $(opt.expiry)</li></ul></p>\")\n",
    "end\n",
    "function writemime(io::IO, ::MIME\"text/html\", opts::Array{Option,1 })\n",
    "    nOpts = size(opts, 1)\n",
    "    write(io, \"<p><strong>Array</strong> of $nOpts <strong>options</strong>:\")\n",
    "    nToShow = 4\n",
    "    for ii=1:min(nToShow, nOpts)\n",
    "        opts[ii].iscall ? typ = \"Call\" : typ = \"Put\"\n",
    "        write(io, \"<p><strong>$(typ)</strong> option:\")\n",
    "        write(io, \"<ul><li>strike:&nbsp&nbsp&nbsp $(opts[ii].strike)</li>\")\n",
    "        write(io, \"<li>expiry:&nbsp&nbsp $(opts[ii].expiry)</li></ul></p>\")\n",
    "    end\n",
    "    if nOpts > nToShow\n",
    "        write(io, \"<p><strong>...</strong>\")\n",
    "    end\n",
    "end"
   ]
  },
  {
   "cell_type": "code",
   "execution_count": 10,
   "metadata": {
    "collapsed": false
   },
   "outputs": [
    {
     "data": {
      "text/html": [
       "<p><strong>Array</strong> of 30 <strong>options</strong>:<p><strong>Call</strong> option:<ul><li>strike:&nbsp&nbsp&nbsp 1800</li><li>expiry:&nbsp&nbsp 2006-12-15</li></ul></p><p><strong>Put</strong> option:<ul><li>strike:&nbsp&nbsp&nbsp 1800</li><li>expiry:&nbsp&nbsp 2006-12-15</li></ul></p><p><strong>Call</strong> option:<ul><li>strike:&nbsp&nbsp&nbsp 2000</li><li>expiry:&nbsp&nbsp 2006-12-15</li></ul></p><p><strong>Put</strong> option:<ul><li>strike:&nbsp&nbsp&nbsp 2000</li><li>expiry:&nbsp&nbsp 2006-12-15</li></ul></p><p><strong>...</strong>"
      ],
      "text/plain": [
       "30-element Array{Option,1}:\n",
       " Option(1800,2006-12-15,true) \n",
       " Option(1800,2006-12-15,false)\n",
       " Option(2000,2006-12-15,true) \n",
       " Option(2000,2006-12-15,false)\n",
       " Option(2200,2006-12-15,true) \n",
       " Option(2200,2006-12-15,false)\n",
       " Option(2400,2006-12-15,true) \n",
       " Option(2400,2006-12-15,false)\n",
       " Option(2600,2006-12-15,false)\n",
       " Option(2800,2006-12-15,true) \n",
       " Option(2800,2006-12-15,false)\n",
       " Option(3000,2006-12-15,true) \n",
       " Option(3000,2006-12-15,false)\n",
       " ⋮                            \n",
       " Option(3600,2006-12-15,false)\n",
       " Option(3800,2006-12-15,true) \n",
       " Option(3800,2006-12-15,false)\n",
       " Option(3900,2006-12-15,true) \n",
       " Option(3900,2006-12-15,false)\n",
       " Option(3950,2006-12-15,false)\n",
       " Option(4000,2006-12-15,true) \n",
       " Option(4000,2006-12-15,false)\n",
       " Option(4050,2006-12-15,true) \n",
       " Option(4050,2006-12-15,false)\n",
       " Option(4100,2006-12-15,true) \n",
       " Option(4100,2006-12-15,false)"
      ]
     },
     "execution_count": 10,
     "metadata": {},
     "output_type": "execute_result"
    }
   ],
   "source": [
    "opts = Option[Option(dat[ii, :]) for ii=1:30]"
   ]
  },
  {
   "cell_type": "markdown",
   "metadata": {},
   "source": [
    "## Get unique options / expiries / days"
   ]
  },
  {
   "cell_type": "code",
   "execution_count": 11,
   "metadata": {
    "collapsed": false
   },
   "outputs": [
    {
     "data": {
      "text/plain": [
       "getObs (generic function with 2 methods)"
      ]
     },
     "execution_count": 11,
     "metadata": {},
     "output_type": "execute_result"
    }
   ],
   "source": [
    "function getObs(df::DataFrame, opt::Option)\n",
    "    # get all observations for given option\n",
    "    datExp = df[:Expiry]\n",
    "    datStr = df[:Strike]\n",
    "    datCall = df[:IsCall]\n",
    "    inds = Int64[]\n",
    "    \n",
    "    for ii=1:size(datExp, 1)\n",
    "        #if datExp[ii]::Date == opt[1, 2]::Date\n",
    "         #   if datStr[ii]::Int64 == opt[1, 1]::Int64\n",
    "          #      if datCall[ii]::Bool == opt[1, 3]::Bool\n",
    "        if datExp[ii]::Date == opt.expiry\n",
    "            if datStr[ii]::Int64 == opt.strike\n",
    "                if datCall[ii]::Bool == opt.iscall\n",
    "                    push!(inds, ii)\n",
    "                end\n",
    "            end\n",
    "        end\n",
    "    end\n",
    "    return df[inds, :]\n",
    "end\n",
    "\n",
    "function getObs(df::DataFrame, dat::Date, col::Symbol)\n",
    "    # find observations with dat in col\n",
    "    dats = df[col]\n",
    "    inds = Int64[]\n",
    "    \n",
    "    for ii=1:size(dats, 1)\n",
    "        if dats[ii] == dat\n",
    "            push!(inds, ii)\n",
    "        end\n",
    "    end\n",
    "    return df[inds, :]\n",
    "end\n"
   ]
  },
  {
   "cell_type": "code",
   "execution_count": 12,
   "metadata": {
    "collapsed": false
   },
   "outputs": [
    {
     "name": "stdout",
     "output_type": "stream",
     "text": [
      "elapsed time: 0.546490682 seconds (195458848 bytes allocated, 22.84% gc time)\n"
     ]
    },
    {
     "data": {
      "text/plain": [
       "(966,12)"
      ]
     },
     "execution_count": 12,
     "metadata": {},
     "output_type": "execute_result"
    }
   ],
   "source": [
    "expDate = Date(2011,12,16)\n",
    "@time expData = getObs(dat, expDate, :Date)\n",
    "size(expData)"
   ]
  },
  {
   "cell_type": "code",
   "execution_count": 13,
   "metadata": {
    "collapsed": false
   },
   "outputs": [
    {
     "name": "stdout",
     "output_type": "stream",
     "text": [
      "elapsed time: 0.233406412 seconds (36045232 bytes allocated, 12.78% gc time)\n"
     ]
    },
    {
     "data": {
      "text/plain": [
       "(97,)"
      ]
     },
     "execution_count": 13,
     "metadata": {},
     "output_type": "execute_result"
    }
   ],
   "source": [
    "function getAllExpiry(df::DataFrame)\n",
    "    return unique(df[:Expiry])\n",
    "end\n",
    "@time expDates = getAllExpiry(dat)\n",
    "size(expDates)"
   ]
  },
  {
   "cell_type": "code",
   "execution_count": 14,
   "metadata": {
    "collapsed": false
   },
   "outputs": [
    {
     "name": "stdout",
     "output_type": "stream",
     "text": [
      "elapsed time: 0.129417371 seconds (32552232 bytes allocated, 26.39% gc time)\n"
     ]
    },
    {
     "data": {
      "text/plain": [
       "(1908,)"
      ]
     },
     "execution_count": 14,
     "metadata": {},
     "output_type": "execute_result"
    }
   ],
   "source": [
    "function getAllDays(df::DataFrame)\n",
    "    return unique(df[:Date])\n",
    "end\n",
    "@time tradeDays = getAllDays(dat)\n",
    "size(tradeDays)"
   ]
  },
  {
   "cell_type": "markdown",
   "metadata": {},
   "source": [
    "Benchmark result:"
   ]
  },
  {
   "cell_type": "markdown",
   "metadata": {},
   "source": [
    "## Find unique options and expiry dates"
   ]
  },
  {
   "cell_type": "code",
   "execution_count": null,
   "metadata": {
    "collapsed": true
   },
   "outputs": [],
   "source": [
    "function getOptionData(opt::Option, data::DataFrame)\n",
    "    nObs = size(data, 1)\n",
    "    validInds = falses(nObs)\n",
    "    for ii=1:nObs\n",
    "        if data[ii, :Strike] == opt.strike\n",
    "            if data[ii, :Expiry] == opt.expiry\n",
    "                if data[ii, :IsCall] == int(opt.iscall)\n",
    "                    validInds[ii] = true\n",
    "                end\n",
    "            end\n",
    "        end\n",
    "    end\n",
    "    return Timedata(dat1[validInds, [:Option_Price, :Bid, \n",
    "            :Ask, :Volume, :Open_Interest, :DAX, :EONIA_matched, :Time_to_Maturity]],\n",
    "    array(dat1[validInds, :Date]))\n",
    "end\n",
    "    "
   ]
  },
  {
   "cell_type": "markdown",
   "metadata": {},
   "source": [
    "Get some helper look-up tables: in which sections to we have to search for individual options? And in which for all options of given expiration date?"
   ]
  },
  {
   "cell_type": "code",
   "execution_count": 9,
   "metadata": {
    "collapsed": false
   },
   "outputs": [
    {
     "name": "stdout",
     "output_type": "stream",
     "text": [
      "elapsed time: 639.105780513 seconds (224997735064 bytes allocated, 23.64% gc time)\n"
     ]
    },
    {
     "data": {
      "text/html": [
       "<table class=\"data-frame\"><tr><th></th><th>expDates</th><th>strikes</th><th>firstListings</th></tr><tr><th>1</th><td>2006-12-15</td><td>1800</td><td>2006-07-03</td></tr><tr><th>2</th><td>2006-12-15</td><td>1800</td><td>2006-07-03</td></tr><tr><th>3</th><td>2006-12-15</td><td>2000</td><td>2006-07-03</td></tr><tr><th>4</th><td>2006-12-15</td><td>2000</td><td>2006-07-03</td></tr><tr><th>5</th><td>2006-12-15</td><td>2200</td><td>2006-07-03</td></tr><tr><th>6</th><td>2006-12-15</td><td>2200</td><td>2006-07-03</td></tr><tr><th>7</th><td>2006-12-15</td><td>2400</td><td>2006-07-03</td></tr><tr><th>8</th><td>2006-12-15</td><td>2400</td><td>2006-07-03</td></tr><tr><th>9</th><td>2006-12-15</td><td>2600</td><td>2006-07-03</td></tr><tr><th>10</th><td>2006-12-15</td><td>2800</td><td>2006-07-03</td></tr><tr><th>11</th><td>2006-12-15</td><td>2800</td><td>2006-07-03</td></tr><tr><th>12</th><td>2006-12-15</td><td>3000</td><td>2006-07-03</td></tr><tr><th>13</th><td>2006-12-15</td><td>3000</td><td>2006-07-03</td></tr><tr><th>14</th><td>2006-12-15</td><td>3200</td><td>2006-07-03</td></tr><tr><th>15</th><td>2006-12-15</td><td>3200</td><td>2006-07-03</td></tr><tr><th>16</th><td>2006-12-15</td><td>3400</td><td>2006-07-03</td></tr><tr><th>17</th><td>2006-12-15</td><td>3400</td><td>2006-07-03</td></tr><tr><th>18</th><td>2006-12-15</td><td>3600</td><td>2006-07-03</td></tr><tr><th>19</th><td>2006-12-15</td><td>3600</td><td>2006-07-03</td></tr><tr><th>20</th><td>2006-12-15</td><td>3800</td><td>2006-07-03</td></tr><tr><th>21</th><td>2006-12-15</td><td>3800</td><td>2006-07-03</td></tr><tr><th>22</th><td>2006-12-15</td><td>3900</td><td>2006-07-03</td></tr><tr><th>23</th><td>2006-12-15</td><td>3900</td><td>2006-07-03</td></tr><tr><th>24</th><td>2006-12-15</td><td>3950</td><td>2006-07-03</td></tr><tr><th>25</th><td>2006-12-15</td><td>4000</td><td>2006-07-03</td></tr><tr><th>26</th><td>2006-12-15</td><td>4000</td><td>2006-07-03</td></tr><tr><th>27</th><td>2006-12-15</td><td>4050</td><td>2006-07-03</td></tr><tr><th>28</th><td>2006-12-15</td><td>4050</td><td>2006-07-03</td></tr><tr><th>29</th><td>2006-12-15</td><td>4100</td><td>2006-07-03</td></tr><tr><th>30</th><td>2006-12-15</td><td>4100</td><td>2006-07-03</td></tr><tr><th>&vellip;</th><td>&vellip;</td><td>&vellip;</td><td>&vellip;</td></tr></table>"
      ],
      "text/plain": [
       "12917x3 DataFrame\n",
       "| Row   | expDates   | strikes | firstListings |\n",
       "|-------|------------|---------|---------------|\n",
       "| 1     | 2006-12-15 | 1800    | 2006-07-03    |\n",
       "| 2     | 2006-12-15 | 1800    | 2006-07-03    |\n",
       "| 3     | 2006-12-15 | 2000    | 2006-07-03    |\n",
       "| 4     | 2006-12-15 | 2000    | 2006-07-03    |\n",
       "| 5     | 2006-12-15 | 2200    | 2006-07-03    |\n",
       "| 6     | 2006-12-15 | 2200    | 2006-07-03    |\n",
       "| 7     | 2006-12-15 | 2400    | 2006-07-03    |\n",
       "| 8     | 2006-12-15 | 2400    | 2006-07-03    |\n",
       "| 9     | 2006-12-15 | 2600    | 2006-07-03    |\n",
       "| 10    | 2006-12-15 | 2800    | 2006-07-03    |\n",
       "| 11    | 2006-12-15 | 2800    | 2006-07-03    |\n",
       "⋮\n",
       "| 12906 | 2014-02-21 | 9750    | 2013-12-27    |\n",
       "| 12907 | 2014-03-21 | 10250   | 2013-12-27    |\n",
       "| 12908 | 2014-03-21 | 10250   | 2013-12-27    |\n",
       "| 12909 | 2014-03-21 | 10750   | 2013-12-27    |\n",
       "| 12910 | 2014-03-21 | 3000    | 2013-12-27    |\n",
       "| 12911 | 2014-03-21 | 9950    | 2013-12-27    |\n",
       "| 12912 | 2014-01-17 | 10600   | 2013-12-27    |\n",
       "| 12913 | 2014-01-17 | 10700   | 2013-12-27    |\n",
       "| 12914 | 2014-09-19 | 9600    | 2013-12-30    |\n",
       "| 12915 | 2014-09-19 | 9950    | 2013-12-30    |\n",
       "| 12916 | 2014-01-17 | 9900    | 2013-12-30    |\n",
       "| 12917 | 2014-01-17 | 9950    | 2013-12-30    |"
      ]
     },
     "execution_count": 9,
     "metadata": {},
     "output_type": "execute_result"
    }
   ],
   "source": [
    "nPreAlloc = 20000\n",
    "expDates = Array(Date, nPreAlloc)\n",
    "strikes = Array(Int64, nPreAlloc)\n",
    "optTypes = Array(Bool, nPreAlloc)\n",
    "firstListings = Array(Date, nPreAlloc)\n",
    "\n",
    "nOptsFound = 0\n",
    "\n",
    "@time begin\n",
    "    for ii=1:nObs\n",
    "        currExpDate, currStrike = dat[ii, :Expiry], dat[ii, :Strike]\n",
    "        currDate, currType = dat[ii, :Date], dat[ii, :IsCall]\n",
    "        # does (expDate, strike, type) combination already occur?\n",
    "    \n",
    "        optPresent = false\n",
    "        for kk=nOptsFound:-1:1\n",
    "            if (expDates[kk] == currExpDate) && (strikes[kk] == currStrike) && (optTypes[kk] == currType)\n",
    "                # go to next observation\n",
    "                optPresent = true\n",
    "                break\n",
    "            end\n",
    "        end\n",
    "    \n",
    "        if !optPresent\n",
    "            nOptsFound = nOptsFound + 1\n",
    "            expDates[nOptsFound] = currExpDate\n",
    "            strikes[nOptsFound] = currStrike\n",
    "            optTypes[nOptsFound] = currType\n",
    "            firstListings[nOptsFound] = currDate\n",
    "        end\n",
    "    end\n",
    "end\n",
    "\n",
    "allOpts = DataFrame(expDates = expDates[1:nOptsFound], \n",
    "                    strikes = strikes[1:nOptsFound], \n",
    "                    firstListings = firstListings[1:nOptsFound])"
   ]
  },
  {
   "cell_type": "code",
   "execution_count": 8,
   "metadata": {
    "collapsed": false
   },
   "outputs": [
    {
     "data": {
      "text/plain": [
       "(12917,3)"
      ]
     },
     "execution_count": 8,
     "metadata": {},
     "output_type": "execute_result"
    }
   ],
   "source": [
    "size(allOpts)"
   ]
  },
  {
   "cell_type": "code",
   "execution_count": 31,
   "metadata": {
    "collapsed": false
   },
   "outputs": [
    {
     "data": {
      "text/plain": [
       "findlast (generic function with 1 method)"
      ]
     },
     "execution_count": 31,
     "metadata": {},
     "output_type": "execute_result"
    }
   ],
   "source": [
    "function findprev(A, start)\n",
    "    for i = start:-1:1\n",
    "        A[i] != 0 && return i\n",
    "    end\n",
    "    0\n",
    "end\n",
    "findlast(A) = findprev(A, length(A))"
   ]
  },
  {
   "cell_type": "code",
   "execution_count": 38,
   "metadata": {
    "collapsed": false
   },
   "outputs": [
    {
     "name": "stdout",
     "output_type": "stream",
     "text": [
      "elapsed time: 9.087e-6 seconds (80 bytes allocated)\n"
     ]
    },
    {
     "data": {
      "text/plain": [
       "0"
      ]
     },
     "execution_count": 38,
     "metadata": {},
     "output_type": "execute_result"
    }
   ],
   "source": [
    "startDay = allDays[550]\n",
    "endDay = allDays[1005]\n",
    "\n",
    "@time begin\n",
    "    startInd = findfirst(dat[:Date] == startDay)\n",
    "    endInd = findlast(dat[:Date] == endDay)\n",
    "end\n"
   ]
  },
  {
   "cell_type": "code",
   "execution_count": 40,
   "metadata": {
    "collapsed": false
   },
   "outputs": [
    {
     "data": {
      "text/plain": [
       "(12917,3)"
      ]
     },
     "execution_count": 40,
     "metadata": {},
     "output_type": "execute_result"
    }
   ],
   "source": [
    "size(uniqueOpts)"
   ]
  },
  {
   "cell_type": "code",
   "execution_count": 41,
   "metadata": {
    "collapsed": false
   },
   "outputs": [
    {
     "data": {
      "text/plain": [
       "1.1700000000000002"
      ]
     },
     "execution_count": 41,
     "metadata": {},
     "output_type": "execute_result"
    }
   ],
   "source": [
    "13000 * 0.00009"
   ]
  },
  {
   "cell_type": "markdown",
   "metadata": {},
   "source": [
    "## Bid ask prices"
   ]
  },
  {
   "cell_type": "markdown",
   "metadata": {},
   "source": [
    "Do bid-ask prices make sense, or are they observed too infrequently? Percentage of **missing bid-ask prices**:"
   ]
  },
  {
   "cell_type": "code",
   "execution_count": 6,
   "metadata": {
    "collapsed": false
   },
   "outputs": [
    {
     "data": {
      "text/plain": [
       "1x2 Array{Float64,2}:\n",
       " 0.789053  0.777314"
      ]
     },
     "execution_count": 6,
     "metadata": {},
     "output_type": "execute_result"
    }
   ],
   "source": [
    "[sum(isna(dat[:Bid]))/nObs sum(isna(dat[:Ask]))/nObs]"
   ]
  },
  {
   "cell_type": "markdown",
   "metadata": {},
   "source": [
    "##  Get smaller subset"
   ]
  },
  {
   "cell_type": "markdown",
   "metadata": {},
   "source": [
    "## Get list of options"
   ]
  },
  {
   "cell_type": "code",
   "execution_count": 51,
   "metadata": {
    "collapsed": false
   },
   "outputs": [
    {
     "data": {
      "text/plain": [
       "getAllOptions (generic function with 1 method)"
      ]
     },
     "execution_count": 51,
     "metadata": {},
     "output_type": "execute_result"
    }
   ],
   "source": [
    "function getAllOptions(dat1::DataFrame)\n",
    "    optsUnique = unique(dat1[:, [:Strike, :Expiry, :IsCall]])\n",
    "    nOpts = size(optsUnique, 1)\n",
    "    return Option[Option(optsUnique[ii, :]) for ii=1:nOpts]\n",
    "end"
   ]
  },
  {
   "cell_type": "code",
   "execution_count": 52,
   "metadata": {
    "collapsed": true
   },
   "outputs": [
    {
     "data": {
      "text/html": [
       "<p><strong>Call</strong> option:<ul><li>strike:&nbsp&nbsp&nbsp 1800</li><li>expiry:&nbsp&nbsp 2006-12-15</li></ul></p>"
      ],
      "text/plain": [
       "1405-element Array{Option,1}:\n",
       " Option(1800,2006-12-15,true) \n",
       " Option(1800,2006-12-15,false)\n",
       " Option(2000,2006-12-15,true) \n",
       " Option(2000,2006-12-15,false)\n",
       " Option(2200,2006-12-15,true) \n",
       " Option(2200,2006-12-15,false)\n",
       " Option(2400,2006-12-15,true) \n",
       " Option(2400,2006-12-15,false)\n",
       " Option(2600,2006-12-15,false)\n",
       " Option(2800,2006-12-15,true) \n",
       " Option(2800,2006-12-15,false)\n",
       " Option(3000,2006-12-15,true) \n",
       " Option(3000,2006-12-15,false)\n",
       " ⋮                            \n",
       " Option(7900,2009-12-18,true) \n",
       " Option(5250,2007-02-16,false)\n",
       " Option(5900,2007-02-16,true) \n",
       " Option(6850,2007-09-21,true) \n",
       " Option(7800,2008-12-19,false)\n",
       " Option(7900,2009-12-18,false)\n",
       " Option(4400,2010-12-17,false)\n",
       " Option(7200,2010-12-17,true) \n",
       " Option(6050,2007-02-16,true) \n",
       " Option(5100,2007-01-19,false)\n",
       " Option(5150,2007-01-19,false)\n",
       " Option(5600,2007-01-19,true) "
      ]
     },
     "execution_count": 52,
     "metadata": {},
     "output_type": "execute_result"
    }
   ],
   "source": [
    "allOpts = getAllOptions(dat1)"
   ]
  },
  {
   "cell_type": "markdown",
   "metadata": {},
   "source": [
    "Group options by common expiry date: get Timematr with DAX prices and option prices for all options of a given expiry date"
   ]
  },
  {
   "cell_type": "code",
   "execution_count": 60,
   "metadata": {
    "collapsed": false
   },
   "outputs": [
    {
     "data": {
      "text/plain": [
       "getOptionsWithExpiry (generic function with 1 method)"
      ]
     },
     "execution_count": 60,
     "metadata": {},
     "output_type": "execute_result"
    }
   ],
   "source": [
    "function getOptionsWithExpiry(optList::Array{Option, 1}, expiry::Date)\n",
    "    # find options with given expiry\n",
    "    nOpts = size(optList, 1)\n",
    "    isValid = falses(nOpts)\n",
    "    for ii=1:nOpts\n",
    "        if optList[ii].expiry == expiry\n",
    "            isVald[ii] = true\n",
    "        end\n",
    "    end\n",
    "    return opts = optList[isValid]\n",
    "end"
   ]
  },
  {
   "cell_type": "code",
   "execution_count": null,
   "metadata": {
    "collapsed": true
   },
   "outputs": [],
   "source": [
    "function getCohortPrices(dat::DataFrame, optList::Array{Option, 1}, expiry::Date)\n",
    "    validOpts = getOptionsWithExpiry(optList, expiry)\n",
    "    \n",
    "    \n",
    "    \n",
    "    \n",
    "    return Timematr() \n",
    "end"
   ]
  },
  {
   "cell_type": "markdown",
   "metadata": {},
   "source": [
    "Group all options that are listed at a given date (all strikes, all maturities)"
   ]
  }
 ],
 "metadata": {
  "kernelspec": {
   "display_name": "Julia",
   "name": "julia"
  },
  "language_info": {
   "name": "julia",
   "version": "0.3.5"
  }
 },
 "nbformat": 4,
 "nbformat_minor": 0
}
